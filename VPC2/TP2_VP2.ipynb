{
  "nbformat": 4,
  "nbformat_minor": 0,
  "metadata": {
    "colab": {
      "name": "TP2 VPC2.ipynb",
      "provenance": [],
      "collapsed_sections": [
        "rTPRlFlH7rNc",
        "AAmv2fHKVY3K",
        "JnNHJMY1Ve0r"
      ],
      "include_colab_link": true
    },
    "kernelspec": {
      "name": "python3",
      "display_name": "Python 3"
    },
    "language_info": {
      "name": "python"
    },
    "accelerator": "GPU",
    "widgets": {
      "application/vnd.jupyter.widget-state+json": {
        "2bfe033625f24549a223796b7be2de62": {
          "model_module": "@jupyter-widgets/controls",
          "model_name": "HBoxModel",
          "model_module_version": "1.5.0",
          "state": {
            "_dom_classes": [],
            "_model_module": "@jupyter-widgets/controls",
            "_model_module_version": "1.5.0",
            "_model_name": "HBoxModel",
            "_view_count": null,
            "_view_module": "@jupyter-widgets/controls",
            "_view_module_version": "1.5.0",
            "_view_name": "HBoxView",
            "box_style": "",
            "children": [
              "IPY_MODEL_e3534f79aee84787a738d3b16430844f",
              "IPY_MODEL_91056095b6a44168bd9c05c059b059e1",
              "IPY_MODEL_6a0a6d8bb84242e98e03ceed2ee63f73"
            ],
            "layout": "IPY_MODEL_332078c4e4d542d281f07177f78bfb8c"
          }
        },
        "e3534f79aee84787a738d3b16430844f": {
          "model_module": "@jupyter-widgets/controls",
          "model_name": "HTMLModel",
          "model_module_version": "1.5.0",
          "state": {
            "_dom_classes": [],
            "_model_module": "@jupyter-widgets/controls",
            "_model_module_version": "1.5.0",
            "_model_name": "HTMLModel",
            "_view_count": null,
            "_view_module": "@jupyter-widgets/controls",
            "_view_module_version": "1.5.0",
            "_view_name": "HTMLView",
            "description": "",
            "description_tooltip": null,
            "layout": "IPY_MODEL_938fe0cd4729408eb80da2b622b89e86",
            "placeholder": "​",
            "style": "IPY_MODEL_ac5cf6dcf01c4846bcf2c4d9bbafbe97",
            "value": ""
          }
        },
        "91056095b6a44168bd9c05c059b059e1": {
          "model_module": "@jupyter-widgets/controls",
          "model_name": "FloatProgressModel",
          "model_module_version": "1.5.0",
          "state": {
            "_dom_classes": [],
            "_model_module": "@jupyter-widgets/controls",
            "_model_module_version": "1.5.0",
            "_model_name": "FloatProgressModel",
            "_view_count": null,
            "_view_module": "@jupyter-widgets/controls",
            "_view_module_version": "1.5.0",
            "_view_name": "ProgressView",
            "bar_style": "success",
            "description": "",
            "description_tooltip": null,
            "layout": "IPY_MODEL_128adc01fa5f4761a12644d8ea68855c",
            "max": 170498071,
            "min": 0,
            "orientation": "horizontal",
            "style": "IPY_MODEL_535ec3c446a94346a5830f82be281fce",
            "value": 170498071
          }
        },
        "6a0a6d8bb84242e98e03ceed2ee63f73": {
          "model_module": "@jupyter-widgets/controls",
          "model_name": "HTMLModel",
          "model_module_version": "1.5.0",
          "state": {
            "_dom_classes": [],
            "_model_module": "@jupyter-widgets/controls",
            "_model_module_version": "1.5.0",
            "_model_name": "HTMLModel",
            "_view_count": null,
            "_view_module": "@jupyter-widgets/controls",
            "_view_module_version": "1.5.0",
            "_view_name": "HTMLView",
            "description": "",
            "description_tooltip": null,
            "layout": "IPY_MODEL_a50cc96ee11d4373a22748338ec1b67b",
            "placeholder": "​",
            "style": "IPY_MODEL_4351266022d043dba73dc1799176f693",
            "value": " 170499072/? [00:01&lt;00:00, 107131637.49it/s]"
          }
        },
        "332078c4e4d542d281f07177f78bfb8c": {
          "model_module": "@jupyter-widgets/base",
          "model_name": "LayoutModel",
          "model_module_version": "1.2.0",
          "state": {
            "_model_module": "@jupyter-widgets/base",
            "_model_module_version": "1.2.0",
            "_model_name": "LayoutModel",
            "_view_count": null,
            "_view_module": "@jupyter-widgets/base",
            "_view_module_version": "1.2.0",
            "_view_name": "LayoutView",
            "align_content": null,
            "align_items": null,
            "align_self": null,
            "border": null,
            "bottom": null,
            "display": null,
            "flex": null,
            "flex_flow": null,
            "grid_area": null,
            "grid_auto_columns": null,
            "grid_auto_flow": null,
            "grid_auto_rows": null,
            "grid_column": null,
            "grid_gap": null,
            "grid_row": null,
            "grid_template_areas": null,
            "grid_template_columns": null,
            "grid_template_rows": null,
            "height": null,
            "justify_content": null,
            "justify_items": null,
            "left": null,
            "margin": null,
            "max_height": null,
            "max_width": null,
            "min_height": null,
            "min_width": null,
            "object_fit": null,
            "object_position": null,
            "order": null,
            "overflow": null,
            "overflow_x": null,
            "overflow_y": null,
            "padding": null,
            "right": null,
            "top": null,
            "visibility": null,
            "width": null
          }
        },
        "938fe0cd4729408eb80da2b622b89e86": {
          "model_module": "@jupyter-widgets/base",
          "model_name": "LayoutModel",
          "model_module_version": "1.2.0",
          "state": {
            "_model_module": "@jupyter-widgets/base",
            "_model_module_version": "1.2.0",
            "_model_name": "LayoutModel",
            "_view_count": null,
            "_view_module": "@jupyter-widgets/base",
            "_view_module_version": "1.2.0",
            "_view_name": "LayoutView",
            "align_content": null,
            "align_items": null,
            "align_self": null,
            "border": null,
            "bottom": null,
            "display": null,
            "flex": null,
            "flex_flow": null,
            "grid_area": null,
            "grid_auto_columns": null,
            "grid_auto_flow": null,
            "grid_auto_rows": null,
            "grid_column": null,
            "grid_gap": null,
            "grid_row": null,
            "grid_template_areas": null,
            "grid_template_columns": null,
            "grid_template_rows": null,
            "height": null,
            "justify_content": null,
            "justify_items": null,
            "left": null,
            "margin": null,
            "max_height": null,
            "max_width": null,
            "min_height": null,
            "min_width": null,
            "object_fit": null,
            "object_position": null,
            "order": null,
            "overflow": null,
            "overflow_x": null,
            "overflow_y": null,
            "padding": null,
            "right": null,
            "top": null,
            "visibility": null,
            "width": null
          }
        },
        "ac5cf6dcf01c4846bcf2c4d9bbafbe97": {
          "model_module": "@jupyter-widgets/controls",
          "model_name": "DescriptionStyleModel",
          "model_module_version": "1.5.0",
          "state": {
            "_model_module": "@jupyter-widgets/controls",
            "_model_module_version": "1.5.0",
            "_model_name": "DescriptionStyleModel",
            "_view_count": null,
            "_view_module": "@jupyter-widgets/base",
            "_view_module_version": "1.2.0",
            "_view_name": "StyleView",
            "description_width": ""
          }
        },
        "128adc01fa5f4761a12644d8ea68855c": {
          "model_module": "@jupyter-widgets/base",
          "model_name": "LayoutModel",
          "model_module_version": "1.2.0",
          "state": {
            "_model_module": "@jupyter-widgets/base",
            "_model_module_version": "1.2.0",
            "_model_name": "LayoutModel",
            "_view_count": null,
            "_view_module": "@jupyter-widgets/base",
            "_view_module_version": "1.2.0",
            "_view_name": "LayoutView",
            "align_content": null,
            "align_items": null,
            "align_self": null,
            "border": null,
            "bottom": null,
            "display": null,
            "flex": null,
            "flex_flow": null,
            "grid_area": null,
            "grid_auto_columns": null,
            "grid_auto_flow": null,
            "grid_auto_rows": null,
            "grid_column": null,
            "grid_gap": null,
            "grid_row": null,
            "grid_template_areas": null,
            "grid_template_columns": null,
            "grid_template_rows": null,
            "height": null,
            "justify_content": null,
            "justify_items": null,
            "left": null,
            "margin": null,
            "max_height": null,
            "max_width": null,
            "min_height": null,
            "min_width": null,
            "object_fit": null,
            "object_position": null,
            "order": null,
            "overflow": null,
            "overflow_x": null,
            "overflow_y": null,
            "padding": null,
            "right": null,
            "top": null,
            "visibility": null,
            "width": null
          }
        },
        "535ec3c446a94346a5830f82be281fce": {
          "model_module": "@jupyter-widgets/controls",
          "model_name": "ProgressStyleModel",
          "model_module_version": "1.5.0",
          "state": {
            "_model_module": "@jupyter-widgets/controls",
            "_model_module_version": "1.5.0",
            "_model_name": "ProgressStyleModel",
            "_view_count": null,
            "_view_module": "@jupyter-widgets/base",
            "_view_module_version": "1.2.0",
            "_view_name": "StyleView",
            "bar_color": null,
            "description_width": ""
          }
        },
        "a50cc96ee11d4373a22748338ec1b67b": {
          "model_module": "@jupyter-widgets/base",
          "model_name": "LayoutModel",
          "model_module_version": "1.2.0",
          "state": {
            "_model_module": "@jupyter-widgets/base",
            "_model_module_version": "1.2.0",
            "_model_name": "LayoutModel",
            "_view_count": null,
            "_view_module": "@jupyter-widgets/base",
            "_view_module_version": "1.2.0",
            "_view_name": "LayoutView",
            "align_content": null,
            "align_items": null,
            "align_self": null,
            "border": null,
            "bottom": null,
            "display": null,
            "flex": null,
            "flex_flow": null,
            "grid_area": null,
            "grid_auto_columns": null,
            "grid_auto_flow": null,
            "grid_auto_rows": null,
            "grid_column": null,
            "grid_gap": null,
            "grid_row": null,
            "grid_template_areas": null,
            "grid_template_columns": null,
            "grid_template_rows": null,
            "height": null,
            "justify_content": null,
            "justify_items": null,
            "left": null,
            "margin": null,
            "max_height": null,
            "max_width": null,
            "min_height": null,
            "min_width": null,
            "object_fit": null,
            "object_position": null,
            "order": null,
            "overflow": null,
            "overflow_x": null,
            "overflow_y": null,
            "padding": null,
            "right": null,
            "top": null,
            "visibility": null,
            "width": null
          }
        },
        "4351266022d043dba73dc1799176f693": {
          "model_module": "@jupyter-widgets/controls",
          "model_name": "DescriptionStyleModel",
          "model_module_version": "1.5.0",
          "state": {
            "_model_module": "@jupyter-widgets/controls",
            "_model_module_version": "1.5.0",
            "_model_name": "DescriptionStyleModel",
            "_view_count": null,
            "_view_module": "@jupyter-widgets/base",
            "_view_module_version": "1.2.0",
            "_view_name": "StyleView",
            "description_width": ""
          }
        }
      }
    }
  },
  "cells": [
    {
      "cell_type": "markdown",
      "metadata": {
        "id": "view-in-github",
        "colab_type": "text"
      },
      "source": [
        "<a href=\"https://colab.research.google.com/github/Pbrillan/CEIA/blob/main/VPC2/TP2_VP2.ipynb\" target=\"_parent\"><img src=\"https://colab.research.google.com/assets/colab-badge.svg\" alt=\"Open In Colab\"/></a>"
      ]
    },
    {
      "cell_type": "markdown",
      "metadata": {
        "id": "rTPRlFlH7rNc"
      },
      "source": [
        "## Ejercicio Práctico - Clase 2 VPC2 - 4co2021\n",
        "\n",
        "Generar una red convolucional con las siguientes caracteristicas:\n",
        "\n",
        "*   Conv1: cantidad de filtros=16, tramaño de filtro=3, stride=1, padding=\"same\"\n",
        "*   Pool1: MaxPooling, tamaño de filtro=2, stride=2\n",
        "*   Conv2: cantidad de filtros=32, tramaño de filtro=3, stride=1, padding=\"same\"\n",
        "*   Pool2: MaxPooling, tamaño de filtro=2, stride=2\n",
        "*   Conv3: cantidad de filtros=64, tramaño de filtro=3, stride=1, padding=\"same\"\n",
        "*   Pool3: MaxPooling, tamaño de filtro=2, stride=2\n",
        "*   Conv4: cantidad de filtros=128, tramaño de filtro=3, stride=1, padding=\"same\"\n",
        "*   Linear1: cantidad de neuronas=100\n",
        "*   Linear2: capa de salida\n",
        "\n",
        "Elegir la función de activación que crean mas conveniente.\n",
        "\n",
        "Ejercicios:\n",
        "\n",
        "1.   Utilizando el dataset CIFAR10, provisto por PyTorch, entrenar la red sin aplicar data augmentation durante, al menos, 20 epocas. Se produce sobreentrenamiento?\n",
        "2.   Utilizando el mismo dataset y aplicando las tecnicas de data augmentation que considere necesarias, entrenar nuevamente la red durante, al menos, 20 epocas sin que se produzca sobreentrenamiento hasta alcanzar un accuracy de 80% aproximadamente.\n",
        "3.   A partir de los resultados obtenidos en los puntos anteriores: ¿Por qué cree que en el segundo caso el ritmo de mejora de la red es mas lento que en el primero?\n",
        "\n",
        "\n"
      ]
    },
    {
      "cell_type": "code",
      "source": [
        "#Lib\n",
        "import numpy as np\n",
        "import matplotlib.pyplot as plt\n",
        "import torch\n",
        "import torch.utils.data\n",
        "import torchvision\n",
        "import torchsummary\n",
        "!pip install torchmetrics\n",
        "import torchmetrics\n",
        "from torchvision.datasets import CIFAR10\n"
      ],
      "metadata": {
        "colab": {
          "base_uri": "https://localhost:8080/"
        },
        "id": "7pJFO9WsuKtP",
        "outputId": "93b7cec2-f506-442a-b547-c310376433fd"
      },
      "execution_count": null,
      "outputs": [
        {
          "output_type": "stream",
          "name": "stdout",
          "text": [
            "Looking in indexes: https://pypi.org/simple, https://us-python.pkg.dev/colab-wheels/public/simple/\n",
            "Collecting torchmetrics\n",
            "  Downloading torchmetrics-0.8.2-py3-none-any.whl (409 kB)\n",
            "\u001b[K     |████████████████████████████████| 409 kB 17.6 MB/s \n",
            "\u001b[?25hRequirement already satisfied: torch>=1.3.1 in /usr/local/lib/python3.7/dist-packages (from torchmetrics) (1.11.0+cu113)\n",
            "Collecting pyDeprecate==0.3.*\n",
            "  Downloading pyDeprecate-0.3.2-py3-none-any.whl (10 kB)\n",
            "Requirement already satisfied: packaging in /usr/local/lib/python3.7/dist-packages (from torchmetrics) (21.3)\n",
            "Requirement already satisfied: numpy>=1.17.2 in /usr/local/lib/python3.7/dist-packages (from torchmetrics) (1.21.6)\n",
            "Requirement already satisfied: typing-extensions in /usr/local/lib/python3.7/dist-packages (from torch>=1.3.1->torchmetrics) (4.2.0)\n",
            "Requirement already satisfied: pyparsing!=3.0.5,>=2.0.2 in /usr/local/lib/python3.7/dist-packages (from packaging->torchmetrics) (3.0.9)\n",
            "Installing collected packages: pyDeprecate, torchmetrics\n",
            "Successfully installed pyDeprecate-0.3.2 torchmetrics-0.8.2\n"
          ]
        }
      ]
    },
    {
      "cell_type": "code",
      "source": [
        "class ConvModel(torch.nn.Module):\n",
        "    def __init__(self):\n",
        "        super().__init__()\n",
        "        self.conv1 = torch.nn.Conv2d(in_channels=3, out_channels=16, kernel_size=3, stride=1, padding='same')\n",
        "        self.pool1 = torch.nn.MaxPool2d(kernel_size=2, stride=2)\n",
        "        self.conv2 = torch.nn.Conv2d(in_channels=16, out_channels=32, kernel_size=3, stride=1, padding='same')\n",
        "        self.pool2 = torch.nn.MaxPool2d(kernel_size=2, stride=2)\n",
        "        self.conv3 = torch.nn.Conv2d(in_channels=32, out_channels=64, kernel_size=3, stride=1, padding='same')\n",
        "        self.pool3 = torch.nn.MaxPool2d(kernel_size=2, stride=2)\n",
        "        self.conv4 = torch.nn.Conv2d(in_channels=64, out_channels=128, kernel_size=3, stride=1, padding='same')\n",
        "        self.pool4 = torch.nn.MaxPool2d(kernel_size=2, stride=2)\n",
        "        self.fc1 = torch.nn.Linear(in_features=10368, out_features=512)\n",
        "        self.fc2 = torch.nn.Linear(in_features=512, out_features=32)\n",
        "\n",
        "    def forward(self, x):\n",
        "        x = self.pool1(torch.relu(self.conv1(x)))\n",
        "        x = self.pool2(torch.relu(self.conv2(x)))\n",
        "        x = self.pool3(torch.relu(self.conv3(x)))\n",
        "        x = self.pool4(torch.relu(self.conv4(x)))\n",
        "        x = torch.flatten(x, 1)\n",
        "        x = torch.relu(self.fc1(x))\n",
        "        x = self.fc2(x)\n",
        "        return x\n",
        "\n",
        "conv_model = ConvModel()\n",
        "\n",
        "# Si hay una GPU disponible muevo el modelo allí para aprovechar ese recurso\n",
        "if torch.cuda.is_available():\n",
        "    conv_model.to(\"cuda\")\n",
        "\n",
        "torchsummary.summary(conv_model, (3, 150, 150))"
      ],
      "metadata": {
        "colab": {
          "base_uri": "https://localhost:8080/"
        },
        "id": "dXvk4-MOuZZQ",
        "outputId": "95b1ab22-9758-40b5-fb1c-84d61cc2f834"
      },
      "execution_count": null,
      "outputs": [
        {
          "output_type": "stream",
          "name": "stdout",
          "text": [
            "----------------------------------------------------------------\n",
            "        Layer (type)               Output Shape         Param #\n",
            "================================================================\n",
            "            Conv2d-1         [-1, 16, 150, 150]             448\n",
            "         MaxPool2d-2           [-1, 16, 75, 75]               0\n",
            "            Conv2d-3           [-1, 32, 75, 75]           4,640\n",
            "         MaxPool2d-4           [-1, 32, 37, 37]               0\n",
            "            Conv2d-5           [-1, 64, 37, 37]          18,496\n",
            "         MaxPool2d-6           [-1, 64, 18, 18]               0\n",
            "            Conv2d-7          [-1, 128, 18, 18]          73,856\n",
            "         MaxPool2d-8            [-1, 128, 9, 9]               0\n",
            "            Linear-9                  [-1, 512]       5,308,928\n",
            "           Linear-10                   [-1, 32]          16,416\n",
            "================================================================\n",
            "Total params: 5,422,784\n",
            "Trainable params: 5,422,784\n",
            "Non-trainable params: 0\n",
            "----------------------------------------------------------------\n",
            "Input size (MB): 0.26\n",
            "Forward/backward pass size (MB): 6.37\n",
            "Params size (MB): 20.69\n",
            "Estimated Total Size (MB): 27.31\n",
            "----------------------------------------------------------------\n"
          ]
        }
      ]
    },
    {
      "cell_type": "code",
      "source": [
        "from google.colab import drive\n",
        "drive.mount('/content/drive')"
      ],
      "metadata": {
        "colab": {
          "base_uri": "https://localhost:8080/"
        },
        "id": "xU_PySjyYzW2",
        "outputId": "2b9ea10b-1199-4fa2-f861-7bd4accaf041"
      },
      "execution_count": null,
      "outputs": [
        {
          "output_type": "stream",
          "name": "stdout",
          "text": [
            "Mounted at /content/drive\n"
          ]
        }
      ]
    },
    {
      "cell_type": "markdown",
      "source": [
        "##sin transformaciones\n"
      ],
      "metadata": {
        "id": "AAmv2fHKVY3K"
      }
    },
    {
      "cell_type": "code",
      "source": [
        "transform = torchvision.transforms.Compose(\n",
        "    [torchvision.transforms.ToTensor(),\n",
        "     torchvision.transforms.Resize(size=(150, 150)),\n",
        "     ])\n",
        "\n",
        "batch_size = 32\n",
        "\n",
        "\n",
        "train_data = torchvision.datasets.CIFAR10(root='./data', train=True,\n",
        "                                        download=True, transform=transform)\n",
        "\n",
        "train_size = int(len(train_data) * 0.8) # 80% training data\n",
        "valid_size = len(train_data) - train_size # 20% validation data\n",
        "train_set, valid_set = torch.utils.data.random_split(train_data, [train_size, valid_size])\n",
        "\n",
        "\n",
        "test_set = torchvision.datasets.CIFAR10(root='./data', train=False,\n",
        "                                       download=True, transform=transform)\n",
        "\n",
        "train_loader = torch.utils.data.DataLoader(train_set, batch_size=batch_size,\n",
        "                                          shuffle=True, num_workers=2)\n",
        "valid_loader = torch.utils.data.DataLoader(valid_set, batch_size=batch_size,\n",
        "                                          shuffle=True, num_workers=2)\n",
        "\n",
        "test_loader = torch.utils.data.DataLoader(test_set, batch_size=batch_size,\n",
        "                                         shuffle=False, num_workers=2)"
      ],
      "metadata": {
        "colab": {
          "base_uri": "https://localhost:8080/"
        },
        "id": "hdf3lZbRz3vS",
        "outputId": "b9336d2d-cadc-4bc4-85cf-73948ff1529b"
      },
      "execution_count": null,
      "outputs": [
        {
          "output_type": "stream",
          "name": "stdout",
          "text": [
            "Files already downloaded and verified\n",
            "Files already downloaded and verified\n"
          ]
        }
      ]
    },
    {
      "cell_type": "code",
      "source": [
        "conv_model_optimizer = torch.optim.Adam(conv_model.parameters(), lr=0.001)\n",
        "\n",
        "conv_model_loss = torch.nn.CrossEntropyLoss()\n",
        "\n",
        "conv_model_accuracy = torchmetrics.Accuracy()\n",
        "\n",
        "if torch.cuda.is_available():\n",
        "  conv_model_accuracy.to(\"cuda\")\n",
        "\n",
        "# Epocas de entrenamiento\n",
        "epochs = 20\n",
        "\n",
        "# Defino listas para realizar graficas de los resultados\n",
        "train_loss = []\n",
        "train_acc = []\n",
        "valid_loss = []\n",
        "valid_acc = []\n",
        "\n",
        "## Defino mi loop de entrenamiento\n",
        "\n",
        "for epoch in range(epochs):\n",
        "\n",
        "  epoch_train_loss = 0.0\n",
        "  epoch_train_accuracy = 0.0\n",
        "\n",
        "  for train_data, train_target in train_loader:\n",
        "\n",
        "    # Al igual que con el modelo, los datos también se deben pasar a la GPU\n",
        "    if torch.cuda.is_available():\n",
        "      train_data = train_data.to(\"cuda\")\n",
        "      train_target = train_target.to(\"cuda\")\n",
        "\n",
        "    conv_model_optimizer.zero_grad()\n",
        "    #print(train_target)\n",
        "    output = conv_model(train_data)\n",
        "    \n",
        "    loss = conv_model_loss(output, train_target)\n",
        "    epoch_train_loss += loss.item()\n",
        "    loss.backward()\n",
        "    \n",
        "    conv_model_optimizer.step()\n",
        "\n",
        "    accuracy = conv_model_accuracy(output, train_target)\n",
        "    epoch_train_accuracy += accuracy.item()\n",
        "\n",
        "  # Calculo la media de error y accuracy para la epoca de entrenamiento.\n",
        "  # La longitud de train_loader es igual a la cantidad de batches dentro de una epoca.\n",
        "  epoch_train_loss = epoch_train_loss / len(train_loader)\n",
        "  epoch_train_accuracy = epoch_train_accuracy / len(train_loader)\n",
        "  train_loss.append(epoch_train_loss)\n",
        "  train_acc.append(epoch_train_accuracy)\n",
        "\n",
        "  # Realizo el paso de validación computando error y accuracy, y\n",
        "  # almacenando los valores para imprimirlos y graficarlos\n",
        "  epoch_valid_loss = 0.0\n",
        "  epoch_valid_accuracy = 0.0\n",
        "\n",
        "  for valid_data, valid_target in valid_loader:\n",
        "    if torch.cuda.is_available():\n",
        "      valid_data = valid_data.to(\"cuda\")\n",
        "      valid_target = valid_target.to(\"cuda\")\n",
        "\n",
        "    output = conv_model(valid_data)\n",
        "    epoch_valid_loss += conv_model_loss(output, valid_target).item()\n",
        "    epoch_valid_accuracy += conv_model_accuracy(output, valid_target).item()\n",
        "      \n",
        "  epoch_valid_loss = epoch_valid_loss / len(valid_loader)\n",
        "  epoch_valid_accuracy = epoch_valid_accuracy / len(valid_loader)\n",
        "  valid_loss.append(epoch_valid_loss)\n",
        "  valid_acc.append(epoch_valid_accuracy)\n",
        "\n",
        "  print(\"Epoch: {}/{} - Train loss {:.6f} - Train Accuracy {:.6f} - Valid Loss {:.6f} - Valid Accuracy {:.6f}\".format(\n",
        "      epoch+1, epochs, epoch_train_loss, epoch_train_accuracy, epoch_valid_loss, epoch_valid_accuracy))\n"
      ],
      "metadata": {
        "colab": {
          "base_uri": "https://localhost:8080/"
        },
        "id": "5AiGf4Uj2pzm",
        "outputId": "a0d11b5c-903a-4610-b9a8-9bdecea10cbb"
      },
      "execution_count": null,
      "outputs": [
        {
          "output_type": "stream",
          "name": "stdout",
          "text": [
            "Epoch: 1/20 - Train loss 1.568364 - Train Accuracy 0.431650 - Valid Loss 1.218442 - Valid Accuracy 0.556310\n",
            "Epoch: 2/20 - Train loss 1.088752 - Train Accuracy 0.611850 - Valid Loss 1.024311 - Valid Accuracy 0.635683\n",
            "Epoch: 3/20 - Train loss 0.849797 - Train Accuracy 0.702525 - Valid Loss 0.970252 - Valid Accuracy 0.659645\n",
            "Epoch: 4/20 - Train loss 0.651131 - Train Accuracy 0.772725 - Valid Loss 0.961258 - Valid Accuracy 0.685104\n",
            "Epoch: 5/20 - Train loss 0.456314 - Train Accuracy 0.838350 - Valid Loss 0.977776 - Valid Accuracy 0.699481\n",
            "Epoch: 6/20 - Train loss 0.287053 - Train Accuracy 0.899900 - Valid Loss 1.164185 - Valid Accuracy 0.686302\n",
            "Epoch: 7/20 - Train loss 0.176936 - Train Accuracy 0.937875 - Valid Loss 1.489095 - Valid Accuracy 0.678215\n",
            "Epoch: 8/20 - Train loss 0.123400 - Train Accuracy 0.956475 - Valid Loss 1.645913 - Valid Accuracy 0.678814\n",
            "Epoch: 9/20 - Train loss 0.107996 - Train Accuracy 0.963475 - Valid Loss 1.837820 - Valid Accuracy 0.676717\n",
            "Epoch: 10/20 - Train loss 0.095804 - Train Accuracy 0.968275 - Valid Loss 1.994045 - Valid Accuracy 0.678714\n",
            "Epoch: 11/20 - Train loss 0.085611 - Train Accuracy 0.970375 - Valid Loss 1.943307 - Valid Accuracy 0.679213\n",
            "Epoch: 12/20 - Train loss 0.079467 - Train Accuracy 0.973825 - Valid Loss 2.148003 - Valid Accuracy 0.677017\n",
            "Epoch: 13/20 - Train loss 0.076830 - Train Accuracy 0.974425 - Valid Loss 2.118799 - Valid Accuracy 0.680012\n",
            "Epoch: 14/20 - Train loss 0.066853 - Train Accuracy 0.978350 - Valid Loss 2.158233 - Valid Accuracy 0.675220\n",
            "Epoch: 15/20 - Train loss 0.064453 - Train Accuracy 0.979125 - Valid Loss 2.151922 - Valid Accuracy 0.678115\n",
            "Epoch: 16/20 - Train loss 0.060411 - Train Accuracy 0.980650 - Valid Loss 2.350589 - Valid Accuracy 0.675519\n",
            "Epoch: 17/20 - Train loss 0.052173 - Train Accuracy 0.983300 - Valid Loss 2.395767 - Valid Accuracy 0.671026\n",
            "Epoch: 18/20 - Train loss 0.061579 - Train Accuracy 0.979400 - Valid Loss 2.418110 - Valid Accuracy 0.668530\n",
            "Epoch: 19/20 - Train loss 0.059591 - Train Accuracy 0.981775 - Valid Loss 2.320300 - Valid Accuracy 0.674820\n",
            "Epoch: 20/20 - Train loss 0.055174 - Train Accuracy 0.982300 - Valid Loss 2.688427 - Valid Accuracy 0.685004\n"
          ]
        }
      ]
    },
    {
      "cell_type": "code",
      "source": [
        "fig, axs = plt.subplots(2, 1, figsize=(15,15))\n",
        "\n",
        "axs[0].plot(train_loss[1:]) \n",
        "axs[0].plot(valid_loss[1:]) \n",
        "axs[0].title.set_text('Error de Entrenamiento vs Validación') \n",
        "axs[0].legend(['Train', 'Valid'])  \n",
        "\n",
        "axs[1].plot(train_acc) \n",
        "axs[1].plot(valid_acc) \n",
        "axs[1].title.set_text('Accuracy de Entrenamiento vs Validación') \n",
        "axs[1].legend(['Train', 'Valid'])"
      ],
      "metadata": {
        "colab": {
          "base_uri": "https://localhost:8080/",
          "height": 898
        },
        "id": "hGl4kwnlLLmP",
        "outputId": "5e6a0058-22e0-4ca0-9ab6-5b4ed70d1bea"
      },
      "execution_count": null,
      "outputs": [
        {
          "output_type": "execute_result",
          "data": {
            "text/plain": [
              "<matplotlib.legend.Legend at 0x7f43ad3bef90>"
            ]
          },
          "metadata": {},
          "execution_count": 5
        },
        {
          "output_type": "display_data",
          "data": {
            "text/plain": [
              "<Figure size 1080x1080 with 2 Axes>"
            ],
            "image/png": "[encoded data removed]"
          },
          "metadata": {
            "needs_background": "light"
          }
        }
      ]
    },
    {
      "cell_type": "markdown",
      "source": [
        "Se aprecia que se sobreentrena rapidamente"
      ],
      "metadata": {
        "id": "6bcqeM_3w94Y"
      }
    },
    {
      "cell_type": "markdown",
      "source": [
        "##Con transformaciones \n",
        "\n",
        "\n",
        "\n",
        "\n"
      ],
      "metadata": {
        "id": "JLJr9fPeN0Av"
      }
    },
    {
      "cell_type": "markdown",
      "source": [
        "Dataset de validation sin transformaciones\n",
        "\n"
      ],
      "metadata": {
        "id": "aSjDh8pdPB1X"
      }
    },
    {
      "cell_type": "code",
      "source": [
        "conv_model2 = ConvModel()\n",
        "\n",
        "# Si hay una GPU disponible muevo el modelo allí para aprovechar ese recurso\n",
        "if torch.cuda.is_available():\n",
        "    conv_model2.to(\"cuda\")\n"
      ],
      "metadata": {
        "id": "aiU5Qy02N0Ay"
      },
      "execution_count": null,
      "outputs": []
    },
    {
      "cell_type": "code",
      "source": [
        "transform = torchvision.transforms.Compose(\n",
        "    [torchvision.transforms.RandomHorizontalFlip(p=0.5),\n",
        "     torchvision.transforms.RandomResizedCrop(size=(150, 150), scale=(0.7, 1.0)),\n",
        "     #torchvision.transforms.ColorJitter(saturation=0.05, hue=0.05),\n",
        "     #torchvision.transforms.RandomPerspective(p=0.25),\n",
        "     #torchvision.transforms.RandomSolarize(p=0.5,threshold=0.5),\n",
        "     #torchvision.transforms.RandomAutocontrast(p=0.5),\n",
        "     #torchvision.transforms.RandomEqualize(p=0.5),\n",
        "     torchvision.transforms.ToTensor(),\n",
        "     torchvision.transforms.Resize(size=(150, 150)),\n",
        "     torchvision.transforms.Normalize((0.5, 0.5, 0.5), (0.5, 0.5, 0.5))])\n",
        "transformtest = torchvision.transforms.Compose(\n",
        "    [#torchvision.transforms.RandomHorizontalFlip(p=0.5),\n",
        "     #torchvision.transforms.RandomResizedCrop(size=(150, 150), scale=(0.7, 1.0)),\n",
        "     #torchvision.transforms.ColorJitter(saturation=0.05, hue=0.05),\n",
        "     #torchvision.transforms.RandomPerspective(p=0.25),\n",
        "     #torchvision.transforms.RandomSolarize(p=0.5,threshold=0.5),\n",
        "     #torchvision.transforms.RandomAutocontrast(p=0.5),\n",
        "     #torchvision.transforms.RandomEqualize(p=0.5),\n",
        "     torchvision.transforms.ToTensor(),\n",
        "     torchvision.transforms.Resize(size=(150, 150))])\n",
        "\n",
        "batch_size = 32\n",
        "\n",
        "\n",
        "train_set = torchvision.datasets.CIFAR10(root='./data', train=True,\n",
        "                                        download=True, transform=transform)\n",
        "\n",
        "#train_size = int(len(train_data) * 0.8) # 80% training data\n",
        "#valid_size = len(train_data) - train_size # 20% validation data\n",
        "#train_set, valid_set = torch.utils.data.random_split(train_data, [train_size, valid_size])\n",
        "\n",
        "\n",
        "valid_set = torchvision.datasets.CIFAR10(root='./data', train=False,\n",
        "                                       download=True, transform=transformtest)\n",
        "\n",
        "train_loader = torch.utils.data.DataLoader(train_set, batch_size=batch_size,\n",
        "                                          shuffle=True, num_workers=2)\n",
        "valid_loader = torch.utils.data.DataLoader(valid_set, batch_size=batch_size,\n",
        "                                          shuffle=True, num_workers=2)\n",
        "\n"
      ],
      "metadata": {
        "colab": {
          "base_uri": "https://localhost:8080/",
          "height": 101,
          "referenced_widgets": [
            "2bfe033625f24549a223796b7be2de62",
            "e3534f79aee84787a738d3b16430844f",
            "91056095b6a44168bd9c05c059b059e1",
            "6a0a6d8bb84242e98e03ceed2ee63f73",
            "332078c4e4d542d281f07177f78bfb8c",
            "938fe0cd4729408eb80da2b622b89e86",
            "ac5cf6dcf01c4846bcf2c4d9bbafbe97",
            "128adc01fa5f4761a12644d8ea68855c",
            "535ec3c446a94346a5830f82be281fce",
            "a50cc96ee11d4373a22748338ec1b67b",
            "4351266022d043dba73dc1799176f693"
          ]
        },
        "outputId": "62dd8e7e-58a0-49c0-c7fc-c5392faf0027",
        "id": "ZcWRKEUIN0Az"
      },
      "execution_count": null,
      "outputs": [
        {
          "output_type": "stream",
          "name": "stdout",
          "text": [
            "Downloading https://www.cs.toronto.edu/~kriz/cifar-10-python.tar.gz to ./data/cifar-10-python.tar.gz\n"
          ]
        },
        {
          "output_type": "display_data",
          "data": {
            "text/plain": [
              "  0%|          | 0/170498071 [00:00<?, ?it/s]"
            ],
            "application/vnd.jupyter.widget-view+json": {
              "version_major": 2,
              "version_minor": 0,
              "model_id": "2bfe033625f24549a223796b7be2de62"
            }
          },
          "metadata": {}
        },
        {
          "output_type": "stream",
          "name": "stdout",
          "text": [
            "Extracting ./data/cifar-10-python.tar.gz to ./data\n",
            "Files already downloaded and verified\n"
          ]
        }
      ]
    },
    {
      "cell_type": "code",
      "source": [
        "conv_model2_optimizer = torch.optim.Adam(conv_model2.parameters(), lr=0.001)\n",
        "\n",
        "conv_model2_loss = torch.nn.CrossEntropyLoss()\n",
        "\n",
        "conv_model2_accuracy = torchmetrics.Accuracy()\n",
        "\n",
        "if torch.cuda.is_available():\n",
        "  conv_model2_accuracy.to(\"cuda\")\n",
        "\n",
        "# Epocas de entrenamiento\n",
        "epochs = 30\n",
        "\n",
        "# Defino listas para realizar graficas de los resultados\n",
        "train_loss = []\n",
        "train_acc = []\n",
        "valid_loss = []\n",
        "valid_acc = []\n",
        "\n",
        "## Defino mi loop de entrenamiento\n",
        "\n",
        "for epoch in range(epochs):\n",
        "\n",
        "  epoch_train_loss = 0.0\n",
        "  epoch_train_accuracy = 0.0\n",
        "\n",
        "  for train_data, train_target in train_loader:\n",
        "\n",
        "    # Al igual que con el modelo, los datos también se deben pasar a la GPU\n",
        "    if torch.cuda.is_available():\n",
        "      train_data = train_data.to(\"cuda\")\n",
        "      train_target = train_target.to(\"cuda\")\n",
        "\n",
        "    conv_model2_optimizer.zero_grad()\n",
        "    #print(train_target)\n",
        "    output = conv_model2(train_data)\n",
        "    \n",
        "    loss = conv_model2_loss(output, train_target)\n",
        "    epoch_train_loss += loss.item()\n",
        "    loss.backward()\n",
        "    \n",
        "    conv_model2_optimizer.step()\n",
        "\n",
        "    accuracy = conv_model2_accuracy(output, train_target)\n",
        "    epoch_train_accuracy += accuracy.item()\n",
        "\n",
        "  # Calculo la media de error y accuracy para la epoca de entrenamiento.\n",
        "  # La longitud de train_loader es igual a la cantidad de batches dentro de una epoca.\n",
        "  epoch_train_loss = epoch_train_loss / len(train_loader)\n",
        "  epoch_train_accuracy = epoch_train_accuracy / len(train_loader)\n",
        "  train_loss.append(epoch_train_loss)\n",
        "  train_acc.append(epoch_train_accuracy)\n",
        "\n",
        "  # Realizo el paso de validación computando error y accuracy, y\n",
        "  # almacenando los valores para imprimirlos y graficarlos\n",
        "  epoch_valid_loss = 0.0\n",
        "  epoch_valid_accuracy = 0.0\n",
        "\n",
        "  for valid_data, valid_target in valid_loader:\n",
        "    if torch.cuda.is_available():\n",
        "      valid_data = valid_data.to(\"cuda\")\n",
        "      valid_target = valid_target.to(\"cuda\")\n",
        "\n",
        "    output = conv_model2(valid_data)\n",
        "    epoch_valid_loss += conv_model2_loss(output, valid_target).item()\n",
        "    epoch_valid_accuracy += conv_model2_accuracy(output, valid_target).item()\n",
        "      \n",
        "  epoch_valid_loss = epoch_valid_loss / len(valid_loader)\n",
        "  epoch_valid_accuracy = epoch_valid_accuracy / len(valid_loader)\n",
        "  valid_loss.append(epoch_valid_loss)\n",
        "  valid_acc.append(epoch_valid_accuracy)\n",
        "\n",
        "  print(\"Epoch: {}/{} - Train loss {:.6f} - Train Accuracy {:.6f} - Valid Loss {:.6f} - Valid Accuracy {:.6f}\".format(\n",
        "      epoch+1, epochs, epoch_train_loss, epoch_train_accuracy, epoch_valid_loss, epoch_valid_accuracy))\n"
      ],
      "metadata": {
        "colab": {
          "base_uri": "https://localhost:8080/"
        },
        "outputId": "9121ea87-ae4e-4d91-dafe-63419ddb04f8",
        "id": "_9SNSbVMN0A1"
      },
      "execution_count": null,
      "outputs": [
        {
          "output_type": "stream",
          "name": "stdout",
          "text": [
            "Epoch: 1/30 - Train loss 1.485801 - Train Accuracy 0.462712 - Valid Loss 2.705882 - Valid Accuracy 0.208167\n",
            "Epoch: 2/30 - Train loss 1.082140 - Train Accuracy 0.617982 - Valid Loss 1.852181 - Valid Accuracy 0.366514\n",
            "Epoch: 3/30 - Train loss 0.890377 - Train Accuracy 0.688980 - Valid Loss 1.544280 - Valid Accuracy 0.451178\n",
            "Epoch: 4/30 - Train loss 0.788032 - Train Accuracy 0.724188 - Valid Loss 1.562895 - Valid Accuracy 0.467851\n",
            "Epoch: 5/30 - Train loss 0.709440 - Train Accuracy 0.752399 - Valid Loss 1.533176 - Valid Accuracy 0.466853\n",
            "Epoch: 6/30 - Train loss 0.653344 - Train Accuracy 0.771233 - Valid Loss 1.641171 - Valid Accuracy 0.462959\n",
            "Epoch: 7/30 - Train loss 0.611592 - Train Accuracy 0.786808 - Valid Loss 1.453294 - Valid Accuracy 0.497304\n",
            "Epoch: 8/30 - Train loss 0.573035 - Train Accuracy 0.801244 - Valid Loss 1.750138 - Valid Accuracy 0.456769\n",
            "Epoch: 9/30 - Train loss 0.540609 - Train Accuracy 0.813840 - Valid Loss 1.422670 - Valid Accuracy 0.545028\n",
            "Epoch: 10/30 - Train loss 0.514278 - Train Accuracy 0.822557 - Valid Loss 1.420315 - Valid Accuracy 0.545727\n",
            "Epoch: 11/30 - Train loss 0.486631 - Train Accuracy 0.831554 - Valid Loss 1.334705 - Valid Accuracy 0.565495\n",
            "Epoch: 12/30 - Train loss 0.463659 - Train Accuracy 0.839811 - Valid Loss 1.717775 - Valid Accuracy 0.464457\n",
            "Epoch: 13/30 - Train loss 0.449307 - Train Accuracy 0.844270 - Valid Loss 1.312594 - Valid Accuracy 0.558606\n",
            "Epoch: 14/30 - Train loss 0.434259 - Train Accuracy 0.849208 - Valid Loss 1.473331 - Valid Accuracy 0.515974\n",
            "Epoch: 15/30 - Train loss 0.411220 - Train Accuracy 0.857586 - Valid Loss 1.600869 - Valid Accuracy 0.522963\n",
            "Epoch: 16/30 - Train loss 0.400880 - Train Accuracy 0.861584 - Valid Loss 1.652326 - Valid Accuracy 0.499700\n",
            "Epoch: 17/30 - Train loss 0.393810 - Train Accuracy 0.865263 - Valid Loss 1.936274 - Valid Accuracy 0.465954\n",
            "Epoch: 18/30 - Train loss 0.379405 - Train Accuracy 0.869202 - Valid Loss 1.615009 - Valid Accuracy 0.511781\n",
            "Epoch: 19/30 - Train loss 0.372072 - Train Accuracy 0.872561 - Valid Loss 1.485644 - Valid Accuracy 0.530152\n",
            "Epoch: 20/30 - Train loss 0.361779 - Train Accuracy 0.876240 - Valid Loss 1.586372 - Valid Accuracy 0.540136\n",
            "Epoch: 21/30 - Train loss 0.350112 - Train Accuracy 0.879319 - Valid Loss 1.575053 - Valid Accuracy 0.533946\n",
            "Epoch: 22/30 - Train loss 0.337980 - Train Accuracy 0.883937 - Valid Loss 1.504740 - Valid Accuracy 0.541434\n",
            "Epoch: 23/30 - Train loss 0.338077 - Train Accuracy 0.885937 - Valid Loss 1.654476 - Valid Accuracy 0.517871\n",
            "Epoch: 24/30 - Train loss 0.322381 - Train Accuracy 0.888896 - Valid Loss 1.822830 - Valid Accuracy 0.500200\n",
            "Epoch: 25/30 - Train loss 0.322247 - Train Accuracy 0.889495 - Valid Loss 1.602136 - Valid Accuracy 0.531350\n",
            "Epoch: 26/30 - Train loss 0.311267 - Train Accuracy 0.893514 - Valid Loss 1.475213 - Valid Accuracy 0.574681\n",
            "Epoch: 27/30 - Train loss 0.309942 - Train Accuracy 0.894554 - Valid Loss 1.686840 - Valid Accuracy 0.518670\n",
            "Epoch: 28/30 - Train loss 0.297611 - Train Accuracy 0.899212 - Valid Loss 2.060653 - Valid Accuracy 0.493710\n",
            "Epoch: 29/30 - Train loss 0.300207 - Train Accuracy 0.898672 - Valid Loss 1.636000 - Valid Accuracy 0.544429\n",
            "Epoch: 30/30 - Train loss 0.293220 - Train Accuracy 0.900492 - Valid Loss 1.861873 - Valid Accuracy 0.488618\n"
          ]
        }
      ]
    },
    {
      "cell_type": "code",
      "source": [
        "fig, axs = plt.subplots(2, 1, figsize=(15,15))\n",
        "\n",
        "axs[0].plot(train_loss[1:]) \n",
        "axs[0].plot(valid_loss[1:]) \n",
        "axs[0].title.set_text('Error de Entrenamiento vs Validación') \n",
        "axs[0].legend(['Train', 'Valid'])  \n",
        "\n",
        "axs[1].plot(train_acc) \n",
        "axs[1].plot(valid_acc) \n",
        "axs[1].title.set_text('Accuracy de Entrenamiento vs Validación') \n",
        "axs[1].legend(['Train', 'Valid'])"
      ],
      "metadata": {
        "colab": {
          "base_uri": "https://localhost:8080/",
          "height": 896
        },
        "outputId": "0e13b357-d489-4d55-f3a9-734358dfd63f",
        "id": "7cOcFbUFN0A5"
      },
      "execution_count": null,
      "outputs": [
        {
          "output_type": "execute_result",
          "data": {
            "text/plain": [
              "<matplotlib.legend.Legend at 0x7fd316ea8350>"
            ]
          },
          "metadata": {},
          "execution_count": 6
        },
        {
          "output_type": "display_data",
          "data": {
            "text/plain": [
              "<Figure size 1080x1080 with 2 Axes>"
            ],
            "image/png": "[encoded data removed]"
          },
          "metadata": {
            "needs_background": "light"
          }
        }
      ]
    },
    {
      "cell_type": "code",
      "source": [
        "torch.save(conv_model2.state_dict(), \"/content/drive/MyDrive/MODELO VPC2/ConTransformaciones.pkl\")"
      ],
      "metadata": {
        "id": "FT4afnKSSR8q"
      },
      "execution_count": null,
      "outputs": []
    },
    {
      "cell_type": "code",
      "source": [
        "conv_model2_optimizer = torch.optim.Adam(conv_model2.parameters(), lr=0.001)\n",
        "\n",
        "conv_model2_loss = torch.nn.CrossEntropyLoss()\n",
        "\n",
        "conv_model2_accuracy = torchmetrics.Accuracy()\n",
        "\n",
        "if torch.cuda.is_available():\n",
        "  conv_model2_accuracy.to(\"cuda\")\n",
        "\n",
        "# Epocas de entrenamiento\n",
        "epochs = 5\n",
        "\n",
        "# Defino listas para realizar graficas de los resultados\n",
        "#train_loss = []\n",
        "#train_acc = []\n",
        "#valid_loss = []\n",
        "#valid_acc = []\n",
        "\n",
        "## Defino mi loop de entrenamiento\n",
        "\n",
        "for epoch in range(epochs):\n",
        "\n",
        "  epoch_train_loss = 0.0\n",
        "  epoch_train_accuracy = 0.0\n",
        "\n",
        "  for train_data, train_target in train_loader:\n",
        "\n",
        "    # Al igual que con el modelo, los datos también se deben pasar a la GPU\n",
        "    if torch.cuda.is_available():\n",
        "      train_data = train_data.to(\"cuda\")\n",
        "      train_target = train_target.to(\"cuda\")\n",
        "\n",
        "    conv_model2_optimizer.zero_grad()\n",
        "    #print(train_target)\n",
        "    output = conv_model2(train_data)\n",
        "    \n",
        "    loss = conv_model2_loss(output, train_target)\n",
        "    epoch_train_loss += loss.item()\n",
        "    loss.backward()\n",
        "    \n",
        "    conv_model2_optimizer.step()\n",
        "\n",
        "    accuracy = conv_model2_accuracy(output, train_target)\n",
        "    epoch_train_accuracy += accuracy.item()\n",
        "\n",
        "  # Calculo la media de error y accuracy para la epoca de entrenamiento.\n",
        "  # La longitud de train_loader es igual a la cantidad de batches dentro de una epoca.\n",
        "  epoch_train_loss = epoch_train_loss / len(train_loader)\n",
        "  epoch_train_accuracy = epoch_train_accuracy / len(train_loader)\n",
        "  train_loss.append(epoch_train_loss)\n",
        "  train_acc.append(epoch_train_accuracy)\n",
        "\n",
        "  # Realizo el paso de validación computando error y accuracy, y\n",
        "  # almacenando los valores para imprimirlos y graficarlos\n",
        "  epoch_valid_loss = 0.0\n",
        "  epoch_valid_accuracy = 0.0\n",
        "\n",
        "  for valid_data, valid_target in valid_loader:\n",
        "    if torch.cuda.is_available():\n",
        "      valid_data = valid_data.to(\"cuda\")\n",
        "      valid_target = valid_target.to(\"cuda\")\n",
        "\n",
        "    output = conv_model2(valid_data)\n",
        "    epoch_valid_loss += conv_model2_loss(output, valid_target).item()\n",
        "    epoch_valid_accuracy += conv_model2_accuracy(output, valid_target).item()\n",
        "      \n",
        "  epoch_valid_loss = epoch_valid_loss / len(valid_loader)\n",
        "  epoch_valid_accuracy = epoch_valid_accuracy / len(valid_loader)\n",
        "  valid_loss.append(epoch_valid_loss)\n",
        "  valid_acc.append(epoch_valid_accuracy)\n",
        "\n",
        "  print(\"Epoch: {}/{} - Train loss {:.6f} - Train Accuracy {:.6f} - Valid Loss {:.6f} - Valid Accuracy {:.6f}\".format(\n",
        "      epoch+21, epochs+20, epoch_train_loss, epoch_train_accuracy, epoch_valid_loss, epoch_valid_accuracy))\n"
      ],
      "metadata": {
        "colab": {
          "base_uri": "https://localhost:8080/"
        },
        "outputId": "6c1d6122-5c32-4ecd-c26a-548587c07be8",
        "id": "5h4nPrgKN0A3"
      },
      "execution_count": null,
      "outputs": [
        {
          "output_type": "stream",
          "name": "stdout",
          "text": [
            "Epoch: 21/25 - Train loss 0.316192 - Train Accuracy 0.890855 - Valid Loss 0.746394 - Valid Accuracy 0.781350\n",
            "Epoch: 22/25 - Train loss 0.312817 - Train Accuracy 0.892454 - Valid Loss 0.722697 - Valid Accuracy 0.784445\n",
            "Epoch: 23/25 - Train loss 0.302140 - Train Accuracy 0.896813 - Valid Loss 0.784978 - Valid Accuracy 0.771565\n",
            "Epoch: 24/25 - Train loss 0.305026 - Train Accuracy 0.896733 - Valid Loss 0.756481 - Valid Accuracy 0.778255\n",
            "Epoch: 25/25 - Train loss 0.293615 - Train Accuracy 0.899612 - Valid Loss 0.783258 - Valid Accuracy 0.778155\n"
          ]
        }
      ]
    },
    {
      "cell_type": "code",
      "source": [
        "conv_model2_optimizer = torch.optim.Adam(conv_model2.parameters(), lr=0.001)\n",
        "\n",
        "conv_model2_loss = torch.nn.CrossEntropyLoss()\n",
        "\n",
        "conv_model2_accuracy = torchmetrics.Accuracy()\n",
        "\n",
        "if torch.cuda.is_available():\n",
        "  conv_model2_accuracy.to(\"cuda\")\n",
        "\n",
        "# Epocas de entrenamiento\n",
        "epochs = 5\n",
        "\n",
        "# Defino listas para realizar graficas de los resultados\n",
        "#train_loss = []\n",
        "#train_acc = []\n",
        "#valid_loss = []\n",
        "#valid_acc = []\n",
        "\n",
        "## Defino mi loop de entrenamiento\n",
        "\n",
        "for epoch in range(epochs):\n",
        "\n",
        "  epoch_train_loss = 0.0\n",
        "  epoch_train_accuracy = 0.0\n",
        "\n",
        "  for train_data, train_target in train_loader:\n",
        "\n",
        "    # Al igual que con el modelo, los datos también se deben pasar a la GPU\n",
        "    if torch.cuda.is_available():\n",
        "      train_data = train_data.to(\"cuda\")\n",
        "      train_target = train_target.to(\"cuda\")\n",
        "\n",
        "    conv_model2_optimizer.zero_grad()\n",
        "    #print(train_target)\n",
        "    output = conv_model2(train_data)\n",
        "    \n",
        "    loss = conv_model2_loss(output, train_target)\n",
        "    epoch_train_loss += loss.item()\n",
        "    loss.backward()\n",
        "    \n",
        "    conv_model2_optimizer.step()\n",
        "\n",
        "    accuracy = conv_model2_accuracy(output, train_target)\n",
        "    epoch_train_accuracy += accuracy.item()\n",
        "\n",
        "  # Calculo la media de error y accuracy para la epoca de entrenamiento.\n",
        "  # La longitud de train_loader es igual a la cantidad de batches dentro de una epoca.\n",
        "  epoch_train_loss = epoch_train_loss / len(train_loader)\n",
        "  epoch_train_accuracy = epoch_train_accuracy / len(train_loader)\n",
        "  train_loss.append(epoch_train_loss)\n",
        "  train_acc.append(epoch_train_accuracy)\n",
        "\n",
        "  # Realizo el paso de validación computando error y accuracy, y\n",
        "  # almacenando los valores para imprimirlos y graficarlos\n",
        "  epoch_valid_loss = 0.0\n",
        "  epoch_valid_accuracy = 0.0\n",
        "\n",
        "  for valid_data, valid_target in valid_loader:\n",
        "    if torch.cuda.is_available():\n",
        "      valid_data = valid_data.to(\"cuda\")\n",
        "      valid_target = valid_target.to(\"cuda\")\n",
        "\n",
        "    output = conv_model2(valid_data)\n",
        "    epoch_valid_loss += conv_model2_loss(output, valid_target).item()\n",
        "    epoch_valid_accuracy += conv_model2_accuracy(output, valid_target).item()\n",
        "      \n",
        "  epoch_valid_loss = epoch_valid_loss / len(valid_loader)\n",
        "  epoch_valid_accuracy = epoch_valid_accuracy / len(valid_loader)\n",
        "  valid_loss.append(epoch_valid_loss)\n",
        "  valid_acc.append(epoch_valid_accuracy)\n",
        "\n",
        "  print(\"Epoch: {}/{} - Train loss {:.6f} - Train Accuracy {:.6f} - Valid Loss {:.6f} - Valid Accuracy {:.6f}\".format(\n",
        "      epoch+21, epochs+20, epoch_train_loss, epoch_train_accuracy, epoch_valid_loss, epoch_valid_accuracy))\n"
      ],
      "metadata": {
        "colab": {
          "base_uri": "https://localhost:8080/"
        },
        "outputId": "1172bbde-f4ae-4a6c-c7f3-7018f3a35210",
        "id": "BwupFeGmTi4M"
      },
      "execution_count": null,
      "outputs": [
        {
          "output_type": "stream",
          "name": "stdout",
          "text": [
            "Epoch: 21/25 - Train loss 0.293644 - Train Accuracy 0.900872 - Valid Loss 0.715537 - Valid Accuracy 0.785843\n",
            "Epoch: 22/25 - Train loss 0.295533 - Train Accuracy 0.898213 - Valid Loss 0.768078 - Valid Accuracy 0.786641\n",
            "Epoch: 23/25 - Train loss 0.288510 - Train Accuracy 0.902111 - Valid Loss 0.733430 - Valid Accuracy 0.786941\n",
            "Epoch: 24/25 - Train loss 0.283269 - Train Accuracy 0.903251 - Valid Loss 0.749875 - Valid Accuracy 0.784744\n",
            "Epoch: 25/25 - Train loss 0.282553 - Train Accuracy 0.905550 - Valid Loss 0.742476 - Valid Accuracy 0.784445\n"
          ]
        }
      ]
    },
    {
      "cell_type": "markdown",
      "source": [
        "##Con transformaciones 2"
      ],
      "metadata": {
        "id": "tnY2faEYWq2a"
      }
    },
    {
      "cell_type": "markdown",
      "source": [
        "train y validation con la misma transformacion"
      ],
      "metadata": {
        "id": "r8j7HNbkWq2c"
      }
    },
    {
      "cell_type": "code",
      "source": [
        "conv_model2 = ConvModel()\n",
        "\n",
        "# Si hay una GPU disponible muevo el modelo allí para aprovechar ese recurso\n",
        "if torch.cuda.is_available():\n",
        "    conv_model2.to(\"cuda\")\n"
      ],
      "metadata": {
        "id": "6jHADH35Wq2d"
      },
      "execution_count": null,
      "outputs": []
    },
    {
      "cell_type": "code",
      "source": [
        "transform = torchvision.transforms.Compose(\n",
        "    [torchvision.transforms.RandomHorizontalFlip(p=0.5),\n",
        "     torchvision.transforms.RandomResizedCrop(size=(150, 150), scale=(0.7, 1.0)),\n",
        "     #torchvision.transforms.ColorJitter(saturation=0.05, hue=0.05),\n",
        "     #torchvision.transforms.RandomPerspective(p=0.25),\n",
        "     #torchvision.transforms.RandomSolarize(p=0.5,threshold=0.5),\n",
        "     #torchvision.transforms.RandomAutocontrast(p=0.5),\n",
        "     #torchvision.transforms.RandomEqualize(p=0.5),\n",
        "     torchvision.transforms.ToTensor(),\n",
        "     torchvision.transforms.Resize(size=(150, 150)),\n",
        "     torchvision.transforms.Normalize((0.5, 0.5, 0.5), (0.5, 0.5, 0.5))])\n",
        "\n",
        "batch_size = 32\n",
        "\n",
        "\n",
        "train_set = torchvision.datasets.CIFAR10(root='./data', train=True,\n",
        "                                        download=True, transform=transform)\n",
        "\n",
        "#train_size = int(len(train_data) * 0.8) # 80% training data\n",
        "#valid_size = len(train_data) - train_size # 20% validation data\n",
        "#train_set, valid_set = torch.utils.data.random_split(train_data, [train_size, valid_size])\n",
        "\n",
        "\n",
        "valid_set = torchvision.datasets.CIFAR10(root='./data', train=False,\n",
        "                                       download=True, transform=transform)\n",
        "\n",
        "train_loader = torch.utils.data.DataLoader(train_set, batch_size=batch_size,\n",
        "                                          shuffle=True, num_workers=2)\n",
        "valid_loader = torch.utils.data.DataLoader(valid_set, batch_size=batch_size,\n",
        "                                          shuffle=True, num_workers=2)\n",
        "\n"
      ],
      "metadata": {
        "colab": {
          "base_uri": "https://localhost:8080/"
        },
        "outputId": "e8b9b8bb-2f3d-4d35-bc9d-1b4e6f5bb987",
        "id": "Y4QCDs3-Wq2f"
      },
      "execution_count": null,
      "outputs": [
        {
          "output_type": "stream",
          "name": "stdout",
          "text": [
            "Files already downloaded and verified\n",
            "Files already downloaded and verified\n"
          ]
        }
      ]
    },
    {
      "cell_type": "code",
      "source": [
        "conv_model2_optimizer = torch.optim.Adam(conv_model2.parameters(), lr=0.001)\n",
        "\n",
        "conv_model2_loss = torch.nn.CrossEntropyLoss()\n",
        "\n",
        "conv_model2_accuracy = torchmetrics.Accuracy()\n",
        "\n",
        "if torch.cuda.is_available():\n",
        "  conv_model2_accuracy.to(\"cuda\")\n",
        "\n",
        "# Epocas de entrenamiento\n",
        "epochs = 30\n",
        "\n",
        "# Defino listas para realizar graficas de los resultados\n",
        "train_loss = []\n",
        "train_acc = []\n",
        "valid_loss = []\n",
        "valid_acc = []\n",
        "\n",
        "## Defino mi loop de entrenamiento\n",
        "\n",
        "for epoch in range(epochs):\n",
        "\n",
        "  epoch_train_loss = 0.0\n",
        "  epoch_train_accuracy = 0.0\n",
        "\n",
        "  for train_data, train_target in train_loader:\n",
        "\n",
        "    # Al igual que con el modelo, los datos también se deben pasar a la GPU\n",
        "    if torch.cuda.is_available():\n",
        "      train_data = train_data.to(\"cuda\")\n",
        "      train_target = train_target.to(\"cuda\")\n",
        "\n",
        "    conv_model2_optimizer.zero_grad()\n",
        "    #print(train_target)\n",
        "    output = conv_model2(train_data)\n",
        "    \n",
        "    loss = conv_model2_loss(output, train_target)\n",
        "    epoch_train_loss += loss.item()\n",
        "    loss.backward()\n",
        "    \n",
        "    conv_model2_optimizer.step()\n",
        "\n",
        "    accuracy = conv_model2_accuracy(output, train_target)\n",
        "    epoch_train_accuracy += accuracy.item()\n",
        "\n",
        "  # Calculo la media de error y accuracy para la epoca de entrenamiento.\n",
        "  # La longitud de train_loader es igual a la cantidad de batches dentro de una epoca.\n",
        "  epoch_train_loss = epoch_train_loss / len(train_loader)\n",
        "  epoch_train_accuracy = epoch_train_accuracy / len(train_loader)\n",
        "  train_loss.append(epoch_train_loss)\n",
        "  train_acc.append(epoch_train_accuracy)\n",
        "\n",
        "  # Realizo el paso de validación computando error y accuracy, y\n",
        "  # almacenando los valores para imprimirlos y graficarlos\n",
        "  epoch_valid_loss = 0.0\n",
        "  epoch_valid_accuracy = 0.0\n",
        "\n",
        "  for valid_data, valid_target in valid_loader:\n",
        "    if torch.cuda.is_available():\n",
        "      valid_data = valid_data.to(\"cuda\")\n",
        "      valid_target = valid_target.to(\"cuda\")\n",
        "\n",
        "    output = conv_model2(valid_data)\n",
        "    epoch_valid_loss += conv_model2_loss(output, valid_target).item()\n",
        "    epoch_valid_accuracy += conv_model2_accuracy(output, valid_target).item()\n",
        "      \n",
        "  epoch_valid_loss = epoch_valid_loss / len(valid_loader)\n",
        "  epoch_valid_accuracy = epoch_valid_accuracy / len(valid_loader)\n",
        "  valid_loss.append(epoch_valid_loss)\n",
        "  valid_acc.append(epoch_valid_accuracy)\n",
        "\n",
        "  print(\"Epoch: {}/{} - Train loss {:.6f} - Train Accuracy {:.6f} - Valid Loss {:.6f} - Valid Accuracy {:.6f}\".format(\n",
        "      epoch+1, epochs, epoch_train_loss, epoch_train_accuracy, epoch_valid_loss, epoch_valid_accuracy))\n"
      ],
      "metadata": {
        "colab": {
          "base_uri": "https://localhost:8080/"
        },
        "outputId": "aa9fcdd4-6a35-472e-a2fb-e59aa4be26a8",
        "id": "WQyrZy6BWq2i"
      },
      "execution_count": null,
      "outputs": [
        {
          "output_type": "stream",
          "name": "stdout",
          "text": [
            "Epoch: 1/30 - Train loss 1.481059 - Train Accuracy 0.465611 - Valid Loss 1.170701 - Valid Accuracy 0.582169\n",
            "Epoch: 2/30 - Train loss 1.067242 - Train Accuracy 0.621641 - Valid Loss 0.988188 - Valid Accuracy 0.648862\n",
            "Epoch: 3/30 - Train loss 0.892112 - Train Accuracy 0.683661 - Valid Loss 0.866584 - Valid Accuracy 0.698482\n",
            "Epoch: 4/30 - Train loss 0.791149 - Train Accuracy 0.724008 - Valid Loss 0.814142 - Valid Accuracy 0.715655\n",
            "Epoch: 5/30 - Train loss 0.722892 - Train Accuracy 0.746801 - Valid Loss 0.779842 - Valid Accuracy 0.726338\n",
            "Epoch: 6/30 - Train loss 0.670887 - Train Accuracy 0.766555 - Valid Loss 0.802849 - Valid Accuracy 0.726038\n",
            "Epoch: 7/30 - Train loss 0.631269 - Train Accuracy 0.780630 - Valid Loss 0.739717 - Valid Accuracy 0.748902\n",
            "Epoch: 8/30 - Train loss 0.591267 - Train Accuracy 0.793446 - Valid Loss 0.732147 - Valid Accuracy 0.758287\n",
            "Epoch: 9/30 - Train loss 0.559987 - Train Accuracy 0.805042 - Valid Loss 0.730565 - Valid Accuracy 0.760783\n",
            "Epoch: 10/30 - Train loss 0.534875 - Train Accuracy 0.813680 - Valid Loss 0.730383 - Valid Accuracy 0.759784\n",
            "Epoch: 11/30 - Train loss 0.510243 - Train Accuracy 0.823117 - Valid Loss 0.751497 - Valid Accuracy 0.750399\n",
            "Epoch: 12/30 - Train loss 0.494433 - Train Accuracy 0.829015 - Valid Loss 0.704020 - Valid Accuracy 0.764177\n",
            "Epoch: 13/30 - Train loss 0.469248 - Train Accuracy 0.835972 - Valid Loss 0.742107 - Valid Accuracy 0.760284\n",
            "Epoch: 14/30 - Train loss 0.455142 - Train Accuracy 0.842830 - Valid Loss 0.742839 - Valid Accuracy 0.756290\n",
            "Epoch: 15/30 - Train loss 0.442021 - Train Accuracy 0.848089 - Valid Loss 0.743129 - Valid Accuracy 0.770667\n",
            "Epoch: 16/30 - Train loss 0.424392 - Train Accuracy 0.853627 - Valid Loss 0.720731 - Valid Accuracy 0.775859\n",
            "Epoch: 17/30 - Train loss 0.414159 - Train Accuracy 0.855306 - Valid Loss 0.788301 - Valid Accuracy 0.757488\n",
            "Epoch: 18/30 - Train loss 0.405755 - Train Accuracy 0.858345 - Valid Loss 0.720970 - Valid Accuracy 0.774461\n",
            "Epoch: 19/30 - Train loss 0.392895 - Train Accuracy 0.864443 - Valid Loss 0.736615 - Valid Accuracy 0.769469\n",
            "Epoch: 20/30 - Train loss 0.381801 - Train Accuracy 0.867382 - Valid Loss 0.729047 - Valid Accuracy 0.777955\n",
            "Epoch: 21/30 - Train loss 0.368822 - Train Accuracy 0.874900 - Valid Loss 0.700326 - Valid Accuracy 0.777756\n",
            "Epoch: 22/30 - Train loss 0.364180 - Train Accuracy 0.874820 - Valid Loss 0.783508 - Valid Accuracy 0.767772\n",
            "Epoch: 23/30 - Train loss 0.354136 - Train Accuracy 0.879159 - Valid Loss 0.760144 - Valid Accuracy 0.770966\n",
            "Epoch: 24/30 - Train loss 0.354600 - Train Accuracy 0.877479 - Valid Loss 0.759539 - Valid Accuracy 0.776857\n",
            "Epoch: 25/30 - Train loss 0.339195 - Train Accuracy 0.883137 - Valid Loss 0.773070 - Valid Accuracy 0.764976\n",
            "Epoch: 26/30 - Train loss 0.339101 - Train Accuracy 0.883457 - Valid Loss 0.750288 - Valid Accuracy 0.779852\n",
            "Epoch: 27/30 - Train loss 0.330312 - Train Accuracy 0.887156 - Valid Loss 0.749832 - Valid Accuracy 0.775958\n",
            "Epoch: 28/30 - Train loss 0.325201 - Train Accuracy 0.889095 - Valid Loss 0.776519 - Valid Accuracy 0.771865\n",
            "Epoch: 29/30 - Train loss 0.321682 - Train Accuracy 0.889915 - Valid Loss 0.797640 - Valid Accuracy 0.769269\n",
            "Epoch: 30/30 - Train loss 0.318219 - Train Accuracy 0.892055 - Valid Loss 0.774652 - Valid Accuracy 0.778754\n"
          ]
        }
      ]
    },
    {
      "cell_type": "code",
      "source": [
        "torch.save(conv_model2.state_dict(), \"/content/drive/MyDrive/MODELO VPC2/ConTransformaciones2.pkl\")"
      ],
      "metadata": {
        "id": "nlo5k8t-joIp"
      },
      "execution_count": null,
      "outputs": []
    },
    {
      "cell_type": "code",
      "source": [
        "conv_model2_optimizer = torch.optim.Adam(conv_model2.parameters(), lr=0.001)\n",
        "\n",
        "conv_model2_loss = torch.nn.CrossEntropyLoss()\n",
        "\n",
        "conv_model2_accuracy = torchmetrics.Accuracy()\n",
        "\n",
        "if torch.cuda.is_available():\n",
        "  conv_model2_accuracy.to(\"cuda\")\n",
        "\n",
        "# Epocas de entrenamiento\n",
        "epochs = 30\n",
        "\n",
        "# Defino listas para realizar graficas de los resultados\n",
        "#train_loss = []\n",
        "#train_acc = []\n",
        "#valid_loss = []\n",
        "#valid_acc = []\n",
        "\n",
        "## Defino mi loop de entrenamiento\n",
        "\n",
        "for epoch in range(epochs):\n",
        "\n",
        "  epoch_train_loss = 0.0\n",
        "  epoch_train_accuracy = 0.0\n",
        "\n",
        "  for train_data, train_target in train_loader:\n",
        "\n",
        "    # Al igual que con el modelo, los datos también se deben pasar a la GPU\n",
        "    if torch.cuda.is_available():\n",
        "      train_data = train_data.to(\"cuda\")\n",
        "      train_target = train_target.to(\"cuda\")\n",
        "\n",
        "    conv_model2_optimizer.zero_grad()\n",
        "    #print(train_target)\n",
        "    output = conv_model2(train_data)\n",
        "    \n",
        "    loss = conv_model2_loss(output, train_target)\n",
        "    epoch_train_loss += loss.item()\n",
        "    loss.backward()\n",
        "    \n",
        "    conv_model2_optimizer.step()\n",
        "\n",
        "    accuracy = conv_model2_accuracy(output, train_target)\n",
        "    epoch_train_accuracy += accuracy.item()\n",
        "\n",
        "  # Calculo la media de error y accuracy para la epoca de entrenamiento.\n",
        "  # La longitud de train_loader es igual a la cantidad de batches dentro de una epoca.\n",
        "  epoch_train_loss = epoch_train_loss / len(train_loader)\n",
        "  epoch_train_accuracy = epoch_train_accuracy / len(train_loader)\n",
        "  train_loss.append(epoch_train_loss)\n",
        "  train_acc.append(epoch_train_accuracy)\n",
        "\n",
        "  # Realizo el paso de validación computando error y accuracy, y\n",
        "  # almacenando los valores para imprimirlos y graficarlos\n",
        "  epoch_valid_loss = 0.0\n",
        "  epoch_valid_accuracy = 0.0\n",
        "\n",
        "  for valid_data, valid_target in valid_loader:\n",
        "    if torch.cuda.is_available():\n",
        "      valid_data = valid_data.to(\"cuda\")\n",
        "      valid_target = valid_target.to(\"cuda\")\n",
        "\n",
        "    output = conv_model2(valid_data)\n",
        "    epoch_valid_loss += conv_model2_loss(output, valid_target).item()\n",
        "    epoch_valid_accuracy += conv_model2_accuracy(output, valid_target).item()\n",
        "      \n",
        "  epoch_valid_loss = epoch_valid_loss / len(valid_loader)\n",
        "  epoch_valid_accuracy = epoch_valid_accuracy / len(valid_loader)\n",
        "  valid_loss.append(epoch_valid_loss)\n",
        "  valid_acc.append(epoch_valid_accuracy)\n",
        "\n",
        "  print(\"Epoch: {}/{} - Train loss {:.6f} - Train Accuracy {:.6f} - Valid Loss {:.6f} - Valid Accuracy {:.6f}\".format(\n",
        "      epoch+21, epochs+20, epoch_train_loss, epoch_train_accuracy, epoch_valid_loss, epoch_valid_accuracy))\n"
      ],
      "metadata": {
        "colab": {
          "base_uri": "https://localhost:8080/"
        },
        "outputId": "ab285242-76a2-43fd-916d-63301bdd118c",
        "id": "E9Sl0cXBWq2m"
      },
      "execution_count": null,
      "outputs": [
        {
          "output_type": "stream",
          "name": "stdout",
          "text": [
            "Epoch: 21/50 - Train loss 0.310701 - Train Accuracy 0.894814 - Valid Loss 0.767906 - Valid Accuracy 0.771466\n",
            "Epoch: 22/50 - Train loss 0.302708 - Train Accuracy 0.896793 - Valid Loss 0.746092 - Valid Accuracy 0.774661\n",
            "Epoch: 23/50 - Train loss 0.298404 - Train Accuracy 0.898393 - Valid Loss 0.773204 - Valid Accuracy 0.779752\n",
            "Epoch: 24/50 - Train loss 0.293526 - Train Accuracy 0.899632 - Valid Loss 0.768882 - Valid Accuracy 0.776458\n",
            "Epoch: 25/50 - Train loss 0.289187 - Train Accuracy 0.901771 - Valid Loss 0.771726 - Valid Accuracy 0.776857\n",
            "Epoch: 26/50 - Train loss 0.285584 - Train Accuracy 0.902711 - Valid Loss 0.819797 - Valid Accuracy 0.770667\n",
            "Epoch: 27/50 - Train loss 0.283720 - Train Accuracy 0.903951 - Valid Loss 0.782542 - Valid Accuracy 0.778854\n",
            "Epoch: 28/50 - Train loss 0.281407 - Train Accuracy 0.905390 - Valid Loss 0.806905 - Valid Accuracy 0.774960\n",
            "Epoch: 29/50 - Train loss 0.272726 - Train Accuracy 0.907110 - Valid Loss 0.846303 - Valid Accuracy 0.775260\n",
            "Epoch: 30/50 - Train loss 0.267797 - Train Accuracy 0.907470 - Valid Loss 0.825173 - Valid Accuracy 0.782049\n",
            "Epoch: 31/50 - Train loss 0.266617 - Train Accuracy 0.909549 - Valid Loss 0.829064 - Valid Accuracy 0.772564\n",
            "Epoch: 32/50 - Train loss 0.267414 - Train Accuracy 0.908789 - Valid Loss 0.825335 - Valid Accuracy 0.777356\n",
            "Epoch: 33/50 - Train loss 0.261258 - Train Accuracy 0.912208 - Valid Loss 0.837023 - Valid Accuracy 0.777756\n",
            "Epoch: 34/50 - Train loss 0.258149 - Train Accuracy 0.911928 - Valid Loss 0.806529 - Valid Accuracy 0.772764\n",
            "Epoch: 35/50 - Train loss 0.252477 - Train Accuracy 0.914147 - Valid Loss 0.859037 - Valid Accuracy 0.777756\n",
            "Epoch: 36/50 - Train loss 0.248627 - Train Accuracy 0.915287 - Valid Loss 0.812522 - Valid Accuracy 0.780950\n",
            "Epoch: 37/50 - Train loss 0.258361 - Train Accuracy 0.913588 - Valid Loss 0.851462 - Valid Accuracy 0.768071\n",
            "Epoch: 38/50 - Train loss 0.252871 - Train Accuracy 0.914547 - Valid Loss 0.813533 - Valid Accuracy 0.778854\n",
            "Epoch: 39/50 - Train loss 0.240476 - Train Accuracy 0.919106 - Valid Loss 0.854470 - Valid Accuracy 0.774361\n",
            "Epoch: 40/50 - Train loss 0.248481 - Train Accuracy 0.916247 - Valid Loss 0.837161 - Valid Accuracy 0.778355\n",
            "Epoch: 41/50 - Train loss 0.242436 - Train Accuracy 0.918466 - Valid Loss 0.952404 - Valid Accuracy 0.770268\n",
            "Epoch: 42/50 - Train loss 0.236559 - Train Accuracy 0.920765 - Valid Loss 0.829491 - Valid Accuracy 0.781649\n",
            "Epoch: 43/50 - Train loss 0.236202 - Train Accuracy 0.920545 - Valid Loss 0.893590 - Valid Accuracy 0.774760\n",
            "Epoch: 44/50 - Train loss 0.235468 - Train Accuracy 0.920925 - Valid Loss 0.851583 - Valid Accuracy 0.778854\n",
            "Epoch: 45/50 - Train loss 0.236622 - Train Accuracy 0.920445 - Valid Loss 0.822782 - Valid Accuracy 0.786542\n",
            "Epoch: 46/50 - Train loss 0.227897 - Train Accuracy 0.923764 - Valid Loss 0.876069 - Valid Accuracy 0.775759\n",
            "Epoch: 47/50 - Train loss 0.229964 - Train Accuracy 0.924204 - Valid Loss 0.826259 - Valid Accuracy 0.783946\n",
            "Epoch: 48/50 - Train loss 0.226160 - Train Accuracy 0.925904 - Valid Loss 0.805091 - Valid Accuracy 0.778954\n",
            "Epoch: 49/50 - Train loss 0.223704 - Train Accuracy 0.925704 - Valid Loss 0.895658 - Valid Accuracy 0.773962\n",
            "Epoch: 50/50 - Train loss 0.227877 - Train Accuracy 0.923804 - Valid Loss 0.864555 - Valid Accuracy 0.782348\n"
          ]
        }
      ]
    },
    {
      "cell_type": "code",
      "source": [
        "torch.save(conv_model2.state_dict(), \"/content/drive/MyDrive/MODELO VPC2/ConTransformaciones2.pkl\")"
      ],
      "metadata": {
        "id": "asbXKEYipt62"
      },
      "execution_count": null,
      "outputs": []
    },
    {
      "cell_type": "code",
      "source": [
        "fig, axs = plt.subplots(2, 1, figsize=(15,15))\n",
        "\n",
        "axs[0].plot(train_loss[1:]) \n",
        "axs[0].plot(valid_loss[1:]) \n",
        "axs[0].title.set_text('Error de Entrenamiento vs Validación') \n",
        "axs[0].legend(['Train', 'Valid'])  \n",
        "\n",
        "axs[1].plot(train_acc) \n",
        "axs[1].plot(valid_acc) \n",
        "axs[1].title.set_text('Accuracy de Entrenamiento vs Validación') \n",
        "axs[1].legend(['Train', 'Valid'])"
      ],
      "metadata": {
        "colab": {
          "base_uri": "https://localhost:8080/",
          "height": 896
        },
        "outputId": "2a738664-fb0c-4cdb-eb82-e237e2d8ca46",
        "id": "pa6E6mqZWq2l"
      },
      "execution_count": null,
      "outputs": [
        {
          "output_type": "execute_result",
          "data": {
            "text/plain": [
              "<matplotlib.legend.Legend at 0x7fd3107e0a10>"
            ]
          },
          "metadata": {},
          "execution_count": 17
        },
        {
          "output_type": "display_data",
          "data": {
            "text/plain": [
              "<Figure size 1080x1080 with 2 Axes>"
            ],
            "image/png": "[encoded data removed]"
          },
          "metadata": {
            "needs_background": "light"
          }
        }
      ]
    },
    {
      "cell_type": "markdown",
      "source": [
        "#Conclusiones"
      ],
      "metadata": {
        "id": "oECsIY_83xD2"
      }
    },
    {
      "cell_type": "markdown",
      "source": [
        "el ritmo de mejora es mas lento porque con data augmentation aprende caracteristica mas generales y no se sobreentrena tan rapidamente ya que el dataset de train cambia en cada epoch"
      ],
      "metadata": {
        "id": "TiHh33RTwwPN"
      }
    }
  ]
}