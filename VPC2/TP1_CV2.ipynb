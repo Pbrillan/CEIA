{
  "nbformat": 4,
  "nbformat_minor": 0,
  "metadata": {
    "colab": {
      "name": "TP1 CV2.ipynb",
      "provenance": [],
      "collapsed_sections": [],
      "include_colab_link": true
    },
    "kernelspec": {
      "name": "python3",
      "display_name": "Python 3"
    },
    "language_info": {
      "name": "python"
    }
  },
  "cells": [
    {
      "cell_type": "markdown",
      "metadata": {
        "id": "view-in-github",
        "colab_type": "text"
      },
      "source": [
        "<a href=\"https://colab.research.google.com/github/Pbrillan/CEIA/blob/main/VPC2/TP1_CV2.ipynb\" target=\"_parent\"><img src=\"https://colab.research.google.com/assets/colab-badge.svg\" alt=\"Open In Colab\"/></a>"
      ]
    },
    {
      "cell_type": "code",
      "source": [
        "import numpy as np"
      ],
      "metadata": {
        "id": "XBTyWqubJk74"
      },
      "execution_count": null,
      "outputs": []
    },
    {
      "cell_type": "code",
      "source": [
        "def zero_padding( X, pad):\n",
        "  X_padded = np.pad(X, ((0,0), (0,0), (pad, pad), (pad, pad)), mode='constant', constant_values = (0,0))\n",
        "  return X_padded\n",
        "def convolve( X, W, b):\n",
        "  # Multiplico elemento a elemento el valor de entrada con los pesos del filtro\n",
        "  aux = X * W\n",
        "  # Realizo la suma de todos los elementos\n",
        "  aux = np.sum(aux)\n",
        "  # Le sumo el valor del bias para obtener Z\n",
        "  Z = aux + float(b)\n",
        "  return Z"
      ],
      "metadata": {
        "id": "0hHciCjURkre"
      },
      "execution_count": null,
      "outputs": []
    },
    {
      "cell_type": "code",
      "source": [
        "class conv2dim:\n",
        "  def __init__(self):\n",
        "    self.model = 1\n",
        "\n",
        "  def conv_forward(self,layer_input, W, b, stride, padding):\n",
        "    # Obtengo las dimensiones de la entrada\n",
        "    (batch_size, n_C_prev, n_H_prev, n_W_prev) = layer_input.shape\n",
        "\n",
        "    # Obtengo las dimensiones de los filtros\n",
        "    (n_C, n_C_prev, filter_size, filter_size) = W.shape\n",
        "\n",
        "    # Obtengo el Padding\n",
        "    if (padding == 'SAME'):\n",
        "      padding = int(((stride-1) * n_H_prev - stride + n_C)/2)\n",
        "    elif (padding == 'VALID'):\n",
        "      padding = 0\n",
        "\n",
        "    # Calculo las dimensiones del volumen de salida de la capa actual\n",
        "    n_H = int((n_H_prev + 2*padding - filter_size)/stride + 1)\n",
        "    n_W = int((n_W_prev + 2*padding - filter_size)/stride + 1)\n",
        "\n",
        "    # Inicializo el volumen de salida con ceros\n",
        "    Z = np.zeros([batch_size, n_C, n_H, n_W])\n",
        "\n",
        "    # Agrego padding con ceros al volumen de entrada\n",
        "    layer_input_padded = zero_padding(layer_input, padding)\n",
        "\n",
        "    # Comienzo iterando sobre cada ejemplo del batch\n",
        "    for i in range(batch_size):\n",
        "\n",
        "      # Itero sobre el eje vertical del volumen de salida\n",
        "      for h in range(n_H):\n",
        "        # Calculo las coordenadas verticales de inicio y fin de la ventana sobre la que aplicaremos el filtro\n",
        "        y_start = stride * h\n",
        "        y_end = y_start + filter_size\n",
        "\n",
        "        # Itero sobre el eje horizontal del volumen de salida\n",
        "        for w in range(n_W):\n",
        "          # Calculo las coordenadas horizontales de inicio y fin de la ventana sobre la que aplicaremos el filtro\n",
        "          x_start = stride * w\n",
        "          x_end = x_start + filter_size\n",
        "\n",
        "          # Extraigo la ventana para calcular la convolucion, del volumen de entrada con padding\n",
        "          slice_from_input_padded = layer_input_padded[i, :, y_start:y_end, x_start:x_end]\n",
        "          \n",
        "          # Itero sobre la cantidad de canales del volumen de salida\n",
        "          for c in range(n_C):\n",
        "\n",
        "            # Obtengo el valor del filtro y bias del canal correspondiente\n",
        "            filter = W[c, :, :, :]\n",
        "            bias = b[c]\n",
        "\n",
        "            # Computo la operación de convolución para esta ventana\n",
        "            Z[i, c, h, w] = convolve(slice_from_input_padded, filter, bias)\n",
        "    \n",
        "    return Z\n",
        "\n",
        "  def conv_backward(self, dLdO, layer_input, W, b, stride, padding):\n",
        "\n",
        "    # Obtengo las dimensiones de la entrada\n",
        "    (batch_size, n_C_prev, n_H_prev, n_W_prev) = layer_input.shape\n",
        "\n",
        "    # Obtengo las dimensiones de los filtros\n",
        "    (n_C, n_C_prev, filter_size, filter_size) = W.shape\n",
        "\n",
        "    # Obtengo el Padding \n",
        "    if (padding == 'SAME'):\n",
        "      padding = int(((stride-1) * n_H_prev - stride + n_C)/2)\n",
        "    elif (padding == 'VALID'):\n",
        "      padding = 0\n",
        "    \n",
        "    # Calculo las dimensiones del volumen de salida de la capa actual\n",
        "    n_H = int((n_H_prev + 2*padding - filter_size)/stride + 1)\n",
        "    n_W = int((n_W_prev + 2*padding - filter_size)/stride + 1)\n",
        "\n",
        "    # Inicializo el volumen de salida con ceros\n",
        "    dLdF = np.zeros([batch_size, n_C, n_H, n_W])\n",
        "    dLdX = np.zeros([batch_size, n_C, n_H, n_W])\n",
        "\n",
        "\n",
        "    # Agrego padding con ceros al volumen de entrada\n",
        "    layer_input_padded = zero_padding(layer_input, padding)\n",
        "\n",
        "    # Comienzo iterando sobre cada ejemplo del batch\n",
        "    for i in range(batch_size):\n",
        "\n",
        "      # Itero sobre el eje vertical del volumen de salida\n",
        "      for h in range(n_H):\n",
        "        # Calculo las coordenadas verticales de inicio y fin de la ventana sobre la que aplicaremos el filtro\n",
        "        y_start = stride * h\n",
        "        y_end = y_start + filter_size\n",
        "\n",
        "        # Itero sobre el eje horizontal del volumen de salida\n",
        "        for w in range(n_W):\n",
        "          # Calculo las coordenadas horizontales de inicio y fin de la ventana sobre la que aplicaremos el filtro\n",
        "          x_start = stride * w\n",
        "          x_end = x_start + filter_size\n",
        "\n",
        "          # Extraigo la ventana para calcular la convolucion, del volumen de entrada con padding\n",
        "          slice_from_input_padded = layer_input_padded[i, :, y_start:y_end, x_start:x_end]\n",
        "          \n",
        "          # Itero sobre la cantidad de canales \n",
        "          for c in range(n_C):\n",
        "            # Obtengo el valor del filtro y bias del canal correspondiente\n",
        "            bias = b[c]\n",
        "            filter = np.flip(W[c, :, :, :])\n",
        "\n",
        "            # Computo la operación de convolución para esta ventana\n",
        "            dLdX[i, c, :, :] = convolve(dLdO, filter, bias)\n",
        "            dLdF[i, c, h, w] = convolve(slice_from_input_padded, dLdO, bias)\n",
        "    \n",
        "    return dLdX, dLdF"
      ],
      "metadata": {
        "id": "Ab-OZ9R0BQ0Y"
      },
      "execution_count": null,
      "outputs": []
    },
    {
      "cell_type": "code",
      "source": [
        "# Dimensiones entrada\n",
        "batch_size = 1\n",
        "input_height, input_width = (7, 7)\n",
        "input_channels = 3\n",
        "\n",
        "# Dimensiones convolucional\n",
        "filters = 3\n",
        "filter_size = 3\n",
        "stride = 1\n",
        "padding = \"SAME\"\n",
        "\n",
        "# Variables prueba\n",
        "test_array = np.random.randn(batch_size, input_channels, input_height, input_width)\n",
        "W = np.random.randn(filters, input_channels, filter_size, filter_size)\n",
        "b = np.random.randn(filters)\n",
        "modelo2 = conv2dim()\n",
        "Z = modelo2.conv_forward(test_array,W,b,stride,padding)\n",
        "dz = np.random.randn(input_channels, filter_size, filter_size)\n",
        "d1,d2 = modelo2.conv_backward(dz, test_array,W,b,stride,padding)"
      ],
      "metadata": {
        "id": "y-MJTA0eNURq"
      },
      "execution_count": null,
      "outputs": []
    },
    {
      "cell_type": "code",
      "source": [
        "import torch"
      ],
      "metadata": {
        "id": "LVcCbO9MSNO2"
      },
      "execution_count": null,
      "outputs": []
    },
    {
      "cell_type": "code",
      "source": [
        "  class ConvModel(torch.nn.Module):\n",
        "    def __init__(self):\n",
        "        super().__init__()\n",
        "        self.conv1 = torch.nn.Conv2d(in_channels=input_channels, out_channels=filters, kernel_size=filter_size, stride=stride, padding='same')\n",
        "    def forward(self, x):\n",
        "        x = self.conv1(x)\n",
        "        return x\n",
        "\n",
        "    def backward(self, grad_output,x):\n",
        "        fctDataIn = x\n",
        "        fctWeight = self.wehigt\n",
        "        tmpDataVar = torch.autograd.Variable(fctDataIn, requires_grad=True)\n",
        "        tmpWeightParam = torch.nn.Parameter(fctWeight)\n",
        "        tmpLin = torch.nn.Linear(3, 2, bias=False)\n",
        "        tmpLin.weight = tmpWeightParam\n",
        "        tmpLin.zero_grad()\n",
        "        print(tmpDataVar.data)\n",
        "        print(tmpWeightParam.data)\n",
        "        print(grad_output)\n",
        "        print(\"still here...\")\n",
        "        tmpLin(tmpDataVar).backward(grad_output)\n",
        "        print(\"cannot reach this :( \")\n",
        "        grad_fctDataIn = tmpDataVar.grad.data\n",
        "        grad_fctWeight = tmpWeightParam.grad.data\n",
        "        print(grad_fctDataIn)\n",
        "        print(grad_fctWeight)\n",
        "        return grad_fctDataIn, grad_fctWeight\n",
        "\n",
        "conv_model = ConvModel()"
      ],
      "metadata": {
        "id": "1JA0q9juZqM_"
      },
      "execution_count": null,
      "outputs": []
    },
    {
      "cell_type": "code",
      "source": [
        "test_array_tens = torch.tensor(test_array)\n",
        "test_array_tens.double()\n",
        "conv_model.double()\n",
        "Z1  = conv_model.forward(test_array_tens)\n",
        "#b11, b21 = conv_model.backward(dz,test_array_tens)"
      ],
      "metadata": {
        "id": "M2mzF-Qua9PJ"
      },
      "execution_count": null,
      "outputs": []
    },
    {
      "cell_type": "code",
      "source": [
        "print(Z)\n"
      ],
      "metadata": {
        "colab": {
          "base_uri": "https://localhost:8080/"
        },
        "id": "z1MsxausXjuF",
        "outputId": "0f434229-01b4-4f1f-c19b-be6b42a2fdfa"
      },
      "execution_count": null,
      "outputs": [
        {
          "output_type": "stream",
          "name": "stdout",
          "text": [
            "[[[[ -2.37272439   8.70074869  -7.18105581   5.00889894  -1.04964233\n",
            "      4.70563319   1.29886583]\n",
            "   [ -3.798321     2.52105151  -3.74691909  -5.96784089   6.02131839\n",
            "      4.48862425   4.8954502 ]\n",
            "   [  5.00200291   3.18249855  -3.54149561   5.28815761   4.9268814\n",
            "      5.20344825   5.8034309 ]\n",
            "   [  2.50119273  -2.66621929   1.50004096  -4.40481949   1.99248\n",
            "     -6.39947818   2.57671241]\n",
            "   [ -5.48584919   3.80173102   1.50355873  -7.02590746  -4.53332348\n",
            "      7.49533822   0.41664838]\n",
            "   [ -0.30983235   6.38702203   0.17933682   3.26426505   3.97767399\n",
            "     -0.51790013  -0.34364156]\n",
            "   [  3.71631108  -3.79373065   2.5906836   -3.07530253   0.83906988\n",
            "     -0.31053662  -3.97010228]]\n",
            "\n",
            "  [[  1.48513016  -3.95285242   2.55785024  -5.06374242   5.54150008\n",
            "      7.59619261   5.09861065]\n",
            "   [  0.1827405   12.96660826  -0.66673958   0.89610376  -1.06026548\n",
            "     12.22967283   6.10859329]\n",
            "   [  1.52808173  -8.09462511  -1.57938923 -10.60319861  -9.16921094\n",
            "     -3.98773579   0.31175636]\n",
            "   [  4.60421271  -1.44621928  -3.85271474  12.50163841  -3.46415444\n",
            "      8.51816515   7.91531191]\n",
            "   [  5.18616505   3.01640435   9.88790545  -3.38755149  -3.44802744\n",
            "     -5.54687155   3.59914343]\n",
            "   [  0.03216263  -2.07869984   6.23292399   2.90132163   0.37377617\n",
            "     11.91155739   2.97236096]\n",
            "   [  0.20569587  11.55659371   0.07674027   6.17321494   1.40832947\n",
            "      0.16562338   4.36365337]]\n",
            "\n",
            "  [[  0.59893039  -4.47941622   6.69640922  -3.5936914   -1.76791684\n",
            "      0.77508959   0.98816101]\n",
            "   [  4.67293562   3.60924648   3.41461871   3.83312969  -4.55455329\n",
            "     -2.91889332  -4.4622429 ]\n",
            "   [  4.38944374  -7.08089929   2.71967359   0.28159108   2.43205894\n",
            "     -6.46577267  -0.44250548]\n",
            "   [  1.5152121   -4.1013425    4.20420989   5.45334822  -6.71321394\n",
            "     -2.0126652   -1.17740941]\n",
            "   [ -2.19499905   2.51411617  -0.51836298  -4.05639426  -3.98797749\n",
            "      5.66790001  -4.57118888]\n",
            "   [  5.52562035  -2.66934947   3.47222384   2.85493842  -0.67218843\n",
            "     14.02126373   7.62041204]\n",
            "   [ -0.85428063  -1.28575471  -3.2563389    5.02486226  -4.74303493\n",
            "     -2.36131109  -3.23162271]]]]\n"
          ]
        }
      ]
    },
    {
      "cell_type": "code",
      "source": [
        "print(Z1)"
      ],
      "metadata": {
        "colab": {
          "base_uri": "https://localhost:8080/"
        },
        "id": "a_vq4EaIX5Sj",
        "outputId": "e1b82d56-1d30-4b80-edc9-ed5926b5e789"
      },
      "execution_count": null,
      "outputs": [
        {
          "output_type": "stream",
          "name": "stdout",
          "text": [
            "tensor([[[[ -2.3727,   8.7007,  -7.1811,   5.0089,  -1.0496,   4.7056,   1.2989],\n",
            "          [ -3.7983,   2.5211,  -3.7469,  -5.9678,   6.0213,   4.4886,   4.8955],\n",
            "          [  5.0020,   3.1825,  -3.5415,   5.2882,   4.9269,   5.2034,   5.8034],\n",
            "          [  2.5012,  -2.6662,   1.5000,  -4.4048,   1.9925,  -6.3995,   2.5767],\n",
            "          [ -5.4858,   3.8017,   1.5036,  -7.0259,  -4.5333,   7.4953,   0.4166],\n",
            "          [ -0.3098,   6.3870,   0.1793,   3.2643,   3.9777,  -0.5179,  -0.3436],\n",
            "          [  3.7163,  -3.7937,   2.5907,  -3.0753,   0.8391,  -0.3105,  -3.9701]],\n",
            "\n",
            "         [[  1.4851,  -3.9529,   2.5579,  -5.0637,   5.5415,   7.5962,   5.0986],\n",
            "          [  0.1827,  12.9666,  -0.6667,   0.8961,  -1.0603,  12.2297,   6.1086],\n",
            "          [  1.5281,  -8.0946,  -1.5794, -10.6032,  -9.1692,  -3.9877,   0.3118],\n",
            "          [  4.6042,  -1.4462,  -3.8527,  12.5016,  -3.4642,   8.5182,   7.9153],\n",
            "          [  5.1862,   3.0164,   9.8879,  -3.3876,  -3.4480,  -5.5469,   3.5991],\n",
            "          [  0.0322,  -2.0787,   6.2329,   2.9013,   0.3738,  11.9116,   2.9724],\n",
            "          [  0.2057,  11.5566,   0.0767,   6.1732,   1.4083,   0.1656,   4.3637]],\n",
            "\n",
            "         [[  0.5989,  -4.4794,   6.6964,  -3.5937,  -1.7679,   0.7751,   0.9882],\n",
            "          [  4.6729,   3.6092,   3.4146,   3.8331,  -4.5546,  -2.9189,  -4.4622],\n",
            "          [  4.3894,  -7.0809,   2.7197,   0.2816,   2.4321,  -6.4658,  -0.4425],\n",
            "          [  1.5152,  -4.1013,   4.2042,   5.4533,  -6.7132,  -2.0127,  -1.1774],\n",
            "          [ -2.1950,   2.5141,  -0.5184,  -4.0564,  -3.9880,   5.6679,  -4.5712],\n",
            "          [  5.5256,  -2.6693,   3.4722,   2.8549,  -0.6722,  14.0213,   7.6204],\n",
            "          [ -0.8543,  -1.2858,  -3.2563,   5.0249,  -4.7430,  -2.3613,  -3.2316]]]],\n",
            "       dtype=torch.float64)\n"
          ]
        }
      ]
    },
    {
      "cell_type": "code",
      "source": [
        "\n",
        "#Z1 = modelo3.forward(torch.tensor(test_array))\n",
        "#d11,d21 = modelo2.backward(dz,test_array)"
      ],
      "metadata": {
        "id": "CF1tWf9cV0RD"
      },
      "execution_count": 1,
      "outputs": []
    }
  ]
}