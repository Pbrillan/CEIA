{
  "nbformat": 4,
  "nbformat_minor": 0,
  "metadata": {
    "colab": {
      "name": "Pbrillan 4d - predicción_palabra.ipynb",
      "provenance": [],
      "collapsed_sections": [
        "Iv5PEwGzZA9-"
      ],
      "include_colab_link": true
    },
    "kernelspec": {
      "name": "python3",
      "display_name": "Python 3"
    },
    "language_info": {
      "name": "python"
    },
    "accelerator": "GPU"
  },
  "cells": [
    {
      "cell_type": "markdown",
      "metadata": {
        "id": "view-in-github",
        "colab_type": "text"
      },
      "source": [
        "<a href=\"https://colab.research.google.com/github/Pbrillan/CEIA/blob/main/NLP/Pbrillan_4d_predicci%C3%B3n_palabra.ipynb\" target=\"_parent\"><img src=\"https://colab.research.google.com/assets/colab-badge.svg\" alt=\"Open In Colab\"/></a>"
      ]
    },
    {
      "cell_type": "markdown",
      "metadata": {
        "id": "g3yeJGnCYxuF"
      },
      "source": [
        "<img src=\"https://github.com/hernancontigiani/ceia_memorias_especializacion/raw/master/Figures/logoFIUBA.jpg\" width=\"500\" align=\"center\">\n",
        "\n",
        "\n",
        "# Procesamiento de lenguaje natural\n",
        "## Predicción de próxima palabra"
      ]
    },
    {
      "cell_type": "markdown",
      "metadata": {
        "id": "Iv5PEwGzZA9-"
      },
      "source": [
        "### Objetivo\n",
        "El objetivo es utilizar documentos / corpus para crear embeddings de palabras basado en ese contexto utilizando la layer Embedding de Keras. Se utilizará esos embeddings junto con layers LSTM para predeccir la próxima posible palabra."
      ]
    },
    {
      "cell_type": "code",
      "metadata": {
        "id": "Y-QdFbHZYj7C"
      },
      "source": [
        "import random\n",
        "import io\n",
        "import pickle\n",
        "\n",
        "import numpy as np\n",
        "import pandas as pd\n",
        "\n",
        "from tensorflow import keras\n",
        "from tensorflow.keras import layers\n",
        "from keras.utils.np_utils import to_categorical\n",
        "from keras.models import Sequential\n",
        "from keras.layers import Dense, LSTM, Embedding, Dropout"
      ],
      "execution_count": 1,
      "outputs": []
    },
    {
      "cell_type": "markdown",
      "metadata": {
        "id": "xTvXlEKQZdqx"
      },
      "source": [
        "### Datos\n",
        "Utilizaremos como dataset canciones de bandas de habla inglés."
      ]
    },
    {
      "cell_type": "markdown",
      "source": [
        "https://www.kaggle.com/datasets/deepcontractor/200k-short-texts-for-humor-detection"
      ],
      "metadata": {
        "id": "4qjgRAbJzjha"
      }
    },
    {
      "cell_type": "code",
      "source": [
        "from google.colab import files\n",
        "uploaded = files.upload()\n",
        "for fn in uploaded.keys():\n",
        "  print('User uploaded file \"{name}\" with length {length} bytes'.format(\n",
        "      name=fn, length=len(uploaded[fn])))"
      ],
      "metadata": {
        "colab": {
          "resources": {
            "http://localhost:8080/nbextensions/google.colab/files.js": {
              "data": "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",
              "ok": true,
              "headers": [
                [
                  "content-type",
                  "application/javascript"
                ]
              ],
              "status": 200,
              "status_text": ""
            }
          },
          "base_uri": "https://localhost:8080/",
          "height": 90
        },
        "id": "c_TumebLzjHc",
        "outputId": "15c8ba7f-0420-4523-81d9-7982c58120b8"
      },
      "execution_count": 2,
      "outputs": [
        {
          "output_type": "display_data",
          "data": {
            "text/plain": [
              "<IPython.core.display.HTML object>"
            ],
            "text/html": [
              "\n",
              "     <input type=\"file\" id=\"files-b69a056b-6a0f-437f-8200-b221f77df59f\" name=\"files[]\" multiple disabled\n",
              "        style=\"border:none\" />\n",
              "     <output id=\"result-b69a056b-6a0f-437f-8200-b221f77df59f\">\n",
              "      Upload widget is only available when the cell has been executed in the\n",
              "      current browser session. Please rerun this cell to enable.\n",
              "      </output>\n",
              "      <script src=\"/nbextensions/google.colab/files.js\"></script> "
            ]
          },
          "metadata": {}
        },
        {
          "output_type": "stream",
          "name": "stdout",
          "text": [
            "Saving dataset.csv to dataset.csv\n",
            "User uploaded file \"dataset.csv\" with length 39764 bytes\n"
          ]
        }
      ]
    },
    {
      "cell_type": "code",
      "source": [
        "df = pd.read_csv('dataset.csv')\n",
        "df = df.drop(['humor'],axis=1)\n",
        "df = df.rename(columns={'text':'0'})\n",
        "df.head()"
      ],
      "metadata": {
        "colab": {
          "base_uri": "https://localhost:8080/",
          "height": 206
        },
        "id": "Y9aJbcp20D3u",
        "outputId": "53f15356-09e6-4d90-9cc2-07a8e408270a"
      },
      "execution_count": 3,
      "outputs": [
        {
          "output_type": "execute_result",
          "data": {
            "text/plain": [
              "                                                   0\n",
              "0  Joe biden rules out 2020 bid: 'guys, i'm not r...\n",
              "1  Watch: darvish gave hitter whiplash with slow ...\n",
              "2  What do you call a turtle without its shell? d...\n",
              "3      5 reasons the 2016 election feels so personal\n",
              "4  Pasco police shot mexican migrant from behind,..."
            ],
            "text/html": [
              "\n",
              "  <div id=\"df-ce73c06e-d1ef-4550-b393-575ff718ee96\">\n",
              "    <div class=\"colab-df-container\">\n",
              "      <div>\n",
              "<style scoped>\n",
              "    .dataframe tbody tr th:only-of-type {\n",
              "        vertical-align: middle;\n",
              "    }\n",
              "\n",
              "    .dataframe tbody tr th {\n",
              "        vertical-align: top;\n",
              "    }\n",
              "\n",
              "    .dataframe thead th {\n",
              "        text-align: right;\n",
              "    }\n",
              "</style>\n",
              "<table border=\"1\" class=\"dataframe\">\n",
              "  <thead>\n",
              "    <tr style=\"text-align: right;\">\n",
              "      <th></th>\n",
              "      <th>0</th>\n",
              "    </tr>\n",
              "  </thead>\n",
              "  <tbody>\n",
              "    <tr>\n",
              "      <th>0</th>\n",
              "      <td>Joe biden rules out 2020 bid: 'guys, i'm not r...</td>\n",
              "    </tr>\n",
              "    <tr>\n",
              "      <th>1</th>\n",
              "      <td>Watch: darvish gave hitter whiplash with slow ...</td>\n",
              "    </tr>\n",
              "    <tr>\n",
              "      <th>2</th>\n",
              "      <td>What do you call a turtle without its shell? d...</td>\n",
              "    </tr>\n",
              "    <tr>\n",
              "      <th>3</th>\n",
              "      <td>5 reasons the 2016 election feels so personal</td>\n",
              "    </tr>\n",
              "    <tr>\n",
              "      <th>4</th>\n",
              "      <td>Pasco police shot mexican migrant from behind,...</td>\n",
              "    </tr>\n",
              "  </tbody>\n",
              "</table>\n",
              "</div>\n",
              "      <button class=\"colab-df-convert\" onclick=\"convertToInteractive('df-ce73c06e-d1ef-4550-b393-575ff718ee96')\"\n",
              "              title=\"Convert this dataframe to an interactive table.\"\n",
              "              style=\"display:none;\">\n",
              "        \n",
              "  <svg xmlns=\"http://www.w3.org/2000/svg\" height=\"24px\"viewBox=\"0 0 24 24\"\n",
              "       width=\"24px\">\n",
              "    <path d=\"M0 0h24v24H0V0z\" fill=\"none\"/>\n",
              "    <path d=\"M18.56 5.44l.94 2.06.94-2.06 2.06-.94-2.06-.94-.94-2.06-.94 2.06-2.06.94zm-11 1L8.5 8.5l.94-2.06 2.06-.94-2.06-.94L8.5 2.5l-.94 2.06-2.06.94zm10 10l.94 2.06.94-2.06 2.06-.94-2.06-.94-.94-2.06-.94 2.06-2.06.94z\"/><path d=\"M17.41 7.96l-1.37-1.37c-.4-.4-.92-.59-1.43-.59-.52 0-1.04.2-1.43.59L10.3 9.45l-7.72 7.72c-.78.78-.78 2.05 0 2.83L4 21.41c.39.39.9.59 1.41.59.51 0 1.02-.2 1.41-.59l7.78-7.78 2.81-2.81c.8-.78.8-2.07 0-2.86zM5.41 20L4 18.59l7.72-7.72 1.47 1.35L5.41 20z\"/>\n",
              "  </svg>\n",
              "      </button>\n",
              "      \n",
              "  <style>\n",
              "    .colab-df-container {\n",
              "      display:flex;\n",
              "      flex-wrap:wrap;\n",
              "      gap: 12px;\n",
              "    }\n",
              "\n",
              "    .colab-df-convert {\n",
              "      background-color: #E8F0FE;\n",
              "      border: none;\n",
              "      border-radius: 50%;\n",
              "      cursor: pointer;\n",
              "      display: none;\n",
              "      fill: #1967D2;\n",
              "      height: 32px;\n",
              "      padding: 0 0 0 0;\n",
              "      width: 32px;\n",
              "    }\n",
              "\n",
              "    .colab-df-convert:hover {\n",
              "      background-color: #E2EBFA;\n",
              "      box-shadow: 0px 1px 2px rgba(60, 64, 67, 0.3), 0px 1px 3px 1px rgba(60, 64, 67, 0.15);\n",
              "      fill: #174EA6;\n",
              "    }\n",
              "\n",
              "    [theme=dark] .colab-df-convert {\n",
              "      background-color: #3B4455;\n",
              "      fill: #D2E3FC;\n",
              "    }\n",
              "\n",
              "    [theme=dark] .colab-df-convert:hover {\n",
              "      background-color: #434B5C;\n",
              "      box-shadow: 0px 1px 3px 1px rgba(0, 0, 0, 0.15);\n",
              "      filter: drop-shadow(0px 1px 2px rgba(0, 0, 0, 0.3));\n",
              "      fill: #FFFFFF;\n",
              "    }\n",
              "  </style>\n",
              "\n",
              "      <script>\n",
              "        const buttonEl =\n",
              "          document.querySelector('#df-ce73c06e-d1ef-4550-b393-575ff718ee96 button.colab-df-convert');\n",
              "        buttonEl.style.display =\n",
              "          google.colab.kernel.accessAllowed ? 'block' : 'none';\n",
              "\n",
              "        async function convertToInteractive(key) {\n",
              "          const element = document.querySelector('#df-ce73c06e-d1ef-4550-b393-575ff718ee96');\n",
              "          const dataTable =\n",
              "            await google.colab.kernel.invokeFunction('convertToInteractive',\n",
              "                                                     [key], {});\n",
              "          if (!dataTable) return;\n",
              "\n",
              "          const docLinkHtml = 'Like what you see? Visit the ' +\n",
              "            '<a target=\"_blank\" href=https://colab.research.google.com/notebooks/data_table.ipynb>data table notebook</a>'\n",
              "            + ' to learn more about interactive tables.';\n",
              "          element.innerHTML = '';\n",
              "          dataTable['output_type'] = 'display_data';\n",
              "          await google.colab.output.renderOutput(dataTable, element);\n",
              "          const docLink = document.createElement('div');\n",
              "          docLink.innerHTML = docLinkHtml;\n",
              "          element.appendChild(docLink);\n",
              "        }\n",
              "      </script>\n",
              "    </div>\n",
              "  </div>\n",
              "  "
            ]
          },
          "metadata": {},
          "execution_count": 3
        }
      ]
    },
    {
      "cell_type": "code",
      "metadata": {
        "id": "riT898QlZnmF",
        "colab": {
          "base_uri": "https://localhost:8080/"
        },
        "outputId": "35f3538d-5b57-4c52-c838-a50ac1ce58fd"
      },
      "source": [
        "print(\"Cantidad de documentos:\", df.shape[0])"
      ],
      "execution_count": 4,
      "outputs": [
        {
          "output_type": "stream",
          "name": "stdout",
          "text": [
            "Cantidad de documentos: 542\n"
          ]
        }
      ]
    },
    {
      "cell_type": "markdown",
      "metadata": {
        "id": "RDoouHp7Zp6D"
      },
      "source": [
        "### 1 - Ejemplo de Preprocesamiento\n",
        "- Hay que transformar las oraciones en tokens.\n",
        "- Dichas oraciones hay que ajustarlas al tamaño fijo de nuestra sentencia de entrada al modelo.\n",
        "- Hay que separar las palabras objetivos (target) que el modelo debe predecir en cada sentencia armada."
      ]
    },
    {
      "cell_type": "code",
      "metadata": {
        "id": "m5FeTaGvbDbw"
      },
      "source": [
        "from keras.preprocessing.text import Tokenizer # equivalente a ltokenizer de nltk\n",
        "from keras.preprocessing.text import text_to_word_sequence # equivalente a word_teokenize de nltk\n",
        "from keras.preprocessing.sequence import pad_sequences # se utilizará para padding\n",
        "\n",
        "# largo de la secuencia, incluye seq input + word output\n",
        "train_len = 4"
      ],
      "execution_count": 5,
      "outputs": []
    },
    {
      "cell_type": "code",
      "metadata": {
        "id": "Zf3O7eK6ZpP8",
        "colab": {
          "base_uri": "https://localhost:8080/",
          "height": 35
        },
        "outputId": "ca7a04da-1cd7-49a1-a9f6-fc4f515c2361"
      },
      "source": [
        "# Ejemplo de como transformar una oración a tokens usando keras\n",
        "text = df.iloc[0,0]\n",
        "text"
      ],
      "execution_count": 6,
      "outputs": [
        {
          "output_type": "execute_result",
          "data": {
            "text/plain": [
              "\"Joe biden rules out 2020 bid: 'guys, i'm not running'\""
            ],
            "application/vnd.google.colaboratory.intrinsic+json": {
              "type": "string"
            }
          },
          "metadata": {},
          "execution_count": 6
        }
      ]
    },
    {
      "cell_type": "code",
      "metadata": {
        "id": "AOv67Sj7aeFH",
        "colab": {
          "base_uri": "https://localhost:8080/"
        },
        "outputId": "ae8a362c-5097-46e7-d112-ad4ead2bd794"
      },
      "source": [
        "tokens = text_to_word_sequence(text) # entran oraciones -> salen vectores de N posiciones (tokens)\n",
        "tokens"
      ],
      "execution_count": 7,
      "outputs": [
        {
          "output_type": "execute_result",
          "data": {
            "text/plain": [
              "['joe',\n",
              " 'biden',\n",
              " 'rules',\n",
              " 'out',\n",
              " '2020',\n",
              " 'bid',\n",
              " \"'guys\",\n",
              " \"i'm\",\n",
              " 'not',\n",
              " \"running'\"]"
            ]
          },
          "metadata": {},
          "execution_count": 7
        }
      ]
    },
    {
      "cell_type": "markdown",
      "metadata": {
        "id": "ZrlyqkoiaymK"
      },
      "source": [
        "1.1 - Transformar las oraciones en secuencias (tokens) de palabras"
      ]
    },
    {
      "cell_type": "code",
      "metadata": {
        "id": "XH_L14Wjaowe"
      },
      "source": [
        "# Recorrer todas las filas y transformar las oraciones\n",
        "# en secuencias de palabras\n",
        "sentence_tokens = []\n",
        "for _, row in df[:None].iterrows():\n",
        "    sentence_tokens.append(text_to_word_sequence(row[0]))"
      ],
      "execution_count": 8,
      "outputs": []
    },
    {
      "cell_type": "code",
      "metadata": {
        "id": "KASzU4CdaxbZ",
        "colab": {
          "base_uri": "https://localhost:8080/"
        },
        "outputId": "46acf652-d489-4d45-98c2-8e5a5a2ca471"
      },
      "source": [
        "# Demos un vistazo\n",
        "sentence_tokens[:2]"
      ],
      "execution_count": 9,
      "outputs": [
        {
          "output_type": "execute_result",
          "data": {
            "text/plain": [
              "[['joe',\n",
              "  'biden',\n",
              "  'rules',\n",
              "  'out',\n",
              "  '2020',\n",
              "  'bid',\n",
              "  \"'guys\",\n",
              "  \"i'm\",\n",
              "  'not',\n",
              "  \"running'\"],\n",
              " ['watch', 'darvish', 'gave', 'hitter', 'whiplash', 'with', 'slow', 'pitch']]"
            ]
          },
          "metadata": {},
          "execution_count": 9
        }
      ]
    },
    {
      "cell_type": "code",
      "metadata": {
        "id": "A659lswTbIIB"
      },
      "source": [
        "# Código para hacer el desfazaje de las palabras\n",
        "# según el train_len\n",
        "text_sequences = []\n",
        "\n",
        "for i in range(train_len, len(tokens)):\n",
        "  seq = tokens[i-train_len:i]\n",
        "  text_sequences.append(seq)"
      ],
      "execution_count": 10,
      "outputs": []
    },
    {
      "cell_type": "code",
      "metadata": {
        "id": "01JEoPPnbgRF",
        "colab": {
          "base_uri": "https://localhost:8080/"
        },
        "outputId": "cd387736-6ee4-4574-8363-a727c3afa7d8"
      },
      "source": [
        "# Demos un vistazo a nuestros vectores para entrenar el modelo\n",
        "text_sequences "
      ],
      "execution_count": 11,
      "outputs": [
        {
          "output_type": "execute_result",
          "data": {
            "text/plain": [
              "[['joe', 'biden', 'rules', 'out'],\n",
              " ['biden', 'rules', 'out', '2020'],\n",
              " ['rules', 'out', '2020', 'bid'],\n",
              " ['out', '2020', 'bid', \"'guys\"],\n",
              " ['2020', 'bid', \"'guys\", \"i'm\"],\n",
              " ['bid', \"'guys\", \"i'm\", 'not']]"
            ]
          },
          "metadata": {},
          "execution_count": 11
        }
      ]
    },
    {
      "cell_type": "markdown",
      "metadata": {
        "id": "4B0gHnKVa4W_"
      },
      "source": [
        "1.2 - Crear los vectores de palabras (word2vec)\n",
        "\n",
        "Ahora necesitamos pasarlos a números para que lo entienda la red y separar input de output.\n",
        "- El Input seran integers (word2vec)\n",
        "- Mientras que el output será one hot encodeado (labels) del tamaño del vocabulario"
      ]
    },
    {
      "cell_type": "code",
      "metadata": {
        "id": "fkPNvXeQcS0U"
      },
      "source": [
        "tok = Tokenizer() \n",
        "\n",
        "# El tokeinzer \"aprende\" las palabras que se usaran\n",
        "# Se construye (fit) una vez por proyecto, se aplica N veces (tal cual un encoder)\n",
        "tok.fit_on_texts(text_sequences) \n",
        "\n",
        "# Convertimos las palabras a números\n",
        "# entran palabras -> salen números\n",
        "sequences = tok.texts_to_sequences(text_sequences)"
      ],
      "execution_count": 12,
      "outputs": []
    },
    {
      "cell_type": "code",
      "metadata": {
        "id": "4SIc44IocyQb",
        "colab": {
          "base_uri": "https://localhost:8080/"
        },
        "outputId": "012d7eef-1f55-4d9d-c409-ba6750030e45"
      },
      "source": [
        "# Ahora sequences tiene los números \"ID\", largo 4\n",
        "sequences"
      ],
      "execution_count": 13,
      "outputs": [
        {
          "output_type": "execute_result",
          "data": {
            "text/plain": [
              "[[8, 6, 4, 1],\n",
              " [6, 4, 1, 2],\n",
              " [4, 1, 2, 3],\n",
              " [1, 2, 3, 5],\n",
              " [2, 3, 5, 7],\n",
              " [3, 5, 7, 9]]"
            ]
          },
          "metadata": {},
          "execution_count": 13
        }
      ]
    },
    {
      "cell_type": "code",
      "metadata": {
        "id": "3ro81yCQc1oX",
        "colab": {
          "base_uri": "https://localhost:8080/"
        },
        "outputId": "bd4b0f67-d592-4139-b798-26a103b0c4d6"
      },
      "source": [
        "# Cantidad de casos (doc) de entrada\n",
        "print(tok.document_count)"
      ],
      "execution_count": 14,
      "outputs": [
        {
          "output_type": "stream",
          "name": "stdout",
          "text": [
            "6\n"
          ]
        }
      ]
    },
    {
      "cell_type": "code",
      "metadata": {
        "id": "nzAWNfroc4u1",
        "colab": {
          "base_uri": "https://localhost:8080/"
        },
        "outputId": "632b0d25-0d30-45e4-f62e-7ddceb5d9e17"
      },
      "source": [
        "# Cantidad de veces que aparece cada palabra\n",
        "print(len(tok.word_counts))"
      ],
      "execution_count": 15,
      "outputs": [
        {
          "output_type": "stream",
          "name": "stdout",
          "text": [
            "9\n"
          ]
        }
      ]
    },
    {
      "cell_type": "code",
      "metadata": {
        "id": "spTBxmFQc6h8",
        "colab": {
          "base_uri": "https://localhost:8080/"
        },
        "outputId": "6c6c7f60-42b5-4d0e-f93e-2475e5cef017"
      },
      "source": [
        "# El índice para cada palabra\n",
        "# El sistema las ordena de las más populares a las menos populares\n",
        "print(tok.word_index)"
      ],
      "execution_count": 16,
      "outputs": [
        {
          "output_type": "stream",
          "name": "stdout",
          "text": [
            "{'out': 1, '2020': 2, 'bid': 3, 'rules': 4, \"'guys\": 5, 'biden': 6, \"i'm\": 7, 'joe': 8, 'not': 9}\n"
          ]
        }
      ]
    },
    {
      "cell_type": "code",
      "metadata": {
        "id": "nUDkjy80c77h",
        "colab": {
          "base_uri": "https://localhost:8080/"
        },
        "outputId": "d62191e6-1705-4cf7-bab5-3945b6fe1bb4"
      },
      "source": [
        "# Cantidad de veces quea aparece cada palabra en cada \"documento\"\n",
        "# (1 documento = 1 caso de entrada)\n",
        "print(tok.word_docs)"
      ],
      "execution_count": 17,
      "outputs": [
        {
          "output_type": "stream",
          "name": "stdout",
          "text": [
            "defaultdict(<class 'int'>, {'joe': 1, 'biden': 2, 'rules': 3, 'out': 4, '2020': 4, 'bid': 4, \"'guys\": 3, \"i'm\": 2, 'not': 1})\n"
          ]
        }
      ]
    },
    {
      "cell_type": "markdown",
      "metadata": {
        "id": "ohS5Tao1d2KB"
      },
      "source": [
        "### 2 - Preprocesamiento completo\n",
        "Debemos realizar los mismos pasos que en el ejemplo anterior, pero antes de eso debemos transformar ese dataset de filas de oraciones en un texto completo continuo para poder extraer el vocabulario."
      ]
    },
    {
      "cell_type": "code",
      "metadata": {
        "id": "63Z2-Se2t27r",
        "colab": {
          "base_uri": "https://localhost:8080/"
        },
        "outputId": "deccc082-86cd-4c11-a486-1cc66c6a1b43"
      },
      "source": [
        "# Vistazo a las primeras filas\n",
        "df.iloc[:15,0]"
      ],
      "execution_count": 18,
      "outputs": [
        {
          "output_type": "execute_result",
          "data": {
            "text/plain": [
              "0     Joe biden rules out 2020 bid: 'guys, i'm not r...\n",
              "1     Watch: darvish gave hitter whiplash with slow ...\n",
              "2     What do you call a turtle without its shell? d...\n",
              "3         5 reasons the 2016 election feels so personal\n",
              "4     Pasco police shot mexican migrant from behind,...\n",
              "5     Martha stewart tweets hideous food photo, twit...\n",
              "6     What is a pokemon master's favorite kind of pa...\n",
              "7     Why do native americans hate it when it rains ...\n",
              "8     Obama's climate change legacy is impressive, i...\n",
              "9         My family tree is a cactus, we're all pricks.\n",
              "10    Donald trump has found something mysterious fo...\n",
              "11    How donald trump and ted cruz's love affair is...\n",
              "12    Want to know why athletes chose to #takeaknee?...\n",
              "13    How are music and candy similar? we throw away...\n",
              "14    Famous couples who help each other stay health...\n",
              "Name: 0, dtype: object"
            ]
          },
          "metadata": {},
          "execution_count": 18
        }
      ]
    },
    {
      "cell_type": "code",
      "metadata": {
        "id": "kILsSoxTuHEr",
        "colab": {
          "base_uri": "https://localhost:8080/",
          "height": 140
        },
        "outputId": "7da72552-8bf3-411a-b3b0-9c00a059f867"
      },
      "source": [
        "# Concatenamos todos los rows en un solo valor\n",
        "corpus = df.apply(lambda row: ' '.join(row.values.astype(str)), axis=0)[0]\n",
        "corpus"
      ],
      "execution_count": 19,
      "outputs": [
        {
          "output_type": "execute_result",
          "data": {
            "text/plain": [
              "\"Joe biden rules out 2020 bid: 'guys, i'm not running' Watch: darvish gave hitter whiplash with slow pitch What do you call a turtle without its shell? dead. 5 reasons the 2016 election feels so personal Pasco police shot mexican migrant from behind, new autopsy shows Martha stewart tweets hideous food photo, twitter responds accordingly What is a pokemon master's favorite kind of pasta? wartortellini! Why do native americans hate it when it rains in april? because it brings mayflowers. Obama's climate change legacy is impressive, imperfect and vulnerable My family tree is a cactus, we're all pricks. Donald trump has found something mysterious for rudy giuliani to do How donald trump and ted cruz's love affair is all relationships Want to know why athletes chose to #takeaknee? look at our broken justice system How are music and candy similar? we throw away the rappers. Famous couples who help each other stay healthy and fit Study finds strong link between zika and guillain-barre syndrome Alec baldwin and wife hilaria welcome another baby boy Trump says iran is complying with nuclear deal, but remains a dangerous threat Kim kardashian baby name: reality star discusses the 'k' name possibility (video) I just ended a 5 year relationship i'm fine, it wasn't my relationship :p Here's what the oscar nominations should look like Dating tip: surprise your date! show up a day early. Reflections from davos: leaders deliberate what's next for climate action after paris deal What do you call an explanation of an asian cooking show? a wok-through. Swimming toward a brighter future: how i was introduced to the world of autism Why did little miss muffet have gps on her tuffet? to keep her from losing her whey. The pixelated 'simpsons' should be a real couch gag All pants are breakaway pants if you're angry enough Watch: former british open champ makes embarrassing putting fail Chrissy teigen's 2015 grammy dress is skintight and perfect Ugh, i just spilled red wine all over the inside of my tummy. The next iphone update will help you save lives Celebrating the fourth of july with airport profiling The big bend, a u-shaped skyscraper, could become the longest in the world Oscars 2016 red carpet: all the stunning looks from the academy awards Why do jews have big noses? because the air is free Interesting fact: by the year 2020 all actors on american tv shows will be australian. I'd tell you a chemistry joke but i know i won't get a reaction Arkansas approves law to let people carry guns in bars and at public colleges On set with paul mitchell: from our network Did you know diarrhea is genetic? it runs in your jeans My sons ebola joke what do africans have for breakfast? ebola cereal :) (be kind,he's only 14 lol) What was the sci-fi remake of a streetcar named desire? interstelllllllaaaaaaar What do you call a clan of barbarians you cant see? invisigoths How do you know if someone is using recursion? Why shouldn't you change around a pokemon? because he might peek at chu. Stolen moment of the week: andy ofiesh and kaytlin bailey at the creek and the cave Obama welcomes pope francis to the white house What do chicken families do on saturday afternoon? they go on peck-nics ! Hiring a cleaning company: a how-to for everyone who wants to go green Explore america’s stunning marine sanctuaries without getting wet Do you show up in life in all your amazing glory? What does jcpenny and teenagers have in common? pants 50% off Has a conversation in my head - cackles with mirth Valentine's dinner stress: 4 things not to worry about Broadway stars join forces to fight north carolina's anti-lgbt law I'm really sick of making my dog a birthday cake every 52 days. Knock knock who's there ? cotton ! cotton who ? cotton a trap ! Safer driving at the flick of a switch Trump refuses to blame himself for gop 'not getting the job done' What do you call a black guy whose hitch-hiking? stranded! Lebron james doesn't totally deny the possibility of starring in 'space jam 2' Why do they say all minorities look the same? because once you've seen juan, you've seen jamaul. Eve ensler wants to topple the patriarchy with 'revolutionary love' Yo momma so ugly .. her portraits hang themselves Kanye west is opening 21 pablo pop-up shops this weekend How to turn leftover champagne into fancy vinegar Mesmerizing time-lapse video shows dad making amazing disney bedroom Wife: you forgot to run the dishwasher again, didn't you? me:  no, why? Resume design: eye-tracking study finds job seekers have six seconds to make an impression (video) My friend is dealing with a really severe viagra addiction. he's having a hard time with it. Phil collins cancels comeback shows after being rushed to hospital I nicknamed my girlfriend melody because its loudest and always on top 121 members of congress call for end of restrictions on gun violence research How's my life? let's just say i'm starting a lot of sentences with let's just say. Be who you are, no matter what anyone else thinks Just imagine how good prescription cheese would be. Crazy ex girlfriends are like a box of chocolates they will kill your dog The deeper reason trump's taco tweet is offensive Britney spears is just a regular mom who loves embarrassing her kids Did you hear about the flying german pancakes in ww2? they were in the luftwaffle! Kellyanne conway is wearing a $3,600 coat studded with (ahem) cats Steelers coach incensed by headset situation at gillette stadium The flame of beauty: reflections on a poet's journey If there's two things i've learned in life it's that i'm awful at counting. Canadian army training is 6 weeks of learning how to throw a snowball. What's black and always in the back of a police car? the seat. Ole miss removes mississippi flag with confederate emblem Cake fix: what to do when it sticks to the pan Melania trump's davos cancellation a 'subliminal message' to donald: historian Why does the ocean have water? because the sky is *blue* Carol field, grandmother, pleads guilty to setting 18 fires across maine 9 news reporters having laughing fits on live tv (video) Katy perry wears american flag outfit for kids' inaugural concert (photos) I get sad around the holidays because they always remind me of how much weight i'll be gaining. Starting a cover band called a book so no one can judge us. Veterinarian accused of shooting neighbors' dog in the head Christina aguilera's alleged new house comes with famous neighbors (photos) I met a horse who keeps talking about the apocalypse. he told me the end is neigh. As a student the most comforting words you'll ever hear are  i haven't started either The killer cookie-selling tactics of history's most brilliant girl scouts If you watch cinderella backwards its about a woman getting put in her place. If you love something set it free,unless it's a lion. don't do that. Here's how unfair the tax system is in each state Which street in france do reindeer live on? rue dolph Is a death sentence really a death sentence? 6 beauty quick fixes for when spring allergies attack Why do time machines make you happy? they're an anti de-present. Trump's new military plan will cost $150 billion -- at the very least What is white, 12 inches long, and not a fluorescent light bulb? nothing. What's the real reason why sjws hate guns? they don't come with trigger warnings. Q: why was the chessmaster interested in foreign women? a: he wanted a czech mate. Why did olly call the manager for help, outside the store? for the watch.. How did jamie find cersei in the long grass? satisfying. How to build muscle: proven strength lessons from milo of croton What do farmers say when something is important to them? it plays a big tractor. 7 ways to make your home happier and more relaxing in the new year Gop rep. invited a far-right troll to trump's state of the union Jillian michaels talks to jay leno about motherhood (video) What do sexy farmers say all day? brown-chicken-brown-cow! and then they swagger a bit. How does stephen hawking refresh after a long day? f5 Tori spelling and dean mcdermott welcome fifth child together Why tuna's both cheap and expensive, plentiful and very endangered What did simba say to his dad when he was moving too slow? mufasa! What do you get when you cross an elephant with a rhino? elephino... Lawyer seeks release of teen accused of killing her allegedly abusive dad April fools day 2012: 9 epic food pranks (videos) Young girl's thick back hair was sign of spine problems (photo) What is executive dysfunction and could your kid have it? A step-by-step guide on how to parallel park! 1) park somewhere else. How do you confuse hellen keller? give her a basketball and tell her to read it. Donald trump says much needs to be 'investigated' in climate science 17 years later, 'monty python' writer finally wraps 'don quixote' filming Texas is poised to elect its first latina congresswoman The water from a drinking fountain tastes like pennies and mumps. I heard they wanted to do an asian version of drive but there's already a movie called crash. Are bradley cooper and suki waterhouse back together? What's a horny pirate's worst nightmare? a sunken chest with no booty. Donald trump's state visit to the uk now in doubt Marco rubio slams obama's speech on fighting islamophobia Eating fish during pregnancy: low levels of mercury not linked to autism This guy hates christmas, so his friend pulled an amazing prank How to make oysters rockefeller without a recipe Kourtney kardashian pulls a 'mean girls' move on khloe My bread factory burned down. now my business is toast. Warriors embarrass the lakers to cement best start in nba history If the sheets are still on the bed when it's over, you're doing it wrong. Strippers are a lot like magnets. they work by poles. I only drink smart water now. i think it's really helping my... my head thinking thingie. Miley cyrus explains why she's never walking another red carpet To my student loans i am forever in your debt. You hear the one about the transgender student? he spent his junior year a broad. Are you a chicken farmer cause' you know how to raise a cock. Ask healthy living: why do we get muscle cramps? You know what pal, lay your own damn eggs - jerk chicken I like my car how i like my life. duty free. Being a twitter elite is like being the most popular patient in the asylum. What did the cannibal do after he dumped his girlfriend? he wiped. Astronauts take mannequin challenge to new heights in international space station The cancellation of the golden girls must have been devastating to the shoulder pad industry. Have you seen stevie wonder's new house? no? well, it's really nice. Gay couple gets married in pro hockey arena with a priest referee Republicans could protect dreamers if they wanted to. but will they? What is et short for? cos he's only got little legs So i tried catching some fog today... i mist. Why did barbie never get pregnant? because ken came in a different box. badum tiss. Pride in mental health: an interview with the trevor project and crisis text line How to stop people pleasing in 6 simple steps Thousands of new york protesters rally in solidarity for baltimore's freddie gray Shoppers boycott 'big bad' amazon, head to walmart.com Young democrats prefer bernie sanders, new poll finds Look i can summon australians have you ever, ever felt like this? Alcoholics don't run in my family they stumble around and break things Sex at a wedding: survey finds huge percentage of people have hooked up at a wedding 'gotham' actor donal logue's missing child has been found and is safely home Did you hear about that guy who had his whole left side amputated? yeah he's all right now What's brown and sticky? (not a stick) my beyonce calendar Oil's new manifest destiny stalks the great plains of north dakota U.s. court to hear arguments tuesday on trump's travel ban Buying guide: find the best outdoor patio umbrella for your home (photos) F(x) walks into a bar the bartender looks at him and says sorry, we don't cater for functions How did obama react when he heard donald trump won for president? World leaders react to the reality of a trump presidency What's the most frustrating thing in the world? What do you call a cow that stopped producing milk? an udder failure. There are 2 black men in a car, who is driving? the cops Why did the cook go to jail? for beating the eggs and whipping the cream! Q: why was the insect kicked out of the wildlife preserve? a: it was a litterbug. Did you hear about the baby that was born in a high tech. hospital? it came out cordless! Beyoncé and amal's pregnancies can change the world in a real way Break out the shovels: northeast faces blizzard and winter storm watch Campaign manager won't say what donald trump regrets Feng shui energy in the year of the horse Why is santa's sack so big? because he only cums once a year! 4 ways to become a better risk taker Has anyone else's world ended yet? mayan hasn't. Anne hathaway's golden globes dress 2013 rules the red carpet (photos) Your cock is so small you could use it to floss teeth. Never marry a woman who was captain of the debate team. Have you heard of the pelican? it's bill fits more than its belly can The hardest part about online dating... finding someone who clicks with you. Mom photographs her daughter with animals in beautiful 12-year project My mum was killed by cancer... wait no, my dad was a sagittarius. I like my jokes like my coffee bland Nothing says i have faith in god like the bullet proof glass on the pope's car. Real-life robots that will one day enslave humanity, ranked Inside the 2016 fight for the white working class How do you organize a space party? you planet ;) Daniel craig and rachel weisz expecting first child together The most silent voice is the one that yells the loudest: unearthing the spirit within Darling, you are the most beautiful woman in this party! did you invite these guests on purpose? Fifth harmony's lauren jauregui could be amy winehouse's clone The queen doesn't like prince harry's beard -- go figure Why did the knight stop using the internet? because he was sick of chainmail. You're the shampoo in the eyes of my life. The giant panda is no longer listed as endangered The world seems to only care about refugees when they're olympians Meditation made simple: learn how to step back with headspace Before twitter, celebrities used to sit dead for months and months completely unnoticed. Why do so few americans actually observe memorial day? Four mexicans drowned over the weekend newspaper headline: quatro sinko I always thought, hey, at least air is free ...until i bought a bag of chips. How many kids with add does it take to change a lightbulb? wanna go ride bikes?!? Exercise could improve brain functioning among people with hiv #deardebbie, millennial women aren't 'complacent' about reproductive rights Baltimore quietly removed all 4 of its confederate statues overnight Darren aronofsky's new tv series breaks with the hollywood playbook on climate change I always wanted to be self-confident. well, look at me now. actually, don't. My girlfriend has a fire crotch. or as it's scientifically known, chlamydia. Why are gay guys so good at moving? they are used to getting their shit packed What do you call a rich frog? a gold-blooded reptile. Craft of the day: create a clay catch-all plate for your keys Mark zuckerberg and priscilla chan announce birth of a girl with open letter Some of your timelines are my morning paper. Forgiveness: the perfect gift any day of the year How to seduce a fat person? piece of cake I hope rapidly clicking this arrow on google street view counts as jogging. Vergara v. california decision: teacher tenure is not the problem Went to the doctor's office for my flu shot. he promised it wouldn't hurt... insensitive prick. Have you ever smelled mothballs? how did you get their little legs apart? I ruin friend groups by always suggesting we start a band too early What do you call an operation on a rabbit?  a hare-cut. Your favorite 'zootopia' bunny takes on an elephant-sized case in this cute deleted scene Budget airlines' new routes lead to urbanization in asia Congress expected to vote on budget to avert government shutdown Don't forget about bald guys living vicariously through their beards. Why did the chicken cross the mobius strip. to get to the same side. Bill maher explains the fiscal cliff, calls for carbon tax Here's a bit of advice for you. advi. What did the counselor say to the hologram? you're projecting. (from star trek voyager) 69 is the kamikaze of sex. if i'm going down, you're coming with me. What is dracula's favorite pudding?  leeches and scream. Search underway for missing tennessee toddler noah chamberlin Jane fonda and helen mirren stole the show at paris fashion week What did the doctor say to the speeding commuter? thank you for your patients. I'm a lawyer for an orthodontist he's got me on retainer. Did you hear about the birds who wanted to go out drinking? they ended up at the crowbar. I'm sorry i can't go out tonight because of the internet. I'm no gynecologist... but i can take a look. Mom uses face-painting skills to turn kids into 'something magical' It's gotta be nice being a mortician... people are always dying to meet you. What do you call a chicken at the north pole? lost. Rating all the nancy drew books i've read on goodreads so it looks like i'm smart or something. Watch misty copeland dance to the heavenly sounds of cynthia erivo's voice What do we want? clickbait when do we want it? the answer will shock you. Texas raids planned parenthood offices across the state Why do they call a wolf a wolf? because it goes wolf! Dick cheney: iran deal will lead to first use of nuclear weapon since hiroshima and nagasaki Why do vegetarians give good head? because they are used to eating nuts! Jennifer aniston style evolution: this hollywood actress always looks effortlessly chic (photos) Digital identities: who are you when you're online? Dogs are just vacuums that want to be rewarded Ncaa pulls all championship events from north carolina over anti-lgbt laws Whats the difference between dawn and dusk? d(sun)/dt *facepalm* i'll see myself out. What do you call it when you get stuck into a shotgun wedding with a czech? checkmate! Women's history month artists: celebrating whm with marlene dumas as the eight of hearts Girl catches 5-pound bass with barbie fishing pole in adorable father-daughter adventure What's hard and pink? a pig with a flick knife. What do tampons and white women have in common? they are both stuck up cunts. 60 years after brown v. board, america's school boards call for vigilance What do people who don't like the slippery slope argument call it? the slippery slope fallacy Disneyland travel: 14 official and unofficial streets inside disneyland (photos) Why was the fruit/vegetable hybrid upset? he was a melon-cauliflower. What do you call a racist 19th century artist? oppressionist If attacked by a pack of clowns.... go for the juggler. How much do pirates pay for earrings? about a buck an ear. Civilian death toll mounts as iraqi forces push on in mosul A step by step to vacationing in the mountains 4 steps to add joy to your life 5 hotel steals: columbus day weekend & beyond Lanvin summer 2012 ad: we hope you like snakes (video) What's a pirate's favorite sexual partner? can't legally consent because they're retarrrrrrrrded. I knew you'd come crawling back the minute i stole your wheelchair How to fix 4 common gardening problems using technology A black man walks into a bar. the bartender says get out! Potential pick for solicitor general removes name from consideration What did the stoplight say to the car? don't look, i'm changing! An invitation to do something about the environment Trevor noah: trump's first week proves he's a bad businessman Leader of oakland artist collective sparks outrage for focusing on himself after deadly fire It's time to stop calling black protesters 'unpatriotic' Why is 17 called the mother-in-law in black jack? because you wanna hit it, but sometimes you cant. My mother was so overprotective we were only allowed to play rock, paper. What did the 2012 election mean for the d.c. arts community? You guys i found this new great birth control called pregnant women posting pictures on facebook. Joe kennedy iii reveals how his gop counterparts really feel about donald trump's tweets Yo momma is so fat, shes got more coverage than my cell phone provider Gay holidays: 5 tips on how to enjoy them now that you've come out There are only two four letter words that are  offensive to men: don't and stop. Everything you thought you knew about doing laundry is wrong An autopsy for the dismal second season of 'true detective' Your grandparents used to kiss with tongues, probably Roses are red, violets are blue.. no, wait.. fuck, now they're black. Knock, knock! who's there? alzheimer's! alzheimer's who? knock, knock! Walmart workers plan black friday protests over wages What if the sunday shows booked ordinary americans to discuss the budget? Mubarak's case is a ‘trial of egypt's revolution' Why did the germ cross the microscope? to get to the other slide! Here's a full list of the beef products recalled this weekend What's the only planet that gives a crap? uranus. Homework. the teachers' way of knowing how smart the parent is. Did you know... 3/2 of the world's population sucks at fractions? What's the difference between an oral and a rectal thermometer? the taste. Congressman to chris christie: stop using my intern's murder for political gain Chris christie really, really likes bruce springsteen's 'born to run' Two mice chewing on a film roll one of them goes, i think the book was better Records show numerous complaints against officer who staged his suicide National eating disorders awareness week: get in the know Bryan cranston is moving to canada if trump gets elected next week Worker dies at minnesota vikings' stadium construction site Margaret sullivan took the new york times public editor role into the digital age Here's your complete guide to 2014 fall tv premieres Cliveden house's new 57-foot slide is insane (photos) Disturbing report makes compelling case for decriminalizing drug possession How do red necks celebrate halloween? pump kin What's the difference between a cow and the bible? you can't milk a cow for 2,000 years. The crack of dawn is probably just as good as the crack you get at midnight. Meet the mother-daughter duo who brought elf on the shelf to life in a big way Nothing is creepier than driving next to someone on the highway at the exact same speed. 'harry potter' play has magical record-breaking turn at award show Winter storm brings ice and freezing rain to central u.s. Your cubicle must be full of ghost and owls because all i hear over there is booo hooo The farmer's wife just ran off with a farm equipment salesman. she wrote him a john deere letter. Vladimir putin denies donald trump revealed classified information in russia meeting 'ukraine's crisis has been caused by the west.' - putin Imagine a masonry wall... now, picture just one piece of it... this, my friends, is a mental block. Did you hear helen keller was an atheist? i guess she never saw the light. What does a leper say to a prostitute? just leave it...ill be back tomorrow. Mirabegron, overactive bladder drug, works but liver and heart concerns raised Why your purse is giving you back pain... and 11 ways to fix it A brief travel guide to the republic of macedonia Gay rapper releases first music video since 2014 gay-bashing broke 7 facial bones How did mitt romney get a 14% tax rate? he claimed 47% of america as dependents. The ultimate grocery cheat sheet for busy parents Top 10 ways members of congress are like toddlers White christmas weather 2012: new york, pennsylvania and new jersey may see holiday snow Top tips for picking the right cruise stateroom I was really bad in school. i failed maths so many times, i can't even count. Q: why did bill clinton cross the road? a: to meet the chick. What is hillary clinton's favorite dice game? benghahtzee. Man who's blind in 1 eye forms bond with unwanted puppy born with 1 eye Why don't the borg procreate naturally? because they prefer artificial assimilation. What does the illuminati smell like? new world odor What do a clitoris,an anniversary and a toilet have in common??? men usually miss all three. What do you call a chinese millionaire? cha-ching What happened to gop's deep bench of governors? What did treebeard say when he took a piss? release the riverrr!!!!!!! That show scrubs is bullshit. not one person in this hospital joined in my song and dance number. If jared fogle gets any rounder he may go full circle. A bioengineered tree could revive america's once-vast chestnut forests Lance armstrong reportedly buys new home on austin lake in texas (photos) Great news! if you quit being cunty the whole world will stop being against you! Weed activists at the democratic convention celebrated progress in style I know why my saturdays are so shitty now... because there's always a turd in it. 'the physical attraction' -- why americans should have an annual medical exam This week's pint-sized style crush is the cutest thing you'll see all day Dark humor is like food only some people get it A mexican plays uno, and steals all the green cards.. A guy drove his expensive car into a tree... that's when he learned how the mercedes bends Occupy louisville protestors arrested after clash with police at chase bank in kentucky Artist spends 200 hours resurrecting centuries-old tradition of tapestry making How daily naps can improve your overall health and well-being What do you call a punch that can kill 20 kids and 6 adults? a sandy hook. Kris jenner turned all the way up for drunken valentine's day karaoke Health and climate change: an urgent need for action Do a little dance... drink a lot of rum... fall down tonight... What happened to the gun that kept randomly shooting? he got fired. Man is fatally shot by police responding to burglary at his home A brief history of that time disneyland employed live mermaids How did the cheerleader get magic aids? a magic johnson. Trump picks trading firm founder vincent viola for army secretary There's a hole in the nudist camp wall... the police are looking into it. Nonprofit risk and crisis management: challenges for the 21st century Did you hear about the skinny guy that visited alaska? i guess he came back a husky fucker. Is it offensive to refer to egyptians as mummies? From pizza to zoodles: 5 fabulous ways to use pesto Why did the chicken cross the road? the aristocrats. There are 10 types of people. ones who understand binary, and ones that don't. Leaving the next generation an empty bag: the big mop-up The more complex the handshake, the less complex the individual. Diary of a young professional: dang it! i have to network Why is lettuce my favorite vegetable? just cos. Let's say our goodbyes to these terrible beauty trends of 2015 What dog loves to take bubble baths ? a shampoodle ! We're a nation at war, but will it ever end? Women on clinton and sanders campaigns allege sexual harassment Community collection's joomi lim bracelet buys orthopedic dog beds for senior pooches (photos) What do you call a dinosaur with explosive diarrhea? a shitty-sore-ass. This cafe doesn't have pumpkin spice, but it does have puppies I asked my french friend if he watched superbowl... ...he said bowling is not so big in europe. Republicans want answers from trump about comey firing I would never buy a plastic 3d printed car unless it came with abs. 5 ways to have a better relationship with food People are overrated, not cities: a brief retort to david landsel Coworkers: hey! it's your two favorite people here to ask you a question! me: where? If johnny has $20 and tyrone takes $16... what color is tyrone? 5 ways to connect with a dying loved one A guy walks into a bar... he said ouch. What do a drunken cat and the pope have in common? they're both catholics. Why can't stevie wonder see his mates? because he's married. Jack ryan: shadow recruit has a perfect leading man in chris pine Fat jokes in children's movies are a lot more common than you think Murdoch-owned ny post urges trump to act on gun control to 'stop the slaughter' I have a lot in common with my brake rotors.. we're both warped and barely functioning. I thought twerking was tweeting at work that's how out of the loop i am My friend woke up this morning in fits of laughter. i think he must have slept funny. Santa claus obesity: santa is getting fatter, may be bad influence on children I'm so lazy i bought a black snuggie for funerals. I saw a group of children crying during my visit to kiev so i said, what ukraine for? Nasa spent 1.5mil on a pen that works in space. russia putin a pencil. Did you hear what they called the new dog breed from israel? the penny pinscher The one diet that can cure most disease: part i I'm really glad they invented shampoo. imagine having to wash your hair with real poo? There's a reason zika virus became a pandemic in 2015 If 50 shades of grey were in the nfl... ...it'd be on the commissioner's exempt list. Why i un-installed league of legends. to pass my exams, what did you expect? I named my eraser confidence it gets smaller every time i make a mistake. ‘black panther’ female warriors take center stage in new spinoff 9 things i didn't know i'd love about being a parent What do you call four rats on a mathematical equation? a quadratic equation :) Yesterday i gave my seat to a blind man today i lost my job as a bus driver What do you call a short mexican? a paragraph, hes not a full essay yet. Apple eyes fix for chip flaw leaving consumers without secure web browsing Dark humor is like food... not everyone get it... So many good trailers; so few good movies. Press play for politics: my struggle to compose a georgian weapon against russia There is a james brown impersonator in south korea. he's known as the godfather of seoul. What's the difference between trump and bush? trump builds towers and bush knocks them down. Books keep falling on my head.... i've only got myshelf to blame How do you circumcise a redneck? kick his sister's chin. My neighbor's kids said they loved sneakers. they're huge vans of them. I cant believe ashton kutcher made the apple computer and iphones. thank you ashton This is what madonna said when asked if drake was a good kisser Every way with mac and cheese burgers (photos) Lucasfilm & disney aren't too fond of amy schumer's gq cover What do men who receive compressed porn files do when they are alone? they unzip. What’s happening at cal shows the crap female reporters deal with We just completed a full year of record-hot months Eu doesn't want the u.s. spying on european citizens Its all fun and games until someone loses an i?. then we cant play scrabble anymor Yes, i absolutely want to hear about your cat's medication. If a fish was trying to catch humans, what would the sport be called? bass murderering What did the hobo get for christmas? nothing. I want to china town today i saw a lot of wangs. Q: how old is tyrion lannister? a: peter dinkl-age Dear sepp blatter... there's only one robert mugabe... yours truly... life Friends of quinn: sam's life with learning disabilities (video) Pinocchio lizard rediscovered in ecuador after being thought extinct for 50 years Porn actress confirmed trump affair in unpublished 2011 interview Chewbacca just got himself a 'chewbacca mom' mask Samantha bee goes full 'schoolhouse rock' with video about rape kit bill If i had a parrot i'd teach it to say i know where they buried the bodies I don't have any white friends, so i guess you could call me... crackalackin Cara delevingne gets candid about her battle with depression For a legendary weekend like neil patrick harris, drink this 10 tips for a good tip when i take my kids out to eat Where is the biggest jews concentration? in the air. I've been hit by a car before, you don't want to go down that road. If evolution is real how come? monkeys still throw their poop underhanded Hi, i'm going to tell a dad joke! hi im going to tell a dad joke, i'm dad! University of illinois chancellor resigning following multiple controversies Is okay to laugh if hitler jokes are considered to be the vorst? You know what's a cool job?: mirror inspector i could really see my self doing it. Do you know why lions eat raw meat? because lions don't know how to cook. Michelle obama 'let's move!' tour: two outfits, one day! (photos) Britain's largest cave, gaping gill, is magical and you can explore it A man walks into a bar and goes right through it because hes a t1000 Reuters journalist leaves iraq after being threatened over story Chuck norris doesn't step on toes. chuck norris steps on necks. Babies are really expensive, which is why all the ones in babies r us don't have price tags. Me: my cat isn't overweight; she's just big-boned vet: this is a dog How do we know cats are communists? all they ever say is mao. You say lasagna. i say spaghetti cake. because my 3 year old won't eat lasagna. How to evolve your egg sandwich in five easy steps This might just be the worst slide in the world Adam pally escorted offstage for trashing terrible award show while he presented Abstinence makes the arm grow stronger... at least one of them anyway. Why did the reindeer wear sunglasses at the beach ? because he didn't want to be recognised ! Why ecuador will always be the ultimate retirement haven Jon stewart's farewell to fox news: ‘adios, motherf**kers!' Why new drug approvals are at a six-year low in the u.s. Celebrity divorce: the most surprising splits of summer This mayor wants his city to be the first in the u.s. with a supervised heroin injection site How to stop worrying and love artificial intelligence Sprout home plant of the week: chinese lantern What's round and hard and full of acidic semen? a jewish submarine. What is the best thing about having sex with twenty nine years olds? there are twenty of them. Made plans to exercise with a friend and now i have to go get in a car accident. Struggling to talk to your teenager? the greatest lesson i ever learned. Price difference between these near-identical bags is astounding What does an iphone 7 and the titanic have in common? the end has no jack. Dwayne wade's ex talks custody battle on ‘dr. phil' I put my phone on airplane mode and now i can't find it... Wife: where are our seats? hamlet: 2b... wife: there are people there hamlet: or not 2b Dad's fake movie poster gives bedtime with a toddler the dramatic treatment it deserves Joke 2 - what weighs 15,000 pounds and combs her red hair with a fork? princess arielephant 'sharps' injuries could pose hiv, hepatitis risk to surgeons Seth rogen won't do siriusxm press tour because of steve bannon Whats the devil's favorite meal? fillet of soul Claire danes and hugh dancy shine at the emmys White house wannabes drawing 2016 battle lines in furious money chase Do you know how many heart attacks i had to fake before they sent you. My best friend's death (wish it were wedding) Did you hear, john wayne bobbit got his penis cut off again? isn't that redickless? Donald trump and hilary clinton are on a boat that is sinking, who survives? america. Welcome to drugs club, todd. i can't believe someone actually answered the ad. you're under arrest. Snl's benghazi cold open: jodi arias helps gop lawmakers boost ratings (video) Fear of the dark: is it really irrational? U.k. rejects petition protecting women from being forced to wear heels at work Today's generation  omg my parents never let me have anything. via iphone Why don't blind people go skydiving? it scares the crap out of their dogs! Why did the blonde pull the dildo out before she came? she wasn't on the pill Spotlight on athenahacks: why female hackathons are important New program seeks to make democrats' campaigns as diverse as their voters Why did the guy not draw a circle? because there was no point. A man jaywalked and got the entire left side of his body ran over. he was all right What do you call a man who opens the car door for  you? a chauffeur. Why did the duck get arrested? because he was smoking quack! '50 shades of gray' -worst set of crayola colored pencils. I'm not a doctor, but i play one on eharmony. What toy should you never buy a jewish child? a bulldozer! What you need to know before traveling to england\""
            ],
            "application/vnd.google.colaboratory.intrinsic+json": {
              "type": "string"
            }
          },
          "metadata": {},
          "execution_count": 19
        }
      ]
    },
    {
      "cell_type": "code",
      "metadata": {
        "id": "_KlsYd7_uOez",
        "colab": {
          "base_uri": "https://localhost:8080/"
        },
        "outputId": "6cab2da7-6a2a-446e-91b2-81d743c7431e"
      },
      "source": [
        "# Transformar el corpus a tokens\n",
        "tokens=text_to_word_sequence(corpus)\n",
        "# Vistazo general de los primeros tokens\n",
        "tokens[:20]"
      ],
      "execution_count": 20,
      "outputs": [
        {
          "output_type": "execute_result",
          "data": {
            "text/plain": [
              "['joe',\n",
              " 'biden',\n",
              " 'rules',\n",
              " 'out',\n",
              " '2020',\n",
              " 'bid',\n",
              " \"'guys\",\n",
              " \"i'm\",\n",
              " 'not',\n",
              " \"running'\",\n",
              " 'watch',\n",
              " 'darvish',\n",
              " 'gave',\n",
              " 'hitter',\n",
              " 'whiplash',\n",
              " 'with',\n",
              " 'slow',\n",
              " 'pitch',\n",
              " 'what',\n",
              " 'do']"
            ]
          },
          "metadata": {},
          "execution_count": 20
        }
      ]
    },
    {
      "cell_type": "code",
      "metadata": {
        "id": "GlqpZSJOJ1xQ",
        "colab": {
          "base_uri": "https://localhost:8080/"
        },
        "outputId": "f9cc72a9-5147-4752-cecc-0cadb32bb41c"
      },
      "source": [
        "print(\"Cantidad de tokens en el corpus:\", len(tokens))"
      ],
      "execution_count": 21,
      "outputs": [
        {
          "output_type": "stream",
          "name": "stdout",
          "text": [
            "Cantidad de tokens en el corpus: 6452\n"
          ]
        }
      ]
    },
    {
      "cell_type": "code",
      "metadata": {
        "id": "RhQevOynuYk2"
      },
      "source": [
        "# Código para hacer el desfazaje de las palabras\n",
        "# según el train_len\n",
        "text_sequences = []\n",
        "for i in range(train_len, len(tokens)):\n",
        "  seq = tokens[i-train_len:i]\n",
        "  text_sequences.append(seq)"
      ],
      "execution_count": 22,
      "outputs": []
    },
    {
      "cell_type": "code",
      "metadata": {
        "id": "FU3FuqHSuhzq",
        "colab": {
          "base_uri": "https://localhost:8080/"
        },
        "outputId": "4f915a49-dbe1-4d77-8493-10f8d7e99b42"
      },
      "source": [
        "# Demos un vistazo a nuestros vectores para entrenar el modelo\n",
        "text_sequences[:20]"
      ],
      "execution_count": 23,
      "outputs": [
        {
          "output_type": "execute_result",
          "data": {
            "text/plain": [
              "[['joe', 'biden', 'rules', 'out'],\n",
              " ['biden', 'rules', 'out', '2020'],\n",
              " ['rules', 'out', '2020', 'bid'],\n",
              " ['out', '2020', 'bid', \"'guys\"],\n",
              " ['2020', 'bid', \"'guys\", \"i'm\"],\n",
              " ['bid', \"'guys\", \"i'm\", 'not'],\n",
              " [\"'guys\", \"i'm\", 'not', \"running'\"],\n",
              " [\"i'm\", 'not', \"running'\", 'watch'],\n",
              " ['not', \"running'\", 'watch', 'darvish'],\n",
              " [\"running'\", 'watch', 'darvish', 'gave'],\n",
              " ['watch', 'darvish', 'gave', 'hitter'],\n",
              " ['darvish', 'gave', 'hitter', 'whiplash'],\n",
              " ['gave', 'hitter', 'whiplash', 'with'],\n",
              " ['hitter', 'whiplash', 'with', 'slow'],\n",
              " ['whiplash', 'with', 'slow', 'pitch'],\n",
              " ['with', 'slow', 'pitch', 'what'],\n",
              " ['slow', 'pitch', 'what', 'do'],\n",
              " ['pitch', 'what', 'do', 'you'],\n",
              " ['what', 'do', 'you', 'call'],\n",
              " ['do', 'you', 'call', 'a']]"
            ]
          },
          "metadata": {},
          "execution_count": 23
        }
      ]
    },
    {
      "cell_type": "code",
      "metadata": {
        "id": "064N2jtLvHRg",
        "colab": {
          "base_uri": "https://localhost:8080/"
        },
        "outputId": "f63b5b86-e90f-4f84-8ece-6ab63af07497"
      },
      "source": [
        "# Proceso de tokenizacion\n",
        "tok = Tokenizer() \n",
        "tok.fit_on_texts(text_sequences) \n",
        "\n",
        "# Convertimos las palabras a números\n",
        "# entran palabras -> salen números\n",
        "sequences = tok.texts_to_sequences(text_sequences)\n",
        "\n",
        "# Damos un vistazo\n",
        "sequences[:20]"
      ],
      "execution_count": 24,
      "outputs": [
        {
          "output_type": "execute_result",
          "data": {
            "text/plain": [
              "[[739, 2599, 738, 53],\n",
              " [2599, 738, 53, 387],\n",
              " [738, 53, 387, 740],\n",
              " [53, 387, 740, 741],\n",
              " [387, 740, 741, 45],\n",
              " [740, 741, 45, 48],\n",
              " [741, 45, 48, 742],\n",
              " [45, 48, 742, 119],\n",
              " [48, 742, 119, 743],\n",
              " [742, 119, 743, 388],\n",
              " [119, 743, 388, 744],\n",
              " [743, 388, 744, 745],\n",
              " [388, 744, 745, 14],\n",
              " [744, 745, 14, 389],\n",
              " [745, 14, 389, 746],\n",
              " [14, 389, 746, 10],\n",
              " [389, 746, 10, 11],\n",
              " [746, 10, 11, 5],\n",
              " [10, 11, 5, 31],\n",
              " [11, 5, 31, 2]]"
            ]
          },
          "metadata": {},
          "execution_count": 24
        }
      ]
    },
    {
      "cell_type": "code",
      "metadata": {
        "id": "vwsvmvDKKXSP",
        "colab": {
          "base_uri": "https://localhost:8080/"
        },
        "outputId": "eb2d45b1-a5ac-4e62-87e7-38148f88c0e1"
      },
      "source": [
        "print(\"Cantidad de rows del dataset:\", len(sequences))"
      ],
      "execution_count": 25,
      "outputs": [
        {
          "output_type": "stream",
          "name": "stdout",
          "text": [
            "Cantidad de rows del dataset: 6448\n"
          ]
        }
      ]
    },
    {
      "cell_type": "markdown",
      "metadata": {
        "id": "QMVP4bj0vL2e"
      },
      "source": [
        "### 3 - Input y target"
      ]
    },
    {
      "cell_type": "code",
      "metadata": {
        "id": "mx2xwdz3KloJ",
        "colab": {
          "base_uri": "https://localhost:8080/"
        },
        "outputId": "ce35ab1b-f03f-4fbc-f91e-0664d52a7776"
      },
      "source": [
        "# Con numpy es muy fácil realizar el slicing de vectores\n",
        "ex = np.array([[1,2,3,4],[5,6,7,8]])\n",
        "ex"
      ],
      "execution_count": 26,
      "outputs": [
        {
          "output_type": "execute_result",
          "data": {
            "text/plain": [
              "array([[1, 2, 3, 4],\n",
              "       [5, 6, 7, 8]])"
            ]
          },
          "metadata": {},
          "execution_count": 26
        }
      ]
    },
    {
      "cell_type": "code",
      "metadata": {
        "id": "BEod7qghvTVt",
        "colab": {
          "base_uri": "https://localhost:8080/"
        },
        "outputId": "fcca9438-3f55-4121-ba04-148e0139524b"
      },
      "source": [
        "# Con numpy es muy fácil realizar el slicing de vectores\n",
        "print(\"Dimension:\", ex.shape)\n",
        "print(\"Todos los elementos:\", ex)\n",
        "print(\"Todos los elementos menos el último:\", ex[:, :-1])"
      ],
      "execution_count": 27,
      "outputs": [
        {
          "output_type": "stream",
          "name": "stdout",
          "text": [
            "Dimension: (2, 4)\n",
            "Todos los elementos: [[1 2 3 4]\n",
            " [5 6 7 8]]\n",
            "Todos los elementos menos el último: [[1 2 3]\n",
            " [5 6 7]]\n"
          ]
        }
      ]
    },
    {
      "cell_type": "code",
      "metadata": {
        "id": "i95xWqtCvp8T",
        "colab": {
          "base_uri": "https://localhost:8080/"
        },
        "outputId": "e171dd22-4236-4031-e16f-eb42f28cbcf3"
      },
      "source": [
        "input = ex[:,:-1] # todos los rows, menos la ultima col\n",
        "target = ex[:, -1] # última col de cada row\n",
        "\n",
        "print(\"Input:\", input)\n",
        "print(\"Target:\", target)"
      ],
      "execution_count": 28,
      "outputs": [
        {
          "output_type": "stream",
          "name": "stdout",
          "text": [
            "Input: [[1 2 3]\n",
            " [5 6 7]]\n",
            "Target: [4 8]\n"
          ]
        }
      ]
    },
    {
      "cell_type": "code",
      "metadata": {
        "id": "e1vJTG65v4Qn",
        "colab": {
          "base_uri": "https://localhost:8080/"
        },
        "outputId": "1ebcd5e5-a977-4e8e-8826-8f731a7356dc"
      },
      "source": [
        "arr_sequences = np.array(sequences)\n",
        "x_data = arr_sequences[:,:-1]\n",
        "y_data_int = arr_sequences[:,-1] # aún falta el oneHotEncoder\n",
        "\n",
        "print(x_data.shape)\n",
        "print(y_data_int.shape)"
      ],
      "execution_count": 29,
      "outputs": [
        {
          "output_type": "stream",
          "name": "stdout",
          "text": [
            "(6448, 3)\n",
            "(6448,)\n"
          ]
        }
      ]
    },
    {
      "cell_type": "code",
      "metadata": {
        "id": "ln6kVWVlwBBs",
        "colab": {
          "base_uri": "https://localhost:8080/"
        },
        "outputId": "c06696e6-d238-441a-843d-4eaec6532d04"
      },
      "source": [
        "# Palabras del vocabulario\n",
        "tok.index_word"
      ],
      "execution_count": 30,
      "outputs": [
        {
          "output_type": "execute_result",
          "data": {
            "text/plain": [
              "{1: 'the',\n",
              " 2: 'a',\n",
              " 3: 'to',\n",
              " 4: 'of',\n",
              " 5: 'you',\n",
              " 6: 'in',\n",
              " 7: 'and',\n",
              " 8: 'i',\n",
              " 9: 'is',\n",
              " 10: 'what',\n",
              " 11: 'do',\n",
              " 12: 'for',\n",
              " 13: 'my',\n",
              " 14: 'with',\n",
              " 15: 'on',\n",
              " 16: 'why',\n",
              " 17: 'it',\n",
              " 18: 'how',\n",
              " 19: 'are',\n",
              " 20: 'did',\n",
              " 21: 'at',\n",
              " 22: 'have',\n",
              " 23: 'because',\n",
              " 24: 'your',\n",
              " 25: 'he',\n",
              " 26: 'they',\n",
              " 27: 'was',\n",
              " 28: 'about',\n",
              " 29: 'all',\n",
              " 30: 'an',\n",
              " 31: 'call',\n",
              " 32: 'new',\n",
              " 33: 'that',\n",
              " 34: 'be',\n",
              " 35: 'if',\n",
              " 36: 'so',\n",
              " 37: 'who',\n",
              " 38: 'like',\n",
              " 39: 'get',\n",
              " 40: 'this',\n",
              " 41: 'when',\n",
              " 42: 'trump',\n",
              " 43: 'know',\n",
              " 44: 'say',\n",
              " 45: \"i'm\",\n",
              " 46: 'just',\n",
              " 47: \"don't\",\n",
              " 48: 'not',\n",
              " 49: 'from',\n",
              " 50: \"what's\",\n",
              " 51: 'as',\n",
              " 52: 'his',\n",
              " 53: 'out',\n",
              " 54: 'really',\n",
              " 55: 'hear',\n",
              " 56: 'one',\n",
              " 57: 'day',\n",
              " 58: 'her',\n",
              " 59: 'people',\n",
              " 60: 'go',\n",
              " 61: 'we',\n",
              " 62: 'year',\n",
              " 63: 'will',\n",
              " 64: 'by',\n",
              " 65: 'only',\n",
              " 66: 'there',\n",
              " 67: 'no',\n",
              " 68: 'being',\n",
              " 69: 'photos',\n",
              " 70: 'now',\n",
              " 71: 'donald',\n",
              " 72: 'has',\n",
              " 73: 'want',\n",
              " 74: 'but',\n",
              " 75: 'video',\n",
              " 76: 'world',\n",
              " 77: 'could',\n",
              " 78: 'life',\n",
              " 79: 'into',\n",
              " 80: 'me',\n",
              " 81: 'always',\n",
              " 82: \"it's\",\n",
              " 83: 'car',\n",
              " 84: 'up',\n",
              " 85: 'after',\n",
              " 86: 'black',\n",
              " 87: 'can',\n",
              " 88: '5',\n",
              " 89: 'favorite',\n",
              " 90: 'show',\n",
              " 91: 'over',\n",
              " 92: 'big',\n",
              " 93: \"he's\",\n",
              " 94: 'does',\n",
              " 95: 'common',\n",
              " 96: 'good',\n",
              " 97: \"trump's\",\n",
              " 98: 'back',\n",
              " 99: 'most',\n",
              " 100: 'got',\n",
              " 101: 'man',\n",
              " 102: 'its',\n",
              " 103: 'look',\n",
              " 104: \"you're\",\n",
              " 105: 'red',\n",
              " 106: 'u',\n",
              " 107: 'white',\n",
              " 108: 'chicken',\n",
              " 109: 'dog',\n",
              " 110: 'guy',\n",
              " 111: 'dad',\n",
              " 112: 'ever',\n",
              " 113: 'them',\n",
              " 114: 'ways',\n",
              " 115: 'never',\n",
              " 116: 'stop',\n",
              " 117: \"can't\",\n",
              " 118: 'full',\n",
              " 119: 'watch',\n",
              " 120: 'shows',\n",
              " 121: 'change',\n",
              " 122: 'between',\n",
              " 123: 'real',\n",
              " 124: 'see',\n",
              " 125: 'week',\n",
              " 126: 'head',\n",
              " 127: 'knock',\n",
              " 128: 'time',\n",
              " 129: 'make',\n",
              " 130: 'friend',\n",
              " 131: 'lot',\n",
              " 132: 'kids',\n",
              " 133: \"there's\",\n",
              " 134: 'called',\n",
              " 135: \"they're\",\n",
              " 136: 'women',\n",
              " 137: 'home',\n",
              " 138: 'step',\n",
              " 139: 'first',\n",
              " 140: 'take',\n",
              " 141: 'their',\n",
              " 142: 'police',\n",
              " 143: 'food',\n",
              " 144: 'climate',\n",
              " 145: 'something',\n",
              " 146: 'wife',\n",
              " 147: 'says',\n",
              " 148: \"here's\",\n",
              " 149: 'next',\n",
              " 150: 'joke',\n",
              " 151: 'someone',\n",
              " 152: 'getting',\n",
              " 153: '4',\n",
              " 154: \"doesn't\",\n",
              " 155: 'weekend',\n",
              " 156: 'two',\n",
              " 157: 'wanted',\n",
              " 158: 'more',\n",
              " 159: 'right',\n",
              " 160: 'brown',\n",
              " 161: 'cross',\n",
              " 162: 'years',\n",
              " 163: 'down',\n",
              " 164: 'gay',\n",
              " 165: 'gets',\n",
              " 166: 'came',\n",
              " 167: 's',\n",
              " 168: 'way',\n",
              " 169: 'difference',\n",
              " 170: 'play',\n",
              " 171: 'said',\n",
              " 172: 'before',\n",
              " 173: 'without',\n",
              " 174: '2016',\n",
              " 175: 'americans',\n",
              " 176: 'love',\n",
              " 177: 'our',\n",
              " 178: 'finds',\n",
              " 179: 'deal',\n",
              " 180: 'should',\n",
              " 181: 'little',\n",
              " 182: 'looks',\n",
              " 183: 'free',\n",
              " 184: 'tv',\n",
              " 185: 'tell',\n",
              " 186: \"won't\",\n",
              " 187: 'cant',\n",
              " 188: 'using',\n",
              " 189: 'house',\n",
              " 190: 'things',\n",
              " 191: 'north',\n",
              " 192: 'cake',\n",
              " 193: 'gop',\n",
              " 194: 'job',\n",
              " 195: 'having',\n",
              " 196: 'end',\n",
              " 197: 'were',\n",
              " 198: \"i've\",\n",
              " 199: '6',\n",
              " 200: 'fix',\n",
              " 201: 'state',\n",
              " 202: 'death',\n",
              " 203: 'nothing',\n",
              " 204: 'come',\n",
              " 205: 'q',\n",
              " 206: 'cow',\n",
              " 207: 'child',\n",
              " 208: 'both',\n",
              " 209: '2012',\n",
              " 210: 'guide',\n",
              " 211: '1',\n",
              " 212: 'best',\n",
              " 213: 'think',\n",
              " 214: 'been',\n",
              " 215: 'steps',\n",
              " 216: 'wedding',\n",
              " 217: 'walks',\n",
              " 218: 'bar',\n",
              " 219: '2',\n",
              " 220: 'men',\n",
              " 221: 'bill',\n",
              " 222: 'than',\n",
              " 223: 'used',\n",
              " 224: 'thought',\n",
              " 225: 'many',\n",
              " 226: 'goes',\n",
              " 227: 'she',\n",
              " 228: 'where',\n",
              " 229: 'shot',\n",
              " 230: 'mexican',\n",
              " 231: 'twitter',\n",
              " 232: 'tree',\n",
              " 233: \"we're\",\n",
              " 234: 'found',\n",
              " 235: 'throw',\n",
              " 236: 'help',\n",
              " 237: 'welcome',\n",
              " 238: 'baby',\n",
              " 239: 'name',\n",
              " 240: 'ended',\n",
              " 241: 'relationship',\n",
              " 242: 'through',\n",
              " 243: 'miss',\n",
              " 244: 'pants',\n",
              " 245: 'open',\n",
              " 246: 'makes',\n",
              " 247: '2015',\n",
              " 248: 'perfect',\n",
              " 249: 'inside',\n",
              " 250: 'iphone',\n",
              " 251: 'carpet',\n",
              " 252: 'air',\n",
              " 253: \"i'd\",\n",
              " 254: 'law',\n",
              " 255: 'set',\n",
              " 256: '14',\n",
              " 257: 'around',\n",
              " 258: 'obama',\n",
              " 259: 'wants',\n",
              " 260: 'amazing',\n",
              " 261: '50',\n",
              " 262: 'off',\n",
              " 263: 'anti',\n",
              " 264: 'making',\n",
              " 265: 'every',\n",
              " 266: \"who's\",\n",
              " 267: 'cotton',\n",
              " 268: 'driving',\n",
              " 269: 'himself',\n",
              " 270: 'same',\n",
              " 271: 'once',\n",
              " 272: \"you've\",\n",
              " 273: 'seen',\n",
              " 274: 'turn',\n",
              " 275: \"didn't\",\n",
              " 276: 'eye',\n",
              " 277: 'hard',\n",
              " 278: 'hospital',\n",
              " 279: 'girlfriend',\n",
              " 280: 'top',\n",
              " 281: 'congress',\n",
              " 282: 'gun',\n",
              " 283: \"let's\",\n",
              " 284: 'imagine',\n",
              " 285: 'would',\n",
              " 286: 'reason',\n",
              " 287: 'offensive',\n",
              " 288: 'mom',\n",
              " 289: '3',\n",
              " 290: 'beauty',\n",
              " 291: 'learned',\n",
              " 292: 'water',\n",
              " 293: '9',\n",
              " 294: 'news',\n",
              " 295: 'fits',\n",
              " 296: 'live',\n",
              " 297: 'much',\n",
              " 298: 'student',\n",
              " 299: 'girl',\n",
              " 300: 'woman',\n",
              " 301: 'tax',\n",
              " 302: 'least',\n",
              " 303: 'long',\n",
              " 304: 'find',\n",
              " 305: '7',\n",
              " 306: 'together',\n",
              " 307: 'expensive',\n",
              " 308: 'moving',\n",
              " 309: 'too',\n",
              " 310: 'young',\n",
              " 311: 'hair',\n",
              " 312: 'texas',\n",
              " 313: 'heard',\n",
              " 314: 'worst',\n",
              " 315: 'eating',\n",
              " 316: 'christmas',\n",
              " 317: 'history',\n",
              " 318: 'doing',\n",
              " 319: 'work',\n",
              " 320: 'drink',\n",
              " 321: 'smart',\n",
              " 322: 'space',\n",
              " 323: 'must',\n",
              " 324: 'well',\n",
              " 325: 'some',\n",
              " 326: 'today',\n",
              " 327: 'health',\n",
              " 328: 'crisis',\n",
              " 329: 'york',\n",
              " 330: 'sex',\n",
              " 331: 'had',\n",
              " 332: 'side',\n",
              " 333: 'great',\n",
              " 334: 'travel',\n",
              " 335: 'thing',\n",
              " 336: 'better',\n",
              " 337: 'risk',\n",
              " 338: 'use',\n",
              " 339: 'daughter',\n",
              " 340: 'jokes',\n",
              " 341: 'these',\n",
              " 342: 'made',\n",
              " 343: 'months',\n",
              " 344: 'actually',\n",
              " 345: 'four',\n",
              " 346: 'or',\n",
              " 347: 'guys',\n",
              " 348: 'letter',\n",
              " 349: 'any',\n",
              " 350: 'fat',\n",
              " 351: 'case',\n",
              " 352: 'budget',\n",
              " 353: 'going',\n",
              " 354: 'meet',\n",
              " 355: 'dance',\n",
              " 356: 'wolf',\n",
              " 357: 'style',\n",
              " 358: 'disneyland',\n",
              " 359: 'artist',\n",
              " 360: 'bad',\n",
              " 361: 'mother',\n",
              " 362: 'jack',\n",
              " 363: 'tips',\n",
              " 364: 'slide',\n",
              " 365: 'crap',\n",
              " 366: 'chris',\n",
              " 367: 'against',\n",
              " 368: 'drug',\n",
              " 369: 'putin',\n",
              " 370: 'russia',\n",
              " 371: \"'\",\n",
              " 372: 'friends',\n",
              " 373: 'guess',\n",
              " 374: 'saw',\n",
              " 375: 'brief',\n",
              " 376: '10',\n",
              " 377: 'may',\n",
              " 378: 'clinton',\n",
              " 379: 'road',\n",
              " 380: 'blind',\n",
              " 381: 'dark',\n",
              " 382: 'old',\n",
              " 383: 'ones',\n",
              " 384: 'female',\n",
              " 385: 'battle',\n",
              " 386: 'eat',\n",
              " 387: '2020',\n",
              " 388: 'gave',\n",
              " 389: 'slow',\n",
              " 390: 'dead',\n",
              " 391: 'election',\n",
              " 392: 'autopsy',\n",
              " 393: 'tweets',\n",
              " 394: 'photo',\n",
              " 395: 'pokemon',\n",
              " 396: 'kind',\n",
              " 397: 'hate',\n",
              " 398: 'april',\n",
              " 399: 'brings',\n",
              " 400: \"obama's\",\n",
              " 401: 'family',\n",
              " 402: 'affair',\n",
              " 403: 'system',\n",
              " 404: 'music',\n",
              " 405: 'famous',\n",
              " 406: 'each',\n",
              " 407: 'other',\n",
              " 408: 'healthy',\n",
              " 409: 'study',\n",
              " 410: 'zika',\n",
              " 411: 'another',\n",
              " 412: 'iran',\n",
              " 413: 'nuclear',\n",
              " 414: 'kardashian',\n",
              " 415: 'reality',\n",
              " 416: 'star',\n",
              " 417: 'possibility',\n",
              " 418: \"wasn't\",\n",
              " 419: 'dating',\n",
              " 420: 'tip',\n",
              " 421: 'early',\n",
              " 422: 'reflections',\n",
              " 423: 'davos',\n",
              " 424: 'leaders',\n",
              " 425: 'action',\n",
              " 426: 'paris',\n",
              " 427: 'asian',\n",
              " 428: 'autism',\n",
              " 429: 'keep',\n",
              " 430: 'embarrassing',\n",
              " 431: 'dress',\n",
              " 432: 'celebrating',\n",
              " 433: 'become',\n",
              " 434: 'stunning',\n",
              " 435: 'jews',\n",
              " 436: 'american',\n",
              " 437: 'let',\n",
              " 438: 'guns',\n",
              " 439: 'public',\n",
              " 440: 'network',\n",
              " 441: 'diarrhea',\n",
              " 442: 'ebola',\n",
              " 443: 'named',\n",
              " 444: 'might',\n",
              " 445: 'cave',\n",
              " 446: 'pope',\n",
              " 447: 'everyone',\n",
              " 448: 'green',\n",
              " 449: 'explore',\n",
              " 450: \"valentine's\",\n",
              " 451: 'forces',\n",
              " 452: 'fight',\n",
              " 453: 'lgbt',\n",
              " 454: 'sick',\n",
              " 455: 'flick',\n",
              " 456: 'blame',\n",
              " 457: 'james',\n",
              " 458: 'yo',\n",
              " 459: 'momma',\n",
              " 460: 'west',\n",
              " 461: 'disney',\n",
              " 462: 'run',\n",
              " 463: 'again',\n",
              " 464: 'six',\n",
              " 465: 'loudest',\n",
              " 466: 'members',\n",
              " 467: 'starting',\n",
              " 468: 'anyone',\n",
              " 469: 'else',\n",
              " 470: 'cheese',\n",
              " 471: 'ex',\n",
              " 472: 'box',\n",
              " 473: 'kill',\n",
              " 474: 'loves',\n",
              " 475: 'cats',\n",
              " 476: 'stadium',\n",
              " 477: 'army',\n",
              " 478: 'learning',\n",
              " 479: 'seat',\n",
              " 480: 'removes',\n",
              " 481: 'flag',\n",
              " 482: 'confederate',\n",
              " 483: 'cancellation',\n",
              " 484: 'blue',\n",
              " 485: 'across',\n",
              " 486: 'reporters',\n",
              " 487: 'holidays',\n",
              " 488: \"i'll\",\n",
              " 489: 'cover',\n",
              " 490: 'band',\n",
              " 491: 'book',\n",
              " 492: 'us',\n",
              " 493: 'accused',\n",
              " 494: 'shooting',\n",
              " 495: 'horse',\n",
              " 496: 'words',\n",
              " 497: \"you'll\",\n",
              " 498: 'put',\n",
              " 499: 'unless',\n",
              " 500: 'which',\n",
              " 501: 'street',\n",
              " 502: 'reindeer',\n",
              " 503: 'sentence',\n",
              " 504: 'plan',\n",
              " 505: 'very',\n",
              " 506: '12',\n",
              " 507: 'light',\n",
              " 508: 'czech',\n",
              " 509: 'manager',\n",
              " 510: 'muscle',\n",
              " 511: 'farmers',\n",
              " 512: 'important',\n",
              " 513: 'plays',\n",
              " 514: 'talks',\n",
              " 515: 'then',\n",
              " 516: 'bit',\n",
              " 517: 'fifth',\n",
              " 518: 'endangered',\n",
              " 519: 'elephant',\n",
              " 520: 'lawyer',\n",
              " 521: 'seeks',\n",
              " 522: 'release',\n",
              " 523: 'problems',\n",
              " 524: 'park',\n",
              " 525: 'keller',\n",
              " 526: 'give',\n",
              " 527: 'read',\n",
              " 528: '17',\n",
              " 529: 'drinking',\n",
              " 530: 'movie',\n",
              " 531: \"pirate's\",\n",
              " 532: 'visit',\n",
              " 533: 'fish',\n",
              " 534: 'during',\n",
              " 535: 'low',\n",
              " 536: 'pulls',\n",
              " 537: 'move',\n",
              " 538: 'warriors',\n",
              " 539: 'start',\n",
              " 540: 'still',\n",
              " 541: 'wrong',\n",
              " 542: 'explains',\n",
              " 543: \"she's\",\n",
              " 544: 'am',\n",
              " 545: 'spent',\n",
              " 546: 'cock',\n",
              " 547: 'ask',\n",
              " 548: 'living',\n",
              " 549: 'eggs',\n",
              " 550: 'golden',\n",
              " 551: 'stevie',\n",
              " 552: 'nice',\n",
              " 553: 'married',\n",
              " 554: 'republicans',\n",
              " 555: 'short',\n",
              " 556: 'cos',\n",
              " 557: 'legs',\n",
              " 558: 'barbie',\n",
              " 559: 'pregnant',\n",
              " 560: 'mental',\n",
              " 561: 'interview',\n",
              " 562: 'trevor',\n",
              " 563: 'project',\n",
              " 564: 'simple',\n",
              " 565: 'protesters',\n",
              " 566: 'walmart',\n",
              " 567: 'prefer',\n",
              " 568: 'sanders',\n",
              " 569: 'break',\n",
              " 570: 'huge',\n",
              " 571: 'missing',\n",
              " 572: 'whole',\n",
              " 573: 'left',\n",
              " 574: 'bartender',\n",
              " 575: 'him',\n",
              " 576: 'sorry',\n",
              " 577: 'react',\n",
              " 578: 'milk',\n",
              " 579: 'cook',\n",
              " 580: 'born',\n",
              " 581: 'winter',\n",
              " 582: 'storm',\n",
              " 583: 'yet',\n",
              " 584: 'part',\n",
              " 585: 'online',\n",
              " 586: 'beautiful',\n",
              " 587: 'wait',\n",
              " 588: 'party',\n",
              " 589: 'planet',\n",
              " 590: 'voice',\n",
              " 591: 'amy',\n",
              " 592: 'internet',\n",
              " 593: 'shampoo',\n",
              " 594: 'eyes',\n",
              " 595: 'few',\n",
              " 596: 'hey',\n",
              " 597: 'until',\n",
              " 598: 'bought',\n",
              " 599: 'bag',\n",
              " 600: 'add',\n",
              " 601: 'wanna',\n",
              " 602: 'exercise',\n",
              " 603: 'improve',\n",
              " 604: 'functioning',\n",
              " 605: 'hiv',\n",
              " 606: \"aren't\",\n",
              " 607: 'hollywood',\n",
              " 608: 'self',\n",
              " 609: 'fire',\n",
              " 610: 'known',\n",
              " 611: 'catch',\n",
              " 612: 'birth',\n",
              " 613: 'morning',\n",
              " 614: 'paper',\n",
              " 615: 'person',\n",
              " 616: 'piece',\n",
              " 617: 'hope',\n",
              " 618: 'v',\n",
              " 619: 'cut',\n",
              " 620: 'takes',\n",
              " 621: 'sized',\n",
              " 622: 'lead',\n",
              " 623: 'toddler',\n",
              " 624: 'noah',\n",
              " 625: 'helen',\n",
              " 626: 'stole',\n",
              " 627: 'doctor',\n",
              " 628: 'thank',\n",
              " 629: 'tonight',\n",
              " 630: 'dying',\n",
              " 631: 'pole',\n",
              " 632: 'lost',\n",
              " 633: 'books',\n",
              " 634: 'weapon',\n",
              " 635: 'since',\n",
              " 636: 'evolution',\n",
              " 637: 'actress',\n",
              " 638: 'digital',\n",
              " 639: 'dogs',\n",
              " 640: 'whats',\n",
              " 641: 'dawn',\n",
              " 642: 'd',\n",
              " 643: 'stuck',\n",
              " 644: 'bass',\n",
              " 645: \"america's\",\n",
              " 646: 'school',\n",
              " 647: 'slippery',\n",
              " 648: 'slope',\n",
              " 649: 'vegetable',\n",
              " 650: 'century',\n",
              " 651: 'steals',\n",
              " 652: 'summer',\n",
              " 653: 'ad',\n",
              " 654: 'sexual',\n",
              " 655: 'knew',\n",
              " 656: 'hit',\n",
              " 657: 'community',\n",
              " 658: 'control',\n",
              " 659: 'phone',\n",
              " 660: 'probably',\n",
              " 661: \"alzheimer's\",\n",
              " 662: 'list',\n",
              " 663: 'gives',\n",
              " 664: 'parent',\n",
              " 665: 'christie',\n",
              " 666: 'site',\n",
              " 667: 'took',\n",
              " 668: 'times',\n",
              " 669: 'age',\n",
              " 670: '2014',\n",
              " 671: 'fall',\n",
              " 672: 'necks',\n",
              " 673: '000',\n",
              " 674: 'crack',\n",
              " 675: 'magical',\n",
              " 676: 'record',\n",
              " 677: 'award',\n",
              " 678: 'ran',\n",
              " 679: 'john',\n",
              " 680: 'wall',\n",
              " 681: 'works',\n",
              " 682: 'heart',\n",
              " 683: 'america',\n",
              " 684: 'ultimate',\n",
              " 685: 'parents',\n",
              " 686: 'artificial',\n",
              " 687: 'chinese',\n",
              " 688: 'happened',\n",
              " 689: 'circle',\n",
              " 690: 'buys',\n",
              " 691: 'shitty',\n",
              " 692: 'humor',\n",
              " 693: \"that's\",\n",
              " 694: 'arrested',\n",
              " 695: 'chase',\n",
              " 696: '20',\n",
              " 697: 'drunken',\n",
              " 698: 'need',\n",
              " 699: 'magic',\n",
              " 700: 'leaving',\n",
              " 701: 'generation',\n",
              " 702: 'complex',\n",
              " 703: 'terrible',\n",
              " 704: 'campaigns',\n",
              " 705: 'asked',\n",
              " 706: 'buy',\n",
              " 707: 'tyrone',\n",
              " 708: 'loved',\n",
              " 709: 'cat',\n",
              " 710: 'movies',\n",
              " 711: 'santa',\n",
              " 712: 'children',\n",
              " 713: 'shades',\n",
              " 714: 'equation',\n",
              " 715: 'hes',\n",
              " 716: 'apple',\n",
              " 717: 'press',\n",
              " 718: 'bush',\n",
              " 719: 'believe',\n",
              " 720: 'ashton',\n",
              " 721: 'porn',\n",
              " 722: 'ecuador',\n",
              " 723: 'hi',\n",
              " 724: 'lions',\n",
              " 725: 'tour',\n",
              " 726: 'chuck',\n",
              " 727: 'norris',\n",
              " 728: 'babies',\n",
              " 729: 'price',\n",
              " 730: \"isn't\",\n",
              " 731: 'lasagna',\n",
              " 732: 'wear',\n",
              " 733: 'jewish',\n",
              " 734: 'twenty',\n",
              " 735: 'hamlet',\n",
              " 736: '2b',\n",
              " 737: 'fake',\n",
              " 738: 'rules',\n",
              " 739: 'joe',\n",
              " 740: 'bid',\n",
              " 741: \"'guys\",\n",
              " 742: \"running'\",\n",
              " 743: 'darvish',\n",
              " 744: 'hitter',\n",
              " 745: 'whiplash',\n",
              " 746: 'pitch',\n",
              " 747: 'turtle',\n",
              " 748: 'shell',\n",
              " 749: 'reasons',\n",
              " 750: 'feels',\n",
              " 751: 'personal',\n",
              " 752: 'pasco',\n",
              " 753: 'migrant',\n",
              " 754: 'behind',\n",
              " 755: 'martha',\n",
              " 756: 'stewart',\n",
              " 757: 'hideous',\n",
              " 758: 'responds',\n",
              " 759: 'accordingly',\n",
              " 760: \"master's\",\n",
              " 761: 'pasta',\n",
              " 762: 'wartortellini',\n",
              " 763: 'native',\n",
              " 764: 'rains',\n",
              " 765: 'mayflowers',\n",
              " 766: 'legacy',\n",
              " 767: 'impressive',\n",
              " 768: 'imperfect',\n",
              " 769: 'vulnerable',\n",
              " 770: 'cactus',\n",
              " 771: 'pricks',\n",
              " 772: 'mysterious',\n",
              " 773: 'rudy',\n",
              " 774: 'giuliani',\n",
              " 775: 'ted',\n",
              " 776: \"cruz's\",\n",
              " 777: 'relationships',\n",
              " 778: 'athletes',\n",
              " 779: 'chose',\n",
              " 780: 'takeaknee',\n",
              " 781: 'broken',\n",
              " 782: 'justice',\n",
              " 783: 'candy',\n",
              " 784: 'similar',\n",
              " 785: 'away',\n",
              " 786: 'rappers',\n",
              " 787: 'couples',\n",
              " 788: 'stay',\n",
              " 789: 'fit',\n",
              " 790: 'strong',\n",
              " 791: 'link',\n",
              " 792: 'guillain',\n",
              " 793: 'barre',\n",
              " 794: 'syndrome',\n",
              " 795: 'alec',\n",
              " 796: 'baldwin',\n",
              " 797: 'hilaria',\n",
              " 798: 'boy',\n",
              " 799: 'complying',\n",
              " 800: 'remains',\n",
              " 801: 'dangerous',\n",
              " 802: 'threat',\n",
              " 803: 'kim',\n",
              " 804: 'discusses',\n",
              " 805: \"'k'\",\n",
              " 806: 'fine',\n",
              " 807: 'p',\n",
              " 808: 'oscar',\n",
              " 809: 'nominations',\n",
              " 810: 'surprise',\n",
              " 811: 'date',\n",
              " 812: 'deliberate',\n",
              " 813: 'explanation',\n",
              " 814: 'cooking',\n",
              " 815: 'wok',\n",
              " 816: 'swimming',\n",
              " 817: 'toward',\n",
              " 818: 'brighter',\n",
              " 819: 'future',\n",
              " 820: 'introduced',\n",
              " 821: 'muffet',\n",
              " 822: 'gps',\n",
              " 823: 'tuffet',\n",
              " 824: 'losing',\n",
              " 825: 'whey',\n",
              " 826: 'pixelated',\n",
              " 827: \"'simpsons'\",\n",
              " 828: 'couch',\n",
              " 829: 'gag',\n",
              " 830: 'breakaway',\n",
              " 831: 'angry',\n",
              " 832: 'enough',\n",
              " 833: 'former',\n",
              " 834: 'british',\n",
              " 835: 'champ',\n",
              " 836: 'putting',\n",
              " 837: 'fail',\n",
              " 838: 'chrissy',\n",
              " 839: \"teigen's\",\n",
              " 840: 'grammy',\n",
              " 841: 'skintight',\n",
              " 842: 'ugh',\n",
              " 843: 'spilled',\n",
              " 844: 'wine',\n",
              " 845: 'tummy',\n",
              " 846: 'update',\n",
              " 847: 'save',\n",
              " 848: 'lives',\n",
              " 849: 'fourth',\n",
              " 850: 'july',\n",
              " 851: 'airport',\n",
              " 852: 'profiling',\n",
              " 853: 'bend',\n",
              " 854: 'shaped',\n",
              " 855: 'skyscraper',\n",
              " 856: 'longest',\n",
              " 857: 'oscars',\n",
              " 858: 'academy',\n",
              " 859: 'awards',\n",
              " 860: 'noses',\n",
              " 861: 'interesting',\n",
              " 862: 'fact',\n",
              " 863: 'actors',\n",
              " 864: 'australian',\n",
              " 865: 'chemistry',\n",
              " 866: 'reaction',\n",
              " 867: 'arkansas',\n",
              " 868: 'approves',\n",
              " 869: 'carry',\n",
              " 870: 'bars',\n",
              " 871: 'colleges',\n",
              " 872: 'paul',\n",
              " 873: 'mitchell',\n",
              " 874: 'genetic',\n",
              " 875: 'runs',\n",
              " 876: 'jeans',\n",
              " 877: 'sons',\n",
              " 878: 'africans',\n",
              " 879: 'breakfast',\n",
              " 880: 'cereal',\n",
              " 881: 'lol',\n",
              " 882: 'sci',\n",
              " 883: 'fi',\n",
              " 884: 'remake',\n",
              " 885: 'streetcar',\n",
              " 886: 'desire',\n",
              " 887: 'interstelllllllaaaaaaar',\n",
              " 888: 'clan',\n",
              " 889: 'barbarians',\n",
              " 890: 'invisigoths',\n",
              " 891: 'recursion',\n",
              " 892: \"shouldn't\",\n",
              " 893: 'peek',\n",
              " 894: 'chu',\n",
              " 895: 'stolen',\n",
              " 896: 'moment',\n",
              " 897: 'andy',\n",
              " 898: 'ofiesh',\n",
              " 899: 'kaytlin',\n",
              " 900: 'bailey',\n",
              " 901: 'creek',\n",
              " 902: 'welcomes',\n",
              " 903: 'francis',\n",
              " 904: 'families',\n",
              " 905: 'saturday',\n",
              " 906: 'afternoon',\n",
              " 907: 'peck',\n",
              " 908: 'nics',\n",
              " 909: 'hiring',\n",
              " 910: 'cleaning',\n",
              " 911: 'company',\n",
              " 912: 'america’s',\n",
              " 913: 'marine',\n",
              " 914: 'sanctuaries',\n",
              " 915: 'wet',\n",
              " 916: 'glory',\n",
              " 917: 'jcpenny',\n",
              " 918: 'teenagers',\n",
              " 919: 'conversation',\n",
              " 920: 'cackles',\n",
              " 921: 'mirth',\n",
              " 922: 'dinner',\n",
              " 923: 'stress',\n",
              " 924: 'worry',\n",
              " 925: 'broadway',\n",
              " 926: 'stars',\n",
              " 927: 'join',\n",
              " 928: \"carolina's\",\n",
              " 929: 'birthday',\n",
              " 930: '52',\n",
              " 931: 'days',\n",
              " 932: 'trap',\n",
              " 933: 'safer',\n",
              " 934: 'switch',\n",
              " 935: 'refuses',\n",
              " 936: \"'not\",\n",
              " 937: \"done'\",\n",
              " 938: 'whose',\n",
              " 939: 'hitch',\n",
              " 940: 'hiking',\n",
              " 941: 'stranded',\n",
              " 942: 'lebron',\n",
              " 943: 'totally',\n",
              " 944: 'deny',\n",
              " 945: 'starring',\n",
              " 946: \"'space\",\n",
              " 947: 'jam',\n",
              " 948: \"2'\",\n",
              " 949: 'minorities',\n",
              " 950: 'juan',\n",
              " 951: 'jamaul',\n",
              " 952: 'eve',\n",
              " 953: 'ensler',\n",
              " 954: 'topple',\n",
              " 955: 'patriarchy',\n",
              " 956: \"'revolutionary\",\n",
              " 957: \"love'\",\n",
              " 958: 'ugly',\n",
              " 959: 'portraits',\n",
              " 960: 'hang',\n",
              " 961: 'themselves',\n",
              " 962: 'kanye',\n",
              " 963: 'opening',\n",
              " 964: '21',\n",
              " 965: 'pablo',\n",
              " 966: 'pop',\n",
              " 967: 'shops',\n",
              " 968: 'leftover',\n",
              " 969: 'champagne',\n",
              " 970: 'fancy',\n",
              " 971: 'vinegar',\n",
              " 972: 'mesmerizing',\n",
              " 973: 'lapse',\n",
              " 974: 'bedroom',\n",
              " 975: 'forgot',\n",
              " 976: 'dishwasher',\n",
              " 977: 'resume',\n",
              " 978: 'design',\n",
              " 979: 'tracking',\n",
              " 980: 'seekers',\n",
              " 981: 'seconds',\n",
              " 982: 'impression',\n",
              " 983: 'dealing',\n",
              " 984: 'severe',\n",
              " 985: 'viagra',\n",
              " 986: 'addiction',\n",
              " 987: 'phil',\n",
              " 988: 'collins',\n",
              " 989: 'cancels',\n",
              " 990: 'comeback',\n",
              " 991: 'rushed',\n",
              " 992: 'nicknamed',\n",
              " 993: 'melody',\n",
              " 994: '121',\n",
              " 995: 'restrictions',\n",
              " 996: 'violence',\n",
              " 997: 'research',\n",
              " 998: \"how's\",\n",
              " 999: 'sentences',\n",
              " 1000: 'matter',\n",
              " ...}"
            ]
          },
          "metadata": {},
          "execution_count": 30
        }
      ]
    },
    {
      "cell_type": "code",
      "metadata": {
        "id": "gJgVhq1zwEpf",
        "colab": {
          "base_uri": "https://localhost:8080/"
        },
        "outputId": "d7790307-4efb-499b-b192-0986380d2ed4"
      },
      "source": [
        "# Cantidad de palabras en el vocabulario\n",
        "vocab_size = len(tok.word_counts)\n",
        "vocab_size"
      ],
      "execution_count": 31,
      "outputs": [
        {
          "output_type": "execute_result",
          "data": {
            "text/plain": [
              "2600"
            ]
          },
          "metadata": {},
          "execution_count": 31
        }
      ]
    },
    {
      "cell_type": "code",
      "metadata": {
        "id": "wKV85M2uwKJ9"
      },
      "source": [
        "# Transformar los datos a oneHotEncoding\n",
        "#y_data = to_categorical(y_data_int, num_classes=vocab_size)"
      ],
      "execution_count": 32,
      "outputs": []
    },
    {
      "cell_type": "code",
      "metadata": {
        "id": "qWjNrNx9wM1b",
        "colab": {
          "base_uri": "https://localhost:8080/"
        },
        "outputId": "99158a1a-889d-4bd7-aaf3-3e9aa58ea6b2"
      },
      "source": [
        "# En el caso anterior explota porque y_data_int comienza en \"1\" en vez de \"0\"\n",
        "# valor minimo:\n",
        "min(y_data_int)"
      ],
      "execution_count": 33,
      "outputs": [
        {
          "output_type": "execute_result",
          "data": {
            "text/plain": [
              "1"
            ]
          },
          "metadata": {},
          "execution_count": 33
        }
      ]
    },
    {
      "cell_type": "code",
      "metadata": {
        "id": "gIg2e2WCwXbG",
        "colab": {
          "base_uri": "https://localhost:8080/"
        },
        "outputId": "93b40afb-7910-47d2-ca66-84cafef5a131"
      },
      "source": [
        "y_data_int_offset = y_data_int - 1\n",
        "y_data = to_categorical(y_data_int_offset, num_classes=vocab_size) \n",
        "y_data.shape"
      ],
      "execution_count": 34,
      "outputs": [
        {
          "output_type": "execute_result",
          "data": {
            "text/plain": [
              "(6448, 2600)"
            ]
          },
          "metadata": {},
          "execution_count": 34
        }
      ]
    },
    {
      "cell_type": "markdown",
      "metadata": {
        "id": "GmJWNyxQwfCE"
      },
      "source": [
        "### 4 - Entrenar el modelo"
      ]
    },
    {
      "cell_type": "code",
      "metadata": {
        "id": "0cOmNZT_weK2",
        "colab": {
          "base_uri": "https://localhost:8080/"
        },
        "outputId": "69b2b283-d5cd-49c2-d004-b2ecc7af62fd"
      },
      "source": [
        "# largo de la secuencia de entrada\n",
        "input_seq_len = x_data.shape[1] \n",
        "input_seq_len"
      ],
      "execution_count": 35,
      "outputs": [
        {
          "output_type": "execute_result",
          "data": {
            "text/plain": [
              "3"
            ]
          },
          "metadata": {},
          "execution_count": 35
        }
      ]
    },
    {
      "cell_type": "code",
      "metadata": {
        "id": "qtwITjgnwlgp",
        "colab": {
          "base_uri": "https://localhost:8080/"
        },
        "outputId": "eee9cbc7-0048-4dff-e1e4-6f3dc0eace31"
      },
      "source": [
        "# Largo del vector de salida --> vocab_size\n",
        "output_size = vocab_size\n",
        "output_size"
      ],
      "execution_count": 36,
      "outputs": [
        {
          "output_type": "execute_result",
          "data": {
            "text/plain": [
              "2600"
            ]
          },
          "metadata": {},
          "execution_count": 36
        }
      ]
    },
    {
      "cell_type": "code",
      "metadata": {
        "id": "jzTZRXrrwrvi",
        "colab": {
          "base_uri": "https://localhost:8080/"
        },
        "outputId": "41814335-6707-430c-db3c-3a0525a8dc74"
      },
      "source": [
        "model = Sequential()\n",
        "\n",
        "# Embedding:\n",
        "# input_seq_len = 3 --> ingreso 3 palabras\n",
        "# input_dim = vocab_size --> 1628 palabras distintas\n",
        "# output_dim = 5 --> crear embeddings de tamaño 3 (tamaño variable y ajustable)\n",
        "model.add(Embedding(input_dim=vocab_size+1, output_dim=5, input_length=input_seq_len))\n",
        "\n",
        "model.add(LSTM(64, return_sequences=True))\n",
        "model.add(Dropout(0.2))\n",
        "model.add(LSTM(64)) # La última capa LSTM no lleva return_sequences\n",
        "model.add(Dense(32, activation='relu'))\n",
        "\n",
        "# Predicción de clasificación con softmax\n",
        "# La salida vuelve al espacio de 1628 palabras posibles\n",
        "model.add(Dense(vocab_size, activation='softmax'))\n",
        "\n",
        "# Clasificación multiple categórica --> loss = categorical_crossentropy\n",
        "model.compile(loss='categorical_crossentropy', optimizer='adam', metrics=['accuracy'])\n",
        "\n",
        "model.summary()"
      ],
      "execution_count": 37,
      "outputs": [
        {
          "output_type": "stream",
          "name": "stdout",
          "text": [
            "Model: \"sequential\"\n",
            "_________________________________________________________________\n",
            " Layer (type)                Output Shape              Param #   \n",
            "=================================================================\n",
            " embedding (Embedding)       (None, 3, 5)              13005     \n",
            "                                                                 \n",
            " lstm (LSTM)                 (None, 3, 64)             17920     \n",
            "                                                                 \n",
            " dropout (Dropout)           (None, 3, 64)             0         \n",
            "                                                                 \n",
            " lstm_1 (LSTM)               (None, 64)                33024     \n",
            "                                                                 \n",
            " dense (Dense)               (None, 32)                2080      \n",
            "                                                                 \n",
            " dense_1 (Dense)             (None, 2600)              85800     \n",
            "                                                                 \n",
            "=================================================================\n",
            "Total params: 151,829\n",
            "Trainable params: 151,829\n",
            "Non-trainable params: 0\n",
            "_________________________________________________________________\n"
          ]
        }
      ]
    },
    {
      "cell_type": "code",
      "metadata": {
        "id": "oQq1PHDkxDvN",
        "colab": {
          "base_uri": "https://localhost:8080/"
        },
        "outputId": "53ca6fc9-87a4-4722-a765-31f805f94a2b"
      },
      "source": [
        "hist = model.fit(x_data, y_data, epochs=50, validation_split=0.2)"
      ],
      "execution_count": 38,
      "outputs": [
        {
          "output_type": "stream",
          "name": "stdout",
          "text": [
            "Epoch 1/50\n",
            "162/162 [==============================] - 12s 19ms/step - loss: 7.4474 - accuracy: 0.0370 - val_loss: 7.3018 - val_accuracy: 0.0310\n",
            "Epoch 2/50\n",
            "162/162 [==============================] - 2s 12ms/step - loss: 6.8714 - accuracy: 0.0403 - val_loss: 7.5391 - val_accuracy: 0.0310\n",
            "Epoch 3/50\n",
            "162/162 [==============================] - 2s 13ms/step - loss: 6.7550 - accuracy: 0.0403 - val_loss: 7.7225 - val_accuracy: 0.0310\n",
            "Epoch 4/50\n",
            "162/162 [==============================] - 2s 12ms/step - loss: 6.6704 - accuracy: 0.0399 - val_loss: 8.0812 - val_accuracy: 0.0310\n",
            "Epoch 5/50\n",
            "162/162 [==============================] - 2s 12ms/step - loss: 6.5995 - accuracy: 0.0405 - val_loss: 8.0290 - val_accuracy: 0.0310\n",
            "Epoch 6/50\n",
            "162/162 [==============================] - 2s 12ms/step - loss: 6.5174 - accuracy: 0.0403 - val_loss: 8.3082 - val_accuracy: 0.0310\n",
            "Epoch 7/50\n",
            "162/162 [==============================] - 2s 13ms/step - loss: 6.4503 - accuracy: 0.0407 - val_loss: 8.3645 - val_accuracy: 0.0302\n",
            "Epoch 8/50\n",
            "162/162 [==============================] - 2s 13ms/step - loss: 6.4063 - accuracy: 0.0409 - val_loss: 8.5450 - val_accuracy: 0.0310\n",
            "Epoch 9/50\n",
            "162/162 [==============================] - 2s 13ms/step - loss: 6.3756 - accuracy: 0.0405 - val_loss: 8.7042 - val_accuracy: 0.0295\n",
            "Epoch 10/50\n",
            "162/162 [==============================] - 2s 12ms/step - loss: 6.3460 - accuracy: 0.0409 - val_loss: 8.9296 - val_accuracy: 0.0279\n",
            "Epoch 11/50\n",
            "162/162 [==============================] - 2s 12ms/step - loss: 6.3230 - accuracy: 0.0405 - val_loss: 9.0522 - val_accuracy: 0.0279\n",
            "Epoch 12/50\n",
            "162/162 [==============================] - 2s 13ms/step - loss: 6.2990 - accuracy: 0.0403 - val_loss: 9.2191 - val_accuracy: 0.0287\n",
            "Epoch 13/50\n",
            "162/162 [==============================] - 2s 13ms/step - loss: 6.2778 - accuracy: 0.0394 - val_loss: 9.1760 - val_accuracy: 0.0287\n",
            "Epoch 14/50\n",
            "162/162 [==============================] - 2s 13ms/step - loss: 6.2552 - accuracy: 0.0409 - val_loss: 9.1475 - val_accuracy: 0.0264\n",
            "Epoch 15/50\n",
            "162/162 [==============================] - 2s 13ms/step - loss: 6.2346 - accuracy: 0.0397 - val_loss: 9.3639 - val_accuracy: 0.0264\n",
            "Epoch 16/50\n",
            "162/162 [==============================] - 2s 13ms/step - loss: 6.2013 - accuracy: 0.0399 - val_loss: 9.5874 - val_accuracy: 0.0256\n",
            "Epoch 17/50\n",
            "162/162 [==============================] - 2s 13ms/step - loss: 6.1391 - accuracy: 0.0409 - val_loss: 9.4807 - val_accuracy: 0.0279\n",
            "Epoch 18/50\n",
            "162/162 [==============================] - 2s 13ms/step - loss: 6.0676 - accuracy: 0.0430 - val_loss: 9.4741 - val_accuracy: 0.0256\n",
            "Epoch 19/50\n",
            "162/162 [==============================] - 2s 13ms/step - loss: 6.0123 - accuracy: 0.0427 - val_loss: 9.8338 - val_accuracy: 0.0310\n",
            "Epoch 20/50\n",
            "162/162 [==============================] - 2s 13ms/step - loss: 5.9649 - accuracy: 0.0423 - val_loss: 9.9619 - val_accuracy: 0.0248\n",
            "Epoch 21/50\n",
            "162/162 [==============================] - 2s 12ms/step - loss: 5.9159 - accuracy: 0.0440 - val_loss: 9.9255 - val_accuracy: 0.0295\n",
            "Epoch 22/50\n",
            "162/162 [==============================] - 2s 13ms/step - loss: 5.8728 - accuracy: 0.0440 - val_loss: 9.7981 - val_accuracy: 0.0233\n",
            "Epoch 23/50\n",
            "162/162 [==============================] - 2s 13ms/step - loss: 5.8404 - accuracy: 0.0434 - val_loss: 10.4087 - val_accuracy: 0.0248\n",
            "Epoch 24/50\n",
            "162/162 [==============================] - 2s 13ms/step - loss: 5.8064 - accuracy: 0.0456 - val_loss: 10.7413 - val_accuracy: 0.0271\n",
            "Epoch 25/50\n",
            "162/162 [==============================] - 2s 15ms/step - loss: 5.7685 - accuracy: 0.0440 - val_loss: 10.5753 - val_accuracy: 0.0256\n",
            "Epoch 26/50\n",
            "162/162 [==============================] - 3s 18ms/step - loss: 5.7294 - accuracy: 0.0450 - val_loss: 10.6633 - val_accuracy: 0.0248\n",
            "Epoch 27/50\n",
            "162/162 [==============================] - 2s 13ms/step - loss: 5.6912 - accuracy: 0.0432 - val_loss: 10.8202 - val_accuracy: 0.0233\n",
            "Epoch 28/50\n",
            "162/162 [==============================] - 2s 13ms/step - loss: 5.6505 - accuracy: 0.0487 - val_loss: 11.1109 - val_accuracy: 0.0209\n",
            "Epoch 29/50\n",
            "162/162 [==============================] - 3s 16ms/step - loss: 5.6098 - accuracy: 0.0452 - val_loss: 11.3889 - val_accuracy: 0.0202\n",
            "Epoch 30/50\n",
            "162/162 [==============================] - 2s 14ms/step - loss: 5.5564 - accuracy: 0.0463 - val_loss: 11.5557 - val_accuracy: 0.0178\n",
            "Epoch 31/50\n",
            "162/162 [==============================] - 2s 13ms/step - loss: 5.5015 - accuracy: 0.0491 - val_loss: 11.9413 - val_accuracy: 0.0225\n",
            "Epoch 32/50\n",
            "162/162 [==============================] - 2s 13ms/step - loss: 5.4397 - accuracy: 0.0518 - val_loss: 12.2653 - val_accuracy: 0.0248\n",
            "Epoch 33/50\n",
            "162/162 [==============================] - 2s 13ms/step - loss: 5.3859 - accuracy: 0.0510 - val_loss: 12.7013 - val_accuracy: 0.0202\n",
            "Epoch 34/50\n",
            "162/162 [==============================] - 2s 13ms/step - loss: 5.3286 - accuracy: 0.0556 - val_loss: 13.0491 - val_accuracy: 0.0178\n",
            "Epoch 35/50\n",
            "162/162 [==============================] - 2s 13ms/step - loss: 5.2732 - accuracy: 0.0585 - val_loss: 13.3494 - val_accuracy: 0.0186\n",
            "Epoch 36/50\n",
            "162/162 [==============================] - 2s 13ms/step - loss: 5.2026 - accuracy: 0.0558 - val_loss: 13.7739 - val_accuracy: 0.0248\n",
            "Epoch 37/50\n",
            "162/162 [==============================] - 2s 13ms/step - loss: 5.1347 - accuracy: 0.0591 - val_loss: 14.2972 - val_accuracy: 0.0225\n",
            "Epoch 38/50\n",
            "162/162 [==============================] - 2s 13ms/step - loss: 5.0803 - accuracy: 0.0599 - val_loss: 14.6835 - val_accuracy: 0.0202\n",
            "Epoch 39/50\n",
            "162/162 [==============================] - 2s 13ms/step - loss: 5.0194 - accuracy: 0.0632 - val_loss: 15.0392 - val_accuracy: 0.0217\n",
            "Epoch 40/50\n",
            "162/162 [==============================] - 2s 13ms/step - loss: 4.9689 - accuracy: 0.0646 - val_loss: 15.0237 - val_accuracy: 0.0209\n",
            "Epoch 41/50\n",
            "162/162 [==============================] - 2s 13ms/step - loss: 4.9129 - accuracy: 0.0680 - val_loss: 15.8388 - val_accuracy: 0.0217\n",
            "Epoch 42/50\n",
            "162/162 [==============================] - 2s 13ms/step - loss: 4.8521 - accuracy: 0.0680 - val_loss: 15.8459 - val_accuracy: 0.0225\n",
            "Epoch 43/50\n",
            "162/162 [==============================] - 2s 13ms/step - loss: 4.8072 - accuracy: 0.0682 - val_loss: 16.3175 - val_accuracy: 0.0202\n",
            "Epoch 44/50\n",
            "162/162 [==============================] - 2s 14ms/step - loss: 4.7550 - accuracy: 0.0758 - val_loss: 16.7387 - val_accuracy: 0.0202\n",
            "Epoch 45/50\n",
            "162/162 [==============================] - 2s 14ms/step - loss: 4.7110 - accuracy: 0.0770 - val_loss: 17.3928 - val_accuracy: 0.0209\n",
            "Epoch 46/50\n",
            "162/162 [==============================] - 2s 15ms/step - loss: 4.6682 - accuracy: 0.0795 - val_loss: 18.0870 - val_accuracy: 0.0240\n",
            "Epoch 47/50\n",
            "162/162 [==============================] - 2s 14ms/step - loss: 4.6254 - accuracy: 0.0820 - val_loss: 18.2425 - val_accuracy: 0.0186\n",
            "Epoch 48/50\n",
            "162/162 [==============================] - 2s 13ms/step - loss: 4.5665 - accuracy: 0.0791 - val_loss: 18.7737 - val_accuracy: 0.0171\n",
            "Epoch 49/50\n",
            "162/162 [==============================] - 2s 14ms/step - loss: 4.5290 - accuracy: 0.0830 - val_loss: 18.8901 - val_accuracy: 0.0186\n",
            "Epoch 50/50\n",
            "162/162 [==============================] - 2s 14ms/step - loss: 4.4923 - accuracy: 0.0857 - val_loss: 18.9620 - val_accuracy: 0.0194\n"
          ]
        }
      ]
    },
    {
      "cell_type": "code",
      "metadata": {
        "id": "q_orBXOrCsNn",
        "colab": {
          "base_uri": "https://localhost:8080/",
          "height": 265
        },
        "outputId": "55fc5576-fe36-412d-f9fd-24859acb6f09"
      },
      "source": [
        "import matplotlib.pyplot as plt\n",
        "import seaborn as sns\n",
        "\n",
        "# Entrenamiento\n",
        "epoch_count = range(1, len(hist.history['accuracy']) + 1)\n",
        "sns.lineplot(x=epoch_count,  y=hist.history['accuracy'], label='train')\n",
        "sns.lineplot(x=epoch_count,  y=hist.history['val_accuracy'], label='valid')\n",
        "plt.show()"
      ],
      "execution_count": 39,
      "outputs": [
        {
          "output_type": "display_data",
          "data": {
            "text/plain": [
              "<Figure size 432x288 with 1 Axes>"
            ],
            "image/png": "[encoded data removed]"
          },
          "metadata": {
            "needs_background": "light"
          }
        }
      ]
    },
    {
      "cell_type": "markdown",
      "metadata": {
        "id": "KN6Fg_BsxJe6"
      },
      "source": [
        "### 5 - Predicción de próxima palabra"
      ]
    },
    {
      "cell_type": "code",
      "metadata": {
        "id": "iy_AXWQWzeeE"
      },
      "source": [
        "# Keras pad_sequences\n",
        "# https://www.tensorflow.org/api_docs/python/tf/keras/preprocessing/sequence/pad_sequences\n",
        "# Si la secuencia de entrada supera al input_seq_len (3) se trunca\n",
        "# Si la secuencia es más corta se agregna ceros al comienzo"
      ],
      "execution_count": 40,
      "outputs": []
    },
    {
      "cell_type": "code",
      "metadata": {
        "id": "IBvKHFPmzpy2",
        "colab": {
          "base_uri": "https://localhost:8080/"
        },
        "outputId": "b14ecb08-0556-4f07-91d1-a3306e8ee30a"
      },
      "source": [
        "# Se utilizará gradio para ensayar el modelo\n",
        "# Herramienta poderosa para crear interfaces rápidas para ensayar modelos\n",
        "# https://gradio.app/\n",
        "import sys\n",
        "!{sys.executable} -m pip install gradio --quiet"
      ],
      "execution_count": 41,
      "outputs": [
        {
          "output_type": "stream",
          "name": "stdout",
          "text": [
            "\u001b[K     |████████████████████████████████| 2.9 MB 5.5 MB/s \n",
            "\u001b[K     |████████████████████████████████| 2.0 MB 32.6 MB/s \n",
            "\u001b[K     |████████████████████████████████| 253 kB 39.8 MB/s \n",
            "\u001b[K     |████████████████████████████████| 54 kB 2.2 MB/s \n",
            "\u001b[K     |████████████████████████████████| 53 kB 1.7 MB/s \n",
            "\u001b[K     |████████████████████████████████| 84 kB 2.8 MB/s \n",
            "\u001b[K     |████████████████████████████████| 1.1 MB 28.6 MB/s \n",
            "\u001b[K     |████████████████████████████████| 211 kB 43.9 MB/s \n",
            "\u001b[K     |████████████████████████████████| 271 kB 45.6 MB/s \n",
            "\u001b[K     |████████████████████████████████| 94 kB 2.8 MB/s \n",
            "\u001b[K     |████████████████████████████████| 144 kB 42.0 MB/s \n",
            "\u001b[K     |████████████████████████████████| 58 kB 5.2 MB/s \n",
            "\u001b[K     |████████████████████████████████| 10.9 MB 33.2 MB/s \n",
            "\u001b[K     |████████████████████████████████| 79 kB 6.6 MB/s \n",
            "\u001b[K     |████████████████████████████████| 43 kB 1.7 MB/s \n",
            "\u001b[K     |████████████████████████████████| 856 kB 42.2 MB/s \n",
            "\u001b[K     |████████████████████████████████| 61 kB 392 kB/s \n",
            "\u001b[K     |████████████████████████████████| 3.6 MB 35.0 MB/s \n",
            "\u001b[K     |████████████████████████████████| 58 kB 5.1 MB/s \n",
            "\u001b[?25h  Building wheel for ffmpy (setup.py) ... \u001b[?25l\u001b[?25hdone\n",
            "  Building wheel for python-multipart (setup.py) ... \u001b[?25l\u001b[?25hdone\n"
          ]
        }
      ]
    },
    {
      "cell_type": "code",
      "metadata": {
        "id": "HNyBykvhzs7-",
        "colab": {
          "base_uri": "https://localhost:8080/",
          "height": 660
        },
        "outputId": "6b100207-9dbd-4191-9c3d-a5cc358abd16"
      },
      "source": [
        "import gradio as gr\n",
        "\n",
        "def model_response(human_text):\n",
        "\n",
        "    # Encodeamos\n",
        "    encoded = tok.texts_to_sequences([human_text])[0]\n",
        "    # Si tienen distinto largo\n",
        "    encoded = pad_sequences([encoded], maxlen=3, padding='pre')\n",
        "    \n",
        "    # Predicción softmax\n",
        "    y_hat = model.predict(encoded).argmax(axis=-1)\n",
        "\n",
        "    # Debemos buscar en el vocabulario la palabra\n",
        "    # que corresopnde al indice (y_hat) predicho por le modelo\n",
        "    out_word = ''\n",
        "    for word, index in tok.word_index.items():\n",
        "        if index == y_hat:\n",
        "            out_word = word\n",
        "            break\n",
        "\n",
        "    # Agrego la palabra a la frase predicha\n",
        "    return human_text + ' ' + out_word\n",
        "\n",
        "iface = gr.Interface(\n",
        "    fn=model_response,\n",
        "    inputs=[\"textbox\"],\n",
        "    outputs=\"text\",\n",
        "    layout=\"vertical\")\n",
        "\n",
        "iface.launch(debug=True)"
      ],
      "execution_count": 42,
      "outputs": [
        {
          "output_type": "stream",
          "name": "stdout",
          "text": [
            "Colab notebook detected. This cell will run indefinitely so that you can see errors and logs. To turn off, set debug=False in launch().\n",
            "Running on public URL: https://14192.gradio.app\n",
            "\n",
            "This share link expires in 72 hours. For free permanent hosting, check out Spaces (https://huggingface.co/spaces)\n"
          ]
        },
        {
          "output_type": "display_data",
          "data": {
            "text/plain": [
              "<IPython.lib.display.IFrame at 0x7f7843870790>"
            ],
            "text/html": [
              "\n",
              "        <iframe\n",
              "            width=\"900\"\n",
              "            height=\"500\"\n",
              "            src=\"https://14192.gradio.app\"\n",
              "            frameborder=\"0\"\n",
              "            allowfullscreen\n",
              "        ></iframe>\n",
              "        "
            ]
          },
          "metadata": {}
        },
        {
          "output_type": "stream",
          "name": "stdout",
          "text": [
            "Keyboard interruption in main thread... closing server.\n"
          ]
        },
        {
          "output_type": "execute_result",
          "data": {
            "text/plain": [
              "(<fastapi.applications.FastAPI at 0x7f7845a99190>,\n",
              " 'http://127.0.0.1:7860/',\n",
              " 'https://14192.gradio.app')"
            ]
          },
          "metadata": {},
          "execution_count": 42
        }
      ]
    },
    {
      "cell_type": "markdown",
      "metadata": {
        "id": "mCeMWWupxN1-"
      },
      "source": [
        "### 6 - Generación de secuencias nuevas"
      ]
    },
    {
      "cell_type": "code",
      "metadata": {
        "id": "bwbS_pfhxvB3"
      },
      "source": [
        "def generate_seq(model, tokenizer, seed_text, max_length, n_words):\n",
        "    \"\"\"\n",
        "        Exec model sequence prediction\n",
        "\n",
        "        Args:\n",
        "            model (keras): modelo entrenado\n",
        "            tokenizer (keras tokenizer): tonenizer utilizado en el preprocesamiento\n",
        "            seed_text (string): texto de entrada (input_seq)\n",
        "            max_length (int): máxima longitud de la sequencia de entrada\n",
        "            n_words (int): números de palabras a agregar a la sequencia de entrada\n",
        "        returns:\n",
        "            output_text (string): sentencia con las \"n_words\" agregadas\n",
        "    \"\"\"\n",
        "    output_text = seed_text\n",
        "\t# generate a fixed number of words\n",
        "    for _ in range(n_words):\n",
        "\t\t# Encodeamos\n",
        "        encoded = tokenizer.texts_to_sequences([output_text])[0]\n",
        "\t\t# Si tienen distinto largo\n",
        "        encoded = pad_sequences([encoded], maxlen=max_length, padding='pre')\n",
        "\t\t\n",
        "\t\t# Predicción softmax\n",
        "        y_hat = model.predict(encoded).argmax(axis=-1)\n",
        "\t\t# Vamos concatenando las predicciones\n",
        "        out_word = ''\n",
        "\n",
        "        # Debemos buscar en el vocabulario la palabra\n",
        "        # que corresopnde al indice (y_hat) predicho por le modelo\n",
        "        for word, index in tokenizer.word_index.items():\n",
        "            if index == y_hat:\n",
        "                out_word = word\n",
        "                break\n",
        "\n",
        "\t\t# Agrego las palabras a la frase predicha\n",
        "        output_text += ' ' + out_word\n",
        "    return output_text"
      ],
      "execution_count": 45,
      "outputs": []
    },
    {
      "cell_type": "code",
      "metadata": {
        "id": "JoFqRC5pxzqS",
        "colab": {
          "base_uri": "https://localhost:8080/",
          "height": 35
        },
        "outputId": "6e4313f2-69c6-457f-d78c-9a472cb8afe4"
      },
      "source": [
        "input_text='the police aren\\'t'\n",
        "\n",
        "generate_seq(model, tok, input_text, max_length=3, n_words=9)"
      ],
      "execution_count": 56,
      "outputs": [
        {
          "output_type": "execute_result",
          "data": {
            "text/plain": [
              "\"the police aren't the crisis set relationship step valentine's to imagine finds\""
            ],
            "application/vnd.google.colaboratory.intrinsic+json": {
              "type": "string"
            }
          },
          "metadata": {},
          "execution_count": 56
        }
      ]
    },
    {
      "cell_type": "code",
      "metadata": {
        "colab": {
          "base_uri": "https://localhost:8080/",
          "height": 35
        },
        "outputId": "21ad665b-b354-4e82-b05a-75029e5f2769",
        "id": "2rlCu4STauch"
      },
      "source": [
        "input_text='the reason is\\'t'\n",
        "\n",
        "generate_seq(model, tok, input_text, max_length=3, n_words=20)"
      ],
      "execution_count": 60,
      "outputs": [
        {
          "output_type": "execute_result",
          "data": {
            "text/plain": [
              "\"the reason is't because born disneyland day step fits i aren't the one student an if shows my video more an is on\""
            ],
            "application/vnd.google.colaboratory.intrinsic+json": {
              "type": "string"
            }
          },
          "metadata": {},
          "execution_count": 60
        }
      ]
    },
    {
      "cell_type": "markdown",
      "metadata": {
        "id": "T2SHmXbgxQH9"
      },
      "source": [
        "### 7 - Conclusiones\n",
        "El modelo entrenado tuvo un muy mail desempeño en el entrenamiento además de overfitting. Cuestiones que podrían mejorarse:\n",
        "- Agregar más capas o neuronaes\n",
        "- Incrementar la cantidad de épocas\n",
        "- Agregar BRNN\n",
        "\n",
        "Es importante destacar que en este ejemplo estamos entrenando nuestro propios Embeddings, y para ello se requiere mucha data. En los ejemplos que realizaremos de aquí en más utilizaremos más datos, embeddings pre-enternados o modelos pre-entrenados."
      ]
    }
  ]
}