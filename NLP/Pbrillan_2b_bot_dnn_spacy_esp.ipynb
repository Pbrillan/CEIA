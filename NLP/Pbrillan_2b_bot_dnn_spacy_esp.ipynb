{
  "cells": [
    {
      "cell_type": "markdown",
      "metadata": {
        "id": "view-in-github",
        "colab_type": "text"
      },
      "source": [
        "<a href=\"https://colab.research.google.com/github/Pbrillan/CEIA/blob/main/NLP/Pbrillan_2b_bot_dnn_spacy_esp.ipynb\" target=\"_parent\"><img src=\"https://colab.research.google.com/assets/colab-badge.svg\" alt=\"Open In Colab\"/></a>"
      ]
    },
    {
      "cell_type": "markdown",
      "metadata": {
        "id": "NV8wZ0MTKjv_"
      },
      "source": [
        "<img src=\"https://github.com/hernancontigiani/ceia_memorias_especializacion/raw/master/Figures/logoFIUBA.jpg\" width=\"500\" align=\"center\">\n",
        "\n",
        "\n",
        "# Procesamiento de lenguaje natural\n",
        "## Bot basado en reglas con DNN + Spacy"
      ]
    },
    {
      "cell_type": "markdown",
      "metadata": {
        "id": "Z_9z3H-yKrcK"
      },
      "source": [
        "#### Datos\n",
        "Este ejemplo se inspiró en otro Bot en inglés creado con NLTK, lo tienen como referencia para hacer lo mismo en inglés:\\\n",
        "[LINK](https://towardsdatascience.com/a-simple-chatbot-in-python-with-deep-learning-3e8669997758)"
      ]
    },
    {
      "cell_type": "markdown",
      "metadata": {
        "id": "oCVZakCzAjGN"
      },
      "source": [
        "### 1 - Instalar dependencias\n",
        "Para poder utilizar Spacy en castellano es necesario agregar la librería \"spacy-stanza\" para lematizar palabras en español."
      ]
    },
    {
      "cell_type": "code",
      "execution_count": 1,
      "metadata": {
        "id": "Zd8NLa4gsSmT"
      },
      "outputs": [],
      "source": [
        "# La última versión de spacy-stanza (>1.0) es compatible solo con spacy >=3.0\n",
        "# Nota: spacy 3.0 incorpora al pepiline nlp transformers\n",
        "!pip install -U spacy==3.1 --quiet\n",
        "!pip install -U spacy-stanza==1.0.0 --quiet"
      ]
    },
    {
      "cell_type": "code",
      "execution_count": 2,
      "metadata": {
        "id": "kzao7XO9NJAq"
      },
      "outputs": [],
      "source": [
        "import json\n",
        "import string\n",
        "import random \n",
        "import numpy as np\n",
        "\n",
        "import tensorflow as tf \n",
        "from tensorflow.keras import Sequential \n",
        "from tensorflow.keras.layers import Dense, Dropout"
      ]
    },
    {
      "cell_type": "code",
      "execution_count": 3,
      "metadata": {
        "id": "Z_ExOb8uvjqK",
        "colab": {
          "base_uri": "https://localhost:8080/",
          "height": 448,
          "referenced_widgets": [
            "f63918f857dd41f19846b1d272794233",
            "be6aafac33c6482e83d6a9baccd9c36a",
            "c7d7179fdf4646fab605a7af16195146",
            "41f5be1a459847d7adfac555ad096fd4",
            "bb900e292d1b41f3b032bc6d5fa33170",
            "9a3d8abc1acb489b8d1f960c87ba1363",
            "7954c90b7eb14edc9d02b3a6bdd90a0d",
            "ffe97e9653c54bbfb13da45196490817",
            "ab51d039d3db4b5aaffa5384f0768b16",
            "fb30e62fff934b5981b6483f1cd708a2",
            "65133ecc8c854a55badf7ca8b7c8e38d"
          ]
        },
        "outputId": "e4f9addd-f9e5-4942-f724-19787af96fdf"
      },
      "outputs": [
        {
          "output_type": "display_data",
          "data": {
            "text/plain": [
              "Downloading https://raw.githubusercontent.com/stanfordnlp/stanza-resources/main/resources_1.2.2.json:   0%|   …"
            ],
            "application/vnd.jupyter.widget-view+json": {
              "version_major": 2,
              "version_minor": 0,
              "model_id": "f63918f857dd41f19846b1d272794233"
            }
          },
          "metadata": {}
        },
        {
          "output_type": "stream",
          "name": "stderr",
          "text": [
            "2022-03-28 20:56:12 INFO: Downloading default packages for language: es (Spanish)...\n",
            "2022-03-28 20:56:15 INFO: File exists: /root/stanza_resources/es/default.zip.\n",
            "2022-03-28 20:56:24 INFO: Finished downloading models and saved to /root/stanza_resources.\n",
            "2022-03-28 20:56:24 INFO: Loading these models for language: es (Spanish):\n",
            "=======================\n",
            "| Processor | Package |\n",
            "-----------------------\n",
            "| tokenize  | ancora  |\n",
            "| mwt       | ancora  |\n",
            "| pos       | ancora  |\n",
            "| lemma     | ancora  |\n",
            "| depparse  | ancora  |\n",
            "| ner       | conll02 |\n",
            "=======================\n",
            "\n",
            "2022-03-28 20:56:24 INFO: Use device: cpu\n",
            "2022-03-28 20:56:24 INFO: Loading: tokenize\n",
            "2022-03-28 20:56:25 INFO: Loading: mwt\n",
            "2022-03-28 20:56:25 INFO: Loading: pos\n",
            "2022-03-28 20:56:25 INFO: Loading: lemma\n",
            "2022-03-28 20:56:25 INFO: Loading: depparse\n",
            "2022-03-28 20:56:25 INFO: Loading: ner\n",
            "2022-03-28 20:56:27 INFO: Done loading processors!\n"
          ]
        }
      ],
      "source": [
        "import stanza\n",
        "import spacy_stanza\n",
        "\n",
        "# Vamos a usar SpaCy-Stanza. Stanza es una librería de NLP de Stanford\n",
        "# SpaCy armó un wrapper para los pipelines y modelos de Stanza\n",
        "# https://stanfordnlp.github.io/stanza/\n",
        "\n",
        "# Descargar el diccionario en español y armar el pipeline de NLP con spacy\n",
        "stanza.download(\"es\")\n",
        "nlp = spacy_stanza.load_pipeline(\"es\")"
      ]
    },
    {
      "cell_type": "code",
      "source": [
        "# Stop words\n",
        "import nltk\n",
        "from nltk.corpus import stopwords\n",
        "nltk.download('stopwords')\n",
        "\n",
        "nltk_stop_words = set(stopwords.words(\"spanish\"))\n",
        "#filtered_sentence = [w for w in nltk_punctuation if w not in nltk_stop_words]\n",
        "#print(\"Stop words filter:\", filtered_sentence)\n",
        "print(nltk_stop_words)"
      ],
      "metadata": {
        "colab": {
          "base_uri": "https://localhost:8080/"
        },
        "id": "7bjfYbUZ1FVW",
        "outputId": "9fdb4b1b-0c95-466b-cbb2-e36e819f88a7"
      },
      "execution_count": 4,
      "outputs": [
        {
          "output_type": "stream",
          "name": "stdout",
          "text": [
            "[nltk_data] Downloading package stopwords to /root/nltk_data...\n",
            "[nltk_data]   Package stopwords is already up-to-date!\n",
            "{'vuestras', 'soy', 'tendría', 'tenéis', 'estarían', 'yo', 'estar', 'estuviésemos', 'porque', 'estados', 'fueseis', 'todo', 'estaban', 'tuve', 'tenga', 'hayamos', 'te', 'seáis', 'seréis', 'fui', 'estuvieras', 'sea', 'tuviéramos', 'habíais', 'tendremos', 'también', 'había', 'entre', 'estad', 'fueses', 'has', 'era', 'serías', 'estuvieron', 'sentidas', 'suyas', 'teníamos', 'mías', 'habidos', 'estaré', 'estaba', 'mí', 'estarán', 'habida', 'tuvieses', 'sentido', 'tenemos', 'estuvimos', 'hubiésemos', 'estabas', 'sería', 'habías', 'ante', 'hube', 'muy', 'tuvieron', 'fuimos', 'le', 'tuvieran', 'estaríais', 'o', 'hubiéramos', 'habré', 'se', 'serán', 'estaría', 'habríamos', 'del', 'por', 'él', 'estado', 'es', 'otro', 'me', 'tú', 'tuyos', 'habréis', 'habían', 'sin', 'estuviste', 'seríais', 'hubiste', 'tuvieseis', 'que', 'fuisteis', 'esté', 'tendré', 'como', 'míos', 'seríamos', 'tengamos', 'tiene', 'otros', 'fueran', 'erais', 'tendrías', 'estuviera', 'ella', 'ellas', 'tengan', 'tenía', 'tendrá', 'mía', 'estáis', 'una', 'mío', 'nuestro', 'tendrían', 'estaríamos', 'han', 'tendrán', 'en', 'estarías', 'algo', 'a', 'están', 'habéis', 'tenían', 'sus', 'pero', 'tuviese', 'estada', 'su', 'mucho', 'estas', 'para', 'éramos', 'tendríais', 'tendríamos', 'estemos', 'habremos', 'y', 'sentid', 'nosotros', 'os', 'sean', 'lo', 'estuviesen', 'tuvisteis', 'eran', 'tuviésemos', 'hemos', 'otra', 'siente', 'tus', 'cual', 'vosotras', 'hubiese', 'mis', 'tuyas', 'he', 'teniendo', 'hay', 'estuvo', 'sois', 'tenido', 'serás', 'vuestros', 'esto', 'seré', 'estará', 'estadas', 'eso', 'antes', 'ti', 'tengas', 'nuestros', 'muchos', 'tuvimos', 'estuviéramos', 'fuéramos', 'fuésemos', 'sentida', 'ya', 'serían', 'será', 'tuviera', 'vuestro', 'ha', 'tienes', 'hubieses', 'seamos', 'fuera', 'ellos', 'tuyo', 'hubo', 'tened', 'tenidos', 'hasta', 'vosotros', 'tu', 'habríais', 'todos', 'estuvieseis', 'algunos', 'tienen', 'esta', 'les', 'al', 'algunas', 'hubiera', 'tuvierais', 'quienes', 'sentidos', 'esos', 'las', 'eres', 'los', 'vuestra', 'hubiesen', 'estoy', 'estuvisteis', 'este', 'otras', 'estuviese', 'habría', 'fueras', 'estuve', 'mi', 'hayan', 'eras', 'no', 'tuya', 'desde', 'habiendo', 'el', 'seas', 'habrá', 'nada', 'con', 'ni', 'nosotras', 'fuiste', 'estuvieran', 'hayáis', 'está', 'fue', 'estamos', 'estaremos', 'estés', 'seremos', 'nos', 'poco', 'habrían', 'teníais', 'hubimos', 'tanto', 'estuvieses', 'hubierais', 'tenías', 'qué', 'cuando', 'tenida', 'tuvieras', 'hubieras', 'estéis', 'esas', 'estás', 'más', 'unos', 'estando', 'habrías', 'haya', 'hubisteis', 'estaréis', 'suyos', 'suya', 'quien', 'estarás', 'hubieseis', 'nuestras', 'fueron', 'tenidas', 'tuviste', 'un', 'donde', 'hubieron', 'sí', 'nuestra', 'tengo', 'tendrás', 'estos', 'hubieran', 'contra', 'estén', 'fuesen', 'fuerais', 'tuvo', 'sintiendo', 'la', 'habido', 'estábamos', 'habidas', 'sobre', 'esa', 'son', 'tuviesen', 'de', 'hayas', 'estuvierais', 'tengáis', 'tendréis', 'durante', 'estabais', 'fuese', 'somos', 'habrás', 'habíamos', 'e', 'habrán', 'uno', 'suyo', 'ese'}\n"
          ]
        }
      ]
    },
    {
      "cell_type": "markdown",
      "metadata": {
        "id": "_wF10RjVMBdV"
      },
      "source": [
        "### 2 - Herramientas de preprocesamiento de datos\n",
        "Entre las tareas de procesamiento de texto en español se implementa:\n",
        "- Quitar acentos y caracteres especiales\n",
        "- Quitar números\n",
        "- Quitar símbolos de puntuación"
      ]
    },
    {
      "cell_type": "code",
      "execution_count": 5,
      "metadata": {
        "id": "ZxoD2hEExmuX"
      },
      "outputs": [],
      "source": [
        "import re\n",
        "import unicodedata\n",
        "\n",
        "# El preprocesamento en castellano requiere más trabajo\n",
        "\n",
        "# Referencia de regex:\n",
        "# https://docs.python.org/3/library/re.html\n",
        "\n",
        "def preprocess_clean_text(text):    \n",
        "    #text = ''.join([w for w in text if w not in nltk_stop_words])\n",
        "    # sacar tildes de las palabras\n",
        "    text = unicodedata.normalize('NFKD', text).encode('ascii', 'ignore').decode('utf-8', 'ignore')\n",
        "    # quitar caracteres especiales\n",
        "    pattern = r'[^a-zA-z0-9.,!?/:;\\\"\\'\\s]' \n",
        "    text = re.sub(pattern, '', text)\n",
        "    pattern = r'[^a-zA-z.,!?/:;\\\"\\'\\s]' \n",
        "    # quitar números\n",
        "    text = re.sub(pattern, '', text)\n",
        "    # quitar caracteres de puntiación\n",
        "    text = ''.join([c for c in text if c not in string.punctuation])\n",
        "    text = text.split(\" \")\n",
        "    text = ' '.join([c for c in text if c not in nltk_stop_words])\n",
        "    #text2 =\"\"\n",
        "    #print(text)\n",
        "    #for w in text: \n",
        "    #  if w not in nltk_stop_words:\n",
        "    #    print(w)\n",
        "    #    text2 += \" \" + w\n",
        "    #print(text)\n",
        "    #print(text2)\n",
        "    return text"
      ]
    },
    {
      "cell_type": "code",
      "source": [
        ""
      ],
      "metadata": {
        "id": "ocSctwe_6Cn9"
      },
      "execution_count": 5,
      "outputs": []
    },
    {
      "cell_type": "code",
      "execution_count": 6,
      "metadata": {
        "id": "q-MiMZjh5fu2",
        "colab": {
          "base_uri": "https://localhost:8080/",
          "height": 36
        },
        "outputId": "10de53f0-da17-419e-da5b-2fb5f7d0083d"
      },
      "outputs": [
        {
          "output_type": "execute_result",
          "data": {
            "text/plain": [
              "'personas ideas cosas peces muercielagos'"
            ],
            "application/vnd.google.colaboratory.intrinsic+json": {
              "type": "string"
            }
          },
          "metadata": {},
          "execution_count": 6
        }
      ],
      "source": [
        "text = \"personas Ideas! estás cosas y los peces y los muercielagos\"\n",
        "\n",
        "    \n",
        "# Antes de preprocesar los datos se pasa a mínusculas todo el texto\n",
        "preprocess_clean_text(text.lower())\n"
      ]
    },
    {
      "cell_type": "code",
      "execution_count": 7,
      "metadata": {
        "id": "I9V-S8JbrtNn",
        "colab": {
          "base_uri": "https://localhost:8080/"
        },
        "outputId": "563694df-96e5-4ca6-ed77-c5156be74db6"
      },
      "outputs": [
        {
          "output_type": "stream",
          "name": "stdout",
          "text": [
            "tokens: hola personas ideas cosas peces muercielagos\n",
            "Lematización de cada token:\n",
            "[hola, 'holar']\n",
            "[personas, 'persona']\n",
            "[ideas, 'idea']\n",
            "[cosas, 'cosa']\n",
            "[peces, 'pez']\n",
            "[muercielagos, 'muercielago']\n"
          ]
        }
      ],
      "source": [
        "# Ejemplo de como fuciona\n",
        "text = \"hola personas Ideas! estás cosas y los peces y los muercielagos\"\n",
        "\n",
        "# Antes de preprocesar los datos se pasa a mínusculas todo el texto\n",
        "tokes = nlp(preprocess_clean_text(text.lower()))\n",
        "print(\"tokens:\", tokes)\n",
        "print(\"Lematización de cada token:\")\n",
        "for token in tokes:\n",
        "    print([token, token.lemma_])"
      ]
    },
    {
      "cell_type": "markdown",
      "metadata": {
        "id": "ilRbn0KfMm2r"
      },
      "source": [
        "### 3 - Diccionario de entrada"
      ]
    },
    {
      "cell_type": "code",
      "execution_count": 8,
      "metadata": {
        "id": "NgIGpjymNEH7"
      },
      "outputs": [],
      "source": [
        "# Dataset en formato JSON que representa las posibles preguntas (patterns)\n",
        "# y las posibles respuestas por categoría (tag)\n",
        "dataset = {\"intents\": [\n",
        "             {\"tag\": \"bienvenida\",\n",
        "              \"patterns\": [\"Hola\", \"¿Cómo estás?\", \"¿Qué tal?\", \"¿Hay alguien ahí?\", \"Buenos días\", \"Buenas tardes\", \"Buenas noches\", \"Buenas\"],\n",
        "              \"responses\": [\"Hola!\", \"Hola, ¿Cómo estás?\"],\n",
        "             },\n",
        "             {\"tag\": \"nombre\",\n",
        "              \"patterns\": [\"¿Cúal es tu nombre?\", \"¿Quién sos?\"],\n",
        "              \"responses\": [\"Mi nombre es TiendaPro\", \"Yo soy TiendaPro\"]\n",
        "             },\n",
        "            {\"tag\": \"contacto\",\n",
        "              \"patterns\": [\"contacto\", \"número de contacto\", \"número de teléfono\", \"número de whatsapp\", \"whatsapp\"],\n",
        "              \"responses\": [\"Podes contactarnos al siguiente <numero>\", \"Contactos al whatsapp <numero>\"]\n",
        "             },\n",
        "            {\"tag\": \"envios\",\n",
        "              \"patterns\": [\"¿Realizan envios?\", \"¿Cómo me llega el paquete?\"],\n",
        "              \"responses\": [\"Tenemos diferentes formas de envios según la zona, te recomiendo entrar a este <link>\"]\n",
        "             },\n",
        "            {\"tag\": \"precios\",\n",
        "              \"patterns\": [\"precio\", \"Me podrás pasar los precios\", \"¿Cuánto vale?\", \"¿Cuánto sale?\"],\n",
        "              \"responses\": [\"En el siguiente link podrás encontrar los precios de todos nuestros productos en stock\"]\n",
        "             },\n",
        "            {\"tag\": \"pagos\",\n",
        "              \"patterns\": [\"medios de pago\", \"tarjeta de crédito\", \"tarjetas\", \"cuotas\"],\n",
        "              \"responses\": [\"En el siguiente link podrás encontrar los beneficios y formas de pago vigentes\"]\n",
        "             },\n",
        "            {\"tag\": \"stock\",\n",
        "              \"patterns\": [\"Esto está disponible\", \"¿Tenes stock?\", \"¿Hay stock hoy?\"],\n",
        "              \"responses\": [\"Los productos publicados están en stock\"]\n",
        "             },\n",
        "            {\"tag\": \"agradecimientos\",\n",
        "              \"patterns\": [ \"Muchas gracias\", \"Gracias\"],\n",
        "              \"responses\": [\"Por nada!, cualquier otra consulta podes escribirme\"]\n",
        "             },\n",
        "             {\"tag\": \"despedida\",\n",
        "              \"patterns\": [ \"Chau\", \"Hasta luego!\", \"Nos vemos\", \"saludos!\"],\n",
        "              \"responses\": [\"Hasta luego!\", \"Hablamos luego!\"]\n",
        "             }\n",
        "]}"
      ]
    },
    {
      "cell_type": "markdown",
      "metadata": {
        "id": "19PEDmIDfLRu"
      },
      "source": [
        "### 4 - Preprocesamiento y armado del dataset"
      ]
    },
    {
      "cell_type": "code",
      "execution_count": 9,
      "metadata": {
        "id": "b3HP8abHNRk3"
      },
      "outputs": [],
      "source": [
        "# Datos que necesitaremos, las palabras o vocabilario\n",
        "words = []\n",
        "classes = []\n",
        "doc_X = []\n",
        "doc_y = []\n",
        "\n",
        "# Por cada intención (intents) debemos tomar los patrones que la caracterízan\n",
        "# a esa intención y transformarla a tokens para lamacenar en doc_X\n",
        "\n",
        "# El tag de cada intención se almacena como doc_Y (la clase a predecir)\n",
        "\n",
        "for intent in dataset[\"intents\"]:\n",
        "    for pattern in intent[\"patterns\"]:\n",
        "        # trasformar el patron a tokens\n",
        "        tokens = nlp(preprocess_clean_text(pattern.lower()))\n",
        "        # lematizar los tokens\n",
        "        for token in tokens:            \n",
        "            words.append(token.lemma_)\n",
        "        \n",
        "        doc_X.append(pattern)\n",
        "        doc_y.append(intent[\"tag\"])\n",
        "    \n",
        "    # Agregar el tag a las clases\n",
        "    if intent[\"tag\"] not in classes:\n",
        "        classes.append(intent[\"tag\"])\n",
        "\n",
        "# Elminar duplicados con \"set\" y ordenar el vocubulario y las clases por orden alfabético\n",
        "words = sorted(set(words))\n",
        "classes = sorted(set(classes))"
      ]
    },
    {
      "cell_type": "code",
      "execution_count": 10,
      "metadata": {
        "id": "Acy-gcugNbMH",
        "colab": {
          "base_uri": "https://localhost:8080/"
        },
        "outputId": "0177e152-c02a-4c8d-93f8-40716f8cb2bf"
      },
      "outputs": [
        {
          "output_type": "stream",
          "name": "stdout",
          "text": [
            "words: ['ahi', 'alguien', 'buen', 'chau', 'contacto', 'credito', 'cuanto', 'cuota', 'dia', 'disponible', 'envio', 'gracias', 'holar', 'hoy', 'llegar', 'luego', 'medio', 'mucho', 'noche', 'nombre', 'numerar', 'numero', 'pago', 'paquete', 'pasar', 'poder', 'precio', 'realizar', 'salir', 'saludo', 'ser', 'stock', 'tal', 'tarde', 'tarjeta', 'telefono', 'tener', 'valer', 'ver', 'whatsapp']\n",
            "classes: ['agradecimientos', 'bienvenida', 'contacto', 'despedida', 'envios', 'nombre', 'pagos', 'precios', 'stock']\n",
            "doc_X: ['Hola', '¿Cómo estás?', '¿Qué tal?', '¿Hay alguien ahí?', 'Buenos días', 'Buenas tardes', 'Buenas noches', 'Buenas', '¿Cúal es tu nombre?', '¿Quién sos?', 'contacto', 'número de contacto', 'número de teléfono', 'número de whatsapp', 'whatsapp', '¿Realizan envios?', '¿Cómo me llega el paquete?', 'precio', 'Me podrás pasar los precios', '¿Cuánto vale?', '¿Cuánto sale?', 'medios de pago', 'tarjeta de crédito', 'tarjetas', 'cuotas', 'Esto está disponible', '¿Tenes stock?', '¿Hay stock hoy?', 'Muchas gracias', 'Gracias', 'Chau', 'Hasta luego!', 'Nos vemos', 'saludos!']\n",
            "doc_y: ['bienvenida', 'bienvenida', 'bienvenida', 'bienvenida', 'bienvenida', 'bienvenida', 'bienvenida', 'bienvenida', 'nombre', 'nombre', 'contacto', 'contacto', 'contacto', 'contacto', 'contacto', 'envios', 'envios', 'precios', 'precios', 'precios', 'precios', 'pagos', 'pagos', 'pagos', 'pagos', 'stock', 'stock', 'stock', 'agradecimientos', 'agradecimientos', 'despedida', 'despedida', 'despedida', 'despedida']\n"
          ]
        }
      ],
      "source": [
        "print(\"words:\", words)\n",
        "print(\"classes:\", classes)\n",
        "print(\"doc_X:\", doc_X)\n",
        "print(\"doc_y:\", doc_y)"
      ]
    },
    {
      "cell_type": "code",
      "execution_count": 11,
      "metadata": {
        "id": "YI0L2U7IQcvy",
        "colab": {
          "base_uri": "https://localhost:8080/"
        },
        "outputId": "f4824cec-712d-48a6-9ece-ac0e437e2d33"
      },
      "outputs": [
        {
          "output_type": "stream",
          "name": "stdout",
          "text": [
            "Vocabulario: 40\n"
          ]
        }
      ],
      "source": [
        "# Tamaño del vocabulario\n",
        "print(\"Vocabulario:\", len(words))"
      ]
    },
    {
      "cell_type": "code",
      "execution_count": 12,
      "metadata": {
        "id": "hqBeGKRk_q4r",
        "colab": {
          "base_uri": "https://localhost:8080/"
        },
        "outputId": "1afd19ac-a9df-4e4f-a06e-91115e5acc2a"
      },
      "outputs": [
        {
          "output_type": "stream",
          "name": "stdout",
          "text": [
            "Tags: 9\n"
          ]
        }
      ],
      "source": [
        "# Cantidad de tags\n",
        "print(\"Tags:\", len(classes))"
      ]
    },
    {
      "cell_type": "code",
      "execution_count": 13,
      "metadata": {
        "id": "vpbJ0guPN2Uq",
        "colab": {
          "base_uri": "https://localhost:8080/"
        },
        "outputId": "208f7e2c-e175-4751-b752-9b271b68e170"
      },
      "outputs": [
        {
          "output_type": "stream",
          "name": "stdout",
          "text": [
            "['holar']\n",
            "X: [0, 0, 0, 0, 0, 0, 0, 0, 0, 0, 0, 0, 1, 0, 0, 0, 0, 0, 0, 0, 0, 0, 0, 0, 0, 0, 0, 0, 0, 0, 0, 0, 0, 0, 0, 0, 0, 0, 0, 0] y: [0, 1, 0, 0, 0, 0, 0, 0, 0]\n",
            "[]\n",
            "X: [0, 0, 0, 0, 0, 0, 0, 0, 0, 0, 0, 0, 0, 0, 0, 0, 0, 0, 0, 0, 0, 0, 0, 0, 0, 0, 0, 0, 0, 0, 0, 0, 0, 0, 0, 0, 0, 0, 0, 0] y: [0, 1, 0, 0, 0, 0, 0, 0, 0]\n",
            "['tal']\n",
            "X: [0, 0, 0, 0, 0, 0, 0, 0, 0, 0, 0, 0, 0, 0, 0, 0, 0, 0, 0, 0, 0, 0, 0, 0, 0, 0, 0, 0, 0, 0, 0, 0, 1, 0, 0, 0, 0, 0, 0, 0] y: [0, 1, 0, 0, 0, 0, 0, 0, 0]\n",
            "['alguien', 'ahi']\n",
            "X: [1, 1, 0, 0, 0, 0, 0, 0, 0, 0, 0, 0, 0, 0, 0, 0, 0, 0, 0, 0, 0, 0, 0, 0, 0, 0, 0, 0, 0, 0, 0, 0, 0, 0, 0, 0, 0, 0, 0, 0] y: [0, 1, 0, 0, 0, 0, 0, 0, 0]\n",
            "['buen', 'dia']\n",
            "X: [0, 0, 1, 0, 0, 0, 0, 0, 1, 0, 0, 0, 0, 0, 0, 0, 0, 0, 0, 0, 0, 0, 0, 0, 0, 0, 0, 0, 0, 0, 0, 0, 0, 0, 0, 0, 0, 0, 0, 0] y: [0, 1, 0, 0, 0, 0, 0, 0, 0]\n",
            "['buen', 'tarde']\n",
            "X: [0, 0, 1, 0, 0, 0, 0, 0, 0, 0, 0, 0, 0, 0, 0, 0, 0, 0, 0, 0, 0, 0, 0, 0, 0, 0, 0, 0, 0, 0, 0, 0, 0, 1, 0, 0, 0, 0, 0, 0] y: [0, 1, 0, 0, 0, 0, 0, 0, 0]\n",
            "['buen', 'noche']\n",
            "X: [0, 0, 1, 0, 0, 0, 0, 0, 0, 0, 0, 0, 0, 0, 0, 0, 0, 0, 1, 0, 0, 0, 0, 0, 0, 0, 0, 0, 0, 0, 0, 0, 0, 0, 0, 0, 0, 0, 0, 0] y: [0, 1, 0, 0, 0, 0, 0, 0, 0]\n",
            "['buen']\n",
            "X: [0, 0, 1, 0, 0, 0, 0, 0, 0, 0, 0, 0, 0, 0, 0, 0, 0, 0, 0, 0, 0, 0, 0, 0, 0, 0, 0, 0, 0, 0, 0, 0, 0, 0, 0, 0, 0, 0, 0, 0] y: [0, 1, 0, 0, 0, 0, 0, 0, 0]\n",
            "['nombre']\n",
            "X: [0, 0, 0, 0, 0, 0, 0, 0, 0, 0, 0, 0, 0, 0, 0, 0, 0, 0, 0, 1, 0, 0, 0, 0, 0, 0, 0, 0, 0, 0, 0, 0, 0, 0, 0, 0, 0, 0, 0, 0] y: [0, 0, 0, 0, 0, 1, 0, 0, 0]\n",
            "['ser']\n",
            "X: [0, 0, 0, 0, 0, 0, 0, 0, 0, 0, 0, 0, 0, 0, 0, 0, 0, 0, 0, 0, 0, 0, 0, 0, 0, 0, 0, 0, 0, 0, 1, 0, 0, 0, 0, 0, 0, 0, 0, 0] y: [0, 0, 0, 0, 0, 1, 0, 0, 0]\n",
            "['contacto']\n",
            "X: [0, 0, 0, 0, 1, 0, 0, 0, 0, 0, 0, 0, 0, 0, 0, 0, 0, 0, 0, 0, 0, 0, 0, 0, 0, 0, 0, 0, 0, 0, 0, 0, 0, 0, 0, 0, 0, 0, 0, 0] y: [0, 0, 1, 0, 0, 0, 0, 0, 0]\n",
            "['numerar', 'contacto']\n",
            "X: [0, 0, 0, 0, 1, 0, 0, 0, 0, 0, 0, 0, 0, 0, 0, 0, 0, 0, 0, 0, 1, 0, 0, 0, 0, 0, 0, 0, 0, 0, 0, 0, 0, 0, 0, 0, 0, 0, 0, 0] y: [0, 0, 1, 0, 0, 0, 0, 0, 0]\n",
            "['numero', 'telefono']\n",
            "X: [0, 0, 0, 0, 0, 0, 0, 0, 0, 0, 0, 0, 0, 0, 0, 0, 0, 0, 0, 0, 0, 1, 0, 0, 0, 0, 0, 0, 0, 0, 0, 0, 0, 0, 0, 1, 0, 0, 0, 0] y: [0, 0, 1, 0, 0, 0, 0, 0, 0]\n",
            "['numero', 'whatsapp']\n",
            "X: [0, 0, 0, 0, 0, 0, 0, 0, 0, 0, 0, 0, 0, 0, 0, 0, 0, 0, 0, 0, 0, 1, 0, 0, 0, 0, 0, 0, 0, 0, 0, 0, 0, 0, 0, 0, 0, 0, 0, 1] y: [0, 0, 1, 0, 0, 0, 0, 0, 0]\n",
            "['whatsapp']\n",
            "X: [0, 0, 0, 0, 0, 0, 0, 0, 0, 0, 0, 0, 0, 0, 0, 0, 0, 0, 0, 0, 0, 0, 0, 0, 0, 0, 0, 0, 0, 0, 0, 0, 0, 0, 0, 0, 0, 0, 0, 1] y: [0, 0, 1, 0, 0, 0, 0, 0, 0]\n",
            "['realizar', 'envio']\n",
            "X: [0, 0, 0, 0, 0, 0, 0, 0, 0, 0, 1, 0, 0, 0, 0, 0, 0, 0, 0, 0, 0, 0, 0, 0, 0, 0, 0, 1, 0, 0, 0, 0, 0, 0, 0, 0, 0, 0, 0, 0] y: [0, 0, 0, 0, 1, 0, 0, 0, 0]\n",
            "['llegar', 'paquete']\n",
            "X: [0, 0, 0, 0, 0, 0, 0, 0, 0, 0, 0, 0, 0, 0, 1, 0, 0, 0, 0, 0, 0, 0, 0, 1, 0, 0, 0, 0, 0, 0, 0, 0, 0, 0, 0, 0, 0, 0, 0, 0] y: [0, 0, 0, 0, 1, 0, 0, 0, 0]\n",
            "['precio']\n",
            "X: [0, 0, 0, 0, 0, 0, 0, 0, 0, 0, 0, 0, 0, 0, 0, 0, 0, 0, 0, 0, 0, 0, 0, 0, 0, 0, 1, 0, 0, 0, 0, 0, 0, 0, 0, 0, 0, 0, 0, 0] y: [0, 0, 0, 0, 0, 0, 0, 1, 0]\n",
            "['poder', 'pasar', 'precio']\n",
            "X: [0, 0, 0, 0, 0, 0, 0, 0, 0, 0, 0, 0, 0, 0, 0, 0, 0, 0, 0, 0, 0, 0, 0, 0, 1, 1, 1, 0, 0, 0, 0, 0, 0, 0, 0, 0, 0, 0, 0, 0] y: [0, 0, 0, 0, 0, 0, 0, 1, 0]\n",
            "['cuanto', 'valer']\n",
            "X: [0, 0, 0, 0, 0, 0, 1, 0, 0, 0, 0, 0, 0, 0, 0, 0, 0, 0, 0, 0, 0, 0, 0, 0, 0, 0, 0, 0, 0, 0, 0, 0, 0, 0, 0, 0, 0, 1, 0, 0] y: [0, 0, 0, 0, 0, 0, 0, 1, 0]\n",
            "['cuanto', 'salir']\n",
            "X: [0, 0, 0, 0, 0, 0, 1, 0, 0, 0, 0, 0, 0, 0, 0, 0, 0, 0, 0, 0, 0, 0, 0, 0, 0, 0, 0, 0, 1, 0, 0, 0, 0, 0, 0, 0, 0, 0, 0, 0] y: [0, 0, 0, 0, 0, 0, 0, 1, 0]\n",
            "['medio', 'pago']\n",
            "X: [0, 0, 0, 0, 0, 0, 0, 0, 0, 0, 0, 0, 0, 0, 0, 0, 1, 0, 0, 0, 0, 0, 1, 0, 0, 0, 0, 0, 0, 0, 0, 0, 0, 0, 0, 0, 0, 0, 0, 0] y: [0, 0, 0, 0, 0, 0, 1, 0, 0]\n",
            "['tarjeta', 'credito']\n",
            "X: [0, 0, 0, 0, 0, 1, 0, 0, 0, 0, 0, 0, 0, 0, 0, 0, 0, 0, 0, 0, 0, 0, 0, 0, 0, 0, 0, 0, 0, 0, 0, 0, 0, 0, 1, 0, 0, 0, 0, 0] y: [0, 0, 0, 0, 0, 0, 1, 0, 0]\n",
            "['tarjeta']\n",
            "X: [0, 0, 0, 0, 0, 0, 0, 0, 0, 0, 0, 0, 0, 0, 0, 0, 0, 0, 0, 0, 0, 0, 0, 0, 0, 0, 0, 0, 0, 0, 0, 0, 0, 0, 1, 0, 0, 0, 0, 0] y: [0, 0, 0, 0, 0, 0, 1, 0, 0]\n",
            "['cuota']\n",
            "X: [0, 0, 0, 0, 0, 0, 0, 1, 0, 0, 0, 0, 0, 0, 0, 0, 0, 0, 0, 0, 0, 0, 0, 0, 0, 0, 0, 0, 0, 0, 0, 0, 0, 0, 0, 0, 0, 0, 0, 0] y: [0, 0, 0, 0, 0, 0, 1, 0, 0]\n",
            "['disponible']\n",
            "X: [0, 0, 0, 0, 0, 0, 0, 0, 0, 1, 0, 0, 0, 0, 0, 0, 0, 0, 0, 0, 0, 0, 0, 0, 0, 0, 0, 0, 0, 0, 0, 0, 0, 0, 0, 0, 0, 0, 0, 0] y: [0, 0, 0, 0, 0, 0, 0, 0, 1]\n",
            "['tener', 'stock']\n",
            "X: [0, 0, 0, 0, 0, 0, 0, 0, 0, 0, 0, 0, 0, 0, 0, 0, 0, 0, 0, 0, 0, 0, 0, 0, 0, 0, 0, 0, 0, 0, 0, 1, 0, 0, 0, 0, 1, 0, 0, 0] y: [0, 0, 0, 0, 0, 0, 0, 0, 1]\n",
            "['stock', 'hoy']\n",
            "X: [0, 0, 0, 0, 0, 0, 0, 0, 0, 0, 0, 0, 0, 1, 0, 0, 0, 0, 0, 0, 0, 0, 0, 0, 0, 0, 0, 0, 0, 0, 0, 1, 0, 0, 0, 0, 0, 0, 0, 0] y: [0, 0, 0, 0, 0, 0, 0, 0, 1]\n",
            "['mucho', 'gracias']\n",
            "X: [0, 0, 0, 0, 0, 0, 0, 0, 0, 0, 0, 1, 0, 0, 0, 0, 0, 1, 0, 0, 0, 0, 0, 0, 0, 0, 0, 0, 0, 0, 0, 0, 0, 0, 0, 0, 0, 0, 0, 0] y: [1, 0, 0, 0, 0, 0, 0, 0, 0]\n",
            "['gracias']\n",
            "X: [0, 0, 0, 0, 0, 0, 0, 0, 0, 0, 0, 1, 0, 0, 0, 0, 0, 0, 0, 0, 0, 0, 0, 0, 0, 0, 0, 0, 0, 0, 0, 0, 0, 0, 0, 0, 0, 0, 0, 0] y: [1, 0, 0, 0, 0, 0, 0, 0, 0]\n",
            "['chau']\n",
            "X: [0, 0, 0, 1, 0, 0, 0, 0, 0, 0, 0, 0, 0, 0, 0, 0, 0, 0, 0, 0, 0, 0, 0, 0, 0, 0, 0, 0, 0, 0, 0, 0, 0, 0, 0, 0, 0, 0, 0, 0] y: [0, 0, 0, 1, 0, 0, 0, 0, 0]\n",
            "['luego']\n",
            "X: [0, 0, 0, 0, 0, 0, 0, 0, 0, 0, 0, 0, 0, 0, 0, 1, 0, 0, 0, 0, 0, 0, 0, 0, 0, 0, 0, 0, 0, 0, 0, 0, 0, 0, 0, 0, 0, 0, 0, 0] y: [0, 0, 0, 1, 0, 0, 0, 0, 0]\n",
            "['ver']\n",
            "X: [0, 0, 0, 0, 0, 0, 0, 0, 0, 0, 0, 0, 0, 0, 0, 0, 0, 0, 0, 0, 0, 0, 0, 0, 0, 0, 0, 0, 0, 0, 0, 0, 0, 0, 0, 0, 0, 0, 1, 0] y: [0, 0, 0, 1, 0, 0, 0, 0, 0]\n",
            "['saludo']\n",
            "X: [0, 0, 0, 0, 0, 0, 0, 0, 0, 0, 0, 0, 0, 0, 0, 0, 0, 0, 0, 0, 0, 0, 0, 0, 0, 0, 0, 0, 0, 1, 0, 0, 0, 0, 0, 0, 0, 0, 0, 0] y: [0, 0, 0, 1, 0, 0, 0, 0, 0]\n"
          ]
        }
      ],
      "source": [
        "# Transformar doc_X en bag of words por oneHotEncoding\n",
        "# Transformar doc_Y en un vector de clases multicategórico con oneHotEncoding\n",
        "\n",
        "training = []\n",
        "out_empty = [0] * len(classes)\n",
        "\n",
        "for idx, doc in enumerate(doc_X):\n",
        "    # Transformar la pregunta (input) en tokens y lematizar\n",
        "    text = []\n",
        "    tokens = nlp(preprocess_clean_text(doc.lower()))\n",
        "    for token in tokens:\n",
        "        text.append(token.lemma_)\n",
        "\n",
        "    # Transformar los tokens en \"Bag of words\" (arrays de 1 y 0)\n",
        "    bow = []\n",
        "    freq = []\n",
        "    print(text)\n",
        "    for word in words:\n",
        "      \n",
        "      bow.append(1) if word in text else bow.append(0)\n",
        "      \n",
        "\n",
        "    \n",
        "    # Crear el array de salida (class output) correspondiente\n",
        "    output_row = list(out_empty)\n",
        "    output_row[classes.index(doc_y[idx])] = 1\n",
        "\n",
        "    print(\"X:\", bow, \"y:\", output_row)\n",
        "    training.append([bow, output_row])\n",
        "\n",
        "# Mezclar los datos\n",
        "random.shuffle(training)\n",
        "training = np.array(training, dtype=object)\n",
        "# Dividir en datos de entrada y salida\n",
        "train_X = np.array(list(training[:, 0]))\n",
        "train_y = np.array(list(training[:, 1]))"
      ]
    },
    {
      "cell_type": "markdown",
      "metadata": {
        "id": "a_Hr8QaDfRf3"
      },
      "source": [
        "### 5 - Entrenamiento del modelo"
      ]
    },
    {
      "cell_type": "code",
      "execution_count": 14,
      "metadata": {
        "id": "fopb3NqcAGTz",
        "colab": {
          "base_uri": "https://localhost:8080/"
        },
        "outputId": "dffd324d-b927-4eb0-eef6-58bb0cfddffa"
      },
      "outputs": [
        {
          "output_type": "stream",
          "name": "stdout",
          "text": [
            "input: (40,) output: 9\n"
          ]
        }
      ],
      "source": [
        "# Shape de entrada y salida\n",
        "input_shape = (train_X.shape[1],)\n",
        "output_shape = train_y.shape[1]\n",
        "print(\"input:\", input_shape, \"output:\", output_shape)"
      ]
    },
    {
      "cell_type": "code",
      "execution_count": 15,
      "metadata": {
        "id": "xy7tzkwdOZx9",
        "colab": {
          "base_uri": "https://localhost:8080/"
        },
        "outputId": "204c017f-0db8-4dc7-e6d1-564e8ee88158"
      },
      "outputs": [
        {
          "output_type": "stream",
          "name": "stdout",
          "text": [
            "Model: \"sequential\"\n",
            "_________________________________________________________________\n",
            " Layer (type)                Output Shape              Param #   \n",
            "=================================================================\n",
            " dense (Dense)               (None, 128)               5248      \n",
            "                                                                 \n",
            " dropout (Dropout)           (None, 128)               0         \n",
            "                                                                 \n",
            " dense_1 (Dense)             (None, 64)                8256      \n",
            "                                                                 \n",
            " dropout_1 (Dropout)         (None, 64)                0         \n",
            "                                                                 \n",
            " dense_2 (Dense)             (None, 9)                 585       \n",
            "                                                                 \n",
            "=================================================================\n",
            "Total params: 14,089\n",
            "Trainable params: 14,089\n",
            "Non-trainable params: 0\n",
            "_________________________________________________________________\n",
            "None\n"
          ]
        }
      ],
      "source": [
        "# Entrenamiento del modelo DNN\n",
        "# - Modelo secuencial\n",
        "# - Con regularización\n",
        "# - softmax y optimizador Adam\n",
        "model = Sequential()\n",
        "model.add(Dense(128, input_shape=input_shape, activation=\"relu\"))\n",
        "model.add(Dropout(0.5))\n",
        "model.add(Dense(64, activation=\"relu\"))\n",
        "model.add(Dropout(0.5))\n",
        "model.add(Dense(output_shape, activation = \"softmax\"))\n",
        "\n",
        "model.compile(loss='categorical_crossentropy',\n",
        "              optimizer=\"Adam\",\n",
        "              metrics=[\"accuracy\"])\n",
        "print(model.summary())"
      ]
    },
    {
      "cell_type": "code",
      "execution_count": 16,
      "metadata": {
        "id": "r6hi4EcdOghm",
        "colab": {
          "base_uri": "https://localhost:8080/"
        },
        "outputId": "1fafa50d-7bdc-4d3f-958b-98162046f27f"
      },
      "outputs": [
        {
          "output_type": "stream",
          "name": "stdout",
          "text": [
            "Epoch 1/200\n",
            "2/2 [==============================] - 1s 7ms/step - loss: 2.2722 - accuracy: 0.0000e+00\n",
            "Epoch 2/200\n",
            "2/2 [==============================] - 0s 8ms/step - loss: 2.2427 - accuracy: 0.1176\n",
            "Epoch 3/200\n",
            "2/2 [==============================] - 0s 5ms/step - loss: 2.1862 - accuracy: 0.1176\n",
            "Epoch 4/200\n",
            "2/2 [==============================] - 0s 8ms/step - loss: 2.2391 - accuracy: 0.0882\n",
            "Epoch 5/200\n",
            "2/2 [==============================] - 0s 6ms/step - loss: 2.2524 - accuracy: 0.1176\n",
            "Epoch 6/200\n",
            "2/2 [==============================] - 0s 7ms/step - loss: 2.1880 - accuracy: 0.0882\n",
            "Epoch 7/200\n",
            "2/2 [==============================] - 0s 6ms/step - loss: 2.2307 - accuracy: 0.0588\n",
            "Epoch 8/200\n",
            "2/2 [==============================] - 0s 6ms/step - loss: 2.2098 - accuracy: 0.1176\n",
            "Epoch 9/200\n",
            "2/2 [==============================] - 0s 6ms/step - loss: 2.2082 - accuracy: 0.1471\n",
            "Epoch 10/200\n",
            "2/2 [==============================] - 0s 6ms/step - loss: 2.1255 - accuracy: 0.2059\n",
            "Epoch 11/200\n",
            "2/2 [==============================] - 0s 5ms/step - loss: 2.1471 - accuracy: 0.0882\n",
            "Epoch 12/200\n",
            "2/2 [==============================] - 0s 6ms/step - loss: 2.0991 - accuracy: 0.2647\n",
            "Epoch 13/200\n",
            "2/2 [==============================] - 0s 5ms/step - loss: 2.1468 - accuracy: 0.2059\n",
            "Epoch 14/200\n",
            "2/2 [==============================] - 0s 5ms/step - loss: 2.1345 - accuracy: 0.1765\n",
            "Epoch 15/200\n",
            "2/2 [==============================] - 0s 7ms/step - loss: 2.1376 - accuracy: 0.2353\n",
            "Epoch 16/200\n",
            "2/2 [==============================] - 0s 5ms/step - loss: 2.1202 - accuracy: 0.3235\n",
            "Epoch 17/200\n",
            "2/2 [==============================] - 0s 5ms/step - loss: 2.1422 - accuracy: 0.1765\n",
            "Epoch 18/200\n",
            "2/2 [==============================] - 0s 6ms/step - loss: 2.0816 - accuracy: 0.3529\n",
            "Epoch 19/200\n",
            "2/2 [==============================] - 0s 6ms/step - loss: 2.0959 - accuracy: 0.2941\n",
            "Epoch 20/200\n",
            "2/2 [==============================] - 0s 7ms/step - loss: 2.0787 - accuracy: 0.2941\n",
            "Epoch 21/200\n",
            "2/2 [==============================] - 0s 7ms/step - loss: 2.0980 - accuracy: 0.2647\n",
            "Epoch 22/200\n",
            "2/2 [==============================] - 0s 7ms/step - loss: 2.0638 - accuracy: 0.2647\n",
            "Epoch 23/200\n",
            "2/2 [==============================] - 0s 7ms/step - loss: 2.0325 - accuracy: 0.2647\n",
            "Epoch 24/200\n",
            "2/2 [==============================] - 0s 6ms/step - loss: 2.0397 - accuracy: 0.2941\n",
            "Epoch 25/200\n",
            "2/2 [==============================] - 0s 5ms/step - loss: 2.0106 - accuracy: 0.3529\n",
            "Epoch 26/200\n",
            "2/2 [==============================] - 0s 5ms/step - loss: 2.0308 - accuracy: 0.2941\n",
            "Epoch 27/200\n",
            "2/2 [==============================] - 0s 6ms/step - loss: 2.0188 - accuracy: 0.3824\n",
            "Epoch 28/200\n",
            "2/2 [==============================] - 0s 7ms/step - loss: 1.9891 - accuracy: 0.3824\n",
            "Epoch 29/200\n",
            "2/2 [==============================] - 0s 7ms/step - loss: 2.0201 - accuracy: 0.3529\n",
            "Epoch 30/200\n",
            "2/2 [==============================] - 0s 7ms/step - loss: 1.9749 - accuracy: 0.4118\n",
            "Epoch 31/200\n",
            "2/2 [==============================] - 0s 6ms/step - loss: 2.0482 - accuracy: 0.2059\n",
            "Epoch 32/200\n",
            "2/2 [==============================] - 0s 4ms/step - loss: 2.0000 - accuracy: 0.4706\n",
            "Epoch 33/200\n",
            "2/2 [==============================] - 0s 5ms/step - loss: 1.9576 - accuracy: 0.4412\n",
            "Epoch 34/200\n",
            "2/2 [==============================] - 0s 7ms/step - loss: 1.9345 - accuracy: 0.4706\n",
            "Epoch 35/200\n",
            "2/2 [==============================] - 0s 6ms/step - loss: 1.9737 - accuracy: 0.4706\n",
            "Epoch 36/200\n",
            "2/2 [==============================] - 0s 5ms/step - loss: 2.0108 - accuracy: 0.3235\n",
            "Epoch 37/200\n",
            "2/2 [==============================] - 0s 5ms/step - loss: 1.9119 - accuracy: 0.5294\n",
            "Epoch 38/200\n",
            "2/2 [==============================] - 0s 5ms/step - loss: 1.9214 - accuracy: 0.4412\n",
            "Epoch 39/200\n",
            "2/2 [==============================] - 0s 8ms/step - loss: 1.9341 - accuracy: 0.4118\n",
            "Epoch 40/200\n",
            "2/2 [==============================] - 0s 8ms/step - loss: 1.9115 - accuracy: 0.3824\n",
            "Epoch 41/200\n",
            "2/2 [==============================] - 0s 7ms/step - loss: 1.8803 - accuracy: 0.5588\n",
            "Epoch 42/200\n",
            "2/2 [==============================] - 0s 7ms/step - loss: 1.9149 - accuracy: 0.4706\n",
            "Epoch 43/200\n",
            "2/2 [==============================] - 0s 5ms/step - loss: 1.9480 - accuracy: 0.2647\n",
            "Epoch 44/200\n",
            "2/2 [==============================] - 0s 6ms/step - loss: 1.9090 - accuracy: 0.4412\n",
            "Epoch 45/200\n",
            "2/2 [==============================] - 0s 5ms/step - loss: 1.8586 - accuracy: 0.5000\n",
            "Epoch 46/200\n",
            "2/2 [==============================] - 0s 6ms/step - loss: 1.8074 - accuracy: 0.3824\n",
            "Epoch 47/200\n",
            "2/2 [==============================] - 0s 6ms/step - loss: 1.9145 - accuracy: 0.3529\n",
            "Epoch 48/200\n",
            "2/2 [==============================] - 0s 6ms/step - loss: 1.8456 - accuracy: 0.5294\n",
            "Epoch 49/200\n",
            "2/2 [==============================] - 0s 6ms/step - loss: 1.7882 - accuracy: 0.5294\n",
            "Epoch 50/200\n",
            "2/2 [==============================] - 0s 6ms/step - loss: 1.8401 - accuracy: 0.5000\n",
            "Epoch 51/200\n",
            "2/2 [==============================] - 0s 6ms/step - loss: 1.8506 - accuracy: 0.5294\n",
            "Epoch 52/200\n",
            "2/2 [==============================] - 0s 5ms/step - loss: 1.7289 - accuracy: 0.6176\n",
            "Epoch 53/200\n",
            "2/2 [==============================] - 0s 6ms/step - loss: 1.7568 - accuracy: 0.5294\n",
            "Epoch 54/200\n",
            "2/2 [==============================] - 0s 6ms/step - loss: 1.7853 - accuracy: 0.4706\n",
            "Epoch 55/200\n",
            "2/2 [==============================] - 0s 6ms/step - loss: 1.7146 - accuracy: 0.5588\n",
            "Epoch 56/200\n",
            "2/2 [==============================] - 0s 5ms/step - loss: 1.7951 - accuracy: 0.4706\n",
            "Epoch 57/200\n",
            "2/2 [==============================] - 0s 5ms/step - loss: 1.7074 - accuracy: 0.5588\n",
            "Epoch 58/200\n",
            "2/2 [==============================] - 0s 5ms/step - loss: 1.6887 - accuracy: 0.5882\n",
            "Epoch 59/200\n",
            "2/2 [==============================] - 0s 4ms/step - loss: 1.6951 - accuracy: 0.5294\n",
            "Epoch 60/200\n",
            "2/2 [==============================] - 0s 9ms/step - loss: 1.7294 - accuracy: 0.5588\n",
            "Epoch 61/200\n",
            "2/2 [==============================] - 0s 7ms/step - loss: 1.7395 - accuracy: 0.5588\n",
            "Epoch 62/200\n",
            "2/2 [==============================] - 0s 7ms/step - loss: 1.6983 - accuracy: 0.5588\n",
            "Epoch 63/200\n",
            "2/2 [==============================] - 0s 8ms/step - loss: 1.7016 - accuracy: 0.5882\n",
            "Epoch 64/200\n",
            "2/2 [==============================] - 0s 7ms/step - loss: 1.6293 - accuracy: 0.6176\n",
            "Epoch 65/200\n",
            "2/2 [==============================] - 0s 5ms/step - loss: 1.6154 - accuracy: 0.5588\n",
            "Epoch 66/200\n",
            "2/2 [==============================] - 0s 7ms/step - loss: 1.6367 - accuracy: 0.6471\n",
            "Epoch 67/200\n",
            "2/2 [==============================] - 0s 6ms/step - loss: 1.7393 - accuracy: 0.4706\n",
            "Epoch 68/200\n",
            "2/2 [==============================] - 0s 7ms/step - loss: 1.5829 - accuracy: 0.6176\n",
            "Epoch 69/200\n",
            "2/2 [==============================] - 0s 7ms/step - loss: 1.6320 - accuracy: 0.5294\n",
            "Epoch 70/200\n",
            "2/2 [==============================] - 0s 5ms/step - loss: 1.5827 - accuracy: 0.7059\n",
            "Epoch 71/200\n",
            "2/2 [==============================] - 0s 6ms/step - loss: 1.6006 - accuracy: 0.5588\n",
            "Epoch 72/200\n",
            "2/2 [==============================] - 0s 6ms/step - loss: 1.5246 - accuracy: 0.5588\n",
            "Epoch 73/200\n",
            "2/2 [==============================] - 0s 7ms/step - loss: 1.4649 - accuracy: 0.6471\n",
            "Epoch 74/200\n",
            "2/2 [==============================] - 0s 6ms/step - loss: 1.5022 - accuracy: 0.7059\n",
            "Epoch 75/200\n",
            "2/2 [==============================] - 0s 6ms/step - loss: 1.6524 - accuracy: 0.5588\n",
            "Epoch 76/200\n",
            "2/2 [==============================] - 0s 7ms/step - loss: 1.4593 - accuracy: 0.6765\n",
            "Epoch 77/200\n",
            "2/2 [==============================] - 0s 7ms/step - loss: 1.5035 - accuracy: 0.6176\n",
            "Epoch 78/200\n",
            "2/2 [==============================] - 0s 7ms/step - loss: 1.4584 - accuracy: 0.7353\n",
            "Epoch 79/200\n",
            "2/2 [==============================] - 0s 5ms/step - loss: 1.5238 - accuracy: 0.5882\n",
            "Epoch 80/200\n",
            "2/2 [==============================] - 0s 7ms/step - loss: 1.4284 - accuracy: 0.7353\n",
            "Epoch 81/200\n",
            "2/2 [==============================] - 0s 5ms/step - loss: 1.4108 - accuracy: 0.7353\n",
            "Epoch 82/200\n",
            "2/2 [==============================] - 0s 4ms/step - loss: 1.5403 - accuracy: 0.6765\n",
            "Epoch 83/200\n",
            "2/2 [==============================] - 0s 9ms/step - loss: 1.3863 - accuracy: 0.7647\n",
            "Epoch 84/200\n",
            "2/2 [==============================] - 0s 7ms/step - loss: 1.3307 - accuracy: 0.7353\n",
            "Epoch 85/200\n",
            "2/2 [==============================] - 0s 9ms/step - loss: 1.4642 - accuracy: 0.7059\n",
            "Epoch 86/200\n",
            "2/2 [==============================] - 0s 6ms/step - loss: 1.3083 - accuracy: 0.7647\n",
            "Epoch 87/200\n",
            "2/2 [==============================] - 0s 4ms/step - loss: 1.3474 - accuracy: 0.7059\n",
            "Epoch 88/200\n",
            "2/2 [==============================] - 0s 6ms/step - loss: 1.3973 - accuracy: 0.6176\n",
            "Epoch 89/200\n",
            "2/2 [==============================] - 0s 6ms/step - loss: 1.3699 - accuracy: 0.7059\n",
            "Epoch 90/200\n",
            "2/2 [==============================] - 0s 7ms/step - loss: 1.2419 - accuracy: 0.8824\n",
            "Epoch 91/200\n",
            "2/2 [==============================] - 0s 6ms/step - loss: 1.2897 - accuracy: 0.7353\n",
            "Epoch 92/200\n",
            "2/2 [==============================] - 0s 7ms/step - loss: 1.1530 - accuracy: 0.7941\n",
            "Epoch 93/200\n",
            "2/2 [==============================] - 0s 8ms/step - loss: 1.2594 - accuracy: 0.7941\n",
            "Epoch 94/200\n",
            "2/2 [==============================] - 0s 6ms/step - loss: 1.3726 - accuracy: 0.6765\n",
            "Epoch 95/200\n",
            "2/2 [==============================] - 0s 5ms/step - loss: 1.2617 - accuracy: 0.7353\n",
            "Epoch 96/200\n",
            "2/2 [==============================] - 0s 11ms/step - loss: 1.2514 - accuracy: 0.7353\n",
            "Epoch 97/200\n",
            "2/2 [==============================] - 0s 6ms/step - loss: 1.2729 - accuracy: 0.7353\n",
            "Epoch 98/200\n",
            "2/2 [==============================] - 0s 6ms/step - loss: 1.3300 - accuracy: 0.7059\n",
            "Epoch 99/200\n",
            "2/2 [==============================] - 0s 8ms/step - loss: 1.4125 - accuracy: 0.5882\n",
            "Epoch 100/200\n",
            "2/2 [==============================] - 0s 7ms/step - loss: 1.2771 - accuracy: 0.6471\n",
            "Epoch 101/200\n",
            "2/2 [==============================] - 0s 5ms/step - loss: 1.2853 - accuracy: 0.8235\n",
            "Epoch 102/200\n",
            "2/2 [==============================] - 0s 7ms/step - loss: 1.1099 - accuracy: 0.6765\n",
            "Epoch 103/200\n",
            "2/2 [==============================] - 0s 6ms/step - loss: 1.1224 - accuracy: 0.7647\n",
            "Epoch 104/200\n",
            "2/2 [==============================] - 0s 6ms/step - loss: 1.1318 - accuracy: 0.7941\n",
            "Epoch 105/200\n",
            "2/2 [==============================] - 0s 6ms/step - loss: 1.0602 - accuracy: 0.7941\n",
            "Epoch 106/200\n",
            "2/2 [==============================] - 0s 7ms/step - loss: 1.1624 - accuracy: 0.7647\n",
            "Epoch 107/200\n",
            "2/2 [==============================] - 0s 6ms/step - loss: 1.2099 - accuracy: 0.6765\n",
            "Epoch 108/200\n",
            "2/2 [==============================] - 0s 6ms/step - loss: 1.0263 - accuracy: 0.9118\n",
            "Epoch 109/200\n",
            "2/2 [==============================] - 0s 6ms/step - loss: 1.0653 - accuracy: 0.8235\n",
            "Epoch 110/200\n",
            "2/2 [==============================] - 0s 7ms/step - loss: 1.0059 - accuracy: 0.7647\n",
            "Epoch 111/200\n",
            "2/2 [==============================] - 0s 6ms/step - loss: 1.2615 - accuracy: 0.6765\n",
            "Epoch 112/200\n",
            "2/2 [==============================] - 0s 5ms/step - loss: 0.9835 - accuracy: 0.8529\n",
            "Epoch 113/200\n",
            "2/2 [==============================] - 0s 6ms/step - loss: 1.0385 - accuracy: 0.7941\n",
            "Epoch 114/200\n",
            "2/2 [==============================] - 0s 7ms/step - loss: 0.9797 - accuracy: 0.7353\n",
            "Epoch 115/200\n",
            "2/2 [==============================] - 0s 8ms/step - loss: 0.9744 - accuracy: 0.7941\n",
            "Epoch 116/200\n",
            "2/2 [==============================] - 0s 6ms/step - loss: 0.9442 - accuracy: 0.8824\n",
            "Epoch 117/200\n",
            "2/2 [==============================] - 0s 6ms/step - loss: 1.0319 - accuracy: 0.7353\n",
            "Epoch 118/200\n",
            "2/2 [==============================] - 0s 8ms/step - loss: 0.8897 - accuracy: 0.7353\n",
            "Epoch 119/200\n",
            "2/2 [==============================] - 0s 6ms/step - loss: 0.9842 - accuracy: 0.7941\n",
            "Epoch 120/200\n",
            "2/2 [==============================] - 0s 7ms/step - loss: 1.0251 - accuracy: 0.7647\n",
            "Epoch 121/200\n",
            "2/2 [==============================] - 0s 5ms/step - loss: 0.9523 - accuracy: 0.8824\n",
            "Epoch 122/200\n",
            "2/2 [==============================] - 0s 5ms/step - loss: 0.7682 - accuracy: 0.8824\n",
            "Epoch 123/200\n",
            "2/2 [==============================] - 0s 9ms/step - loss: 1.0965 - accuracy: 0.7353\n",
            "Epoch 124/200\n",
            "2/2 [==============================] - 0s 6ms/step - loss: 0.9826 - accuracy: 0.8529\n",
            "Epoch 125/200\n",
            "2/2 [==============================] - 0s 8ms/step - loss: 0.8923 - accuracy: 0.7941\n",
            "Epoch 126/200\n",
            "2/2 [==============================] - 0s 7ms/step - loss: 0.8948 - accuracy: 0.7941\n",
            "Epoch 127/200\n",
            "2/2 [==============================] - 0s 5ms/step - loss: 0.8238 - accuracy: 0.8824\n",
            "Epoch 128/200\n",
            "2/2 [==============================] - 0s 5ms/step - loss: 0.8061 - accuracy: 0.8235\n",
            "Epoch 129/200\n",
            "2/2 [==============================] - 0s 6ms/step - loss: 0.7838 - accuracy: 0.8529\n",
            "Epoch 130/200\n",
            "2/2 [==============================] - 0s 5ms/step - loss: 0.8024 - accuracy: 0.8529\n",
            "Epoch 131/200\n",
            "2/2 [==============================] - 0s 6ms/step - loss: 0.7558 - accuracy: 0.8824\n",
            "Epoch 132/200\n",
            "2/2 [==============================] - 0s 5ms/step - loss: 0.7936 - accuracy: 0.9412\n",
            "Epoch 133/200\n",
            "2/2 [==============================] - 0s 5ms/step - loss: 0.9051 - accuracy: 0.8235\n",
            "Epoch 134/200\n",
            "2/2 [==============================] - 0s 9ms/step - loss: 0.7651 - accuracy: 0.8824\n",
            "Epoch 135/200\n",
            "2/2 [==============================] - 0s 5ms/step - loss: 0.8226 - accuracy: 0.8235\n",
            "Epoch 136/200\n",
            "2/2 [==============================] - 0s 6ms/step - loss: 0.7681 - accuracy: 0.8529\n",
            "Epoch 137/200\n",
            "2/2 [==============================] - 0s 6ms/step - loss: 0.9881 - accuracy: 0.7059\n",
            "Epoch 138/200\n",
            "2/2 [==============================] - 0s 4ms/step - loss: 0.7564 - accuracy: 0.8529\n",
            "Epoch 139/200\n",
            "2/2 [==============================] - 0s 8ms/step - loss: 0.7501 - accuracy: 0.8824\n",
            "Epoch 140/200\n",
            "2/2 [==============================] - 0s 5ms/step - loss: 0.8493 - accuracy: 0.7941\n",
            "Epoch 141/200\n",
            "2/2 [==============================] - 0s 10ms/step - loss: 0.7352 - accuracy: 0.7941\n",
            "Epoch 142/200\n",
            "2/2 [==============================] - 0s 8ms/step - loss: 0.9000 - accuracy: 0.7647\n",
            "Epoch 143/200\n",
            "2/2 [==============================] - 0s 5ms/step - loss: 0.6502 - accuracy: 0.8824\n",
            "Epoch 144/200\n",
            "2/2 [==============================] - 0s 5ms/step - loss: 0.6525 - accuracy: 0.9118\n",
            "Epoch 145/200\n",
            "2/2 [==============================] - 0s 5ms/step - loss: 0.6522 - accuracy: 0.8824\n",
            "Epoch 146/200\n",
            "2/2 [==============================] - 0s 8ms/step - loss: 0.6313 - accuracy: 0.9118\n",
            "Epoch 147/200\n",
            "2/2 [==============================] - 0s 8ms/step - loss: 0.6157 - accuracy: 0.8824\n",
            "Epoch 148/200\n",
            "2/2 [==============================] - 0s 6ms/step - loss: 0.6206 - accuracy: 0.9412\n",
            "Epoch 149/200\n",
            "2/2 [==============================] - 0s 7ms/step - loss: 0.6988 - accuracy: 0.8529\n",
            "Epoch 150/200\n",
            "2/2 [==============================] - 0s 7ms/step - loss: 0.6496 - accuracy: 0.9412\n",
            "Epoch 151/200\n",
            "2/2 [==============================] - 0s 6ms/step - loss: 0.6510 - accuracy: 0.9118\n",
            "Epoch 152/200\n",
            "2/2 [==============================] - 0s 8ms/step - loss: 0.6690 - accuracy: 0.9118\n",
            "Epoch 153/200\n",
            "2/2 [==============================] - 0s 5ms/step - loss: 0.5709 - accuracy: 0.9706\n",
            "Epoch 154/200\n",
            "2/2 [==============================] - 0s 9ms/step - loss: 0.5509 - accuracy: 0.9412\n",
            "Epoch 155/200\n",
            "2/2 [==============================] - 0s 6ms/step - loss: 0.6984 - accuracy: 0.9118\n",
            "Epoch 156/200\n",
            "2/2 [==============================] - 0s 8ms/step - loss: 0.5266 - accuracy: 0.9412\n",
            "Epoch 157/200\n",
            "2/2 [==============================] - 0s 5ms/step - loss: 0.6702 - accuracy: 0.9118\n",
            "Epoch 158/200\n",
            "2/2 [==============================] - 0s 5ms/step - loss: 0.6011 - accuracy: 0.9118\n",
            "Epoch 159/200\n",
            "2/2 [==============================] - 0s 5ms/step - loss: 0.6953 - accuracy: 0.8235\n",
            "Epoch 160/200\n",
            "2/2 [==============================] - 0s 5ms/step - loss: 0.5845 - accuracy: 0.9412\n",
            "Epoch 161/200\n",
            "2/2 [==============================] - 0s 5ms/step - loss: 0.5026 - accuracy: 0.9412\n",
            "Epoch 162/200\n",
            "2/2 [==============================] - 0s 5ms/step - loss: 0.5191 - accuracy: 0.9118\n",
            "Epoch 163/200\n",
            "2/2 [==============================] - 0s 5ms/step - loss: 0.6677 - accuracy: 0.8824\n",
            "Epoch 164/200\n",
            "2/2 [==============================] - 0s 5ms/step - loss: 0.6262 - accuracy: 0.8529\n",
            "Epoch 165/200\n",
            "2/2 [==============================] - 0s 5ms/step - loss: 0.5230 - accuracy: 0.9706\n",
            "Epoch 166/200\n",
            "2/2 [==============================] - 0s 5ms/step - loss: 0.5241 - accuracy: 0.9118\n",
            "Epoch 167/200\n",
            "2/2 [==============================] - 0s 5ms/step - loss: 0.5632 - accuracy: 0.8824\n",
            "Epoch 168/200\n",
            "2/2 [==============================] - 0s 5ms/step - loss: 0.4263 - accuracy: 0.9412\n",
            "Epoch 169/200\n",
            "2/2 [==============================] - 0s 5ms/step - loss: 0.4949 - accuracy: 0.9118\n",
            "Epoch 170/200\n",
            "2/2 [==============================] - 0s 5ms/step - loss: 0.5749 - accuracy: 0.9118\n",
            "Epoch 171/200\n",
            "2/2 [==============================] - 0s 5ms/step - loss: 0.5321 - accuracy: 0.9118\n",
            "Epoch 172/200\n",
            "2/2 [==============================] - 0s 5ms/step - loss: 0.5632 - accuracy: 0.8824\n",
            "Epoch 173/200\n",
            "2/2 [==============================] - 0s 5ms/step - loss: 0.5716 - accuracy: 0.9412\n",
            "Epoch 174/200\n",
            "2/2 [==============================] - 0s 5ms/step - loss: 0.4840 - accuracy: 0.9118\n",
            "Epoch 175/200\n",
            "2/2 [==============================] - 0s 5ms/step - loss: 0.5278 - accuracy: 0.9412\n",
            "Epoch 176/200\n",
            "2/2 [==============================] - 0s 7ms/step - loss: 0.6473 - accuracy: 0.8529\n",
            "Epoch 177/200\n",
            "2/2 [==============================] - 0s 8ms/step - loss: 0.3940 - accuracy: 0.9706\n",
            "Epoch 178/200\n",
            "2/2 [==============================] - 0s 7ms/step - loss: 0.3800 - accuracy: 0.9706\n",
            "Epoch 179/200\n",
            "2/2 [==============================] - 0s 5ms/step - loss: 0.5415 - accuracy: 0.8824\n",
            "Epoch 180/200\n",
            "2/2 [==============================] - 0s 5ms/step - loss: 0.4387 - accuracy: 1.0000\n",
            "Epoch 181/200\n",
            "2/2 [==============================] - 0s 5ms/step - loss: 0.4850 - accuracy: 0.9118\n",
            "Epoch 182/200\n",
            "2/2 [==============================] - 0s 5ms/step - loss: 0.5488 - accuracy: 0.8529\n",
            "Epoch 183/200\n",
            "2/2 [==============================] - 0s 6ms/step - loss: 0.3449 - accuracy: 0.9706\n",
            "Epoch 184/200\n",
            "2/2 [==============================] - 0s 7ms/step - loss: 0.4354 - accuracy: 0.9412\n",
            "Epoch 185/200\n",
            "2/2 [==============================] - 0s 5ms/step - loss: 0.4120 - accuracy: 0.9412\n",
            "Epoch 186/200\n",
            "2/2 [==============================] - 0s 5ms/step - loss: 0.4331 - accuracy: 0.8824\n",
            "Epoch 187/200\n",
            "2/2 [==============================] - 0s 5ms/step - loss: 0.2842 - accuracy: 1.0000\n",
            "Epoch 188/200\n",
            "2/2 [==============================] - 0s 7ms/step - loss: 0.3905 - accuracy: 0.9412\n",
            "Epoch 189/200\n",
            "2/2 [==============================] - 0s 7ms/step - loss: 0.4813 - accuracy: 0.9118\n",
            "Epoch 190/200\n",
            "2/2 [==============================] - 0s 5ms/step - loss: 0.4037 - accuracy: 0.9706\n",
            "Epoch 191/200\n",
            "2/2 [==============================] - 0s 5ms/step - loss: 0.4662 - accuracy: 0.9118\n",
            "Epoch 192/200\n",
            "2/2 [==============================] - 0s 5ms/step - loss: 0.3787 - accuracy: 1.0000\n",
            "Epoch 193/200\n",
            "2/2 [==============================] - 0s 7ms/step - loss: 0.4293 - accuracy: 0.9412\n",
            "Epoch 194/200\n",
            "2/2 [==============================] - 0s 5ms/step - loss: 0.3921 - accuracy: 0.9706\n",
            "Epoch 195/200\n",
            "2/2 [==============================] - 0s 5ms/step - loss: 0.3153 - accuracy: 1.0000\n",
            "Epoch 196/200\n",
            "2/2 [==============================] - 0s 5ms/step - loss: 0.3830 - accuracy: 0.9706\n",
            "Epoch 197/200\n",
            "2/2 [==============================] - 0s 5ms/step - loss: 0.3324 - accuracy: 0.9412\n",
            "Epoch 198/200\n",
            "2/2 [==============================] - 0s 5ms/step - loss: 0.3306 - accuracy: 0.9706\n",
            "Epoch 199/200\n",
            "2/2 [==============================] - 0s 6ms/step - loss: 0.3646 - accuracy: 0.9706\n",
            "Epoch 200/200\n",
            "2/2 [==============================] - 0s 6ms/step - loss: 0.3750 - accuracy: 0.9706\n"
          ]
        }
      ],
      "source": [
        "hist = model.fit(x=train_X, y=train_y, epochs=200)"
      ]
    },
    {
      "cell_type": "code",
      "execution_count": 17,
      "metadata": {
        "id": "Pb1GZDjGRP6Q",
        "colab": {
          "base_uri": "https://localhost:8080/",
          "height": 265
        },
        "outputId": "0af5d99c-cf5d-4ed2-f042-53d105896c1a"
      },
      "outputs": [
        {
          "output_type": "display_data",
          "data": {
            "text/plain": [
              "<Figure size 432x288 with 1 Axes>"
            ],
            "image/png": "[encoded data removed]"
          },
          "metadata": {
            "needs_background": "light"
          }
        }
      ],
      "source": [
        "import matplotlib.pyplot as plt\n",
        "import seaborn as sns\n",
        "\n",
        "# Entrenamiento\n",
        "epoch_count = range(1, len(hist.history['accuracy']) + 1)\n",
        "sns.lineplot(x=epoch_count,  y=hist.history['accuracy'], label='train')\n",
        "plt.show()"
      ]
    },
    {
      "cell_type": "code",
      "execution_count": 18,
      "metadata": {
        "id": "eTVDnrV0mDRf"
      },
      "outputs": [],
      "source": [
        "# Guardar lo necesario para poder re-utilizar este modelo en el futuro\n",
        "# el vocabulario utilizado (words)\n",
        "# las posibles clases\n",
        "# el modelo\n",
        "import pickle\n",
        "pickle.dump(words, open('words.pkl','wb'))\n",
        "pickle.dump(classes, open('classes.pkl','wb'))\n",
        "model.save('chatbot_model.h5')"
      ]
    },
    {
      "cell_type": "markdown",
      "metadata": {
        "id": "TnD1WvhBfVYR"
      },
      "source": [
        "### 6 - Testing y validación"
      ]
    },
    {
      "cell_type": "code",
      "execution_count": 19,
      "metadata": {
        "id": "kqBdSGt8Orkm"
      },
      "outputs": [],
      "source": [
        "def text_to_tokens(text): \n",
        "    lemma_tokens = []\n",
        "    tokens = nlp(preprocess_clean_text(text.lower()))\n",
        "    for token in tokens:\n",
        "        lemma_tokens.append(token.lemma_)\n",
        "    #print(lemma_tokens)\n",
        "    return lemma_tokens\n",
        "\n",
        "def bag_of_words(text, vocab): \n",
        "    tokens = text_to_tokens(text)\n",
        "    bow = [0] * len(vocab)\n",
        "    for w in tokens: \n",
        "        for idx, word in enumerate(vocab):\n",
        "            if word == w: \n",
        "                bow[idx] = 1\n",
        "    #print(bow)\n",
        "    return np.array(bow)\n",
        "\n",
        "def pred_class(text, vocab, labels): \n",
        "    bow = bag_of_words(text, vocab)\n",
        "    words_recognized = sum(bow)\n",
        "\n",
        "    return_list = []\n",
        "    if words_recognized > 0:\n",
        "        result = model.predict(np.array([bow]))[0]\n",
        "        thresh = 0.2\n",
        "        y_pred = [[idx, res] for idx, res in enumerate(result) if res > thresh]\n",
        "        y_pred.sort(key=lambda x: x[1], reverse=True)\n",
        "    \n",
        "        for r in y_pred:\n",
        "            return_list.append(labels[r[0]])\n",
        "            #print(labels[r[0]], r[1])\n",
        "\n",
        "    return return_list\n",
        "\n",
        "def get_response(intents_list, intents_json):\n",
        "    tag = intents_list[0]\n",
        "    list_of_intents = intents_json[\"intents\"]\n",
        "    for i in list_of_intents: \n",
        "        if i[\"tag\"] == tag:\n",
        "            result = \"BOT: \" + random.choice(i[\"responses\"])\n",
        "            break\n",
        "    return result"
      ]
    },
    {
      "cell_type": "code",
      "execution_count": 21,
      "metadata": {
        "id": "Xp1vXQwdOvl7",
        "colab": {
          "base_uri": "https://localhost:8080/",
          "height": 1000
        },
        "outputId": "a139234d-a178-4c4d-822f-4c289696d882"
      },
      "outputs": [
        {
          "output_type": "stream",
          "name": "stdout",
          "text": [
            "hola\n",
            "BOT: Hola!\n",
            "buen\n",
            "BOT: Hola!\n",
            "como va\n",
            "Perdón, no comprendo la pregunta.\n",
            "como estas\n",
            "Perdón, no comprendo la pregunta.\n",
            "cuanto\n",
            "BOT: En el siguiente link podrás encontrar los precios de todos nuestros productos en stock\n",
            "cual\n",
            "Perdón, no comprendo la pregunta.\n",
            " cuales\n",
            "Perdón, no comprendo la pregunta.\n",
            "cuen\n",
            "Perdón, no comprendo la pregunta.\n",
            "cuanto\n",
            "BOT: En el siguiente link podrás encontrar los precios de todos nuestros productos en stock\n",
            "cual\n",
            "Perdón, no comprendo la pregunta.\n",
            "envío\n",
            "Perdón, no comprendo la pregunta.\n",
            "envios\n",
            "BOT: Tenemos diferentes formas de envios según la zona, te recomiendo entrar a este <link>\n",
            "chau\n",
            "BOT: Hasta luego!\n",
            "nos vemos\n",
            "BOT: Hasta luego!\n",
            "bye\n",
            "Perdón, no comprendo la pregunta.\n"
          ]
        },
        {
          "output_type": "error",
          "ename": "KeyboardInterrupt",
          "evalue": "ignored",
          "traceback": [
            "\u001b[0;31m---------------------------------------------------------------------------\u001b[0m",
            "\u001b[0;31mKeyboardInterrupt\u001b[0m                         Traceback (most recent call last)",
            "\u001b[0;32m/usr/local/lib/python3.7/dist-packages/ipykernel/kernelbase.py\u001b[0m in \u001b[0;36m_input_request\u001b[0;34m(self, prompt, ident, parent, password)\u001b[0m\n\u001b[1;32m    728\u001b[0m             \u001b[0;32mtry\u001b[0m\u001b[0;34m:\u001b[0m\u001b[0;34m\u001b[0m\u001b[0;34m\u001b[0m\u001b[0m\n\u001b[0;32m--> 729\u001b[0;31m                 \u001b[0mident\u001b[0m\u001b[0;34m,\u001b[0m \u001b[0mreply\u001b[0m \u001b[0;34m=\u001b[0m \u001b[0mself\u001b[0m\u001b[0;34m.\u001b[0m\u001b[0msession\u001b[0m\u001b[0;34m.\u001b[0m\u001b[0mrecv\u001b[0m\u001b[0;34m(\u001b[0m\u001b[0mself\u001b[0m\u001b[0;34m.\u001b[0m\u001b[0mstdin_socket\u001b[0m\u001b[0;34m,\u001b[0m \u001b[0;36m0\u001b[0m\u001b[0;34m)\u001b[0m\u001b[0;34m\u001b[0m\u001b[0;34m\u001b[0m\u001b[0m\n\u001b[0m\u001b[1;32m    730\u001b[0m             \u001b[0;32mexcept\u001b[0m \u001b[0mException\u001b[0m\u001b[0;34m:\u001b[0m\u001b[0;34m\u001b[0m\u001b[0;34m\u001b[0m\u001b[0m\n",
            "\u001b[0;32m/usr/local/lib/python3.7/dist-packages/jupyter_client/session.py\u001b[0m in \u001b[0;36mrecv\u001b[0;34m(self, socket, mode, content, copy)\u001b[0m\n\u001b[1;32m    802\u001b[0m         \u001b[0;32mtry\u001b[0m\u001b[0;34m:\u001b[0m\u001b[0;34m\u001b[0m\u001b[0;34m\u001b[0m\u001b[0m\n\u001b[0;32m--> 803\u001b[0;31m             \u001b[0mmsg_list\u001b[0m \u001b[0;34m=\u001b[0m \u001b[0msocket\u001b[0m\u001b[0;34m.\u001b[0m\u001b[0mrecv_multipart\u001b[0m\u001b[0;34m(\u001b[0m\u001b[0mmode\u001b[0m\u001b[0;34m,\u001b[0m \u001b[0mcopy\u001b[0m\u001b[0;34m=\u001b[0m\u001b[0mcopy\u001b[0m\u001b[0;34m)\u001b[0m\u001b[0;34m\u001b[0m\u001b[0;34m\u001b[0m\u001b[0m\n\u001b[0m\u001b[1;32m    804\u001b[0m         \u001b[0;32mexcept\u001b[0m \u001b[0mzmq\u001b[0m\u001b[0;34m.\u001b[0m\u001b[0mZMQError\u001b[0m \u001b[0;32mas\u001b[0m \u001b[0me\u001b[0m\u001b[0;34m:\u001b[0m\u001b[0;34m\u001b[0m\u001b[0;34m\u001b[0m\u001b[0m\n",
            "\u001b[0;32m/usr/local/lib/python3.7/dist-packages/zmq/sugar/socket.py\u001b[0m in \u001b[0;36mrecv_multipart\u001b[0;34m(self, flags, copy, track)\u001b[0m\n\u001b[1;32m    624\u001b[0m         \"\"\"\n\u001b[0;32m--> 625\u001b[0;31m         \u001b[0mparts\u001b[0m \u001b[0;34m=\u001b[0m \u001b[0;34m[\u001b[0m\u001b[0mself\u001b[0m\u001b[0;34m.\u001b[0m\u001b[0mrecv\u001b[0m\u001b[0;34m(\u001b[0m\u001b[0mflags\u001b[0m\u001b[0;34m,\u001b[0m \u001b[0mcopy\u001b[0m\u001b[0;34m=\u001b[0m\u001b[0mcopy\u001b[0m\u001b[0;34m,\u001b[0m \u001b[0mtrack\u001b[0m\u001b[0;34m=\u001b[0m\u001b[0mtrack\u001b[0m\u001b[0;34m)\u001b[0m\u001b[0;34m]\u001b[0m\u001b[0;34m\u001b[0m\u001b[0;34m\u001b[0m\u001b[0m\n\u001b[0m\u001b[1;32m    626\u001b[0m         \u001b[0;31m# have first part already, only loop while more to receive\u001b[0m\u001b[0;34m\u001b[0m\u001b[0;34m\u001b[0m\u001b[0;34m\u001b[0m\u001b[0m\n",
            "\u001b[0;32mzmq/backend/cython/socket.pyx\u001b[0m in \u001b[0;36mzmq.backend.cython.socket.Socket.recv\u001b[0;34m()\u001b[0m\n",
            "\u001b[0;32mzmq/backend/cython/socket.pyx\u001b[0m in \u001b[0;36mzmq.backend.cython.socket.Socket.recv\u001b[0;34m()\u001b[0m\n",
            "\u001b[0;32mzmq/backend/cython/socket.pyx\u001b[0m in \u001b[0;36mzmq.backend.cython.socket._recv_copy\u001b[0;34m()\u001b[0m\n",
            "\u001b[0;32m/usr/local/lib/python3.7/dist-packages/zmq/backend/cython/checkrc.pxd\u001b[0m in \u001b[0;36mzmq.backend.cython.checkrc._check_rc\u001b[0;34m()\u001b[0m\n",
            "\u001b[0;31mKeyboardInterrupt\u001b[0m: ",
            "\nDuring handling of the above exception, another exception occurred:\n",
            "\u001b[0;31mKeyboardInterrupt\u001b[0m                         Traceback (most recent call last)",
            "\u001b[0;32m<ipython-input-21-cf5f658f278f>\u001b[0m in \u001b[0;36m<module>\u001b[0;34m()\u001b[0m\n\u001b[1;32m      1\u001b[0m \u001b[0;32mwhile\u001b[0m \u001b[0;32mTrue\u001b[0m\u001b[0;34m:\u001b[0m\u001b[0;34m\u001b[0m\u001b[0;34m\u001b[0m\u001b[0m\n\u001b[0;32m----> 2\u001b[0;31m     \u001b[0mmessage\u001b[0m \u001b[0;34m=\u001b[0m \u001b[0minput\u001b[0m\u001b[0;34m(\u001b[0m\u001b[0;34m\"\"\u001b[0m\u001b[0;34m)\u001b[0m\u001b[0;34m\u001b[0m\u001b[0;34m\u001b[0m\u001b[0m\n\u001b[0m\u001b[1;32m      3\u001b[0m     \u001b[0mintents\u001b[0m \u001b[0;34m=\u001b[0m \u001b[0mpred_class\u001b[0m\u001b[0;34m(\u001b[0m\u001b[0mmessage\u001b[0m\u001b[0;34m,\u001b[0m \u001b[0mwords\u001b[0m\u001b[0;34m,\u001b[0m \u001b[0mclasses\u001b[0m\u001b[0;34m)\u001b[0m\u001b[0;34m\u001b[0m\u001b[0;34m\u001b[0m\u001b[0m\n\u001b[1;32m      4\u001b[0m     \u001b[0;32mif\u001b[0m \u001b[0mlen\u001b[0m\u001b[0;34m(\u001b[0m\u001b[0mintents\u001b[0m\u001b[0;34m)\u001b[0m \u001b[0;34m>\u001b[0m \u001b[0;36m0\u001b[0m\u001b[0;34m:\u001b[0m\u001b[0;34m\u001b[0m\u001b[0;34m\u001b[0m\u001b[0m\n\u001b[1;32m      5\u001b[0m         \u001b[0mresult\u001b[0m \u001b[0;34m=\u001b[0m \u001b[0mget_response\u001b[0m\u001b[0;34m(\u001b[0m\u001b[0mintents\u001b[0m\u001b[0;34m,\u001b[0m \u001b[0mdataset\u001b[0m\u001b[0;34m)\u001b[0m\u001b[0;34m\u001b[0m\u001b[0;34m\u001b[0m\u001b[0m\n",
            "\u001b[0;32m/usr/local/lib/python3.7/dist-packages/ipykernel/kernelbase.py\u001b[0m in \u001b[0;36mraw_input\u001b[0;34m(self, prompt)\u001b[0m\n\u001b[1;32m    702\u001b[0m             \u001b[0mself\u001b[0m\u001b[0;34m.\u001b[0m\u001b[0m_parent_ident\u001b[0m\u001b[0;34m,\u001b[0m\u001b[0;34m\u001b[0m\u001b[0;34m\u001b[0m\u001b[0m\n\u001b[1;32m    703\u001b[0m             \u001b[0mself\u001b[0m\u001b[0;34m.\u001b[0m\u001b[0m_parent_header\u001b[0m\u001b[0;34m,\u001b[0m\u001b[0;34m\u001b[0m\u001b[0;34m\u001b[0m\u001b[0m\n\u001b[0;32m--> 704\u001b[0;31m             \u001b[0mpassword\u001b[0m\u001b[0;34m=\u001b[0m\u001b[0;32mFalse\u001b[0m\u001b[0;34m,\u001b[0m\u001b[0;34m\u001b[0m\u001b[0;34m\u001b[0m\u001b[0m\n\u001b[0m\u001b[1;32m    705\u001b[0m         )\n\u001b[1;32m    706\u001b[0m \u001b[0;34m\u001b[0m\u001b[0m\n",
            "\u001b[0;32m/usr/local/lib/python3.7/dist-packages/ipykernel/kernelbase.py\u001b[0m in \u001b[0;36m_input_request\u001b[0;34m(self, prompt, ident, parent, password)\u001b[0m\n\u001b[1;32m    732\u001b[0m             \u001b[0;32mexcept\u001b[0m \u001b[0mKeyboardInterrupt\u001b[0m\u001b[0;34m:\u001b[0m\u001b[0;34m\u001b[0m\u001b[0;34m\u001b[0m\u001b[0m\n\u001b[1;32m    733\u001b[0m                 \u001b[0;31m# re-raise KeyboardInterrupt, to truncate traceback\u001b[0m\u001b[0;34m\u001b[0m\u001b[0;34m\u001b[0m\u001b[0;34m\u001b[0m\u001b[0m\n\u001b[0;32m--> 734\u001b[0;31m                 \u001b[0;32mraise\u001b[0m \u001b[0mKeyboardInterrupt\u001b[0m\u001b[0;34m\u001b[0m\u001b[0;34m\u001b[0m\u001b[0m\n\u001b[0m\u001b[1;32m    735\u001b[0m             \u001b[0;32melse\u001b[0m\u001b[0;34m:\u001b[0m\u001b[0;34m\u001b[0m\u001b[0;34m\u001b[0m\u001b[0m\n\u001b[1;32m    736\u001b[0m                 \u001b[0;32mbreak\u001b[0m\u001b[0;34m\u001b[0m\u001b[0;34m\u001b[0m\u001b[0m\n",
            "\u001b[0;31mKeyboardInterrupt\u001b[0m: "
          ]
        }
      ],
      "source": [
        "while True:\n",
        "    message = input(\"\")\n",
        "    intents = pred_class(message, words, classes)\n",
        "    if len(intents) > 0:\n",
        "        result = get_response(intents, dataset)\n",
        "        print(result)\n",
        "    else:\n",
        "        print(\"Perdón, no comprendo la pregunta.\")\n",
        "    "
      ]
    },
    {
      "cell_type": "markdown",
      "metadata": {
        "id": "ayatkwp4fYQx"
      },
      "source": [
        "### 7 - Conclusiones\n",
        "El bot tal cual está definido es capaz de responder a bastantes tipos de preguntas con gran precisión. Algunas técnicas que podrían ensayarse para evaluar como impactan en el sistema son:\n",
        "- Filtrar los stop words\n",
        "- Utilizar TF-IDF en vez de bag of words"
      ]
    }
  ],
  "metadata": {
    "colab": {
      "collapsed_sections": [],
      "name": "Pbrillan 2b - bot_dnn_spacy_esp.ipynb",
      "provenance": [],
      "include_colab_link": true
    },
    "kernelspec": {
      "display_name": "Python 3",
      "name": "python3"
    },
    "language_info": {
      "name": "python"
    },
    "widgets": {
      "application/vnd.jupyter.widget-state+json": {
        "f63918f857dd41f19846b1d272794233": {
          "model_module": "@jupyter-widgets/controls",
          "model_name": "HBoxModel",
          "model_module_version": "1.5.0",
          "state": {
            "_dom_classes": [],
            "_model_module": "@jupyter-widgets/controls",
            "_model_module_version": "1.5.0",
            "_model_name": "HBoxModel",
            "_view_count": null,
            "_view_module": "@jupyter-widgets/controls",
            "_view_module_version": "1.5.0",
            "_view_name": "HBoxView",
            "box_style": "",
            "children": [
              "IPY_MODEL_be6aafac33c6482e83d6a9baccd9c36a",
              "IPY_MODEL_c7d7179fdf4646fab605a7af16195146",
              "IPY_MODEL_41f5be1a459847d7adfac555ad096fd4"
            ],
            "layout": "IPY_MODEL_bb900e292d1b41f3b032bc6d5fa33170"
          }
        },
        "be6aafac33c6482e83d6a9baccd9c36a": {
          "model_module": "@jupyter-widgets/controls",
          "model_name": "HTMLModel",
          "model_module_version": "1.5.0",
          "state": {
            "_dom_classes": [],
            "_model_module": "@jupyter-widgets/controls",
            "_model_module_version": "1.5.0",
            "_model_name": "HTMLModel",
            "_view_count": null,
            "_view_module": "@jupyter-widgets/controls",
            "_view_module_version": "1.5.0",
            "_view_name": "HTMLView",
            "description": "",
            "description_tooltip": null,
            "layout": "IPY_MODEL_9a3d8abc1acb489b8d1f960c87ba1363",
            "placeholder": "​",
            "style": "IPY_MODEL_7954c90b7eb14edc9d02b3a6bdd90a0d",
            "value": "Downloading https://raw.githubusercontent.com/stanfordnlp/stanza-resources/main/resources_1.2.2.json: "
          }
        },
        "c7d7179fdf4646fab605a7af16195146": {
          "model_module": "@jupyter-widgets/controls",
          "model_name": "FloatProgressModel",
          "model_module_version": "1.5.0",
          "state": {
            "_dom_classes": [],
            "_model_module": "@jupyter-widgets/controls",
            "_model_module_version": "1.5.0",
            "_model_name": "FloatProgressModel",
            "_view_count": null,
            "_view_module": "@jupyter-widgets/controls",
            "_view_module_version": "1.5.0",
            "_view_name": "ProgressView",
            "bar_style": "success",
            "description": "",
            "description_tooltip": null,
            "layout": "IPY_MODEL_ffe97e9653c54bbfb13da45196490817",
            "max": 24144,
            "min": 0,
            "orientation": "horizontal",
            "style": "IPY_MODEL_ab51d039d3db4b5aaffa5384f0768b16",
            "value": 24144
          }
        },
        "41f5be1a459847d7adfac555ad096fd4": {
          "model_module": "@jupyter-widgets/controls",
          "model_name": "HTMLModel",
          "model_module_version": "1.5.0",
          "state": {
            "_dom_classes": [],
            "_model_module": "@jupyter-widgets/controls",
            "_model_module_version": "1.5.0",
            "_model_name": "HTMLModel",
            "_view_count": null,
            "_view_module": "@jupyter-widgets/controls",
            "_view_module_version": "1.5.0",
            "_view_name": "HTMLView",
            "description": "",
            "description_tooltip": null,
            "layout": "IPY_MODEL_fb30e62fff934b5981b6483f1cd708a2",
            "placeholder": "​",
            "style": "IPY_MODEL_65133ecc8c854a55badf7ca8b7c8e38d",
            "value": " 140k/? [00:00&lt;00:00, 2.32MB/s]"
          }
        },
        "bb900e292d1b41f3b032bc6d5fa33170": {
          "model_module": "@jupyter-widgets/base",
          "model_name": "LayoutModel",
          "model_module_version": "1.2.0",
          "state": {
            "_model_module": "@jupyter-widgets/base",
            "_model_module_version": "1.2.0",
            "_model_name": "LayoutModel",
            "_view_count": null,
            "_view_module": "@jupyter-widgets/base",
            "_view_module_version": "1.2.0",
            "_view_name": "LayoutView",
            "align_content": null,
            "align_items": null,
            "align_self": null,
            "border": null,
            "bottom": null,
            "display": null,
            "flex": null,
            "flex_flow": null,
            "grid_area": null,
            "grid_auto_columns": null,
            "grid_auto_flow": null,
            "grid_auto_rows": null,
            "grid_column": null,
            "grid_gap": null,
            "grid_row": null,
            "grid_template_areas": null,
            "grid_template_columns": null,
            "grid_template_rows": null,
            "height": null,
            "justify_content": null,
            "justify_items": null,
            "left": null,
            "margin": null,
            "max_height": null,
            "max_width": null,
            "min_height": null,
            "min_width": null,
            "object_fit": null,
            "object_position": null,
            "order": null,
            "overflow": null,
            "overflow_x": null,
            "overflow_y": null,
            "padding": null,
            "right": null,
            "top": null,
            "visibility": null,
            "width": null
          }
        },
        "9a3d8abc1acb489b8d1f960c87ba1363": {
          "model_module": "@jupyter-widgets/base",
          "model_name": "LayoutModel",
          "model_module_version": "1.2.0",
          "state": {
            "_model_module": "@jupyter-widgets/base",
            "_model_module_version": "1.2.0",
            "_model_name": "LayoutModel",
            "_view_count": null,
            "_view_module": "@jupyter-widgets/base",
            "_view_module_version": "1.2.0",
            "_view_name": "LayoutView",
            "align_content": null,
            "align_items": null,
            "align_self": null,
            "border": null,
            "bottom": null,
            "display": null,
            "flex": null,
            "flex_flow": null,
            "grid_area": null,
            "grid_auto_columns": null,
            "grid_auto_flow": null,
            "grid_auto_rows": null,
            "grid_column": null,
            "grid_gap": null,
            "grid_row": null,
            "grid_template_areas": null,
            "grid_template_columns": null,
            "grid_template_rows": null,
            "height": null,
            "justify_content": null,
            "justify_items": null,
            "left": null,
            "margin": null,
            "max_height": null,
            "max_width": null,
            "min_height": null,
            "min_width": null,
            "object_fit": null,
            "object_position": null,
            "order": null,
            "overflow": null,
            "overflow_x": null,
            "overflow_y": null,
            "padding": null,
            "right": null,
            "top": null,
            "visibility": null,
            "width": null
          }
        },
        "7954c90b7eb14edc9d02b3a6bdd90a0d": {
          "model_module": "@jupyter-widgets/controls",
          "model_name": "DescriptionStyleModel",
          "model_module_version": "1.5.0",
          "state": {
            "_model_module": "@jupyter-widgets/controls",
            "_model_module_version": "1.5.0",
            "_model_name": "DescriptionStyleModel",
            "_view_count": null,
            "_view_module": "@jupyter-widgets/base",
            "_view_module_version": "1.2.0",
            "_view_name": "StyleView",
            "description_width": ""
          }
        },
        "ffe97e9653c54bbfb13da45196490817": {
          "model_module": "@jupyter-widgets/base",
          "model_name": "LayoutModel",
          "model_module_version": "1.2.0",
          "state": {
            "_model_module": "@jupyter-widgets/base",
            "_model_module_version": "1.2.0",
            "_model_name": "LayoutModel",
            "_view_count": null,
            "_view_module": "@jupyter-widgets/base",
            "_view_module_version": "1.2.0",
            "_view_name": "LayoutView",
            "align_content": null,
            "align_items": null,
            "align_self": null,
            "border": null,
            "bottom": null,
            "display": null,
            "flex": null,
            "flex_flow": null,
            "grid_area": null,
            "grid_auto_columns": null,
            "grid_auto_flow": null,
            "grid_auto_rows": null,
            "grid_column": null,
            "grid_gap": null,
            "grid_row": null,
            "grid_template_areas": null,
            "grid_template_columns": null,
            "grid_template_rows": null,
            "height": null,
            "justify_content": null,
            "justify_items": null,
            "left": null,
            "margin": null,
            "max_height": null,
            "max_width": null,
            "min_height": null,
            "min_width": null,
            "object_fit": null,
            "object_position": null,
            "order": null,
            "overflow": null,
            "overflow_x": null,
            "overflow_y": null,
            "padding": null,
            "right": null,
            "top": null,
            "visibility": null,
            "width": null
          }
        },
        "ab51d039d3db4b5aaffa5384f0768b16": {
          "model_module": "@jupyter-widgets/controls",
          "model_name": "ProgressStyleModel",
          "model_module_version": "1.5.0",
          "state": {
            "_model_module": "@jupyter-widgets/controls",
            "_model_module_version": "1.5.0",
            "_model_name": "ProgressStyleModel",
            "_view_count": null,
            "_view_module": "@jupyter-widgets/base",
            "_view_module_version": "1.2.0",
            "_view_name": "StyleView",
            "bar_color": null,
            "description_width": ""
          }
        },
        "fb30e62fff934b5981b6483f1cd708a2": {
          "model_module": "@jupyter-widgets/base",
          "model_name": "LayoutModel",
          "model_module_version": "1.2.0",
          "state": {
            "_model_module": "@jupyter-widgets/base",
            "_model_module_version": "1.2.0",
            "_model_name": "LayoutModel",
            "_view_count": null,
            "_view_module": "@jupyter-widgets/base",
            "_view_module_version": "1.2.0",
            "_view_name": "LayoutView",
            "align_content": null,
            "align_items": null,
            "align_self": null,
            "border": null,
            "bottom": null,
            "display": null,
            "flex": null,
            "flex_flow": null,
            "grid_area": null,
            "grid_auto_columns": null,
            "grid_auto_flow": null,
            "grid_auto_rows": null,
            "grid_column": null,
            "grid_gap": null,
            "grid_row": null,
            "grid_template_areas": null,
            "grid_template_columns": null,
            "grid_template_rows": null,
            "height": null,
            "justify_content": null,
            "justify_items": null,
            "left": null,
            "margin": null,
            "max_height": null,
            "max_width": null,
            "min_height": null,
            "min_width": null,
            "object_fit": null,
            "object_position": null,
            "order": null,
            "overflow": null,
            "overflow_x": null,
            "overflow_y": null,
            "padding": null,
            "right": null,
            "top": null,
            "visibility": null,
            "width": null
          }
        },
        "65133ecc8c854a55badf7ca8b7c8e38d": {
          "model_module": "@jupyter-widgets/controls",
          "model_name": "DescriptionStyleModel",
          "model_module_version": "1.5.0",
          "state": {
            "_model_module": "@jupyter-widgets/controls",
            "_model_module_version": "1.5.0",
            "_model_name": "DescriptionStyleModel",
            "_view_count": null,
            "_view_module": "@jupyter-widgets/base",
            "_view_module_version": "1.2.0",
            "_view_name": "StyleView",
            "description_width": ""
          }
        }
      }
    }
  },
  "nbformat": 4,
  "nbformat_minor": 0
}