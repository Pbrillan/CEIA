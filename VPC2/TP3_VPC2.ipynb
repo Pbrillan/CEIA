{
  "nbformat": 4,
  "nbformat_minor": 0,
  "metadata": {
    "colab": {
      "name": "TP3 VPC2.ipynb",
      "provenance": [],
      "include_colab_link": true
    },
    "kernelspec": {
      "name": "python3",
      "display_name": "Python 3"
    },
    "language_info": {
      "name": "python"
    },
    "accelerator": "GPU",
    "widgets": {
      "application/vnd.jupyter.widget-state+json": {
        "7531be77aa814bf2bddec8840c1f2486": {
          "model_module": "@jupyter-widgets/controls",
          "model_name": "HBoxModel",
          "model_module_version": "1.5.0",
          "state": {
            "_dom_classes": [],
            "_model_module": "@jupyter-widgets/controls",
            "_model_module_version": "1.5.0",
            "_model_name": "HBoxModel",
            "_view_count": null,
            "_view_module": "@jupyter-widgets/controls",
            "_view_module_version": "1.5.0",
            "_view_name": "HBoxView",
            "box_style": "",
            "children": [
              "IPY_MODEL_6a13145990a7415992c0290ac331e767",
              "IPY_MODEL_396284150f104b18a8bac0e646884468",
              "IPY_MODEL_c3308812dccd493f98d994a7bfe41ce4"
            ],
            "layout": "IPY_MODEL_ff224ca5d87b4cb0a7f8a2eda1e8c10b"
          }
        },
        "6a13145990a7415992c0290ac331e767": {
          "model_module": "@jupyter-widgets/controls",
          "model_name": "HTMLModel",
          "model_module_version": "1.5.0",
          "state": {
            "_dom_classes": [],
            "_model_module": "@jupyter-widgets/controls",
            "_model_module_version": "1.5.0",
            "_model_name": "HTMLModel",
            "_view_count": null,
            "_view_module": "@jupyter-widgets/controls",
            "_view_module_version": "1.5.0",
            "_view_name": "HTMLView",
            "description": "",
            "description_tooltip": null,
            "layout": "IPY_MODEL_12535a6d4d18439fba201b5555e35bb2",
            "placeholder": "​",
            "style": "IPY_MODEL_120cd0b26c1f4057a129237a8979a8af",
            "value": ""
          }
        },
        "396284150f104b18a8bac0e646884468": {
          "model_module": "@jupyter-widgets/controls",
          "model_name": "FloatProgressModel",
          "model_module_version": "1.5.0",
          "state": {
            "_dom_classes": [],
            "_model_module": "@jupyter-widgets/controls",
            "_model_module_version": "1.5.0",
            "_model_name": "FloatProgressModel",
            "_view_count": null,
            "_view_module": "@jupyter-widgets/controls",
            "_view_module_version": "1.5.0",
            "_view_name": "ProgressView",
            "bar_style": "success",
            "description": "",
            "description_tooltip": null,
            "layout": "IPY_MODEL_c7f7b3bb63fa4fdebe7c0f97250dab00",
            "max": 170498071,
            "min": 0,
            "orientation": "horizontal",
            "style": "IPY_MODEL_99acbae3d85f4eeb899de63f600a078c",
            "value": 170498071
          }
        },
        "c3308812dccd493f98d994a7bfe41ce4": {
          "model_module": "@jupyter-widgets/controls",
          "model_name": "HTMLModel",
          "model_module_version": "1.5.0",
          "state": {
            "_dom_classes": [],
            "_model_module": "@jupyter-widgets/controls",
            "_model_module_version": "1.5.0",
            "_model_name": "HTMLModel",
            "_view_count": null,
            "_view_module": "@jupyter-widgets/controls",
            "_view_module_version": "1.5.0",
            "_view_name": "HTMLView",
            "description": "",
            "description_tooltip": null,
            "layout": "IPY_MODEL_f34142546aa44adca13ea2e5173506a6",
            "placeholder": "​",
            "style": "IPY_MODEL_ca31b202f5f14beaa735b051b29fb3c8",
            "value": " 170499072/? [00:01&lt;00:00, 89208828.98it/s]"
          }
        },
        "ff224ca5d87b4cb0a7f8a2eda1e8c10b": {
          "model_module": "@jupyter-widgets/base",
          "model_name": "LayoutModel",
          "model_module_version": "1.2.0",
          "state": {
            "_model_module": "@jupyter-widgets/base",
            "_model_module_version": "1.2.0",
            "_model_name": "LayoutModel",
            "_view_count": null,
            "_view_module": "@jupyter-widgets/base",
            "_view_module_version": "1.2.0",
            "_view_name": "LayoutView",
            "align_content": null,
            "align_items": null,
            "align_self": null,
            "border": null,
            "bottom": null,
            "display": null,
            "flex": null,
            "flex_flow": null,
            "grid_area": null,
            "grid_auto_columns": null,
            "grid_auto_flow": null,
            "grid_auto_rows": null,
            "grid_column": null,
            "grid_gap": null,
            "grid_row": null,
            "grid_template_areas": null,
            "grid_template_columns": null,
            "grid_template_rows": null,
            "height": null,
            "justify_content": null,
            "justify_items": null,
            "left": null,
            "margin": null,
            "max_height": null,
            "max_width": null,
            "min_height": null,
            "min_width": null,
            "object_fit": null,
            "object_position": null,
            "order": null,
            "overflow": null,
            "overflow_x": null,
            "overflow_y": null,
            "padding": null,
            "right": null,
            "top": null,
            "visibility": null,
            "width": null
          }
        },
        "12535a6d4d18439fba201b5555e35bb2": {
          "model_module": "@jupyter-widgets/base",
          "model_name": "LayoutModel",
          "model_module_version": "1.2.0",
          "state": {
            "_model_module": "@jupyter-widgets/base",
            "_model_module_version": "1.2.0",
            "_model_name": "LayoutModel",
            "_view_count": null,
            "_view_module": "@jupyter-widgets/base",
            "_view_module_version": "1.2.0",
            "_view_name": "LayoutView",
            "align_content": null,
            "align_items": null,
            "align_self": null,
            "border": null,
            "bottom": null,
            "display": null,
            "flex": null,
            "flex_flow": null,
            "grid_area": null,
            "grid_auto_columns": null,
            "grid_auto_flow": null,
            "grid_auto_rows": null,
            "grid_column": null,
            "grid_gap": null,
            "grid_row": null,
            "grid_template_areas": null,
            "grid_template_columns": null,
            "grid_template_rows": null,
            "height": null,
            "justify_content": null,
            "justify_items": null,
            "left": null,
            "margin": null,
            "max_height": null,
            "max_width": null,
            "min_height": null,
            "min_width": null,
            "object_fit": null,
            "object_position": null,
            "order": null,
            "overflow": null,
            "overflow_x": null,
            "overflow_y": null,
            "padding": null,
            "right": null,
            "top": null,
            "visibility": null,
            "width": null
          }
        },
        "120cd0b26c1f4057a129237a8979a8af": {
          "model_module": "@jupyter-widgets/controls",
          "model_name": "DescriptionStyleModel",
          "model_module_version": "1.5.0",
          "state": {
            "_model_module": "@jupyter-widgets/controls",
            "_model_module_version": "1.5.0",
            "_model_name": "DescriptionStyleModel",
            "_view_count": null,
            "_view_module": "@jupyter-widgets/base",
            "_view_module_version": "1.2.0",
            "_view_name": "StyleView",
            "description_width": ""
          }
        },
        "c7f7b3bb63fa4fdebe7c0f97250dab00": {
          "model_module": "@jupyter-widgets/base",
          "model_name": "LayoutModel",
          "model_module_version": "1.2.0",
          "state": {
            "_model_module": "@jupyter-widgets/base",
            "_model_module_version": "1.2.0",
            "_model_name": "LayoutModel",
            "_view_count": null,
            "_view_module": "@jupyter-widgets/base",
            "_view_module_version": "1.2.0",
            "_view_name": "LayoutView",
            "align_content": null,
            "align_items": null,
            "align_self": null,
            "border": null,
            "bottom": null,
            "display": null,
            "flex": null,
            "flex_flow": null,
            "grid_area": null,
            "grid_auto_columns": null,
            "grid_auto_flow": null,
            "grid_auto_rows": null,
            "grid_column": null,
            "grid_gap": null,
            "grid_row": null,
            "grid_template_areas": null,
            "grid_template_columns": null,
            "grid_template_rows": null,
            "height": null,
            "justify_content": null,
            "justify_items": null,
            "left": null,
            "margin": null,
            "max_height": null,
            "max_width": null,
            "min_height": null,
            "min_width": null,
            "object_fit": null,
            "object_position": null,
            "order": null,
            "overflow": null,
            "overflow_x": null,
            "overflow_y": null,
            "padding": null,
            "right": null,
            "top": null,
            "visibility": null,
            "width": null
          }
        },
        "99acbae3d85f4eeb899de63f600a078c": {
          "model_module": "@jupyter-widgets/controls",
          "model_name": "ProgressStyleModel",
          "model_module_version": "1.5.0",
          "state": {
            "_model_module": "@jupyter-widgets/controls",
            "_model_module_version": "1.5.0",
            "_model_name": "ProgressStyleModel",
            "_view_count": null,
            "_view_module": "@jupyter-widgets/base",
            "_view_module_version": "1.2.0",
            "_view_name": "StyleView",
            "bar_color": null,
            "description_width": ""
          }
        },
        "f34142546aa44adca13ea2e5173506a6": {
          "model_module": "@jupyter-widgets/base",
          "model_name": "LayoutModel",
          "model_module_version": "1.2.0",
          "state": {
            "_model_module": "@jupyter-widgets/base",
            "_model_module_version": "1.2.0",
            "_model_name": "LayoutModel",
            "_view_count": null,
            "_view_module": "@jupyter-widgets/base",
            "_view_module_version": "1.2.0",
            "_view_name": "LayoutView",
            "align_content": null,
            "align_items": null,
            "align_self": null,
            "border": null,
            "bottom": null,
            "display": null,
            "flex": null,
            "flex_flow": null,
            "grid_area": null,
            "grid_auto_columns": null,
            "grid_auto_flow": null,
            "grid_auto_rows": null,
            "grid_column": null,
            "grid_gap": null,
            "grid_row": null,
            "grid_template_areas": null,
            "grid_template_columns": null,
            "grid_template_rows": null,
            "height": null,
            "justify_content": null,
            "justify_items": null,
            "left": null,
            "margin": null,
            "max_height": null,
            "max_width": null,
            "min_height": null,
            "min_width": null,
            "object_fit": null,
            "object_position": null,
            "order": null,
            "overflow": null,
            "overflow_x": null,
            "overflow_y": null,
            "padding": null,
            "right": null,
            "top": null,
            "visibility": null,
            "width": null
          }
        },
        "ca31b202f5f14beaa735b051b29fb3c8": {
          "model_module": "@jupyter-widgets/controls",
          "model_name": "DescriptionStyleModel",
          "model_module_version": "1.5.0",
          "state": {
            "_model_module": "@jupyter-widgets/controls",
            "_model_module_version": "1.5.0",
            "_model_name": "DescriptionStyleModel",
            "_view_count": null,
            "_view_module": "@jupyter-widgets/base",
            "_view_module_version": "1.2.0",
            "_view_name": "StyleView",
            "description_width": ""
          }
        },
        "203bb57eacc54916b1ac3c67a970b4b0": {
          "model_module": "@jupyter-widgets/controls",
          "model_name": "HBoxModel",
          "model_module_version": "1.5.0",
          "state": {
            "_dom_classes": [],
            "_model_module": "@jupyter-widgets/controls",
            "_model_module_version": "1.5.0",
            "_model_name": "HBoxModel",
            "_view_count": null,
            "_view_module": "@jupyter-widgets/controls",
            "_view_module_version": "1.5.0",
            "_view_name": "HBoxView",
            "box_style": "",
            "children": [
              "IPY_MODEL_313f0706e5384b9792be5337aea23318",
              "IPY_MODEL_f6726db6d76d450fabc1e775ebf940dd",
              "IPY_MODEL_ded38b6c08bf4d6d98e69617bb06acc8"
            ],
            "layout": "IPY_MODEL_30e75a8138d242a4af2c69545090dfb4"
          }
        },
        "313f0706e5384b9792be5337aea23318": {
          "model_module": "@jupyter-widgets/controls",
          "model_name": "HTMLModel",
          "model_module_version": "1.5.0",
          "state": {
            "_dom_classes": [],
            "_model_module": "@jupyter-widgets/controls",
            "_model_module_version": "1.5.0",
            "_model_name": "HTMLModel",
            "_view_count": null,
            "_view_module": "@jupyter-widgets/controls",
            "_view_module_version": "1.5.0",
            "_view_name": "HTMLView",
            "description": "",
            "description_tooltip": null,
            "layout": "IPY_MODEL_2b1864139803437eb6311a99886c8fed",
            "placeholder": "​",
            "style": "IPY_MODEL_fd4b6de740a247a9bd1c5fbfdd66f471",
            "value": "100%"
          }
        },
        "f6726db6d76d450fabc1e775ebf940dd": {
          "model_module": "@jupyter-widgets/controls",
          "model_name": "FloatProgressModel",
          "model_module_version": "1.5.0",
          "state": {
            "_dom_classes": [],
            "_model_module": "@jupyter-widgets/controls",
            "_model_module_version": "1.5.0",
            "_model_name": "FloatProgressModel",
            "_view_count": null,
            "_view_module": "@jupyter-widgets/controls",
            "_view_module_version": "1.5.0",
            "_view_name": "ProgressView",
            "bar_style": "success",
            "description": "",
            "description_tooltip": null,
            "layout": "IPY_MODEL_a1a6505b623d497fb2029bbb09517c55",
            "max": 531460341,
            "min": 0,
            "orientation": "horizontal",
            "style": "IPY_MODEL_b42a1371b6ef4783aa51da91e2701424",
            "value": 531460341
          }
        },
        "ded38b6c08bf4d6d98e69617bb06acc8": {
          "model_module": "@jupyter-widgets/controls",
          "model_name": "HTMLModel",
          "model_module_version": "1.5.0",
          "state": {
            "_dom_classes": [],
            "_model_module": "@jupyter-widgets/controls",
            "_model_module_version": "1.5.0",
            "_model_name": "HTMLModel",
            "_view_count": null,
            "_view_module": "@jupyter-widgets/controls",
            "_view_module_version": "1.5.0",
            "_view_name": "HTMLView",
            "description": "",
            "description_tooltip": null,
            "layout": "IPY_MODEL_e0da7a91682c4ca8bd83e328c036767f",
            "placeholder": "​",
            "style": "IPY_MODEL_a4bae25d003c483189e7f16677276d41",
            "value": " 507M/507M [00:02&lt;00:00, 173MB/s]"
          }
        },
        "30e75a8138d242a4af2c69545090dfb4": {
          "model_module": "@jupyter-widgets/base",
          "model_name": "LayoutModel",
          "model_module_version": "1.2.0",
          "state": {
            "_model_module": "@jupyter-widgets/base",
            "_model_module_version": "1.2.0",
            "_model_name": "LayoutModel",
            "_view_count": null,
            "_view_module": "@jupyter-widgets/base",
            "_view_module_version": "1.2.0",
            "_view_name": "LayoutView",
            "align_content": null,
            "align_items": null,
            "align_self": null,
            "border": null,
            "bottom": null,
            "display": null,
            "flex": null,
            "flex_flow": null,
            "grid_area": null,
            "grid_auto_columns": null,
            "grid_auto_flow": null,
            "grid_auto_rows": null,
            "grid_column": null,
            "grid_gap": null,
            "grid_row": null,
            "grid_template_areas": null,
            "grid_template_columns": null,
            "grid_template_rows": null,
            "height": null,
            "justify_content": null,
            "justify_items": null,
            "left": null,
            "margin": null,
            "max_height": null,
            "max_width": null,
            "min_height": null,
            "min_width": null,
            "object_fit": null,
            "object_position": null,
            "order": null,
            "overflow": null,
            "overflow_x": null,
            "overflow_y": null,
            "padding": null,
            "right": null,
            "top": null,
            "visibility": null,
            "width": null
          }
        },
        "2b1864139803437eb6311a99886c8fed": {
          "model_module": "@jupyter-widgets/base",
          "model_name": "LayoutModel",
          "model_module_version": "1.2.0",
          "state": {
            "_model_module": "@jupyter-widgets/base",
            "_model_module_version": "1.2.0",
            "_model_name": "LayoutModel",
            "_view_count": null,
            "_view_module": "@jupyter-widgets/base",
            "_view_module_version": "1.2.0",
            "_view_name": "LayoutView",
            "align_content": null,
            "align_items": null,
            "align_self": null,
            "border": null,
            "bottom": null,
            "display": null,
            "flex": null,
            "flex_flow": null,
            "grid_area": null,
            "grid_auto_columns": null,
            "grid_auto_flow": null,
            "grid_auto_rows": null,
            "grid_column": null,
            "grid_gap": null,
            "grid_row": null,
            "grid_template_areas": null,
            "grid_template_columns": null,
            "grid_template_rows": null,
            "height": null,
            "justify_content": null,
            "justify_items": null,
            "left": null,
            "margin": null,
            "max_height": null,
            "max_width": null,
            "min_height": null,
            "min_width": null,
            "object_fit": null,
            "object_position": null,
            "order": null,
            "overflow": null,
            "overflow_x": null,
            "overflow_y": null,
            "padding": null,
            "right": null,
            "top": null,
            "visibility": null,
            "width": null
          }
        },
        "fd4b6de740a247a9bd1c5fbfdd66f471": {
          "model_module": "@jupyter-widgets/controls",
          "model_name": "DescriptionStyleModel",
          "model_module_version": "1.5.0",
          "state": {
            "_model_module": "@jupyter-widgets/controls",
            "_model_module_version": "1.5.0",
            "_model_name": "DescriptionStyleModel",
            "_view_count": null,
            "_view_module": "@jupyter-widgets/base",
            "_view_module_version": "1.2.0",
            "_view_name": "StyleView",
            "description_width": ""
          }
        },
        "a1a6505b623d497fb2029bbb09517c55": {
          "model_module": "@jupyter-widgets/base",
          "model_name": "LayoutModel",
          "model_module_version": "1.2.0",
          "state": {
            "_model_module": "@jupyter-widgets/base",
            "_model_module_version": "1.2.0",
            "_model_name": "LayoutModel",
            "_view_count": null,
            "_view_module": "@jupyter-widgets/base",
            "_view_module_version": "1.2.0",
            "_view_name": "LayoutView",
            "align_content": null,
            "align_items": null,
            "align_self": null,
            "border": null,
            "bottom": null,
            "display": null,
            "flex": null,
            "flex_flow": null,
            "grid_area": null,
            "grid_auto_columns": null,
            "grid_auto_flow": null,
            "grid_auto_rows": null,
            "grid_column": null,
            "grid_gap": null,
            "grid_row": null,
            "grid_template_areas": null,
            "grid_template_columns": null,
            "grid_template_rows": null,
            "height": null,
            "justify_content": null,
            "justify_items": null,
            "left": null,
            "margin": null,
            "max_height": null,
            "max_width": null,
            "min_height": null,
            "min_width": null,
            "object_fit": null,
            "object_position": null,
            "order": null,
            "overflow": null,
            "overflow_x": null,
            "overflow_y": null,
            "padding": null,
            "right": null,
            "top": null,
            "visibility": null,
            "width": null
          }
        },
        "b42a1371b6ef4783aa51da91e2701424": {
          "model_module": "@jupyter-widgets/controls",
          "model_name": "ProgressStyleModel",
          "model_module_version": "1.5.0",
          "state": {
            "_model_module": "@jupyter-widgets/controls",
            "_model_module_version": "1.5.0",
            "_model_name": "ProgressStyleModel",
            "_view_count": null,
            "_view_module": "@jupyter-widgets/base",
            "_view_module_version": "1.2.0",
            "_view_name": "StyleView",
            "bar_color": null,
            "description_width": ""
          }
        },
        "e0da7a91682c4ca8bd83e328c036767f": {
          "model_module": "@jupyter-widgets/base",
          "model_name": "LayoutModel",
          "model_module_version": "1.2.0",
          "state": {
            "_model_module": "@jupyter-widgets/base",
            "_model_module_version": "1.2.0",
            "_model_name": "LayoutModel",
            "_view_count": null,
            "_view_module": "@jupyter-widgets/base",
            "_view_module_version": "1.2.0",
            "_view_name": "LayoutView",
            "align_content": null,
            "align_items": null,
            "align_self": null,
            "border": null,
            "bottom": null,
            "display": null,
            "flex": null,
            "flex_flow": null,
            "grid_area": null,
            "grid_auto_columns": null,
            "grid_auto_flow": null,
            "grid_auto_rows": null,
            "grid_column": null,
            "grid_gap": null,
            "grid_row": null,
            "grid_template_areas": null,
            "grid_template_columns": null,
            "grid_template_rows": null,
            "height": null,
            "justify_content": null,
            "justify_items": null,
            "left": null,
            "margin": null,
            "max_height": null,
            "max_width": null,
            "min_height": null,
            "min_width": null,
            "object_fit": null,
            "object_position": null,
            "order": null,
            "overflow": null,
            "overflow_x": null,
            "overflow_y": null,
            "padding": null,
            "right": null,
            "top": null,
            "visibility": null,
            "width": null
          }
        },
        "a4bae25d003c483189e7f16677276d41": {
          "model_module": "@jupyter-widgets/controls",
          "model_name": "DescriptionStyleModel",
          "model_module_version": "1.5.0",
          "state": {
            "_model_module": "@jupyter-widgets/controls",
            "_model_module_version": "1.5.0",
            "_model_name": "DescriptionStyleModel",
            "_view_count": null,
            "_view_module": "@jupyter-widgets/base",
            "_view_module_version": "1.2.0",
            "_view_name": "StyleView",
            "description_width": ""
          }
        }
      }
    }
  },
  "cells": [
    {
      "cell_type": "markdown",
      "metadata": {
        "id": "view-in-github",
        "colab_type": "text"
      },
      "source": [
        "<a href=\"https://colab.research.google.com/github/Pbrillan/CEIA/blob/main/VPC2/TP3_VPC2.ipynb\" target=\"_parent\"><img src=\"https://colab.research.google.com/assets/colab-badge.svg\" alt=\"Open In Colab\"/></a>"
      ]
    },
    {
      "cell_type": "markdown",
      "source": [
        "## Ejercicio Práctico - Clase 3 VPC2 - 4Co2021\n",
        "\n",
        "1) Realizar transfer learning a partir de alguna de las siguientes redes: vgg11, resnet18, convnext_tiny preentrenadas, y entrenar sobre el dataset CIFAR10 contenido en PyTorch. Que puede concluir al compararlos con los resultados obtenidos en el entrenamiento de la tarea 2?\n",
        "\n",
        "2) Realice el entrenamiento de la misma red seleccionada en el punto 1, sin partir de pesos preentrenados en esta oportunidad y sin congelar capas. A que resultados llega y como los explica?\n"
      ],
      "metadata": {
        "id": "olefOnuXZMIV"
      }
    },
    {
      "cell_type": "markdown",
      "source": [
        ""
      ],
      "metadata": {
        "id": "KHmj9q1ZzPKP"
      }
    },
    {
      "cell_type": "code",
      "source": [
        "import numpy as np\n",
        "import matplotlib.pyplot as plt\n",
        "\n",
        "import torch\n",
        "import torchvision\n",
        "import torchsummary\n",
        "\n",
        "!pip install torchmetrics\n",
        "import torchmetrics"
      ],
      "metadata": {
        "colab": {
          "base_uri": "https://localhost:8080/"
        },
        "id": "QgMyWgzY0cIE",
        "outputId": "d75c3639-cb4c-4927-da20-12731146aaed"
      },
      "execution_count": 1,
      "outputs": [
        {
          "output_type": "stream",
          "name": "stdout",
          "text": [
            "Looking in indexes: https://pypi.org/simple, https://us-python.pkg.dev/colab-wheels/public/simple/\n",
            "Collecting torchmetrics\n",
            "  Downloading torchmetrics-0.9.1-py3-none-any.whl (419 kB)\n",
            "\u001b[K     |████████████████████████████████| 419 kB 4.6 MB/s \n",
            "\u001b[?25hRequirement already satisfied: packaging in /usr/local/lib/python3.7/dist-packages (from torchmetrics) (21.3)\n",
            "Requirement already satisfied: torch>=1.3.1 in /usr/local/lib/python3.7/dist-packages (from torchmetrics) (1.11.0+cu113)\n",
            "Requirement already satisfied: numpy>=1.17.2 in /usr/local/lib/python3.7/dist-packages (from torchmetrics) (1.21.6)\n",
            "Requirement already satisfied: typing-extensions in /usr/local/lib/python3.7/dist-packages (from torchmetrics) (4.2.0)\n",
            "Requirement already satisfied: pyparsing!=3.0.5,>=2.0.2 in /usr/local/lib/python3.7/dist-packages (from packaging->torchmetrics) (3.0.9)\n",
            "Installing collected packages: torchmetrics\n",
            "Successfully installed torchmetrics-0.9.1\n"
          ]
        }
      ]
    },
    {
      "cell_type": "code",
      "source": [
        "from torchvision.datasets import CIFAR10"
      ],
      "metadata": {
        "id": "skDgBsUa1r4Y"
      },
      "execution_count": 2,
      "outputs": []
    },
    {
      "cell_type": "code",
      "source": [
        "transform = torchvision.transforms.Compose(\n",
        "    [torchvision.transforms.RandomHorizontalFlip(p=0.5),\n",
        "     torchvision.transforms.RandomResizedCrop(size=(150, 150), scale=(0.7, 1.0)),\n",
        "     #torchvision.transforms.ColorJitter(saturation=0.05, hue=0.05),\n",
        "     #torchvision.transforms.RandomPerspective(p=0.25),\n",
        "     #torchvision.transforms.RandomSolarize(p=0.5,threshold=0.5),\n",
        "     #torchvision.transforms.RandomAutocontrast(p=0.5),\n",
        "     #torchvision.transforms.RandomEqualize(p=0.5),\n",
        "     torchvision.transforms.ToTensor(),\n",
        "     torchvision.transforms.Resize(size=(150, 150)),\n",
        "     torchvision.transforms.Normalize((0.5, 0.5, 0.5), (0.5, 0.5, 0.5))])\n",
        "\n",
        "batch_size = 32\n",
        "\n",
        "\n",
        "train_set = torchvision.datasets.CIFAR10(root='./data', train=True,\n",
        "                                        download=True, transform=transform)\n",
        "\n",
        "#train_size = int(len(train_data) * 0.8) # 80% training data\n",
        "#valid_size = len(train_data) - train_size # 20% validation data\n",
        "#train_set, valid_set = torch.utils.data.random_split(train_data, [train_size, valid_size])\n",
        "\n",
        "\n",
        "valid_set = torchvision.datasets.CIFAR10(root='./data', train=False,\n",
        "                                       download=True, transform=transform)\n",
        "\n",
        "train_loader = torch.utils.data.DataLoader(train_set, batch_size=batch_size,\n",
        "                                          shuffle=True, num_workers=2)\n",
        "valid_loader = torch.utils.data.DataLoader(valid_set, batch_size=batch_size,\n",
        "                                          shuffle=True, num_workers=2)\n",
        "\n"
      ],
      "metadata": {
        "colab": {
          "base_uri": "https://localhost:8080/",
          "height": 101,
          "referenced_widgets": [
            "7531be77aa814bf2bddec8840c1f2486",
            "6a13145990a7415992c0290ac331e767",
            "396284150f104b18a8bac0e646884468",
            "c3308812dccd493f98d994a7bfe41ce4",
            "ff224ca5d87b4cb0a7f8a2eda1e8c10b",
            "12535a6d4d18439fba201b5555e35bb2",
            "120cd0b26c1f4057a129237a8979a8af",
            "c7f7b3bb63fa4fdebe7c0f97250dab00",
            "99acbae3d85f4eeb899de63f600a078c",
            "f34142546aa44adca13ea2e5173506a6",
            "ca31b202f5f14beaa735b051b29fb3c8"
          ]
        },
        "id": "PdwarWnY8iNN",
        "outputId": "042fce97-db58-45fd-fd25-9001d9cfa324"
      },
      "execution_count": 3,
      "outputs": [
        {
          "output_type": "stream",
          "name": "stdout",
          "text": [
            "Downloading https://www.cs.toronto.edu/~kriz/cifar-10-python.tar.gz to ./data/cifar-10-python.tar.gz\n"
          ]
        },
        {
          "output_type": "display_data",
          "data": {
            "text/plain": [
              "  0%|          | 0/170498071 [00:00<?, ?it/s]"
            ],
            "application/vnd.jupyter.widget-view+json": {
              "version_major": 2,
              "version_minor": 0,
              "model_id": "7531be77aa814bf2bddec8840c1f2486"
            }
          },
          "metadata": {}
        },
        {
          "output_type": "stream",
          "name": "stdout",
          "text": [
            "Extracting ./data/cifar-10-python.tar.gz to ./data\n",
            "Files already downloaded and verified\n"
          ]
        }
      ]
    },
    {
      "cell_type": "markdown",
      "source": [
        "#Con Transfer learning"
      ],
      "metadata": {
        "id": "3VrWexXw44vk"
      }
    },
    {
      "cell_type": "code",
      "source": [
        "vgg11_model = torchvision.models.vgg11(pretrained=True)\n",
        "\n",
        "#vgg11_model.to(\"cuda\")\n",
        "#torchsummary.summary(vgg11_model, input_size=(3, 32, 32))\n",
        "#vgg11_model.modules"
      ],
      "metadata": {
        "id": "Yd0Hp_Sa0H3T",
        "colab": {
          "base_uri": "https://localhost:8080/",
          "height": 66,
          "referenced_widgets": [
            "203bb57eacc54916b1ac3c67a970b4b0",
            "313f0706e5384b9792be5337aea23318",
            "f6726db6d76d450fabc1e775ebf940dd",
            "ded38b6c08bf4d6d98e69617bb06acc8",
            "30e75a8138d242a4af2c69545090dfb4",
            "2b1864139803437eb6311a99886c8fed",
            "fd4b6de740a247a9bd1c5fbfdd66f471",
            "a1a6505b623d497fb2029bbb09517c55",
            "b42a1371b6ef4783aa51da91e2701424",
            "e0da7a91682c4ca8bd83e328c036767f",
            "a4bae25d003c483189e7f16677276d41"
          ]
        },
        "outputId": "0827f373-e742-4ad7-d0ec-a1f7c37e2c3f"
      },
      "execution_count": 4,
      "outputs": [
        {
          "output_type": "stream",
          "name": "stderr",
          "text": [
            "Downloading: \"https://download.pytorch.org/models/vgg11-8a719046.pth\" to /root/.cache/torch/hub/checkpoints/vgg11-8a719046.pth\n"
          ]
        },
        {
          "output_type": "display_data",
          "data": {
            "text/plain": [
              "  0%|          | 0.00/507M [00:00<?, ?B/s]"
            ],
            "application/vnd.jupyter.widget-view+json": {
              "version_major": 2,
              "version_minor": 0,
              "model_id": "203bb57eacc54916b1ac3c67a970b4b0"
            }
          },
          "metadata": {}
        }
      ]
    },
    {
      "cell_type": "code",
      "source": [
        "for param in vgg11_model.parameters():\n",
        "    param.requires_grad = False"
      ],
      "metadata": {
        "id": "bVWQ7LZ68tYC"
      },
      "execution_count": 5,
      "outputs": []
    },
    {
      "cell_type": "code",
      "source": [
        "last_layer_in_features = vgg11_model.classifier[-1].in_features\n",
        "vgg11_model.classifier[-1] = torch.nn.Linear(in_features=last_layer_in_features, out_features=32)\n"
      ],
      "metadata": {
        "id": "-n2O_W8W9ksp"
      },
      "execution_count": 6,
      "outputs": []
    },
    {
      "cell_type": "code",
      "source": [
        "optimizer_ft = torch.optim.Adam(vgg11_model.parameters(), lr=0.0001)\n",
        "criterion = torch.nn.CrossEntropyLoss()"
      ],
      "metadata": {
        "id": "FY4PwxlC-Q73"
      },
      "execution_count": 7,
      "outputs": []
    },
    {
      "cell_type": "code",
      "source": [
        "def train(model, criterion, optimizer, train_loader, valid_loader, epochs):\n",
        "\n",
        "    accuracy_metric = torchmetrics.Accuracy()\n",
        "\n",
        "    if torch.cuda.is_available():\n",
        "        model.to(\"cuda\")\n",
        "        accuracy_metric.to(\"cuda\")\n",
        "\n",
        "    train_loss = []\n",
        "    train_acc = []\n",
        "    valid_loss = []\n",
        "    valid_acc = []\n",
        "\n",
        "    for epoch in range(epochs):\n",
        "\n",
        "        # Pongo el modelo en modo entrenamiento\n",
        "        model.train()\n",
        "\n",
        "        epoch_train_loss = 0.0\n",
        "        epoch_train_accuracy = 0.0\n",
        "\n",
        "        for train_data, train_target in train_loader:\n",
        "            \n",
        "            if torch.cuda.is_available():\n",
        "                train_data = train_data.to(\"cuda\")\n",
        "                train_target = train_target.to(\"cuda\")\n",
        "          \n",
        "\n",
        "            optimizer.zero_grad()\n",
        "            output = model(train_data)\n",
        "            loss = criterion(output, train_target)\n",
        "            epoch_train_loss += loss.item()\n",
        "            loss.backward()\n",
        "            optimizer.step()\n",
        "\n",
        "            accuracy = accuracy_metric(output, train_target)\n",
        "            epoch_train_accuracy += accuracy.item()\n",
        "\n",
        "        epoch_train_loss = epoch_train_loss / len(train_loader)\n",
        "        epoch_train_accuracy = epoch_train_accuracy / len(train_loader)\n",
        "        train_loss.append(epoch_train_loss)\n",
        "        train_acc.append(epoch_train_accuracy)\n",
        "\n",
        "        # Pongo el modelo en modo testeo\n",
        "        model.eval()\n",
        "\n",
        "        epoch_valid_loss = 0.0\n",
        "        epoch_valid_accuracy = 0.0\n",
        "\n",
        "        for valid_data, valid_target in valid_loader:\n",
        "            if torch.cuda.is_available():\n",
        "                valid_data = valid_data.to(\"cuda\")\n",
        "                valid_target = valid_target.to(\"cuda\")\n",
        "\n",
        "            output = model(valid_data)\n",
        "            epoch_valid_loss += criterion(output, valid_target).item()\n",
        "            epoch_valid_accuracy += accuracy_metric(output, valid_target).item()\n",
        "            \n",
        "        epoch_valid_loss = epoch_valid_loss / len(valid_loader)\n",
        "        epoch_valid_accuracy = epoch_valid_accuracy / len(valid_loader)\n",
        "        valid_loss.append(epoch_valid_loss)\n",
        "        valid_acc.append(epoch_valid_accuracy)\n",
        "\n",
        "        print(\"Epoch: {}/{} - Train loss {:.6f} - Train Accuracy {:.6f} - Valid Loss {:.6f} - Valid Accuracy {:.6f}\".format(\n",
        "        epoch+1, epochs, epoch_train_loss, epoch_train_accuracy, epoch_valid_loss, epoch_valid_accuracy))\n",
        "\n",
        "    history = {}\n",
        "    history[\"train_loss\"] = train_loss\n",
        "    history[\"train_acc\"] = train_acc\n",
        "    history[\"valid_loss\"] = valid_loss\n",
        "    history[\"valid_acc\"] = valid_acc\n",
        "\n",
        "    return model, history"
      ],
      "metadata": {
        "id": "YO9Iw_2v96Qt"
      },
      "execution_count": 8,
      "outputs": []
    },
    {
      "cell_type": "code",
      "source": [
        "result_model, history = train(vgg11_model, criterion, optimizer_ft, train_loader, valid_loader, 30)"
      ],
      "metadata": {
        "colab": {
          "base_uri": "https://localhost:8080/"
        },
        "id": "1jlN5rpU98km",
        "outputId": "068a6a51-a2b1-431a-d992-cfa56244a6e0"
      },
      "execution_count": 9,
      "outputs": [
        {
          "output_type": "stream",
          "name": "stdout",
          "text": [
            "Epoch: 1/30 - Train loss 1.048905 - Train Accuracy 0.660349 - Valid Loss 0.778708 - Valid Accuracy 0.740415\n",
            "Epoch: 2/30 - Train loss 0.785466 - Train Accuracy 0.726188 - Valid Loss 0.709119 - Valid Accuracy 0.756490\n",
            "Epoch: 3/30 - Train loss 0.747702 - Train Accuracy 0.741383 - Valid Loss 0.683724 - Valid Accuracy 0.768271\n",
            "Epoch: 4/30 - Train loss 0.725222 - Train Accuracy 0.746301 - Valid Loss 0.666733 - Valid Accuracy 0.770767\n",
            "Epoch: 5/30 - Train loss 0.710464 - Train Accuracy 0.752599 - Valid Loss 0.655321 - Valid Accuracy 0.774760\n",
            "Epoch: 6/30 - Train loss 0.702074 - Train Accuracy 0.753139 - Valid Loss 0.647018 - Valid Accuracy 0.777057\n",
            "Epoch: 7/30 - Train loss 0.694162 - Train Accuracy 0.759697 - Valid Loss 0.635071 - Valid Accuracy 0.777855\n",
            "Epoch: 8/30 - Train loss 0.691888 - Train Accuracy 0.757118 - Valid Loss 0.628335 - Valid Accuracy 0.788139\n",
            "Epoch: 9/30 - Train loss 0.685152 - Train Accuracy 0.759557 - Valid Loss 0.627355 - Valid Accuracy 0.783846\n",
            "Epoch: 10/30 - Train loss 0.690417 - Train Accuracy 0.758477 - Valid Loss 0.617793 - Valid Accuracy 0.788938\n",
            "Epoch: 11/30 - Train loss 0.681860 - Train Accuracy 0.757877 - Valid Loss 0.615634 - Valid Accuracy 0.791234\n",
            "Epoch: 12/30 - Train loss 0.682193 - Train Accuracy 0.761076 - Valid Loss 0.619012 - Valid Accuracy 0.785044\n",
            "Epoch: 13/30 - Train loss 0.679180 - Train Accuracy 0.760217 - Valid Loss 0.610527 - Valid Accuracy 0.793331\n",
            "Epoch: 14/30 - Train loss 0.676876 - Train Accuracy 0.762936 - Valid Loss 0.610818 - Valid Accuracy 0.791434\n",
            "Epoch: 15/30 - Train loss 0.674877 - Train Accuracy 0.763016 - Valid Loss 0.610913 - Valid Accuracy 0.787540\n",
            "Epoch: 16/30 - Train loss 0.671647 - Train Accuracy 0.762876 - Valid Loss 0.610457 - Valid Accuracy 0.790335\n",
            "Epoch: 17/30 - Train loss 0.671212 - Train Accuracy 0.763036 - Valid Loss 0.607235 - Valid Accuracy 0.790236\n",
            "Epoch: 18/30 - Train loss 0.676963 - Train Accuracy 0.763276 - Valid Loss 0.601177 - Valid Accuracy 0.794030\n",
            "Epoch: 19/30 - Train loss 0.671721 - Train Accuracy 0.763996 - Valid Loss 0.606223 - Valid Accuracy 0.793231\n",
            "Epoch: 20/30 - Train loss 0.668189 - Train Accuracy 0.765735 - Valid Loss 0.604641 - Valid Accuracy 0.788139\n",
            "Epoch: 21/30 - Train loss 0.661176 - Train Accuracy 0.765735 - Valid Loss 0.592581 - Valid Accuracy 0.792931\n",
            "Epoch: 22/30 - Train loss 0.665286 - Train Accuracy 0.767614 - Valid Loss 0.607062 - Valid Accuracy 0.788538\n",
            "Epoch: 23/30 - Train loss 0.669067 - Train Accuracy 0.765435 - Valid Loss 0.603602 - Valid Accuracy 0.790535\n",
            "Epoch: 24/30 - Train loss 0.663771 - Train Accuracy 0.765935 - Valid Loss 0.599322 - Valid Accuracy 0.793930\n",
            "Epoch: 25/30 - Train loss 0.668694 - Train Accuracy 0.768014 - Valid Loss 0.599424 - Valid Accuracy 0.791134\n",
            "Epoch: 26/30 - Train loss 0.666978 - Train Accuracy 0.765995 - Valid Loss 0.605529 - Valid Accuracy 0.785942\n",
            "Epoch: 27/30 - Train loss 0.662985 - Train Accuracy 0.768414 - Valid Loss 0.603758 - Valid Accuracy 0.790735\n",
            "Epoch: 28/30 - Train loss 0.660499 - Train Accuracy 0.766215 - Valid Loss 0.600639 - Valid Accuracy 0.795927\n",
            "Epoch: 29/30 - Train loss 0.670361 - Train Accuracy 0.764715 - Valid Loss 0.598771 - Valid Accuracy 0.794928\n",
            "Epoch: 30/30 - Train loss 0.664393 - Train Accuracy 0.767274 - Valid Loss 0.589491 - Valid Accuracy 0.797524\n"
          ]
        }
      ]
    },
    {
      "cell_type": "code",
      "source": [
        "plt.plot(history[\"train_loss\"])\n",
        "plt.plot(history[\"valid_loss\"])\n",
        "plt.title(\"Error de entrenamiento vs validación\")\n",
        "plt.legend(['Train', 'Valid'])\n",
        "plt.show()"
      ],
      "metadata": {
        "colab": {
          "base_uri": "https://localhost:8080/",
          "height": 281
        },
        "id": "nD8IQkdb-FBv",
        "outputId": "6f6baac3-b680-4436-e838-c8b82649523c"
      },
      "execution_count": 10,
      "outputs": [
        {
          "output_type": "display_data",
          "data": {
            "text/plain": [
              "<Figure size 432x288 with 1 Axes>"
            ],
            "image/png": "[encoded data removed]"
          },
          "metadata": {
            "needs_background": "light"
          }
        }
      ]
    },
    {
      "cell_type": "markdown",
      "source": [
        "#Sin Transfer learning"
      ],
      "metadata": {
        "id": "6UUTdykt5Kv4"
      }
    },
    {
      "cell_type": "code",
      "source": [
        "vgg11_model2 = torchvision.models.vgg11(pretrained=False)"
      ],
      "metadata": {
        "id": "8E2OBLFS5KwD"
      },
      "execution_count": 40,
      "outputs": []
    },
    {
      "cell_type": "code",
      "source": [
        "last_layer_in_features2 = vgg11_model2.classifier[-1].in_features\n",
        "vgg11_model2.classifier[-1] = torch.nn.Linear(in_features=last_layer_in_features2, out_features=32)"
      ],
      "metadata": {
        "id": "MsfZrvLDOfca"
      },
      "execution_count": 41,
      "outputs": []
    },
    {
      "cell_type": "code",
      "source": [
        "optimizer_ft2 = torch.optim.Adam(vgg11_model2.parameters(), lr=0.0001)\n",
        "criterion2 = torch.nn.CrossEntropyLoss()\n"
      ],
      "metadata": {
        "id": "GIFcQ6Nw5KwD"
      },
      "execution_count": 42,
      "outputs": []
    },
    {
      "cell_type": "code",
      "source": [
        "def train(model, criterion, optimizer, train_loader, valid_loader, epochs):\n",
        "\n",
        "    accuracy_metric = torchmetrics.Accuracy()\n",
        "\n",
        "    if torch.cuda.is_available():\n",
        "        model.to(\"cuda\")\n",
        "        accuracy_metric.to(\"cuda\")\n",
        "\n",
        "    train_loss = []\n",
        "    train_acc = []\n",
        "    valid_loss = []\n",
        "    valid_acc = []\n",
        "\n",
        "    for epoch in range(epochs):\n",
        "\n",
        "        # Pongo el modelo en modo entrenamiento\n",
        "        model.train()\n",
        "\n",
        "        epoch_train_loss = 0.0\n",
        "        epoch_train_accuracy = 0.0\n",
        "\n",
        "        for train_data, train_target in train_loader:\n",
        "            \n",
        "            if torch.cuda.is_available():\n",
        "                train_data = train_data.to(\"cuda\")\n",
        "                train_target = train_target.to(\"cuda\")\n",
        "          \n",
        "\n",
        "            optimizer.zero_grad()\n",
        "            output = model(train_data)\n",
        "            loss = criterion(output, train_target)\n",
        "            epoch_train_loss += loss.item()\n",
        "            loss.backward()\n",
        "            optimizer.step()\n",
        "\n",
        "            accuracy = accuracy_metric(output, train_target)\n",
        "            epoch_train_accuracy += accuracy.item()\n",
        "\n",
        "        epoch_train_loss = epoch_train_loss / len(train_loader)\n",
        "        epoch_train_accuracy = epoch_train_accuracy / len(train_loader)\n",
        "        train_loss.append(epoch_train_loss)\n",
        "        train_acc.append(epoch_train_accuracy)\n",
        "\n",
        "        # Pongo el modelo en modo testeo\n",
        "        model.eval()\n",
        "\n",
        "        epoch_valid_loss = 0.0\n",
        "        epoch_valid_accuracy = 0.0\n",
        "\n",
        "        for valid_data, valid_target in valid_loader:\n",
        "            if torch.cuda.is_available():\n",
        "                valid_data = valid_data.to(\"cuda\")\n",
        "                valid_target = valid_target.to(\"cuda\")\n",
        "\n",
        "            output = model(valid_data)\n",
        "            epoch_valid_loss += criterion(output, valid_target).item()\n",
        "            epoch_valid_accuracy += accuracy_metric(output, valid_target).item()\n",
        "            \n",
        "        epoch_valid_loss = epoch_valid_loss / len(valid_loader)\n",
        "        epoch_valid_accuracy = epoch_valid_accuracy / len(valid_loader)\n",
        "        valid_loss.append(epoch_valid_loss)\n",
        "        valid_acc.append(epoch_valid_accuracy)\n",
        "\n",
        "        print(\"Epoch: {}/{} - Train loss {:.6f} - Train Accuracy {:.6f} - Valid Loss {:.6f} - Valid Accuracy {:.6f}\".format(\n",
        "        epoch+1, epochs, epoch_train_loss, epoch_train_accuracy, epoch_valid_loss, epoch_valid_accuracy))\n",
        "\n",
        "    history = {}\n",
        "    history[\"train_loss\"] = train_loss\n",
        "    history[\"train_acc\"] = train_acc\n",
        "    history[\"valid_loss\"] = valid_loss\n",
        "    history[\"valid_acc\"] = valid_acc\n",
        "\n",
        "    return model, history"
      ],
      "metadata": {
        "id": "N2ROAT865KwE"
      },
      "execution_count": 43,
      "outputs": []
    },
    {
      "cell_type": "code",
      "source": [
        "result_model2, history2 = train(vgg11_model2, criterion2, optimizer_ft2, train_loader, valid_loader, 30)"
      ],
      "metadata": {
        "colab": {
          "base_uri": "https://localhost:8080/"
        },
        "outputId": "cf678df4-ee90-4fd4-8624-e6b56be6f5d5",
        "id": "ALGA2xVM5KwE"
      },
      "execution_count": 44,
      "outputs": [
        {
          "output_type": "stream",
          "name": "stdout",
          "text": [
            "Epoch: 1/30 - Train loss 1.547604 - Train Accuracy 0.428323 - Valid Loss 1.255158 - Valid Accuracy 0.563399\n",
            "Epoch: 2/30 - Train loss 0.972878 - Train Accuracy 0.657849 - Valid Loss 0.814917 - Valid Accuracy 0.715256\n",
            "Epoch: 3/30 - Train loss 0.737280 - Train Accuracy 0.744022 - Valid Loss 0.690374 - Valid Accuracy 0.766673\n",
            "Epoch: 4/30 - Train loss 0.611647 - Train Accuracy 0.789767 - Valid Loss 0.581835 - Valid Accuracy 0.800419\n",
            "Epoch: 5/30 - Train loss 0.518912 - Train Accuracy 0.823257 - Valid Loss 0.539197 - Valid Accuracy 0.818490\n",
            "Epoch: 6/30 - Train loss 0.459137 - Train Accuracy 0.841571 - Valid Loss 0.491914 - Valid Accuracy 0.832169\n",
            "Epoch: 7/30 - Train loss 0.401273 - Train Accuracy 0.860825 - Valid Loss 0.487438 - Valid Accuracy 0.838558\n",
            "Epoch: 8/30 - Train loss 0.360168 - Train Accuracy 0.876799 - Valid Loss 0.439141 - Valid Accuracy 0.851238\n",
            "Epoch: 9/30 - Train loss 0.316098 - Train Accuracy 0.890995 - Valid Loss 0.455093 - Valid Accuracy 0.849740\n",
            "Epoch: 10/30 - Train loss 0.291430 - Train Accuracy 0.900392 - Valid Loss 0.415815 - Valid Accuracy 0.864816\n",
            "Epoch: 11/30 - Train loss 0.268614 - Train Accuracy 0.907909 - Valid Loss 0.445538 - Valid Accuracy 0.859824\n",
            "Epoch: 12/30 - Train loss 0.241674 - Train Accuracy 0.917906 - Valid Loss 0.421310 - Valid Accuracy 0.863019\n",
            "Epoch: 13/30 - Train loss 0.218610 - Train Accuracy 0.925984 - Valid Loss 0.420828 - Valid Accuracy 0.868011\n",
            "Epoch: 14/30 - Train loss 0.206501 - Train Accuracy 0.929722 - Valid Loss 0.418934 - Valid Accuracy 0.870707\n",
            "Epoch: 15/30 - Train loss 0.187260 - Train Accuracy 0.935141 - Valid Loss 0.426672 - Valid Accuracy 0.870607\n",
            "Epoch: 16/30 - Train loss 0.170820 - Train Accuracy 0.941519 - Valid Loss 0.450038 - Valid Accuracy 0.867113\n",
            "Epoch: 17/30 - Train loss 0.163652 - Train Accuracy 0.943918 - Valid Loss 0.428744 - Valid Accuracy 0.872903\n",
            "Epoch: 18/30 - Train loss 0.151216 - Train Accuracy 0.949076 - Valid Loss 0.458557 - Valid Accuracy 0.868510\n",
            "Epoch: 19/30 - Train loss 0.144655 - Train Accuracy 0.951595 - Valid Loss 0.407367 - Valid Accuracy 0.878494\n",
            "Epoch: 20/30 - Train loss 0.138718 - Train Accuracy 0.953315 - Valid Loss 0.422461 - Valid Accuracy 0.883486\n",
            "Epoch: 21/30 - Train loss 0.131590 - Train Accuracy 0.956054 - Valid Loss 0.410286 - Valid Accuracy 0.888778\n",
            "Epoch: 22/30 - Train loss 0.126144 - Train Accuracy 0.958033 - Valid Loss 0.415970 - Valid Accuracy 0.883886\n",
            "Epoch: 23/30 - Train loss 0.119021 - Train Accuracy 0.960133 - Valid Loss 0.435301 - Valid Accuracy 0.877196\n",
            "Epoch: 24/30 - Train loss 0.114866 - Train Accuracy 0.961652 - Valid Loss 0.449983 - Valid Accuracy 0.877895\n",
            "Epoch: 25/30 - Train loss 0.107042 - Train Accuracy 0.964071 - Valid Loss 0.421718 - Valid Accuracy 0.887280\n",
            "Epoch: 26/30 - Train loss 0.102042 - Train Accuracy 0.966671 - Valid Loss 0.456693 - Valid Accuracy 0.883187\n",
            "Epoch: 27/30 - Train loss 0.103077 - Train Accuracy 0.965531 - Valid Loss 0.421243 - Valid Accuracy 0.888379\n",
            "Epoch: 28/30 - Train loss 0.093325 - Train Accuracy 0.968450 - Valid Loss 0.509435 - Valid Accuracy 0.871805\n",
            "Epoch: 29/30 - Train loss 0.097182 - Train Accuracy 0.967990 - Valid Loss 0.431001 - Valid Accuracy 0.887979\n",
            "Epoch: 30/30 - Train loss 0.093305 - Train Accuracy 0.969410 - Valid Loss 0.481727 - Valid Accuracy 0.877097\n"
          ]
        }
      ]
    },
    {
      "cell_type": "code",
      "source": [
        "plt.plot(history2[\"train_loss\"])\n",
        "plt.plot(history2[\"valid_loss\"])\n",
        "plt.title(\"Error de entrenamiento vs validación\")\n",
        "plt.legend(['Train', 'Valid'])\n",
        "plt.show()"
      ],
      "metadata": {
        "colab": {
          "base_uri": "https://localhost:8080/",
          "height": 281
        },
        "outputId": "a29bf0ff-f528-4a3c-dee4-07ba7bd4a026",
        "id": "cQK9QDKs5KwF"
      },
      "execution_count": 45,
      "outputs": [
        {
          "output_type": "display_data",
          "data": {
            "text/plain": [
              "<Figure size 432x288 with 1 Axes>"
            ],
            "image/png": "[encoded data removed]"
          },
          "metadata": {
            "needs_background": "light"
          }
        }
      ]
    },
    {
      "cell_type": "markdown",
      "source": [
        "#Con Transfer learning 2"
      ],
      "metadata": {
        "id": "HIArKW9dFrsT"
      }
    },
    {
      "cell_type": "code",
      "source": [
        "vgg11_model3 = torchvision.models.vgg11(pretrained=True)\n",
        "\n",
        "\n",
        "#torchsummary.summary(vgg11_model, input_size=(3, 32, 32))\n",
        "#vgg11_model.modules"
      ],
      "metadata": {
        "id": "utv1n3VkFrse"
      },
      "execution_count": null,
      "outputs": []
    },
    {
      "cell_type": "code",
      "source": [
        "for param in vgg11_model3.parameters():\n",
        "    param.requires_grad = False"
      ],
      "metadata": {
        "id": "4Mtfr_T_1QVw"
      },
      "execution_count": null,
      "outputs": []
    },
    {
      "cell_type": "code",
      "source": [
        "clayer_kernel_size = vgg11_model3.features[-3].kernel_size\n",
        "clayer_stride = vgg11_model3.features[-3].stride\n",
        "clayer_padding = vgg11_model3.features[-3].padding\n",
        "clayer_in_channels = vgg11_model3.features[-3].in_channels\n",
        "clayer_out_channels = vgg11_model3.features[-3].out_channels\n",
        "vgg11_model3.features[-3] = torch.nn.Conv2d(in_channels=clayer_in_channels, out_channels=clayer_out_channels, kernel_size=clayer_kernel_size, stride=clayer_stride , padding=clayer_padding)\n",
        "\n",
        "\n",
        "layer_in_features = vgg11_model3.classifier[-4].in_features\n",
        "layer_out_features = vgg11_model3.classifier[-4].out_features\n",
        "vgg11_model3.classifier[-4] = torch.nn.Linear(in_features=layer_in_features, out_features=layer_out_features)\n",
        "\n",
        "layer_in_features = vgg11_model3.classifier[-7].in_features\n",
        "layer_out_features = vgg11_model3.classifier[-7].out_features\n",
        "vgg11_model3.classifier[-7] = torch.nn.Linear(in_features=layer_in_features, out_features=layer_out_features)\n",
        "\n",
        "last_layer_in_features3 = vgg11_model3.classifier[-1].in_features\n",
        "vgg11_model3.classifier[-1] = torch.nn.Linear(in_features=last_layer_in_features3, out_features=32)\n"
      ],
      "metadata": {
        "id": "CokMxsdRFrsf"
      },
      "execution_count": null,
      "outputs": []
    },
    {
      "cell_type": "code",
      "source": [
        "optimizer_ft = torch.optim.Adam(vgg11_model3.parameters(), lr=0.0001)\n",
        "criterion = torch.nn.CrossEntropyLoss()"
      ],
      "metadata": {
        "id": "EFfmMVZcFrsg"
      },
      "execution_count": null,
      "outputs": []
    },
    {
      "cell_type": "code",
      "source": [
        "def train(model, criterion, optimizer, train_loader, valid_loader, epochs):\n",
        "\n",
        "    accuracy_metric = torchmetrics.Accuracy()\n",
        "\n",
        "    if torch.cuda.is_available():\n",
        "        model.to(\"cuda\")\n",
        "        accuracy_metric.to(\"cuda\")\n",
        "\n",
        "    train_loss = []\n",
        "    train_acc = []\n",
        "    valid_loss = []\n",
        "    valid_acc = []\n",
        "\n",
        "    for epoch in range(epochs):\n",
        "\n",
        "        # Pongo el modelo en modo entrenamiento\n",
        "        model.train()\n",
        "\n",
        "        epoch_train_loss = 0.0\n",
        "        epoch_train_accuracy = 0.0\n",
        "\n",
        "        for train_data, train_target in train_loader:\n",
        "            \n",
        "            if torch.cuda.is_available():\n",
        "                train_data = train_data.to(\"cuda\")\n",
        "                train_target = train_target.to(\"cuda\")\n",
        "          \n",
        "\n",
        "            optimizer.zero_grad()\n",
        "            output = model(train_data)\n",
        "            loss = criterion(output, train_target)\n",
        "            epoch_train_loss += loss.item()\n",
        "            loss.backward()\n",
        "            optimizer.step()\n",
        "\n",
        "            accuracy = accuracy_metric(output, train_target)\n",
        "            epoch_train_accuracy += accuracy.item()\n",
        "\n",
        "        epoch_train_loss = epoch_train_loss / len(train_loader)\n",
        "        epoch_train_accuracy = epoch_train_accuracy / len(train_loader)\n",
        "        train_loss.append(epoch_train_loss)\n",
        "        train_acc.append(epoch_train_accuracy)\n",
        "\n",
        "        # Pongo el modelo en modo testeo\n",
        "        model.eval()\n",
        "\n",
        "        epoch_valid_loss = 0.0\n",
        "        epoch_valid_accuracy = 0.0\n",
        "\n",
        "        for valid_data, valid_target in valid_loader:\n",
        "            if torch.cuda.is_available():\n",
        "                valid_data = valid_data.to(\"cuda\")\n",
        "                valid_target = valid_target.to(\"cuda\")\n",
        "\n",
        "            output = model(valid_data)\n",
        "            epoch_valid_loss += criterion(output, valid_target).item()\n",
        "            epoch_valid_accuracy += accuracy_metric(output, valid_target).item()\n",
        "            \n",
        "        epoch_valid_loss = epoch_valid_loss / len(valid_loader)\n",
        "        epoch_valid_accuracy = epoch_valid_accuracy / len(valid_loader)\n",
        "        valid_loss.append(epoch_valid_loss)\n",
        "        valid_acc.append(epoch_valid_accuracy)\n",
        "\n",
        "        print(\"Epoch: {}/{} - Train loss {:.6f} - Train Accuracy {:.6f} - Valid Loss {:.6f} - Valid Accuracy {:.6f}\".format(\n",
        "        epoch+1, epochs, epoch_train_loss, epoch_train_accuracy, epoch_valid_loss, epoch_valid_accuracy))\n",
        "\n",
        "    history = {}\n",
        "    history[\"train_loss\"] = train_loss\n",
        "    history[\"train_acc\"] = train_acc\n",
        "    history[\"valid_loss\"] = valid_loss\n",
        "    history[\"valid_acc\"] = valid_acc\n",
        "\n",
        "    return model, history"
      ],
      "metadata": {
        "id": "ld7h6uRcFrsg"
      },
      "execution_count": null,
      "outputs": []
    },
    {
      "cell_type": "code",
      "source": [
        "result_model, history = train(vgg11_model3, criterion, optimizer_ft, train_loader, valid_loader, 10)"
      ],
      "metadata": {
        "colab": {
          "base_uri": "https://localhost:8080/"
        },
        "outputId": "82e20ef3-3452-4fa9-8f44-d6de5b3bcd5d",
        "id": "5wOtH_T5Frsg"
      },
      "execution_count": null,
      "outputs": [
        {
          "output_type": "stream",
          "name": "stdout",
          "text": [
            "Epoch: 1/10 - Train loss 0.659956 - Train Accuracy 0.772653 - Valid Loss 0.469078 - Valid Accuracy 0.837660\n",
            "Epoch: 2/10 - Train loss 0.397311 - Train Accuracy 0.864583 - Valid Loss 0.381951 - Valid Accuracy 0.870208\n",
            "Epoch: 3/10 - Train loss 0.319730 - Train Accuracy 0.891115 - Valid Loss 0.386235 - Valid Accuracy 0.877396\n",
            "Epoch: 4/10 - Train loss 0.271620 - Train Accuracy 0.907889 - Valid Loss 0.415357 - Valid Accuracy 0.866913\n",
            "Epoch: 5/10 - Train loss 0.236443 - Train Accuracy 0.919166 - Valid Loss 0.368166 - Valid Accuracy 0.882588\n",
            "Epoch: 6/10 - Train loss 0.213620 - Train Accuracy 0.926384 - Valid Loss 0.359440 - Valid Accuracy 0.891773\n",
            "Epoch: 7/10 - Train loss 0.185126 - Train Accuracy 0.937380 - Valid Loss 0.374449 - Valid Accuracy 0.888978\n",
            "Epoch: 8/10 - Train loss 0.172335 - Train Accuracy 0.941319 - Valid Loss 0.356462 - Valid Accuracy 0.893570\n",
            "Epoch: 9/10 - Train loss 0.154450 - Train Accuracy 0.948377 - Valid Loss 0.368775 - Valid Accuracy 0.895767\n",
            "Epoch: 10/10 - Train loss 0.145154 - Train Accuracy 0.951356 - Valid Loss 0.385194 - Valid Accuracy 0.888678\n"
          ]
        }
      ]
    },
    {
      "cell_type": "code",
      "source": [
        "plt.plot(history[\"train_loss\"])\n",
        "plt.plot(history[\"valid_loss\"])\n",
        "plt.title(\"Error de entrenamiento vs validación\")\n",
        "plt.legend(['Train', 'Valid'])\n",
        "plt.show()"
      ],
      "metadata": {
        "colab": {
          "base_uri": "https://localhost:8080/",
          "height": 281
        },
        "outputId": "6f6baac3-b680-4436-e838-c8b82649523c",
        "id": "1q7N9qkYFrsg"
      },
      "execution_count": null,
      "outputs": [
        {
          "output_type": "display_data",
          "data": {
            "text/plain": [
              "<Figure size 432x288 with 1 Axes>"
            ],
            "image/png": "[encoded data removed]"
          },
          "metadata": {
            "needs_background": "light"
          }
        }
      ]
    },
    {
      "cell_type": "markdown",
      "source": [
        "#Conclusiones"
      ],
      "metadata": {
        "id": "dhcEkaL8vhk0"
      }
    },
    {
      "cell_type": "markdown",
      "source": [
        "Primero se entreno un modelo con transfer learning y solo la ultima capa sin congelar\n",
        "Posteriormente se entreno el mismo modelo sin transfer learning\n",
        "\n",
        "Se esperaba que con el modelo pre entrenado se desempeñe mejor que el modelo sin transfer learning pero por contrario encontramos que el modelo sin tl aprendio mejor y mas rapido\n",
        "\n",
        "\n",
        "Por ultimo se entreno el mismo modelo con transfer learning y mas capas sin congelar donde se obtuvo mejor desempeño que en el modelo sin transfer learning en muchas menos epocas de entrenamiento\n",
        "\n",
        "\n",
        "\n",
        "Como conclusion general en el primer modelo por tener solo una capa actualizando parametros no alcanza para cambiar las caracteristicas del entrenamiento original por las nuevas caracteristicas que se quieren entrenar al aumentar el numero de capas sobre las que se entrena se le permite a la red aprender las caracteristicas mas abstractas del problema manteniendo las primeras capas pre entrenadas para que expliquen las caracteristicas de mas bajo nivel."
      ],
      "metadata": {
        "id": "8eR-PMTyvl2n"
      }
    }
  ]
}