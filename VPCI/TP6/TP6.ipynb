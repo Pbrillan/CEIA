{
 "cells": [
  {
   "cell_type": "code",
   "execution_count": 1,
   "id": "2695141c",
   "metadata": {},
   "outputs": [],
   "source": [
    "import cv2 as cv\n",
    "import time"
   ]
  },
  {
   "cell_type": "code",
   "execution_count": 2,
   "id": "a7c52aa1",
   "metadata": {},
   "outputs": [],
   "source": [
    "# Leemos los clasificadores pre-entrenados (instalados en cv2/data/haarcascades/)\n",
    "#--------------------------------------------------------------------------------\n",
    "face_cascade = cv.CascadeClassifier('C:\\haarcascades\\haarcascade_frontalface_default.xml')\n",
    "eye_cascade = cv.CascadeClassifier('C:\\haarcascades\\haarcascade_eye.xml')\n",
    "smile_cascade = cv.CascadeClassifier('C:\\haarcascades\\haarcascade_smile.xml')"
   ]
  },
  {
   "cell_type": "code",
   "execution_count": null,
   "id": "ac85b411",
   "metadata": {},
   "outputs": [],
   "source": [
    "# Cargamos la imagen a analizar\n",
    "#------------------------------\n",
    "originalImage = cv.imread('Rollings.jpg')\n",
    "cap = cv.VideoCapture(0)\n",
    "fourcc = cv.VideoWriter_fourcc(*'MP4V')\n",
    "out = cv.VideoWriter('output.mp4', fourcc, 20.0, (640,480))\n",
    "while(cap.isOpened()):\n",
    "  # Tomamos un nuevo frame\n",
    "  #-----------------------\n",
    "    ret ,originalImage = cap.read()\n",
    "    if ret == True:\n",
    "      # Pasamos la imagen a escala de grises\n",
    "      #-------------------------------------\n",
    "      grayImage = cv.cvtColor(originalImage, cv.COLOR_BGR2GRAY)\n",
    "      grayImage = cv.equalizeHist(grayImage)\n",
    "\n",
    "      # Llamamos al clasificador de Haar (AdaBoost)\n",
    "      #--------------------------------------------\n",
    "      #faces = face_cascade.detectMultiScale(grayImage, 1.012, 5)\n",
    "      #faces = face_cascade.detectMultiScale(grayImage, 1.1, 1)#, minSize= (100,130),maxSize=(200,400))\n",
    "      faces = face_cascade.detectMultiScale(grayImage,scaleFactor= 1.1, minNeighbors=5,minSize= (100,130), maxSize=(400,400))\n",
    "      # Recorro las caras encontradas\n",
    "      #------------------------------\n",
    "      for (x,y,w,h) in faces:\n",
    "          # Le dibujamos un rectángulo amarillo\n",
    "          cv.rectangle(originalImage,(x,y),(x+w,y+h),(255,255,0),2)\n",
    "          # Definimos las ROIs en la imagen gris y color\n",
    "          roi_gray = grayImage[y:y+h, x:x+w] \n",
    "          roi_color = originalImage[y:y+h, x:x+w] \n",
    "          # Para cada rostro hallado le buscamos los ojos\n",
    "          eyes = eye_cascade.detectMultiScale(roi_gray, scaleFactor = 1.1, minNeighbors =3,minSize = (30,30),maxSize = (60,60))\n",
    "          #eyes = eye_cascade.detectMultiScale(roi_gray, \n",
    "           #                     scaleFactor= 1.1,\n",
    "           #                     minNeighbors=3,\n",
    "           #                     minSize = (32,32),\n",
    "           #                     maxSize = (64,64))  \n",
    "          # En los ojos hallados les dibujamos rectángulos\n",
    "          for (ex,ey,ew,eh) in eyes:\n",
    "              cv.rectangle(roi_color,(ex,ey),(ex+ew,ey+eh),(0,255,0),2)\n",
    "          smiles = smile_cascade.detectMultiScale(roi_gray, 1.8, 23)\n",
    "               \n",
    "          for (sx, sy, sw, sh) in smiles:\n",
    "             cv.rectangle(roi_color,(sx, sy),((sx + sw),(sy + sh)),(0, 0, 255), 2)\n",
    "      out.write(originalImage)          \n",
    "      cv.imshow('Detección de caras con filtros de Haar en cascada',originalImage) \n",
    "      #cv.waitKey(0)\n",
    "      #cv.destroyAllWindows()\n",
    "\n",
    "      #time.sleep(10) \n",
    "      #cv.destroyAllWindows()\n",
    "\n",
    "      k = cv.waitKey(30) & 0xff\n",
    "      if k == 27:\n",
    "         break\n",
    "    else:\n",
    "      break\n",
    "out.release()\n",
    "cv.destroyAllWindows()\n",
    "cap.release()"
   ]
  },
  {
   "cell_type": "code",
   "execution_count": null,
   "id": "2636755d",
   "metadata": {},
   "outputs": [],
   "source": []
  },
  {
   "cell_type": "code",
   "execution_count": null,
   "id": "9e4e7ce6",
   "metadata": {},
   "outputs": [],
   "source": []
  }
 ],
 "metadata": {
  "kernelspec": {
   "display_name": "Python 3 (ipykernel)",
   "language": "python",
   "name": "python3"
  },
  "language_info": {
   "codemirror_mode": {
    "name": "ipython",
    "version": 3
   },
   "file_extension": ".py",
   "mimetype": "text/x-python",
   "name": "python",
   "nbconvert_exporter": "python",
   "pygments_lexer": "ipython3",
   "version": "3.8.11"
  }
 },
 "nbformat": 4,
 "nbformat_minor": 5
}
