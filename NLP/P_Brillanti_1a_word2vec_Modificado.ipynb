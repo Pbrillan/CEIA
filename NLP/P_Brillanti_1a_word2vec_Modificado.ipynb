{
  "nbformat": 4,
  "nbformat_minor": 0,
  "metadata": {
    "colab": {
      "name": "P Brillanti 1a - word2vec.ipynb",
      "provenance": [],
      "collapsed_sections": [],
      "include_colab_link": true
    },
    "kernelspec": {
      "name": "python3",
      "display_name": "Python 3"
    },
    "language_info": {
      "name": "python"
    }
  },
  "cells": [
    {
      "cell_type": "markdown",
      "metadata": {
        "id": "view-in-github",
        "colab_type": "text"
      },
      "source": [
        "<a href=\"https://colab.research.google.com/github/Pbrillan/CEIA/blob/main/NLP/P_Brillanti_1a_word2vec_Modificado.ipynb\" target=\"_parent\"><img src=\"https://colab.research.google.com/assets/colab-badge.svg\" alt=\"Open In Colab\"/></a>"
      ]
    },
    {
      "cell_type": "markdown",
      "metadata": {
        "id": "Ue5hxxkdAQJg"
      },
      "source": [
        "<img src=\"https://github.com/FIUBA-Posgrado-Inteligencia-Artificial/procesamiento_lenguaje_natural/raw/main/logoFIUBA.jpg\" width=\"500\" align=\"center\">\n",
        "\n",
        "\n",
        "# Procesamiento de lenguaje natural\n",
        "## Word2vect\n"
      ]
    },
    {
      "cell_type": "code",
      "metadata": {
        "id": "kCED1hh-Ioyf"
      },
      "source": [
        "import numpy as np"
      ],
      "execution_count": null,
      "outputs": []
    },
    {
      "cell_type": "code",
      "metadata": {
        "id": "PUbfVnzIIoMj"
      },
      "source": [
        "def cosine_similarity(a, b):\n",
        "    return np.dot(a, b) / (np.linalg.norm(a) * (np.linalg.norm(b)))"
      ],
      "execution_count": null,
      "outputs": []
    },
    {
      "cell_type": "markdown",
      "metadata": {
        "id": "DMOa4JPSCJ29"
      },
      "source": [
        "### Datos"
      ]
    },
    {
      "cell_type": "code",
      "metadata": {
        "id": "RIO7b8GjAC17"
      },
      "source": [
        "corpus = np.array(['que dia es hoy', 'martes el dia de hoy es martes', 'martes muchas gracias'])"
      ],
      "execution_count": null,
      "outputs": []
    },
    {
      "cell_type": "markdown",
      "metadata": {
        "id": "8WqdaTmO8P1r"
      },
      "source": [
        "Documento 1 --> que dia es hoy \\\n",
        "Documento 2 --> martes el dia de hoy es martes \\\n",
        "Documento 3 --> martes muchas gracias"
      ]
    },
    {
      "cell_type": "markdown",
      "metadata": {
        "id": "FVHxBRNzCMOS"
      },
      "source": [
        "### 1 - Obtener el vocabulario del corpus (los términos utilizados)\n",
        "- Cada documento transformarlo en una lista de términos\n",
        "- Armar un vector de términos no repetidos de todos los documentos"
      ]
    },
    {
      "cell_type": "code",
      "metadata": {
        "id": "3ZqTOZzDI7uv",
        "colab": {
          "base_uri": "https://localhost:8080/"
        },
        "outputId": "41d39cb6-689e-48d9-991c-2a5a044b0b98"
      },
      "source": [
        "corpus_terminos = []\n",
        "for doc in corpus:\n",
        "  terminos = doc.split(\" \")\n",
        "  corpus_terminos.append(terminos)\n",
        "\n",
        "corpus_terminos = np.array(corpus_terminos)\n",
        "vocab_completo_list = np.sum(corpus_terminos)\n",
        "\n",
        "diccionario = {}\n",
        "for palabra in vocab_completo_list:\n",
        "  if palabra in diccionario:\n",
        "    diccionario[palabra] += 1\n",
        "  else:\n",
        "    diccionario[palabra] = 1\n",
        "\n",
        "print(corpus)\n",
        "print(vocab_completo_list)\n",
        "print(\" \")\n",
        "\n",
        "print(diccionario)\n",
        "print(\" \")\n",
        "print(\"Otra forma\")\n",
        "print(\" \")\n",
        "\n",
        "palabras = np.unique(vocab_completo_list)\n",
        "import collections\n",
        "freq =collections.Counter(vocab_completo_list)\n",
        "print(palabras)\n",
        "print(freq)"
      ],
      "execution_count": null,
      "outputs": [
        {
          "output_type": "stream",
          "name": "stdout",
          "text": [
            "['que dia es hoy' 'martes el dia de hoy es martes' 'martes muchas gracias']\n",
            "['que', 'dia', 'es', 'hoy', 'martes', 'el', 'dia', 'de', 'hoy', 'es', 'martes', 'martes', 'muchas', 'gracias']\n",
            " \n",
            "{'que': 1, 'dia': 2, 'es': 2, 'hoy': 2, 'martes': 3, 'el': 1, 'de': 1, 'muchas': 1, 'gracias': 1}\n",
            " \n",
            "Otra forma\n",
            " \n",
            "['de' 'dia' 'el' 'es' 'gracias' 'hoy' 'martes' 'muchas' 'que']\n",
            "Counter({'martes': 3, 'dia': 2, 'es': 2, 'hoy': 2, 'que': 1, 'el': 1, 'de': 1, 'muchas': 1, 'gracias': 1})\n"
          ]
        },
        {
          "output_type": "stream",
          "name": "stderr",
          "text": [
            "/usr/local/lib/python3.7/dist-packages/ipykernel_launcher.py:6: VisibleDeprecationWarning: Creating an ndarray from ragged nested sequences (which is a list-or-tuple of lists-or-tuples-or ndarrays with different lengths or shapes) is deprecated. If you meant to do this, you must specify 'dtype=object' when creating the ndarray.\n",
            "  \n"
          ]
        }
      ]
    },
    {
      "cell_type": "code",
      "source": [
        "for palabra in freq:\n",
        "  frecuencia = freq[palabra]\n",
        "  print(f\"Palabra: '{palabra}' tiene frecuencia {frecuencia}\")"
      ],
      "metadata": {
        "id": "Pss3GeW9KV-7",
        "colab": {
          "base_uri": "https://localhost:8080/"
        },
        "outputId": "edcdcee1-287e-4fba-ef24-4490c5ed09a8"
      },
      "execution_count": null,
      "outputs": [
        {
          "output_type": "stream",
          "name": "stdout",
          "text": [
            "Palabra: 'que' tiene frecuencia 1\n",
            "Palabra: 'dia' tiene frecuencia 2\n",
            "Palabra: 'es' tiene frecuencia 2\n",
            "Palabra: 'hoy' tiene frecuencia 2\n",
            "Palabra: 'martes' tiene frecuencia 3\n",
            "Palabra: 'el' tiene frecuencia 1\n",
            "Palabra: 'de' tiene frecuencia 1\n",
            "Palabra: 'muchas' tiene frecuencia 1\n",
            "Palabra: 'gracias' tiene frecuencia 1\n"
          ]
        }
      ]
    },
    {
      "cell_type": "markdown",
      "metadata": {
        "id": "RUhH983FI7It"
      },
      "source": [
        "### 2- OneHot encoding\n",
        "Data una lista de textos, devolver una matriz con la representación oneHotEncoding de estos"
      ]
    },
    {
      "cell_type": "code",
      "metadata": {
        "id": "Os0AAQo6I6Z1",
        "colab": {
          "base_uri": "https://localhost:8080/"
        },
        "outputId": "86b5e25f-fbf5-407e-96e8-4a20fac1e57c"
      },
      "source": [
        "matriz = np.zeros((len(corpus_terminos), len(palabras)))\n",
        "for i, d in enumerate(corpus_terminos):\n",
        " for j, t in enumerate(palabras):\n",
        "   matriz[i, j] = t in d\n",
        "print(matriz)"
      ],
      "execution_count": null,
      "outputs": [
        {
          "output_type": "stream",
          "name": "stdout",
          "text": [
            "[[0. 1. 0. 1. 0. 1. 0. 0. 1.]\n",
            " [1. 1. 1. 1. 0. 1. 1. 0. 0.]\n",
            " [0. 0. 0. 0. 1. 0. 1. 1. 0.]]\n"
          ]
        }
      ]
    },
    {
      "cell_type": "markdown",
      "metadata": {
        "id": "IIyWGmCpJVQL"
      },
      "source": [
        "### 3- Vectores de frecuencia\n",
        "Data una lista de textos, devolver una matriz con la representación de frecuencia de estos"
      ]
    },
    {
      "cell_type": "code",
      "metadata": {
        "id": "yqij_7eHJbUi",
        "colab": {
          "base_uri": "https://localhost:8080/"
        },
        "outputId": "01df87fc-8cb1-4464-f0b0-c6fbd13c88be"
      },
      "source": [
        "matrizfr = np.zeros((len(corpus_terminos), len(palabras)))\n",
        "for i, d in enumerate(corpus_terminos):\n",
        " for j, t in enumerate(palabras):\n",
        "   matrizfr[i, j] = d.count(t)\n",
        "print(matrizfr)"
      ],
      "execution_count": null,
      "outputs": [
        {
          "output_type": "stream",
          "name": "stdout",
          "text": [
            "[[0. 1. 0. 1. 0. 1. 0. 0. 1.]\n",
            " [1. 1. 1. 1. 0. 1. 2. 0. 0.]\n",
            " [0. 0. 0. 0. 1. 0. 1. 1. 0.]]\n"
          ]
        }
      ]
    },
    {
      "cell_type": "markdown",
      "metadata": {
        "id": "z_Ot8HvWJcBu"
      },
      "source": [
        "### 4- TF-IDF\n",
        "Data una lista de textos, devolver una matriz con la representacion TFIDF"
      ]
    },
    {
      "cell_type": "code",
      "metadata": {
        "id": "waG_oWtpJjRw",
        "colab": {
          "base_uri": "https://localhost:8080/"
        },
        "outputId": "30755b29-34ed-4c41-b211-f395d9f9f0b4"
      },
      "source": [
        "N = len(corpus_terminos)\n",
        "DF = matriz.sum(axis=0)\n",
        "IDF = np.log2(N/DF)\n",
        "TF_IDF = (matrizfr * IDF).round(decimals=2)\n",
        "print(TF_IDF)"
      ],
      "execution_count": null,
      "outputs": [
        {
          "output_type": "stream",
          "name": "stdout",
          "text": [
            "[[0.   0.58 0.   0.58 0.   0.58 0.   0.   1.58]\n",
            " [1.58 0.58 1.58 0.58 0.   0.58 1.17 0.   0.  ]\n",
            " [0.   0.   0.   0.   1.58 0.   0.58 1.58 0.  ]]\n"
          ]
        }
      ]
    },
    {
      "cell_type": "markdown",
      "metadata": {
        "id": "xMcsfndWJjm_"
      },
      "source": [
        "### 5 - Comparación de documentos\n",
        "Realizar una funcion que reciba el corpus y el índice de un documento y devuelva los documentos ordenados por la similitud coseno"
      ]
    },
    {
      "cell_type": "code",
      "metadata": {
        "id": "CZdiop6IJpZN",
        "colab": {
          "base_uri": "https://localhost:8080/"
        },
        "outputId": "79bd8e36-1f1e-4175-bf2c-3b5b52454190"
      },
      "source": [
        "comp = np.zeros((N, N))\n",
        "\n",
        "for i in range(N):\n",
        "  for j in range(N):\n",
        "    comp[i,j] = cosine_similarity(TF_IDF[i], TF_IDF[j])\n",
        "\n",
        "print(comp)"
      ],
      "execution_count": null,
      "outputs": [
        {
          "output_type": "stream",
          "name": "stdout",
          "text": [
            "[[1.         0.19853442 0.        ]\n",
            " [0.19853442 1.         0.1082736 ]\n",
            " [0.         0.1082736  1.        ]]\n"
          ]
        }
      ]
    },
    {
      "cell_type": "code",
      "source": [
        "def cosine_similarity(a, b):\n",
        "  return np.dot(a, b) / (np.linalg.norm(a) * (np.linalg.norm(b)))\n",
        "\n",
        "def vocab(corpus):\n",
        "  corpus_terminos = []\n",
        "  for doc in corpus:\n",
        "    terminos = doc.split(\" \")\n",
        "    corpus_terminos.append(terminos)\n",
        "  corpus_terminos = np.array(corpus_terminos)\n",
        "  vocab_completo_list = np.sum(corpus_terminos)\n",
        "  palabras = np.unique(vocab_completo_list)\n",
        "  import collections\n",
        "  freq =collections.Counter(vocab_completo_list)\n",
        "  return palabras, freq, corpus_terminos\n",
        "\n",
        "def onehot(corpus_terminos,palabras):\n",
        "  matriz = np.zeros((len(corpus_terminos), len(palabras)))\n",
        "  for i, d in enumerate(corpus_terminos):\n",
        "    for j, t in enumerate(palabras):\n",
        "      matriz[i, j] = t in d\n",
        "  return matriz\n",
        "\n",
        "def frecuencia(corpus_terminos,palabras):\n",
        "  matrizfr = np.zeros((len(corpus_terminos), len(palabras)))\n",
        "  for i, d in enumerate(corpus_terminos):\n",
        "    for j, t in enumerate(palabras):\n",
        "      matrizfr[i, j] = d.count(t)\n",
        "  return matrizfr\n",
        "\n",
        "def tfidf(corpus_terminos, matriz, matrizfr):\n",
        "  N = len(corpus_terminos)\n",
        "  DF = matriz.sum(axis=0)\n",
        "  IDF = np.log2(N/DF)\n",
        "  TF_IDF = (matrizfr * IDF).round(decimals=2)\n",
        "  return N, TF_IDF\n",
        "\n",
        "def similarity(N,TF_IDF):\n",
        "  comp = np.zeros((N, N))\n",
        "  for i in range(N):\n",
        "    for j in range(N):\n",
        "      comp[i,j] = cosine_similarity(TF_IDF[i], TF_IDF[j])\n",
        "  return comp\n",
        "\n",
        "def ordenar(comp,corpus):\n",
        "  #similars = np.argsort(comp)[::-1]\n",
        "  \n",
        "  similars = corpus[comp[1,:].argsort()]\n",
        "  return similars\n",
        "\n",
        "def principal(corpus):\n",
        "  palabras, freq, corpus_terminos =  vocab(corpus)\n",
        "  matriz =  onehot(corpus_terminos ,palabras)\n",
        "  matrizfr = frecuencia(corpus_terminos ,palabras)\n",
        "  N, TF_IDF =  tfidf(corpus_terminos, matriz, matrizfr)\n",
        "  comp = similarity(N,TF_IDF)\n",
        "  similars =  ordenar(comp,corpus)\n",
        "  return similars\n"
      ],
      "metadata": {
        "id": "g6NbYzO-SFh4"
      },
      "execution_count": null,
      "outputs": []
    },
    {
      "cell_type": "code",
      "source": [
        "corpus = np.array(['que dia es hoy', 'hola martes!', 'martes el dia de hoy es martes', 'martes muchas gracias', 'hola', 'hola!', 'chau martes!'])"
      ],
      "metadata": {
        "id": "whQVJ_PGVxAq"
      },
      "execution_count": null,
      "outputs": []
    },
    {
      "cell_type": "code",
      "source": [
        "similars = principal(corpus)\n",
        "print(corpus)\n",
        "print(similars)\n"
      ],
      "metadata": {
        "id": "v11d7fgFWs3d",
        "outputId": "bc99fab1-332b-405d-8bfc-f27f76b5daa5",
        "colab": {
          "base_uri": "https://localhost:8080/"
        }
      },
      "execution_count": null,
      "outputs": [
        {
          "output_type": "stream",
          "name": "stdout",
          "text": [
            "['que dia es hoy' 'hola martes!' 'martes el dia de hoy es martes'\n",
            " 'martes muchas gracias' 'hola' 'hola!' 'chau martes!']\n",
            "['que dia es hoy' 'martes el dia de hoy es martes' 'martes muchas gracias'\n",
            " 'hola!' 'chau martes!' 'hola' 'hola martes!']\n"
          ]
        },
        {
          "output_type": "stream",
          "name": "stderr",
          "text": [
            "/usr/local/lib/python3.7/dist-packages/ipykernel_launcher.py:9: VisibleDeprecationWarning: Creating an ndarray from ragged nested sequences (which is a list-or-tuple of lists-or-tuples-or ndarrays with different lengths or shapes) is deprecated. If you meant to do this, you must specify 'dtype=object' when creating the ndarray.\n",
            "  if __name__ == '__main__':\n"
          ]
        }
      ]
    },
    {
      "cell_type": "code",
      "source": [
        "print(similars)"
      ],
      "metadata": {
        "colab": {
          "base_uri": "https://localhost:8080/"
        },
        "id": "Diok1GByhwP4",
        "outputId": "084881f5-9a6d-4553-bf3a-efe9f50e26ac"
      },
      "execution_count": null,
      "outputs": [
        {
          "output_type": "stream",
          "name": "stdout",
          "text": [
            "['martes muchas gracias' 'que dia es hoy' 'martes el dia de hoy es martes']\n"
          ]
        }
      ]
    }
  ]
}