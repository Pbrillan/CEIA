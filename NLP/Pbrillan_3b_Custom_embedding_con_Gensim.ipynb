{
  "nbformat": 4,
  "nbformat_minor": 0,
  "metadata": {
    "colab": {
      "name": "Pbrillan_3b - Custom embedding con Gensim",
      "provenance": [],
      "collapsed_sections": [],
      "include_colab_link": true
    },
    "kernelspec": {
      "name": "python3",
      "display_name": "Python 3"
    }
  },
  "cells": [
    {
      "cell_type": "markdown",
      "metadata": {
        "id": "view-in-github",
        "colab_type": "text"
      },
      "source": [
        "<a href=\"https://colab.research.google.com/github/Pbrillan/CEIA/blob/main/NLP/Pbrillan_3b_Custom_embedding_con_Gensim.ipynb\" target=\"_parent\"><img src=\"https://colab.research.google.com/assets/colab-badge.svg\" alt=\"Open In Colab\"/></a>"
      ]
    },
    {
      "cell_type": "markdown",
      "metadata": {
        "id": "sZd5yLnnHOK0"
      },
      "source": [
        "<img src=\"https://github.com/hernancontigiani/ceia_memorias_especializacion/raw/master/Figures/logoFIUBA.jpg\" width=\"500\" align=\"center\">\n",
        "\n",
        "\n",
        "# Procesamiento de lenguaje natural\n",
        "## Custom embedddings con Gensim\n",
        "\n"
      ]
    },
    {
      "cell_type": "markdown",
      "metadata": {
        "id": "vA7nqkumo9z9"
      },
      "source": [
        "### Objetivo\n",
        "El objetivo es utilizar documentos / corpus para crear embeddings de palabras basado en ese contexto. Se utilizará canciones de bandas para generar los embeddings, es decir, que los vectores tendrán la forma en función de como esa banda haya utilizado las palabras en sus canciones."
      ]
    },
    {
      "cell_type": "code",
      "metadata": {
        "id": "lFToQs5FK5uZ"
      },
      "source": [
        "import pandas as pd\n",
        "import matplotlib.pyplot as plt\n",
        "import seaborn as sns\n",
        "\n",
        "import multiprocessing\n",
        "from gensim.models import Word2Vec"
      ],
      "execution_count": 1,
      "outputs": []
    },
    {
      "cell_type": "markdown",
      "metadata": {
        "id": "g07zJxG7H9vG"
      },
      "source": [
        "### Datos\n",
        "Utilizaremos como dataset canciones de bandas de habla inglés."
      ]
    },
    {
      "cell_type": "code",
      "metadata": {
        "id": "l7z4CSBfpR3X",
        "colab": {
          "base_uri": "https://localhost:8080/"
        },
        "outputId": "273b3ef7-fbc5-40ac-dabb-cfc1f24d7e3e"
      },
      "source": [
        "# Descargar la carpeta de dataset\n",
        "import os\n",
        "import platform\n",
        "if os.access('./songs_dataset', os.F_OK) is False:\n",
        "    if os.access('songs_dataset.zip', os.F_OK) is False:\n",
        "        if platform.system() == 'Windows':\n",
        "            !curl https://raw.githubusercontent.com/FIUBA-Posgrado-Inteligencia-Artificial/procesamiento_lenguaje_natural/main/datasets/songs_dataset.zip -o songs_dataset.zip\n",
        "        else:\n",
        "            !wget songs_dataset.zip https://github.com/FIUBA-Posgrado-Inteligencia-Artificial/procesamiento_lenguaje_natural/raw/main/datasets/songs_dataset.zip\n",
        "    !unzip -q songs_dataset.zip   \n",
        "else:\n",
        "    print(\"El dataset ya se encuentra descargado\")"
      ],
      "execution_count": 2,
      "outputs": [
        {
          "output_type": "stream",
          "name": "stdout",
          "text": [
            "El dataset ya se encuentra descargado\n"
          ]
        }
      ]
    },
    {
      "cell_type": "code",
      "metadata": {
        "id": "mysGrIw9ljC2",
        "colab": {
          "base_uri": "https://localhost:8080/"
        },
        "outputId": "7df77d8c-e6e9-4c7f-e378-51a6756c5032"
      },
      "source": [
        "# Posibles bandas\n",
        "os.listdir(\"./songs_dataset/\")"
      ],
      "execution_count": 3,
      "outputs": [
        {
          "output_type": "execute_result",
          "data": {
            "text/plain": [
              "['blink-182.txt',\n",
              " 'kanye.txt',\n",
              " 'adele.txt',\n",
              " 'Kanye_West.txt',\n",
              " 'r-kelly.txt',\n",
              " 'eminem.txt',\n",
              " 'kanye-west.txt',\n",
              " 'lady-gaga.txt',\n",
              " 'lin-manuel-miranda.txt',\n",
              " 'leonard-cohen.txt',\n",
              " 'lorde.txt',\n",
              " 'missy-elliott.txt',\n",
              " 'notorious-big.txt',\n",
              " 'prince.txt',\n",
              " 'radiohead.txt',\n",
              " 'lil-wayne.txt',\n",
              " 'drake.txt',\n",
              " 'disney.txt',\n",
              " 'amy-winehouse.txt',\n",
              " 'bieber.txt',\n",
              " 'nicki-minaj.txt',\n",
              " 'notorious_big.txt',\n",
              " 'al-green.txt',\n",
              " 'bruno-mars.txt',\n",
              " 'nickelback.txt',\n",
              " 'dj-khaled.txt',\n",
              " 'dolly-parton.txt',\n",
              " 'michael-jackson.txt',\n",
              " 'britney-spears.txt',\n",
              " 'bob-marley.txt',\n",
              " 'Lil_Wayne.txt',\n",
              " 'ludacris.txt',\n",
              " 'dr-seuss.txt',\n",
              " 'beatles.txt',\n",
              " 'rihanna.txt',\n",
              " 'nursery_rhymes.txt',\n",
              " 'joni-mitchell.txt',\n",
              " 'janisjoplin.txt',\n",
              " 'nirvana.txt',\n",
              " 'bruce-springsteen.txt',\n",
              " 'alicia-keys.txt',\n",
              " 'paul-simon.txt',\n",
              " 'patti-smith.txt',\n",
              " 'jimi-hendrix.txt',\n",
              " 'bjork.txt',\n",
              " 'dickinson.txt',\n",
              " 'cake.txt',\n",
              " 'bob-dylan.txt',\n",
              " 'johnny-cash.txt']"
            ]
          },
          "metadata": {},
          "execution_count": 3
        }
      ]
    },
    {
      "cell_type": "code",
      "metadata": {
        "id": "ticoqYD1Z3I7",
        "colab": {
          "base_uri": "https://localhost:8080/",
          "height": 261
        },
        "outputId": "38e2c20e-4b72-4d35-c604-a5a55b6c269a"
      },
      "source": [
        "# Armar el dataset utilizando salto de línea para separar las oraciones/docs\n",
        "df = pd.read_csv('songs_dataset/bob-marley.txt', sep='/n', header=None)\n",
        "df.head()"
      ],
      "execution_count": 4,
      "outputs": [
        {
          "output_type": "stream",
          "name": "stderr",
          "text": [
            "/usr/local/lib/python3.7/dist-packages/pandas/util/_decorators.py:311: ParserWarning: Falling back to the 'python' engine because the 'c' engine does not support regex separators (separators > 1 char and different from '\\s+' are interpreted as regex); you can avoid this warning by specifying engine='python'.\n",
            "  return func(*args, **kwargs)\n"
          ]
        },
        {
          "output_type": "execute_result",
          "data": {
            "text/plain": [
              "                                                   0\n",
              "0                        \"Don't worry about a thing,\n",
              "1      'Cause every little thing gonna be all right.\n",
              "2               Singin': \"Don't worry about a thing,\n",
              "3  'Cause every little thing gonna be all right!\"...\n",
              "4                        Smiled with the risin' sun,"
            ],
            "text/html": [
              "\n",
              "  <div id=\"df-51065a12-804b-488c-884a-e28053292d4b\">\n",
              "    <div class=\"colab-df-container\">\n",
              "      <div>\n",
              "<style scoped>\n",
              "    .dataframe tbody tr th:only-of-type {\n",
              "        vertical-align: middle;\n",
              "    }\n",
              "\n",
              "    .dataframe tbody tr th {\n",
              "        vertical-align: top;\n",
              "    }\n",
              "\n",
              "    .dataframe thead th {\n",
              "        text-align: right;\n",
              "    }\n",
              "</style>\n",
              "<table border=\"1\" class=\"dataframe\">\n",
              "  <thead>\n",
              "    <tr style=\"text-align: right;\">\n",
              "      <th></th>\n",
              "      <th>0</th>\n",
              "    </tr>\n",
              "  </thead>\n",
              "  <tbody>\n",
              "    <tr>\n",
              "      <th>0</th>\n",
              "      <td>\"Don't worry about a thing,</td>\n",
              "    </tr>\n",
              "    <tr>\n",
              "      <th>1</th>\n",
              "      <td>'Cause every little thing gonna be all right.</td>\n",
              "    </tr>\n",
              "    <tr>\n",
              "      <th>2</th>\n",
              "      <td>Singin': \"Don't worry about a thing,</td>\n",
              "    </tr>\n",
              "    <tr>\n",
              "      <th>3</th>\n",
              "      <td>'Cause every little thing gonna be all right!\"...</td>\n",
              "    </tr>\n",
              "    <tr>\n",
              "      <th>4</th>\n",
              "      <td>Smiled with the risin' sun,</td>\n",
              "    </tr>\n",
              "  </tbody>\n",
              "</table>\n",
              "</div>\n",
              "      <button class=\"colab-df-convert\" onclick=\"convertToInteractive('df-51065a12-804b-488c-884a-e28053292d4b')\"\n",
              "              title=\"Convert this dataframe to an interactive table.\"\n",
              "              style=\"display:none;\">\n",
              "        \n",
              "  <svg xmlns=\"http://www.w3.org/2000/svg\" height=\"24px\"viewBox=\"0 0 24 24\"\n",
              "       width=\"24px\">\n",
              "    <path d=\"M0 0h24v24H0V0z\" fill=\"none\"/>\n",
              "    <path d=\"M18.56 5.44l.94 2.06.94-2.06 2.06-.94-2.06-.94-.94-2.06-.94 2.06-2.06.94zm-11 1L8.5 8.5l.94-2.06 2.06-.94-2.06-.94L8.5 2.5l-.94 2.06-2.06.94zm10 10l.94 2.06.94-2.06 2.06-.94-2.06-.94-.94-2.06-.94 2.06-2.06.94z\"/><path d=\"M17.41 7.96l-1.37-1.37c-.4-.4-.92-.59-1.43-.59-.52 0-1.04.2-1.43.59L10.3 9.45l-7.72 7.72c-.78.78-.78 2.05 0 2.83L4 21.41c.39.39.9.59 1.41.59.51 0 1.02-.2 1.41-.59l7.78-7.78 2.81-2.81c.8-.78.8-2.07 0-2.86zM5.41 20L4 18.59l7.72-7.72 1.47 1.35L5.41 20z\"/>\n",
              "  </svg>\n",
              "      </button>\n",
              "      \n",
              "  <style>\n",
              "    .colab-df-container {\n",
              "      display:flex;\n",
              "      flex-wrap:wrap;\n",
              "      gap: 12px;\n",
              "    }\n",
              "\n",
              "    .colab-df-convert {\n",
              "      background-color: #E8F0FE;\n",
              "      border: none;\n",
              "      border-radius: 50%;\n",
              "      cursor: pointer;\n",
              "      display: none;\n",
              "      fill: #1967D2;\n",
              "      height: 32px;\n",
              "      padding: 0 0 0 0;\n",
              "      width: 32px;\n",
              "    }\n",
              "\n",
              "    .colab-df-convert:hover {\n",
              "      background-color: #E2EBFA;\n",
              "      box-shadow: 0px 1px 2px rgba(60, 64, 67, 0.3), 0px 1px 3px 1px rgba(60, 64, 67, 0.15);\n",
              "      fill: #174EA6;\n",
              "    }\n",
              "\n",
              "    [theme=dark] .colab-df-convert {\n",
              "      background-color: #3B4455;\n",
              "      fill: #D2E3FC;\n",
              "    }\n",
              "\n",
              "    [theme=dark] .colab-df-convert:hover {\n",
              "      background-color: #434B5C;\n",
              "      box-shadow: 0px 1px 3px 1px rgba(0, 0, 0, 0.15);\n",
              "      filter: drop-shadow(0px 1px 2px rgba(0, 0, 0, 0.3));\n",
              "      fill: #FFFFFF;\n",
              "    }\n",
              "  </style>\n",
              "\n",
              "      <script>\n",
              "        const buttonEl =\n",
              "          document.querySelector('#df-51065a12-804b-488c-884a-e28053292d4b button.colab-df-convert');\n",
              "        buttonEl.style.display =\n",
              "          google.colab.kernel.accessAllowed ? 'block' : 'none';\n",
              "\n",
              "        async function convertToInteractive(key) {\n",
              "          const element = document.querySelector('#df-51065a12-804b-488c-884a-e28053292d4b');\n",
              "          const dataTable =\n",
              "            await google.colab.kernel.invokeFunction('convertToInteractive',\n",
              "                                                     [key], {});\n",
              "          if (!dataTable) return;\n",
              "\n",
              "          const docLinkHtml = 'Like what you see? Visit the ' +\n",
              "            '<a target=\"_blank\" href=https://colab.research.google.com/notebooks/data_table.ipynb>data table notebook</a>'\n",
              "            + ' to learn more about interactive tables.';\n",
              "          element.innerHTML = '';\n",
              "          dataTable['output_type'] = 'display_data';\n",
              "          await google.colab.output.renderOutput(dataTable, element);\n",
              "          const docLink = document.createElement('div');\n",
              "          docLink.innerHTML = docLinkHtml;\n",
              "          element.appendChild(docLink);\n",
              "        }\n",
              "      </script>\n",
              "    </div>\n",
              "  </div>\n",
              "  "
            ]
          },
          "metadata": {},
          "execution_count": 4
        }
      ]
    },
    {
      "cell_type": "code",
      "metadata": {
        "id": "LEpKubK9XzXN",
        "colab": {
          "base_uri": "https://localhost:8080/"
        },
        "outputId": "6575ffb3-37b1-4728-f51e-77bb02940a7c"
      },
      "source": [
        "print(\"Cantidad de documentos:\", df.shape[0])"
      ],
      "execution_count": 5,
      "outputs": [
        {
          "output_type": "stream",
          "name": "stdout",
          "text": [
            "Cantidad de documentos: 2218\n"
          ]
        }
      ]
    },
    {
      "cell_type": "markdown",
      "metadata": {
        "id": "ab94qaFlrA1G"
      },
      "source": [
        "### 1 - Preprocesamiento"
      ]
    },
    {
      "cell_type": "code",
      "metadata": {
        "id": "rIsmMWmjrDHd"
      },
      "source": [
        "from keras.preprocessing.text import text_to_word_sequence\n",
        "\n",
        "sentence_tokens = []\n",
        "# Recorrer todas las filas y transformar las oraciones\n",
        "# en una secuencia de palabras (esto podría realizarse con NLTK o spaCy también)\n",
        "for _, row in df[:None].iterrows():\n",
        "    sentence_tokens.append(text_to_word_sequence(row[0]))"
      ],
      "execution_count": 6,
      "outputs": []
    },
    {
      "cell_type": "code",
      "metadata": {
        "id": "CHepi_DGrbhq",
        "colab": {
          "base_uri": "https://localhost:8080/"
        },
        "outputId": "cf22b384-8655-4f6d-c9bf-ae4635ef2b85"
      },
      "source": [
        "# Demos un vistazo\n",
        "sentence_tokens[:2]"
      ],
      "execution_count": 7,
      "outputs": [
        {
          "output_type": "execute_result",
          "data": {
            "text/plain": [
              "[[\"don't\", 'worry', 'about', 'a', 'thing'],\n",
              " [\"'cause\", 'every', 'little', 'thing', 'gonna', 'be', 'all', 'right']]"
            ]
          },
          "metadata": {},
          "execution_count": 7
        }
      ]
    },
    {
      "cell_type": "markdown",
      "metadata": {
        "id": "BaXV6nlHr5Aa"
      },
      "source": [
        "### 2 - Crear los vectores (word2vec)"
      ]
    },
    {
      "cell_type": "code",
      "metadata": {
        "id": "OSb0v7h8r7hK"
      },
      "source": [
        "from gensim.models.callbacks import CallbackAny2Vec\n",
        "# Durante el entrenamiento gensim por defecto no informa el \"loss\" en cada época\n",
        "# Sobracargamos el callback para poder tener esta información\n",
        "class callback(CallbackAny2Vec):\n",
        "    \"\"\"\n",
        "    Callback to print loss after each epoch\n",
        "    \"\"\"\n",
        "    def __init__(self):\n",
        "        self.epoch = 0\n",
        "\n",
        "    def on_epoch_end(self, model):\n",
        "        loss = model.get_latest_training_loss()\n",
        "        if self.epoch == 0:\n",
        "            print('Loss after epoch {}: {}'.format(self.epoch, loss))\n",
        "        else:\n",
        "            print('Loss after epoch {}: {}'.format(self.epoch, loss- self.loss_previous_step))\n",
        "        self.epoch += 1\n",
        "        self.loss_previous_step = loss"
      ],
      "execution_count": 8,
      "outputs": []
    },
    {
      "cell_type": "code",
      "metadata": {
        "id": "i0wnDdv9sJ47"
      },
      "source": [
        "# Crearmos el modelo generador de vectoeres\n",
        "# En este caso utilizaremos la estructura modelo Skipgram\n",
        "w2v_model = Word2Vec(min_count=5,    # frecuencia mínima de palabra para incluirla en el vocabulario\n",
        "                     window=2,       # cant de palabras antes y desp de la predicha\n",
        "                     size=300,       # dimensionalidad de los vectores \n",
        "                     negative=20,    # cantidad de negative samples... 0 es no se usa\n",
        "                     workers=1,      # si tienen más cores pueden cambiar este valor\n",
        "                     sg=1)           # modelo 0:CBOW  1:skipgram"
      ],
      "execution_count": 9,
      "outputs": []
    },
    {
      "cell_type": "code",
      "metadata": {
        "id": "5lTt8wErsf17"
      },
      "source": [
        "# Buildear el vocabularui con los tokens\n",
        "w2v_model.build_vocab(sentence_tokens)"
      ],
      "execution_count": 10,
      "outputs": []
    },
    {
      "cell_type": "code",
      "metadata": {
        "id": "TNc9qt4os5AT",
        "colab": {
          "base_uri": "https://localhost:8080/"
        },
        "outputId": "bfe4f13f-727d-4143-cd6a-bd613d37dc88"
      },
      "source": [
        "# Cantidad de filas/docs encontradas en el corpus\n",
        "print(\"Cantidad de docs en el corpus:\", w2v_model.corpus_count)"
      ],
      "execution_count": 11,
      "outputs": [
        {
          "output_type": "stream",
          "name": "stdout",
          "text": [
            "Cantidad de docs en el corpus: 2218\n"
          ]
        }
      ]
    },
    {
      "cell_type": "code",
      "metadata": {
        "id": "idw9cHF3tSMl",
        "colab": {
          "base_uri": "https://localhost:8080/"
        },
        "outputId": "f8e34424-8c30-4c15-f08b-9b1a0ef590a3"
      },
      "source": [
        "# Cantidad de words encontradas en el corpus\n",
        "print(\"Cantidad de words distintas en el corpus:\", len(w2v_model.wv.vocab))"
      ],
      "execution_count": 12,
      "outputs": [
        {
          "output_type": "stream",
          "name": "stdout",
          "text": [
            "Cantidad de words distintas en el corpus: 532\n"
          ]
        }
      ]
    },
    {
      "cell_type": "markdown",
      "metadata": {
        "id": "fC9mZ8DPk-UC"
      },
      "source": [
        "### 3 - Entrenar el modelo generador"
      ]
    },
    {
      "cell_type": "code",
      "metadata": {
        "id": "QSp-x0PAsq56",
        "colab": {
          "base_uri": "https://localhost:8080/"
        },
        "outputId": "e0d5ea85-ea7d-44dc-babd-f18247efeefd"
      },
      "source": [
        "# Entrenamos el modelo generador de vectores\n",
        "# Utilizamos nuestro callback\n",
        "w2v_model.train(sentence_tokens,\n",
        "                 total_examples=w2v_model.corpus_count,\n",
        "                 epochs=20,\n",
        "                 compute_loss = True,\n",
        "                 callbacks=[callback()]\n",
        "                 )"
      ],
      "execution_count": 13,
      "outputs": [
        {
          "output_type": "stream",
          "name": "stdout",
          "text": [
            "Loss after epoch 0: 153434.921875\n",
            "Loss after epoch 1: 93280.90625\n",
            "Loss after epoch 2: 92533.015625\n",
            "Loss after epoch 3: 93047.125\n",
            "Loss after epoch 4: 93667.90625\n",
            "Loss after epoch 5: 92701.25\n",
            "Loss after epoch 6: 87062.625\n",
            "Loss after epoch 7: 83619.5625\n",
            "Loss after epoch 8: 79414.125\n",
            "Loss after epoch 9: 75504.6875\n",
            "Loss after epoch 10: 73822.6875\n",
            "Loss after epoch 11: 68258.8125\n",
            "Loss after epoch 12: 64552.125\n",
            "Loss after epoch 13: 62677.625\n",
            "Loss after epoch 14: 62621.625\n",
            "Loss after epoch 15: 62262.125\n",
            "Loss after epoch 16: 61252.75\n",
            "Loss after epoch 17: 61218.5\n",
            "Loss after epoch 18: 60727.0\n",
            "Loss after epoch 19: 59957.25\n"
          ]
        },
        {
          "output_type": "execute_result",
          "data": {
            "text/plain": [
              "(218093, 359260)"
            ]
          },
          "metadata": {},
          "execution_count": 13
        }
      ]
    },
    {
      "cell_type": "markdown",
      "metadata": {
        "id": "ddT9NVuNlCAe"
      },
      "source": [
        "### 4 - Ensayar"
      ]
    },
    {
      "cell_type": "code",
      "metadata": {
        "id": "6cHN9xGLuPEm",
        "colab": {
          "base_uri": "https://localhost:8080/"
        },
        "outputId": "48071a5a-a2a0-4333-8226-1dc1c63ddbca"
      },
      "source": [
        "# Palabras que MÁS se relacionan con...:\n",
        "w2v_model.wv.most_similar(positive=[\"cry\"], topn=10)"
      ],
      "execution_count": 14,
      "outputs": [
        {
          "output_type": "execute_result",
          "data": {
            "text/plain": [
              "[('woman', 0.987288236618042),\n",
              " ('no', 0.9427759647369385),\n",
              " ('fowl', 0.9262357354164124),\n",
              " ('tears', 0.9179865717887878),\n",
              " ('call', 0.8933768272399902),\n",
              " ('matter', 0.8843841552734375),\n",
              " (\"ain't\", 0.8743000030517578),\n",
              " ('nice', 0.8629266619682312),\n",
              " ('hypocrites', 0.8561786413192749),\n",
              " ('shed', 0.8492369651794434)]"
            ]
          },
          "metadata": {},
          "execution_count": 14
        }
      ]
    },
    {
      "cell_type": "code",
      "metadata": {
        "id": "47HiU5gdkdMq",
        "colab": {
          "base_uri": "https://localhost:8080/"
        },
        "outputId": "e2e9be68-be62-4e5b-c91b-13f7f1a13c73"
      },
      "source": [
        "# Palabras que MENOS se relacionan con...:\n",
        "w2v_model.wv.most_similar(negative=[\"cry\"], topn=10)"
      ],
      "execution_count": 15,
      "outputs": [
        {
          "output_type": "execute_result",
          "data": {
            "text/plain": [
              "[('doo', -0.2110741138458252),\n",
              " ('fire', -0.22161422669887543),\n",
              " ('with', -0.22227106988430023),\n",
              " ('music', -0.22687682509422302),\n",
              " ('youths', -0.22832322120666504),\n",
              " ('like', -0.23266032338142395),\n",
              " ('this', -0.23503893613815308),\n",
              " ('think', -0.23944133520126343),\n",
              " ('oo', -0.24549664556980133),\n",
              " ('jamaica', -0.24604079127311707)]"
            ]
          },
          "metadata": {},
          "execution_count": 15
        }
      ]
    },
    {
      "cell_type": "code",
      "metadata": {
        "id": "DT4Rvno2mD65",
        "colab": {
          "base_uri": "https://localhost:8080/"
        },
        "outputId": "b331e21c-60a0-4429-b321-121cddd4bcd3"
      },
      "source": [
        "# Palabras que MÁS se relacionan con...:\n",
        "w2v_model.wv.most_similar(positive=[\"natty\"], topn=10)"
      ],
      "execution_count": 16,
      "outputs": [
        {
          "output_type": "execute_result",
          "data": {
            "text/plain": [
              "[('ride', 0.9863688349723816),\n",
              " ('rides', 0.9803694486618042),\n",
              " ('dread', 0.9555577039718628),\n",
              " ('again', 0.9428709149360657),\n",
              " ('walk', 0.9181586503982544),\n",
              " ('once', 0.846028745174408),\n",
              " ('roots', 0.8155065774917603),\n",
              " ('hey', 0.8051044940948486),\n",
              " ('whoa', 0.8041038513183594),\n",
              " ('ah', 0.7922512292861938)]"
            ]
          },
          "metadata": {},
          "execution_count": 16
        }
      ]
    },
    {
      "cell_type": "code",
      "source": [
        "# Palabras que MENOS se relacionan con...:\n",
        "w2v_model.wv.most_similar(negative=[\"natty\"], topn=10)"
      ],
      "metadata": {
        "colab": {
          "base_uri": "https://localhost:8080/"
        },
        "id": "ehewyXgcac7v",
        "outputId": "76292280-e9b8-44ef-bdd4-612ff7621444"
      },
      "execution_count": 17,
      "outputs": [
        {
          "output_type": "execute_result",
          "data": {
            "text/plain": [
              "[('like', -0.23835371434688568),\n",
              " ('youths', -0.25346750020980835),\n",
              " ('this', -0.2558543086051941),\n",
              " ('was', -0.2594929039478302),\n",
              " ('great', -0.26547399163246155),\n",
              " ('with', -0.2693966329097748),\n",
              " ('day', -0.2735257148742676),\n",
              " ('love', -0.27379927039146423),\n",
              " ('he', -0.27867987751960754),\n",
              " ('music', -0.28378981351852417)]"
            ]
          },
          "metadata": {},
          "execution_count": 17
        }
      ]
    },
    {
      "cell_type": "code",
      "metadata": {
        "id": "XPLDPgzBmQXt",
        "colab": {
          "base_uri": "https://localhost:8080/"
        },
        "outputId": "27d4d347-3dbb-4b93-bbd1-f4d80597367b"
      },
      "source": [
        "# Palabras que MÁS se relacionan con...:\n",
        "w2v_model.wv.most_similar(positive=[\"every\"], topn=5)"
      ],
      "execution_count": 18,
      "outputs": [
        {
          "output_type": "execute_result",
          "data": {
            "text/plain": [
              "[('night', 0.8944805264472961),\n",
              " ('day', 0.8883407115936279),\n",
              " (\"'cause\", 0.875667154788971),\n",
              " ('three', 0.8670030236244202),\n",
              " ('birds', 0.8412587642669678)]"
            ]
          },
          "metadata": {},
          "execution_count": 18
        }
      ]
    },
    {
      "cell_type": "code",
      "metadata": {
        "id": "L_UvHPMMklOr",
        "colab": {
          "base_uri": "https://localhost:8080/",
          "height": 328
        },
        "outputId": "ec7fec73-85db-4e4f-cd26-eae230568bf2"
      },
      "source": [
        "# Ensayar con una palabra que no está en el corpus (en vocab):\n",
        "w2v_model.wv.most_similar(negative=[\"hola\"])"
      ],
      "execution_count": 19,
      "outputs": [
        {
          "output_type": "error",
          "ename": "KeyError",
          "evalue": "ignored",
          "traceback": [
            "\u001b[0;31m---------------------------------------------------------------------------\u001b[0m",
            "\u001b[0;31mKeyError\u001b[0m                                  Traceback (most recent call last)",
            "\u001b[0;32m<ipython-input-19-d8da21b99fe4>\u001b[0m in \u001b[0;36m<module>\u001b[0;34m()\u001b[0m\n\u001b[1;32m      1\u001b[0m \u001b[0;31m# Ensayar con una palabra que no está en el corpus (en vocab):\u001b[0m\u001b[0;34m\u001b[0m\u001b[0;34m\u001b[0m\u001b[0;34m\u001b[0m\u001b[0m\n\u001b[0;32m----> 2\u001b[0;31m \u001b[0mw2v_model\u001b[0m\u001b[0;34m.\u001b[0m\u001b[0mwv\u001b[0m\u001b[0;34m.\u001b[0m\u001b[0mmost_similar\u001b[0m\u001b[0;34m(\u001b[0m\u001b[0mnegative\u001b[0m\u001b[0;34m=\u001b[0m\u001b[0;34m[\u001b[0m\u001b[0;34m\"hola\"\u001b[0m\u001b[0;34m]\u001b[0m\u001b[0;34m)\u001b[0m\u001b[0;34m\u001b[0m\u001b[0;34m\u001b[0m\u001b[0m\n\u001b[0m",
            "\u001b[0;32m/usr/local/lib/python3.7/dist-packages/gensim/models/keyedvectors.py\u001b[0m in \u001b[0;36mmost_similar\u001b[0;34m(self, positive, negative, topn, restrict_vocab, indexer)\u001b[0m\n\u001b[1;32m    529\u001b[0m                 \u001b[0mmean\u001b[0m\u001b[0;34m.\u001b[0m\u001b[0mappend\u001b[0m\u001b[0;34m(\u001b[0m\u001b[0mweight\u001b[0m \u001b[0;34m*\u001b[0m \u001b[0mword\u001b[0m\u001b[0;34m)\u001b[0m\u001b[0;34m\u001b[0m\u001b[0;34m\u001b[0m\u001b[0m\n\u001b[1;32m    530\u001b[0m             \u001b[0;32melse\u001b[0m\u001b[0;34m:\u001b[0m\u001b[0;34m\u001b[0m\u001b[0;34m\u001b[0m\u001b[0m\n\u001b[0;32m--> 531\u001b[0;31m                 \u001b[0mmean\u001b[0m\u001b[0;34m.\u001b[0m\u001b[0mappend\u001b[0m\u001b[0;34m(\u001b[0m\u001b[0mweight\u001b[0m \u001b[0;34m*\u001b[0m \u001b[0mself\u001b[0m\u001b[0;34m.\u001b[0m\u001b[0mword_vec\u001b[0m\u001b[0;34m(\u001b[0m\u001b[0mword\u001b[0m\u001b[0;34m,\u001b[0m \u001b[0muse_norm\u001b[0m\u001b[0;34m=\u001b[0m\u001b[0;32mTrue\u001b[0m\u001b[0;34m)\u001b[0m\u001b[0;34m)\u001b[0m\u001b[0;34m\u001b[0m\u001b[0;34m\u001b[0m\u001b[0m\n\u001b[0m\u001b[1;32m    532\u001b[0m                 \u001b[0;32mif\u001b[0m \u001b[0mword\u001b[0m \u001b[0;32min\u001b[0m \u001b[0mself\u001b[0m\u001b[0;34m.\u001b[0m\u001b[0mvocab\u001b[0m\u001b[0;34m:\u001b[0m\u001b[0;34m\u001b[0m\u001b[0;34m\u001b[0m\u001b[0m\n\u001b[1;32m    533\u001b[0m                     \u001b[0mall_words\u001b[0m\u001b[0;34m.\u001b[0m\u001b[0madd\u001b[0m\u001b[0;34m(\u001b[0m\u001b[0mself\u001b[0m\u001b[0;34m.\u001b[0m\u001b[0mvocab\u001b[0m\u001b[0;34m[\u001b[0m\u001b[0mword\u001b[0m\u001b[0;34m]\u001b[0m\u001b[0;34m.\u001b[0m\u001b[0mindex\u001b[0m\u001b[0;34m)\u001b[0m\u001b[0;34m\u001b[0m\u001b[0;34m\u001b[0m\u001b[0m\n",
            "\u001b[0;32m/usr/local/lib/python3.7/dist-packages/gensim/models/keyedvectors.py\u001b[0m in \u001b[0;36mword_vec\u001b[0;34m(self, word, use_norm)\u001b[0m\n\u001b[1;32m    450\u001b[0m             \u001b[0;32mreturn\u001b[0m \u001b[0mresult\u001b[0m\u001b[0;34m\u001b[0m\u001b[0;34m\u001b[0m\u001b[0m\n\u001b[1;32m    451\u001b[0m         \u001b[0;32melse\u001b[0m\u001b[0;34m:\u001b[0m\u001b[0;34m\u001b[0m\u001b[0;34m\u001b[0m\u001b[0m\n\u001b[0;32m--> 452\u001b[0;31m             \u001b[0;32mraise\u001b[0m \u001b[0mKeyError\u001b[0m\u001b[0;34m(\u001b[0m\u001b[0;34m\"word '%s' not in vocabulary\"\u001b[0m \u001b[0;34m%\u001b[0m \u001b[0mword\u001b[0m\u001b[0;34m)\u001b[0m\u001b[0;34m\u001b[0m\u001b[0;34m\u001b[0m\u001b[0m\n\u001b[0m\u001b[1;32m    453\u001b[0m \u001b[0;34m\u001b[0m\u001b[0m\n\u001b[1;32m    454\u001b[0m     \u001b[0;32mdef\u001b[0m \u001b[0mget_vector\u001b[0m\u001b[0;34m(\u001b[0m\u001b[0mself\u001b[0m\u001b[0;34m,\u001b[0m \u001b[0mword\u001b[0m\u001b[0;34m)\u001b[0m\u001b[0;34m:\u001b[0m\u001b[0;34m\u001b[0m\u001b[0;34m\u001b[0m\u001b[0m\n",
            "\u001b[0;31mKeyError\u001b[0m: \"word 'hola' not in vocabulary\""
          ]
        }
      ]
    },
    {
      "cell_type": "markdown",
      "metadata": {
        "id": "_g8UVWe6lFmh"
      },
      "source": [
        "### 5 - Visualizar agrupación de vectores"
      ]
    },
    {
      "cell_type": "code",
      "metadata": {
        "id": "pDxEVXAivjr9"
      },
      "source": [
        "from sklearn.decomposition import IncrementalPCA    \n",
        "from sklearn.manifold import TSNE                   \n",
        "import numpy as np                                  \n",
        "\n",
        "def reduce_dimensions(model):\n",
        "    num_dimensions = 2  \n",
        "\n",
        "    vectors = np.asarray(model.wv.vectors)\n",
        "    labels = np.asarray(model.wv.index2word)  \n",
        "\n",
        "    tsne = TSNE(n_components=num_dimensions, random_state=0)\n",
        "    vectors = tsne.fit_transform(vectors)\n",
        "\n",
        "    x_vals = [v[0] for v in vectors]\n",
        "    y_vals = [v[1] for v in vectors]\n",
        "    return x_vals, y_vals, labels"
      ],
      "execution_count": 20,
      "outputs": []
    },
    {
      "cell_type": "code",
      "metadata": {
        "id": "NCCXtDpcugmd",
        "colab": {
          "base_uri": "https://localhost:8080/",
          "height": 611
        },
        "outputId": "80736c3c-718c-4e35-9ae0-6304af295acc"
      },
      "source": [
        "# Graficar los embedddings en 2D\n",
        "import plotly.graph_objects as go\n",
        "import plotly.express as px\n",
        "\n",
        "x_vals, y_vals, labels = reduce_dimensions(w2v_model)\n",
        "\n",
        "MAX_WORDS=200\n",
        "fig = px.scatter(x=x_vals[:MAX_WORDS], y=y_vals[:MAX_WORDS], text=labels[:MAX_WORDS])\n",
        "fig.show(renderer=\"colab\") # esto para plotly en colab"
      ],
      "execution_count": 21,
      "outputs": [
        {
          "output_type": "stream",
          "name": "stderr",
          "text": [
            "/usr/local/lib/python3.7/dist-packages/sklearn/manifold/_t_sne.py:783: FutureWarning: The default initialization in TSNE will change from 'random' to 'pca' in 1.2.\n",
            "  FutureWarning,\n",
            "/usr/local/lib/python3.7/dist-packages/sklearn/manifold/_t_sne.py:793: FutureWarning: The default learning rate in TSNE will change from 200.0 to 'auto' in 1.2.\n",
            "  FutureWarning,\n"
          ]
        },
        {
          "output_type": "display_data",
          "data": {
            "text/html": [
              "<html>\n",
              "<head><meta charset=\"utf-8\" /></head>\n",
              "<body>\n",
              "    <div>            <script src=\"https://cdnjs.cloudflare.com/ajax/libs/mathjax/2.7.5/MathJax.js?config=TeX-AMS-MML_SVG\"></script><script type=\"text/javascript\">if (window.MathJax) {MathJax.Hub.Config({SVG: {font: \"STIX-Web\"}});}</script>                <script type=\"text/javascript\">window.PlotlyConfig = {MathJaxConfig: 'local'};</script>\n",
              "        <script src=\"https://cdn.plot.ly/plotly-2.8.3.min.js\"></script>                <div id=\"d68b5780-8754-40f1-ae5b-7179c4b97ef5\" class=\"plotly-graph-div\" style=\"height:525px; width:100%;\"></div>            <script type=\"text/javascript\">                                    window.PLOTLYENV=window.PLOTLYENV || {};                                    if (document.getElementById(\"d68b5780-8754-40f1-ae5b-7179c4b97ef5\")) {                    Plotly.newPlot(                        \"d68b5780-8754-40f1-ae5b-7179c4b97ef5\",                        [{\"hovertemplate\":\"x=%{x}<br>y=%{y}<br>text=%{text}<extra></extra>\",\"legendgroup\":\"\",\"marker\":{\"color\":\"#636efa\",\"symbol\":\"circle\"},\"mode\":\"markers+text\",\"name\":\"\",\"orientation\":\"v\",\"showlegend\":false,\"text\":[\"the\",\"you\",\"i\",\"a\",\"to\",\"and\",\"no\",\"it\",\"in\",\"oh\",\"me\",\"be\",\"love\",\"is\",\"of\",\"yeah\",\"don't\",\"so\",\"all\",\"we\",\"your\",\"my\",\"on\",\"for\",\"up\",\"now\",\"right\",\"down\",\"one\",\"say\",\"this\",\"know\",\"do\",\"gonna\",\"but\",\"they\",\"when\",\"got\",\"jah\",\"that\",\"i'm\",\"de\",\"get\",\"come\",\"baby\",\"we're\",\"will\",\"give\",\"from\",\"it's\",\"like\",\"people\",\"there\",\"little\",\"jammin'\",\"thing\",\"coming\",\"with\",\"what\",\"wanna\",\"said\",\"every\",\"can\",\"feel\",\"'cause\",\"them\",\"was\",\"want\",\"man\",\"let\",\"can't\",\"ooh\",\"na\",\"try\",\"just\",\"go\",\"see\",\"could\",\"lord\",\"more\",\"are\",\"take\",\"worry\",\"stand\",\"heart\",\"through\",\"dread\",\"about\",\"good\",\"time\",\"easy\",\"life\",\"some\",\"together\",\"much\",\"never\",\"simmer\",\"woman\",\"yoy\",\"stir\",\"won't\",\"have\",\"need\",\"ya\",\"day\",\"then\",\"back\",\"uh\",\"she\",\"hammer\",\"soul\",\"'pon\",\"if\",\"cry\",\"forever\",\"whatcha\",\"rock\",\"town\",\"move\",\"bad\",\"we'll\",\"very\",\"doo\",\"wo\",\"away\",\"youths\",\"children\",\"i'll\",\"race\",\"rammer\",\"heathen\",\"sweet\",\"he\",\"you're\",\"wop\",\"rebel\",\"wall\",\"hear\",\"why\",\"here\",\"boys\",\"our\",\"ganja\",\"not\",\"loved\",\"world\",\"tell\",\"loving\",\"i've\",\"long\",\"where\",\"us\",\"bomb\",\"let's\",\"that's\",\"fire\",\"choo\",\"cok\",\"movement\",\"make\",\"who\",\"fight\",\"would\",\"something\",\"carry\",\"rat\",\"ain't\",\"look\",\"too\",\"gone\",\"how\",\"africa\",\"yo\",\"woo\",\"am\",\"their\",\"jamaica\",\"cluck\",\"skanking\",\"darling\",\"oo\",\"music\",\"singin'\",\"by\",\"way\",\"while\",\"things\",\"woe\",\"well\",\"unite\",\"trench\",\"you've\",\"place\",\"at\",\"as\",\"hit\",\"goes\",\"exodus\",\"war\",\"rights\"],\"x\":[-8.45975112915039,-3.1033029556274414,-7.444854259490967,-10.201827049255371,2.2690141201019287,0.7414279580116272,-20.930383682250977,15.919082641601562,11.821737289428711,2.877429246902466,13.5381498336792,21.9903621673584,0.6663935780525208,0.5768218040466309,-17.617076873779297,4.323373317718506,-29.08230972290039,8.866839408874512,7.257470607757568,-9.182154655456543,-5.742126941680908,5.881715774536133,12.59804630279541,-4.034674167633057,-1.7106702327728271,-25.2430419921875,7.144164562225342,15.321453094482422,-15.499345779418945,26.074371337890625,-13.127857208251953,-6.56304931640625,19.92821502685547,20.123743057250977,2.8302276134490967,8.465422630310059,-4.577852725982666,6.299933910369873,-19.39273452758789,-4.202268123626709,1.9181212186813354,29.56792449951172,6.896575927734375,-4.296305179595947,2.759669303894043,15.241744995117188,-10.450825691223145,3.1428983211517334,13.15603256225586,-9.43968677520752,19.532323837280273,-18.571252822875977,-10.475043296813965,1.3211538791656494,15.649741172790527,-26.358205795288086,14.079734802246094,16.994245529174805,-7.0161309242248535,-29.937564849853516,0.6643895506858826,-10.575966835021973,14.599170684814453,6.993582725524902,-10.94090747833252,-6.554724216461182,-15.653463363647461,-5.711889266967773,-14.63078784942627,10.841666221618652,-9.215219497680664,6.780949592590332,10.784454345703125,13.812873840332031,3.2777881622314453,-10.481969833374023,-5.896961212158203,25.06743049621582,3.461622714996338,-20.760665893554688,-21.290430068969727,15.38951301574707,-28.79439926147461,-2.3431475162506104,-15.813495635986328,9.134561538696289,-26.821697235107422,-30.167728424072266,-17.766510009765625,-15.746384620666504,17.162166595458984,-11.966120719909668,-22.719507217407227,6.93543004989624,-20.915159225463867,22.290042877197266,15.70833683013916,-22.248563766479492,26.607690811157227,2.5478804111480713,9.883461952209473,-15.62709903717041,-8.365561485290527,13.074161529541016,-9.594164848327637,20.871294021606445,30.79994010925293,4.353545665740967,5.567554473876953,-8.617574691772461,7.717822551727295,30.503936767578125,-2.7559452056884766,-21.923202514648438,-18.739652633666992,21.89471435546875,-3.925171375274658,-4.654819011688232,-20.578567504882812,23.081043243408203,-18.76117515563965,-15.542632102966309,18.896596908569336,-11.554104804992676,0.7750647664070129,-7.737511157989502,-13.984617233276367,21.406368255615234,-20.956159591674805,-9.326215744018555,31.09882926940918,-19.455873489379883,-15.822507858276367,11.537443161010742,19.300567626953125,9.747889518737793,30.0162353515625,-4.538393497467041,10.473077774047852,-0.26711899042129517,22.861572265625,-6.710911750793457,25.536691665649414,-3.2069015502929688,24.848329544067383,-20.377958297729492,-13.117127418518066,-18.589523315429688,6.473118782043457,-16.121482849121094,-10.273035049438477,-17.660913467407227,-14.219572067260742,6.874458312988281,6.953765392303467,-10.920283317565918,19.40865707397461,-23.363189697265625,-19.3220157623291,16.74320411682129,2.451159954071045,0.8761408925056458,-3.9041712284088135,25.517093658447266,14.621455192565918,-20.955293655395508,-18.047645568847656,13.37173843383789,12.538305282592773,13.682251930236816,-14.957606315612793,-12.518771171569824,26.072736740112305,6.787375450134277,-0.3733435571193695,7.334877014160156,8.206933975219727,-23.281476974487305,16.818531036376953,2.891806125640869,24.892168045043945,16.53353500366211,-28.965679168701172,-6.423426628112793,-6.523849964141846,7.513655185699463,10.53104305267334,25.85711097717285,0.6093329787254333,-12.502094268798828,-4.363869667053223,5.945053577423096,-10.65388298034668,3.765580415725708,0.14339473843574524,16.326526641845703,4.7624335289001465,-18.168312072753906,-2.7763147354125977,-2.874201536178589],\"xaxis\":\"x\",\"y\":[-6.111393451690674,12.323796272277832,11.590509414672852,-21.704320907592773,11.014016151428223,-17.44361114501953,5.010347843170166,-23.004650115966797,-17.346445083618164,27.762039184570312,19.698774337768555,3.735799551010132,20.515310287475586,16.628562927246094,-10.313827514648438,-11.334136009216309,-1.2355424165725708,-6.796616077423096,-25.456117630004883,14.504387855529785,-12.665149688720703,19.65142822265625,-3.322019100189209,-13.881017684936523,-15.684063911437988,-9.484402656555176,-24.391521453857422,1.4911577701568604,-3.372143030166626,0.6168984770774841,-7.4235029220581055,12.941658973693848,10.146025657653809,6.967077732086182,18.882230758666992,10.466026306152344,8.818961143493652,16.606042861938477,-9.428122520446777,17.58693504333496,22.53296661376953,13.42556095123291,-20.1702823638916,-21.30120849609375,20.39242172241211,-15.266044616699219,7.108358860015869,-16.859434127807617,-18.57037353515625,20.602556228637695,-11.273347854614258,-10.605367660522461,-32.156307220458984,-23.24522590637207,-14.941666603088379,1.728377342224121,-16.67165756225586,20.508060455322266,16.556230545043945,-4.9000444412231445,23.36128044128418,1.7150299549102783,12.700065612792969,-23.560487747192383,2.4881675243377686,-26.896760940551758,-21.19091033935547,11.847021102905273,-24.452850341796875,12.866708755493164,30.295564651489258,-12.380620002746582,7.799283504486084,20.313047409057617,17.294626235961914,-31.15399169921875,4.980887413024902,2.7068722248077393,-19.191049575805664,0.7387151122093201,-3.586047887802124,-24.976282119750977,1.6537940502166748,-15.418252944946289,-3.8267645835876465,-11.703125,8.750454902648926,0.8521813154220581,16.072235107421875,9.139710426330566,-25.019147872924805,-7.219079494476318,-4.461827754974365,-21.408666610717773,-25.446699142456055,-3.9651553630828857,0.9568535685539246,5.066033840179443,-16.289386749267578,-22.916053771972656,14.65771484375,14.02425765991211,-23.30245590209961,-0.08966761082410812,1.284831166267395,-3.8212225437164307,13.485579490661621,-14.35808277130127,-29.582273483276367,-24.677242279052734,23.749996185302734,14.868051528930664,13.08437728881836,5.057332515716553,19.577777862548828,9.251227378845215,22.035358428955078,22.888622283935547,-11.4689302444458,8.984597206115723,19.663253784179688,-23.700237274169922,11.124817848205566,22.94843864440918,-30.08388900756836,29.215662002563477,-1.1528359651565552,-4.190169334411621,-16.989355087280273,-23.679248809814453,14.548248291015625,0.5760639905929565,-21.59404754638672,10.47695541381836,12.32588005065918,24.439208984375,14.467764854431152,6.8564453125,15.508975982666016,-19.507587432861328,9.036124229431152,-10.377579689025879,16.212888717651367,14.087475776672363,2.853851556777954,-24.379623413085938,-0.3035151958465576,18.955724716186523,15.768770217895508,9.469929695129395,14.197595596313477,-6.747963905334473,10.793521881103516,-20.76469612121582,-28.166242599487305,18.647371292114258,12.564286231994629,16.43025779724121,-10.290722846984863,-2.8653268814086914,-3.4827330112457275,-15.453583717346191,10.608550071716309,2.100107192993164,12.683380126953125,-16.989198684692383,6.3785529136657715,8.911376953125,-11.234085083007812,4.3389787673950195,15.389862060546875,-13.57413387298584,-15.68034839630127,-12.367884635925293,-19.570079803466797,-8.92827320098877,-18.463106155395508,-4.824132919311523,-24.7900333404541,27.651485443115234,16.10076904296875,20.50303077697754,0.3658774495124817,-4.048826217651367,6.848217487335205,-4.677216529846191,-7.689319610595703,-16.52936363220215,-6.527262210845947,-13.574978828430176,22.56649398803711,18.75824737548828,14.048691749572754,12.841994285583496,-7.8146443367004395,20.444026947021484,-29.30350112915039,-11.068205833435059,-5.915480613708496,-14.9715576171875],\"yaxis\":\"y\",\"type\":\"scatter\"}],                        {\"template\":{\"data\":{\"bar\":[{\"error_x\":{\"color\":\"#2a3f5f\"},\"error_y\":{\"color\":\"#2a3f5f\"},\"marker\":{\"line\":{\"color\":\"#E5ECF6\",\"width\":0.5},\"pattern\":{\"fillmode\":\"overlay\",\"size\":10,\"solidity\":0.2}},\"type\":\"bar\"}],\"barpolar\":[{\"marker\":{\"line\":{\"color\":\"#E5ECF6\",\"width\":0.5},\"pattern\":{\"fillmode\":\"overlay\",\"size\":10,\"solidity\":0.2}},\"type\":\"barpolar\"}],\"carpet\":[{\"aaxis\":{\"endlinecolor\":\"#2a3f5f\",\"gridcolor\":\"white\",\"linecolor\":\"white\",\"minorgridcolor\":\"white\",\"startlinecolor\":\"#2a3f5f\"},\"baxis\":{\"endlinecolor\":\"#2a3f5f\",\"gridcolor\":\"white\",\"linecolor\":\"white\",\"minorgridcolor\":\"white\",\"startlinecolor\":\"#2a3f5f\"},\"type\":\"carpet\"}],\"choropleth\":[{\"colorbar\":{\"outlinewidth\":0,\"ticks\":\"\"},\"type\":\"choropleth\"}],\"contour\":[{\"colorbar\":{\"outlinewidth\":0,\"ticks\":\"\"},\"colorscale\":[[0.0,\"#0d0887\"],[0.1111111111111111,\"#46039f\"],[0.2222222222222222,\"#7201a8\"],[0.3333333333333333,\"#9c179e\"],[0.4444444444444444,\"#bd3786\"],[0.5555555555555556,\"#d8576b\"],[0.6666666666666666,\"#ed7953\"],[0.7777777777777778,\"#fb9f3a\"],[0.8888888888888888,\"#fdca26\"],[1.0,\"#f0f921\"]],\"type\":\"contour\"}],\"contourcarpet\":[{\"colorbar\":{\"outlinewidth\":0,\"ticks\":\"\"},\"type\":\"contourcarpet\"}],\"heatmap\":[{\"colorbar\":{\"outlinewidth\":0,\"ticks\":\"\"},\"colorscale\":[[0.0,\"#0d0887\"],[0.1111111111111111,\"#46039f\"],[0.2222222222222222,\"#7201a8\"],[0.3333333333333333,\"#9c179e\"],[0.4444444444444444,\"#bd3786\"],[0.5555555555555556,\"#d8576b\"],[0.6666666666666666,\"#ed7953\"],[0.7777777777777778,\"#fb9f3a\"],[0.8888888888888888,\"#fdca26\"],[1.0,\"#f0f921\"]],\"type\":\"heatmap\"}],\"heatmapgl\":[{\"colorbar\":{\"outlinewidth\":0,\"ticks\":\"\"},\"colorscale\":[[0.0,\"#0d0887\"],[0.1111111111111111,\"#46039f\"],[0.2222222222222222,\"#7201a8\"],[0.3333333333333333,\"#9c179e\"],[0.4444444444444444,\"#bd3786\"],[0.5555555555555556,\"#d8576b\"],[0.6666666666666666,\"#ed7953\"],[0.7777777777777778,\"#fb9f3a\"],[0.8888888888888888,\"#fdca26\"],[1.0,\"#f0f921\"]],\"type\":\"heatmapgl\"}],\"histogram\":[{\"marker\":{\"pattern\":{\"fillmode\":\"overlay\",\"size\":10,\"solidity\":0.2}},\"type\":\"histogram\"}],\"histogram2d\":[{\"colorbar\":{\"outlinewidth\":0,\"ticks\":\"\"},\"colorscale\":[[0.0,\"#0d0887\"],[0.1111111111111111,\"#46039f\"],[0.2222222222222222,\"#7201a8\"],[0.3333333333333333,\"#9c179e\"],[0.4444444444444444,\"#bd3786\"],[0.5555555555555556,\"#d8576b\"],[0.6666666666666666,\"#ed7953\"],[0.7777777777777778,\"#fb9f3a\"],[0.8888888888888888,\"#fdca26\"],[1.0,\"#f0f921\"]],\"type\":\"histogram2d\"}],\"histogram2dcontour\":[{\"colorbar\":{\"outlinewidth\":0,\"ticks\":\"\"},\"colorscale\":[[0.0,\"#0d0887\"],[0.1111111111111111,\"#46039f\"],[0.2222222222222222,\"#7201a8\"],[0.3333333333333333,\"#9c179e\"],[0.4444444444444444,\"#bd3786\"],[0.5555555555555556,\"#d8576b\"],[0.6666666666666666,\"#ed7953\"],[0.7777777777777778,\"#fb9f3a\"],[0.8888888888888888,\"#fdca26\"],[1.0,\"#f0f921\"]],\"type\":\"histogram2dcontour\"}],\"mesh3d\":[{\"colorbar\":{\"outlinewidth\":0,\"ticks\":\"\"},\"type\":\"mesh3d\"}],\"parcoords\":[{\"line\":{\"colorbar\":{\"outlinewidth\":0,\"ticks\":\"\"}},\"type\":\"parcoords\"}],\"pie\":[{\"automargin\":true,\"type\":\"pie\"}],\"scatter\":[{\"marker\":{\"colorbar\":{\"outlinewidth\":0,\"ticks\":\"\"}},\"type\":\"scatter\"}],\"scatter3d\":[{\"line\":{\"colorbar\":{\"outlinewidth\":0,\"ticks\":\"\"}},\"marker\":{\"colorbar\":{\"outlinewidth\":0,\"ticks\":\"\"}},\"type\":\"scatter3d\"}],\"scattercarpet\":[{\"marker\":{\"colorbar\":{\"outlinewidth\":0,\"ticks\":\"\"}},\"type\":\"scattercarpet\"}],\"scattergeo\":[{\"marker\":{\"colorbar\":{\"outlinewidth\":0,\"ticks\":\"\"}},\"type\":\"scattergeo\"}],\"scattergl\":[{\"marker\":{\"colorbar\":{\"outlinewidth\":0,\"ticks\":\"\"}},\"type\":\"scattergl\"}],\"scattermapbox\":[{\"marker\":{\"colorbar\":{\"outlinewidth\":0,\"ticks\":\"\"}},\"type\":\"scattermapbox\"}],\"scatterpolar\":[{\"marker\":{\"colorbar\":{\"outlinewidth\":0,\"ticks\":\"\"}},\"type\":\"scatterpolar\"}],\"scatterpolargl\":[{\"marker\":{\"colorbar\":{\"outlinewidth\":0,\"ticks\":\"\"}},\"type\":\"scatterpolargl\"}],\"scatterternary\":[{\"marker\":{\"colorbar\":{\"outlinewidth\":0,\"ticks\":\"\"}},\"type\":\"scatterternary\"}],\"surface\":[{\"colorbar\":{\"outlinewidth\":0,\"ticks\":\"\"},\"colorscale\":[[0.0,\"#0d0887\"],[0.1111111111111111,\"#46039f\"],[0.2222222222222222,\"#7201a8\"],[0.3333333333333333,\"#9c179e\"],[0.4444444444444444,\"#bd3786\"],[0.5555555555555556,\"#d8576b\"],[0.6666666666666666,\"#ed7953\"],[0.7777777777777778,\"#fb9f3a\"],[0.8888888888888888,\"#fdca26\"],[1.0,\"#f0f921\"]],\"type\":\"surface\"}],\"table\":[{\"cells\":{\"fill\":{\"color\":\"#EBF0F8\"},\"line\":{\"color\":\"white\"}},\"header\":{\"fill\":{\"color\":\"#C8D4E3\"},\"line\":{\"color\":\"white\"}},\"type\":\"table\"}]},\"layout\":{\"annotationdefaults\":{\"arrowcolor\":\"#2a3f5f\",\"arrowhead\":0,\"arrowwidth\":1},\"autotypenumbers\":\"strict\",\"coloraxis\":{\"colorbar\":{\"outlinewidth\":0,\"ticks\":\"\"}},\"colorscale\":{\"diverging\":[[0,\"#8e0152\"],[0.1,\"#c51b7d\"],[0.2,\"#de77ae\"],[0.3,\"#f1b6da\"],[0.4,\"#fde0ef\"],[0.5,\"#f7f7f7\"],[0.6,\"#e6f5d0\"],[0.7,\"#b8e186\"],[0.8,\"#7fbc41\"],[0.9,\"#4d9221\"],[1,\"#276419\"]],\"sequential\":[[0.0,\"#0d0887\"],[0.1111111111111111,\"#46039f\"],[0.2222222222222222,\"#7201a8\"],[0.3333333333333333,\"#9c179e\"],[0.4444444444444444,\"#bd3786\"],[0.5555555555555556,\"#d8576b\"],[0.6666666666666666,\"#ed7953\"],[0.7777777777777778,\"#fb9f3a\"],[0.8888888888888888,\"#fdca26\"],[1.0,\"#f0f921\"]],\"sequentialminus\":[[0.0,\"#0d0887\"],[0.1111111111111111,\"#46039f\"],[0.2222222222222222,\"#7201a8\"],[0.3333333333333333,\"#9c179e\"],[0.4444444444444444,\"#bd3786\"],[0.5555555555555556,\"#d8576b\"],[0.6666666666666666,\"#ed7953\"],[0.7777777777777778,\"#fb9f3a\"],[0.8888888888888888,\"#fdca26\"],[1.0,\"#f0f921\"]]},\"colorway\":[\"#636efa\",\"#EF553B\",\"#00cc96\",\"#ab63fa\",\"#FFA15A\",\"#19d3f3\",\"#FF6692\",\"#B6E880\",\"#FF97FF\",\"#FECB52\"],\"font\":{\"color\":\"#2a3f5f\"},\"geo\":{\"bgcolor\":\"white\",\"lakecolor\":\"white\",\"landcolor\":\"#E5ECF6\",\"showlakes\":true,\"showland\":true,\"subunitcolor\":\"white\"},\"hoverlabel\":{\"align\":\"left\"},\"hovermode\":\"closest\",\"mapbox\":{\"style\":\"light\"},\"paper_bgcolor\":\"white\",\"plot_bgcolor\":\"#E5ECF6\",\"polar\":{\"angularaxis\":{\"gridcolor\":\"white\",\"linecolor\":\"white\",\"ticks\":\"\"},\"bgcolor\":\"#E5ECF6\",\"radialaxis\":{\"gridcolor\":\"white\",\"linecolor\":\"white\",\"ticks\":\"\"}},\"scene\":{\"xaxis\":{\"backgroundcolor\":\"#E5ECF6\",\"gridcolor\":\"white\",\"gridwidth\":2,\"linecolor\":\"white\",\"showbackground\":true,\"ticks\":\"\",\"zerolinecolor\":\"white\"},\"yaxis\":{\"backgroundcolor\":\"#E5ECF6\",\"gridcolor\":\"white\",\"gridwidth\":2,\"linecolor\":\"white\",\"showbackground\":true,\"ticks\":\"\",\"zerolinecolor\":\"white\"},\"zaxis\":{\"backgroundcolor\":\"#E5ECF6\",\"gridcolor\":\"white\",\"gridwidth\":2,\"linecolor\":\"white\",\"showbackground\":true,\"ticks\":\"\",\"zerolinecolor\":\"white\"}},\"shapedefaults\":{\"line\":{\"color\":\"#2a3f5f\"}},\"ternary\":{\"aaxis\":{\"gridcolor\":\"white\",\"linecolor\":\"white\",\"ticks\":\"\"},\"baxis\":{\"gridcolor\":\"white\",\"linecolor\":\"white\",\"ticks\":\"\"},\"bgcolor\":\"#E5ECF6\",\"caxis\":{\"gridcolor\":\"white\",\"linecolor\":\"white\",\"ticks\":\"\"}},\"title\":{\"x\":0.05},\"xaxis\":{\"automargin\":true,\"gridcolor\":\"white\",\"linecolor\":\"white\",\"ticks\":\"\",\"title\":{\"standoff\":15},\"zerolinecolor\":\"white\",\"zerolinewidth\":2},\"yaxis\":{\"automargin\":true,\"gridcolor\":\"white\",\"linecolor\":\"white\",\"ticks\":\"\",\"title\":{\"standoff\":15},\"zerolinecolor\":\"white\",\"zerolinewidth\":2}}},\"xaxis\":{\"anchor\":\"y\",\"domain\":[0.0,1.0],\"title\":{\"text\":\"x\"}},\"yaxis\":{\"anchor\":\"x\",\"domain\":[0.0,1.0],\"title\":{\"text\":\"y\"}},\"legend\":{\"tracegroupgap\":0},\"margin\":{\"t\":60}},                        {\"responsive\": true}                    ).then(function(){\n",
              "                            \n",
              "var gd = document.getElementById('d68b5780-8754-40f1-ae5b-7179c4b97ef5');\n",
              "var x = new MutationObserver(function (mutations, observer) {{\n",
              "        var display = window.getComputedStyle(gd).display;\n",
              "        if (!display || display === 'none') {{\n",
              "            console.log([gd, 'removed!']);\n",
              "            Plotly.purge(gd);\n",
              "            observer.disconnect();\n",
              "        }}\n",
              "}});\n",
              "\n",
              "// Listen for the removal of the full notebook cells\n",
              "var notebookContainer = gd.closest('#notebook-container');\n",
              "if (notebookContainer) {{\n",
              "    x.observe(notebookContainer, {childList: true});\n",
              "}}\n",
              "\n",
              "// Listen for the clearing of the current output cell\n",
              "var outputEl = gd.closest('.output');\n",
              "if (outputEl) {{\n",
              "    x.observe(outputEl, {childList: true});\n",
              "}}\n",
              "\n",
              "                        })                };                            </script>        </div>\n",
              "</body>\n",
              "</html>"
            ]
          },
          "metadata": {}
        }
      ]
    }
  ]
}